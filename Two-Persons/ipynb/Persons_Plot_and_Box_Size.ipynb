{
 "cells": [
  {
   "cell_type": "code",
   "execution_count": 1,
   "metadata": {
    "scrolled": true
   },
   "outputs": [],
   "source": [
    "import glob\n",
    "import numpy as np \n",
    "import time\n",
    "import math\n",
    "import random\n",
    "from scipy import linalg as LA\n",
    "import matplotlib as mpl\n",
    "import matplotlib.pyplot as plt\n",
    "from termcolor import colored"
   ]
  },
  {
   "cell_type": "code",
   "execution_count": 2,
   "metadata": {},
   "outputs": [],
   "source": [
    "def read_file(file_name):\n",
    "    data = []\n",
    "    Data = []\n",
    "    flag = True\n",
    "    with open(file_name, \"r\") as f:\n",
    "        for line in f:\n",
    "            item = line.strip().split(\"|\")\n",
    "            if flag == True and len(item) == 5:\n",
    "                data.append([float(item[0]), float(item[1])])\n",
    "                Data.append([float(item[3]), float(item[4])])\n",
    "                flag = False\n",
    "            elif flag == True and len(item) == 6:\n",
    "                data.append([float(item[0]), float(item[1])])\n",
    "                Data.append([float(item[3]), float(item[4])])\n",
    "                flag = False\n",
    "            else:\n",
    "                flag = True\n",
    "    return np.array(data), np.array(Data)"
   ]
  },
  {
   "cell_type": "code",
   "execution_count": 3,
   "metadata": {},
   "outputs": [],
   "source": [
    "P1 = glob.glob('gpsdata/person1/**/', recursive=True)[1:]\n",
    "P2 = glob.glob('gpsdata/person2/**/', recursive=True)[1:]\n",
    "I1 = glob.glob('gpsdata/person1/**/*.txt', recursive=True)\n",
    "I2 = glob.glob('gpsdata/person2/**/*.txt', recursive=True)"
   ]
  },
  {
   "cell_type": "code",
   "execution_count": 4,
   "metadata": {},
   "outputs": [
    {
     "data": {
      "text/plain": [
       "array([[4151.7448, 8739.0343, ' -5:09:12 ', 221.635987, 358.560798],\n",
       "       [4151.7404, 8739.0384, ' -5:09:22 ', 221.632501, 358.555709],\n",
       "       [4151.7418, 8739.0387, ' -5:09:23 ', 221.63223100000002,\n",
       "        358.557317],\n",
       "       ...,\n",
       "       [4147.5155, 8806.6687, ' -5:43:28 ', 197.887199, 353.570877],\n",
       "       [4147.5141, 8806.6688, ' -5:43:29 ', 197.887118,\n",
       "        353.56926699999997],\n",
       "       [4147.5126, 8806.6689, ' -5:43:30 ', 197.88703600000002, 353.5675]],\n",
       "      dtype=object)"
      ]
     },
     "execution_count": 4,
     "metadata": {},
     "output_type": "execute_result"
    }
   ],
   "source": [
    "A = pd.read_csv(I1[0], header=None, delimiter=\"|\")\n",
    "np.array(A)"
   ]
  },
  {
   "cell_type": "code",
   "execution_count": 5,
   "metadata": {},
   "outputs": [
    {
     "data": {
      "text/plain": [
       "(68, 35, 124, 89, 1.3932584269662922)"
      ]
     },
     "execution_count": 5,
     "metadata": {},
     "output_type": "execute_result"
    }
   ],
   "source": [
    "len(P1), len(P2), len(I1), len(I2), len(I1)/len(I2)"
   ]
  },
  {
   "cell_type": "code",
   "execution_count": 6,
   "metadata": {},
   "outputs": [],
   "source": [
    "data1_lan_long = [0] * len(I1) # trajectories in lan,long-coordinates\n",
    "data1_x_y = [0] * len(I1) # trajectories in projected x,y-coordinate\n",
    "data2_lan_long = [0] * len(I2) # trajectories in lan,long-coordinates\n",
    "data2_x_y = [0] * len(I2) # trajectories in projected x,y-coordinate\n",
    "\n",
    "for i in range(len(I1)):\n",
    "    z =read_file(I1[i])\n",
    "    data1_lan_long[i] = z[0]\n",
    "    data1_x_y[i] = z[1]\n",
    "\n",
    "for i in range(len(I2)):\n",
    "    z =read_file(I2[i])\n",
    "    data2_lan_long[i] = z[0]\n",
    "    data2_x_y[i] = z[1]\n",
    "    \n",
    "data1_lan_long = np.array(data1_lan_long, dtype = 'object')\n",
    "data1_x_y = np.array(data1_x_y, dtype = 'object')\n",
    "data2_lan_long = np.array(data2_lan_long, dtype = 'object')\n",
    "data2_x_y = np.array(data2_x_y, dtype = 'object')"
   ]
  },
  {
   "cell_type": "code",
   "execution_count": 7,
   "metadata": {},
   "outputs": [],
   "source": [
    "data1_lan_long = data1_x_y\n",
    "data2_lan_long = data2_x_y"
   ]
  },
  {
   "cell_type": "code",
   "execution_count": 8,
   "metadata": {},
   "outputs": [
    {
     "data": {
      "text/plain": [
       "(124, 89)"
      ]
     },
     "execution_count": 8,
     "metadata": {},
     "output_type": "execute_result"
    }
   ],
   "source": [
    "len(data1_lan_long), len(data2_lan_long)"
   ]
  },
  {
   "cell_type": "code",
   "execution_count": 9,
   "metadata": {},
   "outputs": [],
   "source": [
    "def remove_segments(traj): # removes stationary points\n",
    "    p2 = traj[1:]\n",
    "    p1 = traj[:-1]\n",
    "    L = ((p2-p1)*(p2-p1)).sum(axis =1)\n",
    "    I = np.where(L>1e-16)[0]\n",
    "    return traj[I]"
   ]
  },
  {
   "cell_type": "code",
   "execution_count": 10,
   "metadata": {},
   "outputs": [
    {
     "name": "stderr",
     "output_type": "stream",
     "text": [
      "/Users/hasan/opt/anaconda3/lib/python3.7/site-packages/ipykernel_launcher.py:1: VisibleDeprecationWarning: Creating an ndarray from ragged nested sequences (which is a list-or-tuple of lists-or-tuples-or ndarrays with different lengths or shapes) is deprecated. If you meant to do this, you must specify 'dtype=object' when creating the ndarray\n",
      "  \"\"\"Entry point for launching an IPython kernel.\n",
      "/Users/hasan/opt/anaconda3/lib/python3.7/site-packages/ipykernel_launcher.py:3: VisibleDeprecationWarning: Creating an ndarray from ragged nested sequences (which is a list-or-tuple of lists-or-tuples-or ndarrays with different lengths or shapes) is deprecated. If you meant to do this, you must specify 'dtype=object' when creating the ndarray\n",
      "  This is separate from the ipykernel package so we can avoid doing imports until\n"
     ]
    },
    {
     "data": {
      "text/plain": [
       "(124, 89)"
      ]
     },
     "execution_count": 10,
     "metadata": {},
     "output_type": "execute_result"
    }
   ],
   "source": [
    "data1_lan_long = np.array([remove_segments(data1_lan_long[i]) for i in range(len(data1_lan_long))])\n",
    "\n",
    "data2_lan_long = np.array([remove_segments(data2_lan_long[i]) for i in range(len(data2_lan_long))])\n",
    "\n",
    "len(data1_lan_long), len(data2_lan_long)"
   ]
  },
  {
   "cell_type": "code",
   "execution_count": 11,
   "metadata": {},
   "outputs": [
    {
     "data": {
      "image/png": "[encoded data removed]",
      "text/plain": [
       "<Figure size 432x288 with 1 Axes>"
      ]
     },
     "metadata": {
      "needs_background": "light"
     },
     "output_type": "display_data"
    }
   ],
   "source": [
    "for i in range(len(data1_lan_long)):\n",
    "    plt.plot(data1_lan_long[i][:,0], data1_lan_long[i][:,1], color='blue')\n",
    "for i in range(len(data2_lan_long)):\n",
    "    plt.plot(data2_lan_long[i][:,0], data2_lan_long[i][:,1], color='red')\n",
    "plt.savefig(f'/Users/hasan/Desktop/Anaconda/Research/Pictures for 2ed paper/Two persons data.png', \n",
    "            bbox_inches='tight', dpi=200)\n",
    "plt.show()"
   ]
  },
  {
   "cell_type": "code",
   "execution_count": 12,
   "metadata": {},
   "outputs": [
    {
     "name": "stdout",
     "output_type": "stream",
     "text": [
      "length and width: 30.53 15.64\n",
      "124 89\n"
     ]
    }
   ],
   "source": [
    "min_x, min_y = np.min((np.min([np.min(data1_lan_long[i], axis=0) for i in range(len(data1_lan_long))], axis=0), \n",
    "               np.min([np.min(data2_lan_long[i], axis=0) for i in range(len(data2_lan_long))], axis=0)), axis=0)\n",
    "  \n",
    "max_x, max_y = np.max((np.max([np.max(data1_lan_long[i], axis=0) for i in range(len(data1_lan_long))], axis=0), \n",
    "               np.max([np.max(data2_lan_long[i], axis=0) for i in range(len(data2_lan_long))], axis=0)), axis=0)\n",
    "\n",
    "print(\"length and width:\", np.round(max_x - min_x, decimals=2), \n",
    "      np.round(max_y - min_y, decimals=2))\n",
    "print(len(data1_lan_long), len(data2_lan_long))"
   ]
  },
  {
   "cell_type": "code",
   "execution_count": null,
   "metadata": {},
   "outputs": [],
   "source": []
  }
 ],
 "metadata": {
  "kernelspec": {
   "display_name": "Python 3",
   "language": "python",
   "name": "python3"
  },
  "language_info": {
   "codemirror_mode": {
    "name": "ipython",
    "version": 3
   },
   "file_extension": ".py",
   "mimetype": "text/x-python",
   "name": "python",
   "nbconvert_exporter": "python",
   "pygments_lexer": "ipython3",
   "version": "3.7.4"
  }
 },
 "nbformat": 4,
 "nbformat_minor": 2
}
