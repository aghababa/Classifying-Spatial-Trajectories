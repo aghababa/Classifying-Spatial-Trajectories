{
  "cells": [
    {
      "cell_type": "code",
      "execution_count": null,
      "metadata": {
        "id": "U1ugmY8sY8Za"
      },
      "outputs": [],
      "source": [
        "pip install trjtrypy"
      ]
    },
    {
      "cell_type": "code",
      "execution_count": null,
      "metadata": {
        "id": "gEt84s4QGHV6"
      },
      "outputs": [],
      "source": [
        "#pip install tslearn"
      ]
    },
    {
      "cell_type": "markdown",
      "source": [
        "# Libraries"
      ],
      "metadata": {
        "id": "qRG2AEM60i2c"
      }
    },
    {
      "cell_type": "code",
      "execution_count": null,
      "metadata": {
        "colab": {
          "base_uri": "https://localhost:8080/"
        },
        "id": "lJvlil32VzZK",
        "outputId": "40e85a33-60b6-4420-a9ee-4fa0651526fe",
        "scrolled": true
      },
      "outputs": [
        {
          "name": "stderr",
          "output_type": "stream",
          "text": [
            "/Users/hasan/opt/anaconda3/lib/python3.7/site-packages/statsmodels/tools/_testing.py:19: FutureWarning: pandas.util.testing is deprecated. Use the functions in the public API at pandas.testing instead.\n",
            "  import pandas.util.testing as tm\n"
          ]
        }
      ],
      "source": [
        "import glob\n",
        "import numpy as np \n",
        "import time\n",
        "import math\n",
        "import random\n",
        "from scipy import linalg as LA\n",
        "import pandas as pd\n",
        "from sklearn.pipeline import make_pipeline\n",
        "from sklearn.preprocessing import StandardScaler\n",
        "from sklearn import svm\n",
        "from sklearn.svm import NuSVC\n",
        "from sklearn.model_selection import train_test_split\n",
        "from sklearn import metrics\n",
        "from sklearn.ensemble import AdaBoostClassifier\n",
        "from sklearn.naive_bayes import GaussianNB\n",
        "from sklearn.svm import SVC\n",
        "from sklearn.ensemble import RandomForestClassifier\n",
        "from sklearn.tree import DecisionTreeClassifier\n",
        "from sklearn.linear_model import LogisticRegression\n",
        "from sklearn.neighbors import KNeighborsClassifier\n",
        "import statsmodels.api as sm\n",
        "import matplotlib as mpl\n",
        "import matplotlib.pyplot as plt\n",
        "from termcolor import colored\n",
        "from sklearn.svm import LinearSVC\n",
        "from sklearn.linear_model import Perceptron\n",
        "import trjtrypy as tt\n",
        "from trjtrypy.featureMappings import curve2vec\n",
        "\n",
        "import torch\n",
        "import torch.nn as nn\n",
        "import torch.optim as optim\n",
        "from torch.utils.data import sampler\n",
        "import torchvision.transforms as T"
      ]
    },
    {
      "cell_type": "code",
      "execution_count": null,
      "metadata": {
        "colab": {
          "base_uri": "https://localhost:8080/"
        },
        "id": "qUeGx7MxV9YD",
        "outputId": "82494d2b-1582-4974-84dd-f6dce88ff9a4"
      },
      "outputs": [
        {
          "name": "stdout",
          "output_type": "stream",
          "text": [
            "Drive already mounted at /content/gdrive; to attempt to forcibly remount, call drive.mount(\"/content/gdrive\", force_remount=True).\n"
          ]
        }
      ],
      "source": [
        "from google.colab import drive\n",
        "drive.mount(\"/content/gdrive\")"
      ]
    },
    {
      "cell_type": "markdown",
      "metadata": {
        "id": "FjUDYLcS07zg"
      },
      "source": [
        "# install package"
      ]
    },
    {
      "cell_type": "code",
      "execution_count": null,
      "metadata": {
        "colab": {
          "base_uri": "https://localhost:8080/"
        },
        "id": "D3lvO_zYcKQT",
        "outputId": "f01c9f90-7fd4-4548-ee19-2655814875e8"
      },
      "outputs": [
        {
          "name": "stdout",
          "output_type": "stream",
          "text": [
            "/content/gdrive/My Drive/traj-dist\n"
          ]
        }
      ],
      "source": [
        "# to make a directory\n",
        "%cd 'gdrive/My Drive/traj-dist'"
      ]
    },
    {
      "cell_type": "code",
      "execution_count": null,
      "metadata": {
        "colab": {
          "base_uri": "https://localhost:8080/"
        },
        "id": "uizep1yEchxQ",
        "outputId": "77d301c6-6ea7-4dc3-f1ef-7e792f15bf97"
      },
      "outputs": [
        {
          "data": {
            "application/vnd.google.colaboratory.intrinsic+json": {
              "type": "string"
            },
            "text/plain": [
              "'/content/gdrive/My Drive/traj-dist'"
            ]
          },
          "execution_count": 6,
          "metadata": {},
          "output_type": "execute_result"
        }
      ],
      "source": [
        "pwd"
      ]
    },
    {
      "cell_type": "code",
      "execution_count": null,
      "metadata": {
        "colab": {
          "base_uri": "https://localhost:8080/"
        },
        "id": "tbFXlofdMaQQ",
        "outputId": "007b0e61-0c6f-417b-ed4b-8086a5e8aa92"
      },
      "outputs": [
        {
          "name": "stdout",
          "output_type": "stream",
          "text": [
            "/usr/local/lib/python3.7/dist-packages/setuptools/dist.py:700: UserWarning: Usage of dash-separated 'description-file' will not be supported in future versions. Please use the underscore name 'description_file' instead\n",
            "  % (opt, underscore_opt))\n",
            "/usr/lib/python3.7/distutils/dist.py:274: UserWarning: Unknown distribution option: 'download_urt'\n",
            "  warnings.warn(msg)\n",
            "running install\n",
            "running bdist_egg\n",
            "running egg_info\n",
            "writing traj_dist.egg-info/PKG-INFO\n",
            "writing dependency_links to traj_dist.egg-info/dependency_links.txt\n",
            "writing requirements to traj_dist.egg-info/requires.txt\n",
            "writing top-level names to traj_dist.egg-info/top_level.txt\n",
            "adding license file 'LICENSE.txt'\n",
            "writing manifest file 'traj_dist.egg-info/SOURCES.txt'\n",
            "installing library code to build/bdist.linux-x86_64/egg\n",
            "running install_lib\n",
            "running build_py\n",
            "running build_ext\n",
            "skipping 'traj_dist/cydist/basic_geographical.c' Cython extension (up-to-date)\n",
            "skipping 'traj_dist/cydist/basic_euclidean.c' Cython extension (up-to-date)\n",
            "skipping 'traj_dist/cydist/sspd.c' Cython extension (up-to-date)\n",
            "skipping 'traj_dist/cydist/dtw.c' Cython extension (up-to-date)\n",
            "skipping 'traj_dist/cydist/lcss.c' Cython extension (up-to-date)\n",
            "skipping 'traj_dist/cydist/hausdorff.c' Cython extension (up-to-date)\n",
            "skipping 'traj_dist/cydist/discret_frechet.c' Cython extension (up-to-date)\n",
            "skipping 'traj_dist/cydist/frechet.c' Cython extension (up-to-date)\n",
            "skipping 'traj_dist/cydist/segment_distance.c' Cython extension (up-to-date)\n",
            "skipping 'traj_dist/cydist/sowd.c' Cython extension (up-to-date)\n",
            "skipping 'traj_dist/cydist/erp.c' Cython extension (up-to-date)\n",
            "skipping 'traj_dist/cydist/edr.c' Cython extension (up-to-date)\n",
            "creating build/bdist.linux-x86_64/egg\n",
            "creating build/bdist.linux-x86_64/egg/traj_dist\n",
            "copying build/lib.linux-x86_64-3.7/traj_dist/example.py -> build/bdist.linux-x86_64/egg/traj_dist\n",
            "copying build/lib.linux-x86_64-3.7/traj_dist/build_benchmark_data.py -> build/bdist.linux-x86_64/egg/traj_dist\n",
            "copying build/lib.linux-x86_64-3.7/traj_dist/distance.py -> build/bdist.linux-x86_64/egg/traj_dist\n",
            "copying build/lib.linux-x86_64-3.7/traj_dist/__init__.py -> build/bdist.linux-x86_64/egg/traj_dist\n",
            "copying build/lib.linux-x86_64-3.7/traj_dist/benchmark.py -> build/bdist.linux-x86_64/egg/traj_dist\n",
            "creating build/bdist.linux-x86_64/egg/traj_dist/cydist\n",
            "copying build/lib.linux-x86_64-3.7/traj_dist/cydist/__init__.py -> build/bdist.linux-x86_64/egg/traj_dist/cydist\n",
            "copying build/lib.linux-x86_64-3.7/traj_dist/cydist/basic_geographical.cpython-37m-x86_64-linux-gnu.so -> build/bdist.linux-x86_64/egg/traj_dist/cydist\n",
            "copying build/lib.linux-x86_64-3.7/traj_dist/cydist/basic_euclidean.cpython-37m-x86_64-linux-gnu.so -> build/bdist.linux-x86_64/egg/traj_dist/cydist\n",
            "copying build/lib.linux-x86_64-3.7/traj_dist/cydist/sspd.cpython-37m-x86_64-linux-gnu.so -> build/bdist.linux-x86_64/egg/traj_dist/cydist\n",
            "copying build/lib.linux-x86_64-3.7/traj_dist/cydist/dtw.cpython-37m-x86_64-linux-gnu.so -> build/bdist.linux-x86_64/egg/traj_dist/cydist\n",
            "copying build/lib.linux-x86_64-3.7/traj_dist/cydist/lcss.cpython-37m-x86_64-linux-gnu.so -> build/bdist.linux-x86_64/egg/traj_dist/cydist\n",
            "copying build/lib.linux-x86_64-3.7/traj_dist/cydist/hausdorff.cpython-37m-x86_64-linux-gnu.so -> build/bdist.linux-x86_64/egg/traj_dist/cydist\n",
            "copying build/lib.linux-x86_64-3.7/traj_dist/cydist/discret_frechet.cpython-37m-x86_64-linux-gnu.so -> build/bdist.linux-x86_64/egg/traj_dist/cydist\n",
            "copying build/lib.linux-x86_64-3.7/traj_dist/cydist/frechet.cpython-37m-x86_64-linux-gnu.so -> build/bdist.linux-x86_64/egg/traj_dist/cydist\n",
            "copying build/lib.linux-x86_64-3.7/traj_dist/cydist/segment_distance.cpython-37m-x86_64-linux-gnu.so -> build/bdist.linux-x86_64/egg/traj_dist/cydist\n",
            "copying build/lib.linux-x86_64-3.7/traj_dist/cydist/sowd.cpython-37m-x86_64-linux-gnu.so -> build/bdist.linux-x86_64/egg/traj_dist/cydist\n",
            "copying build/lib.linux-x86_64-3.7/traj_dist/cydist/erp.cpython-37m-x86_64-linux-gnu.so -> build/bdist.linux-x86_64/egg/traj_dist/cydist\n",
            "copying build/lib.linux-x86_64-3.7/traj_dist/cydist/edr.cpython-37m-x86_64-linux-gnu.so -> build/bdist.linux-x86_64/egg/traj_dist/cydist\n",
            "creating build/bdist.linux-x86_64/egg/traj_dist/pydist\n",
            "copying build/lib.linux-x86_64-3.7/traj_dist/pydist/segment_distance.py -> build/bdist.linux-x86_64/egg/traj_dist/pydist\n",
            "copying build/lib.linux-x86_64-3.7/traj_dist/pydist/sowd.py -> build/bdist.linux-x86_64/egg/traj_dist/pydist\n",
            "copying build/lib.linux-x86_64-3.7/traj_dist/pydist/lcss.py -> build/bdist.linux-x86_64/egg/traj_dist/pydist\n",
            "copying build/lib.linux-x86_64-3.7/traj_dist/pydist/basic_euclidean.py -> build/bdist.linux-x86_64/egg/traj_dist/pydist\n",
            "copying build/lib.linux-x86_64-3.7/traj_dist/pydist/sspd.py -> build/bdist.linux-x86_64/egg/traj_dist/pydist\n",
            "copying build/lib.linux-x86_64-3.7/traj_dist/pydist/hausdorff.py -> build/bdist.linux-x86_64/egg/traj_dist/pydist\n",
            "copying build/lib.linux-x86_64-3.7/traj_dist/pydist/frechet.py -> build/bdist.linux-x86_64/egg/traj_dist/pydist\n",
            "copying build/lib.linux-x86_64-3.7/traj_dist/pydist/__init__.py -> build/bdist.linux-x86_64/egg/traj_dist/pydist\n",
            "copying build/lib.linux-x86_64-3.7/traj_dist/pydist/edr.py -> build/bdist.linux-x86_64/egg/traj_dist/pydist\n",
            "copying build/lib.linux-x86_64-3.7/traj_dist/pydist/discret_frechet.py -> build/bdist.linux-x86_64/egg/traj_dist/pydist\n",
            "copying build/lib.linux-x86_64-3.7/traj_dist/pydist/erp.py -> build/bdist.linux-x86_64/egg/traj_dist/pydist\n",
            "copying build/lib.linux-x86_64-3.7/traj_dist/pydist/basic_spherical.py -> build/bdist.linux-x86_64/egg/traj_dist/pydist\n",
            "copying build/lib.linux-x86_64-3.7/traj_dist/pydist/linecell.py -> build/bdist.linux-x86_64/egg/traj_dist/pydist\n",
            "copying build/lib.linux-x86_64-3.7/traj_dist/pydist/dtw.py -> build/bdist.linux-x86_64/egg/traj_dist/pydist\n",
            "byte-compiling build/bdist.linux-x86_64/egg/traj_dist/example.py to example.cpython-37.pyc\n",
            "byte-compiling build/bdist.linux-x86_64/egg/traj_dist/build_benchmark_data.py to build_benchmark_data.cpython-37.pyc\n",
            "byte-compiling build/bdist.linux-x86_64/egg/traj_dist/distance.py to distance.cpython-37.pyc\n",
            "byte-compiling build/bdist.linux-x86_64/egg/traj_dist/__init__.py to __init__.cpython-37.pyc\n",
            "byte-compiling build/bdist.linux-x86_64/egg/traj_dist/benchmark.py to benchmark.cpython-37.pyc\n",
            "byte-compiling build/bdist.linux-x86_64/egg/traj_dist/cydist/__init__.py to __init__.cpython-37.pyc\n",
            "byte-compiling build/bdist.linux-x86_64/egg/traj_dist/pydist/segment_distance.py to segment_distance.cpython-37.pyc\n",
            "byte-compiling build/bdist.linux-x86_64/egg/traj_dist/pydist/sowd.py to sowd.cpython-37.pyc\n",
            "byte-compiling build/bdist.linux-x86_64/egg/traj_dist/pydist/lcss.py to lcss.cpython-37.pyc\n",
            "byte-compiling build/bdist.linux-x86_64/egg/traj_dist/pydist/basic_euclidean.py to basic_euclidean.cpython-37.pyc\n",
            "byte-compiling build/bdist.linux-x86_64/egg/traj_dist/pydist/sspd.py to sspd.cpython-37.pyc\n",
            "byte-compiling build/bdist.linux-x86_64/egg/traj_dist/pydist/hausdorff.py to hausdorff.cpython-37.pyc\n",
            "byte-compiling build/bdist.linux-x86_64/egg/traj_dist/pydist/frechet.py to frechet.cpython-37.pyc\n",
            "byte-compiling build/bdist.linux-x86_64/egg/traj_dist/pydist/__init__.py to __init__.cpython-37.pyc\n",
            "byte-compiling build/bdist.linux-x86_64/egg/traj_dist/pydist/edr.py to edr.cpython-37.pyc\n",
            "byte-compiling build/bdist.linux-x86_64/egg/traj_dist/pydist/discret_frechet.py to discret_frechet.cpython-37.pyc\n",
            "byte-compiling build/bdist.linux-x86_64/egg/traj_dist/pydist/erp.py to erp.cpython-37.pyc\n",
            "byte-compiling build/bdist.linux-x86_64/egg/traj_dist/pydist/basic_spherical.py to basic_spherical.cpython-37.pyc\n",
            "byte-compiling build/bdist.linux-x86_64/egg/traj_dist/pydist/linecell.py to linecell.cpython-37.pyc\n",
            "byte-compiling build/bdist.linux-x86_64/egg/traj_dist/pydist/dtw.py to dtw.cpython-37.pyc\n",
            "creating stub loader for traj_dist/cydist/basic_geographical.cpython-37m-x86_64-linux-gnu.so\n",
            "creating stub loader for traj_dist/cydist/basic_euclidean.cpython-37m-x86_64-linux-gnu.so\n",
            "creating stub loader for traj_dist/cydist/sspd.cpython-37m-x86_64-linux-gnu.so\n",
            "creating stub loader for traj_dist/cydist/dtw.cpython-37m-x86_64-linux-gnu.so\n",
            "creating stub loader for traj_dist/cydist/lcss.cpython-37m-x86_64-linux-gnu.so\n",
            "creating stub loader for traj_dist/cydist/hausdorff.cpython-37m-x86_64-linux-gnu.so\n",
            "creating stub loader for traj_dist/cydist/discret_frechet.cpython-37m-x86_64-linux-gnu.so\n",
            "creating stub loader for traj_dist/cydist/frechet.cpython-37m-x86_64-linux-gnu.so\n",
            "creating stub loader for traj_dist/cydist/segment_distance.cpython-37m-x86_64-linux-gnu.so\n",
            "creating stub loader for traj_dist/cydist/sowd.cpython-37m-x86_64-linux-gnu.so\n",
            "creating stub loader for traj_dist/cydist/erp.cpython-37m-x86_64-linux-gnu.so\n",
            "creating stub loader for traj_dist/cydist/edr.cpython-37m-x86_64-linux-gnu.so\n",
            "byte-compiling build/bdist.linux-x86_64/egg/traj_dist/cydist/basic_geographical.py to basic_geographical.cpython-37.pyc\n",
            "byte-compiling build/bdist.linux-x86_64/egg/traj_dist/cydist/basic_euclidean.py to basic_euclidean.cpython-37.pyc\n",
            "byte-compiling build/bdist.linux-x86_64/egg/traj_dist/cydist/sspd.py to sspd.cpython-37.pyc\n",
            "byte-compiling build/bdist.linux-x86_64/egg/traj_dist/cydist/dtw.py to dtw.cpython-37.pyc\n",
            "byte-compiling build/bdist.linux-x86_64/egg/traj_dist/cydist/lcss.py to lcss.cpython-37.pyc\n",
            "byte-compiling build/bdist.linux-x86_64/egg/traj_dist/cydist/hausdorff.py to hausdorff.cpython-37.pyc\n",
            "byte-compiling build/bdist.linux-x86_64/egg/traj_dist/cydist/discret_frechet.py to discret_frechet.cpython-37.pyc\n",
            "byte-compiling build/bdist.linux-x86_64/egg/traj_dist/cydist/frechet.py to frechet.cpython-37.pyc\n",
            "byte-compiling build/bdist.linux-x86_64/egg/traj_dist/cydist/segment_distance.py to segment_distance.cpython-37.pyc\n",
            "byte-compiling build/bdist.linux-x86_64/egg/traj_dist/cydist/sowd.py to sowd.cpython-37.pyc\n",
            "byte-compiling build/bdist.linux-x86_64/egg/traj_dist/cydist/erp.py to erp.cpython-37.pyc\n",
            "byte-compiling build/bdist.linux-x86_64/egg/traj_dist/cydist/edr.py to edr.cpython-37.pyc\n",
            "creating build/bdist.linux-x86_64/egg/EGG-INFO\n",
            "copying traj_dist.egg-info/PKG-INFO -> build/bdist.linux-x86_64/egg/EGG-INFO\n",
            "copying traj_dist.egg-info/SOURCES.txt -> build/bdist.linux-x86_64/egg/EGG-INFO\n",
            "copying traj_dist.egg-info/dependency_links.txt -> build/bdist.linux-x86_64/egg/EGG-INFO\n",
            "copying traj_dist.egg-info/requires.txt -> build/bdist.linux-x86_64/egg/EGG-INFO\n",
            "copying traj_dist.egg-info/top_level.txt -> build/bdist.linux-x86_64/egg/EGG-INFO\n",
            "writing build/bdist.linux-x86_64/egg/EGG-INFO/native_libs.txt\n",
            "zip_safe flag not set; analyzing archive contents...\n",
            "traj_dist.cydist.__pycache__.basic_euclidean.cpython-37: module references __file__\n",
            "traj_dist.cydist.__pycache__.basic_geographical.cpython-37: module references __file__\n",
            "traj_dist.cydist.__pycache__.discret_frechet.cpython-37: module references __file__\n",
            "traj_dist.cydist.__pycache__.dtw.cpython-37: module references __file__\n",
            "traj_dist.cydist.__pycache__.edr.cpython-37: module references __file__\n",
            "traj_dist.cydist.__pycache__.erp.cpython-37: module references __file__\n",
            "traj_dist.cydist.__pycache__.frechet.cpython-37: module references __file__\n",
            "traj_dist.cydist.__pycache__.hausdorff.cpython-37: module references __file__\n",
            "traj_dist.cydist.__pycache__.lcss.cpython-37: module references __file__\n",
            "traj_dist.cydist.__pycache__.segment_distance.cpython-37: module references __file__\n",
            "traj_dist.cydist.__pycache__.sowd.cpython-37: module references __file__\n",
            "traj_dist.cydist.__pycache__.sspd.cpython-37: module references __file__\n",
            "creating 'dist/traj_dist-1.1-py3.7-linux-x86_64.egg' and adding 'build/bdist.linux-x86_64/egg' to it\n",
            "removing 'build/bdist.linux-x86_64/egg' (and everything under it)\n",
            "Processing traj_dist-1.1-py3.7-linux-x86_64.egg\n",
            "creating /usr/local/lib/python3.7/dist-packages/traj_dist-1.1-py3.7-linux-x86_64.egg\n",
            "Extracting traj_dist-1.1-py3.7-linux-x86_64.egg to /usr/local/lib/python3.7/dist-packages\n",
            "Adding traj-dist 1.1 to easy-install.pth file\n",
            "\n",
            "Installed /usr/local/lib/python3.7/dist-packages/traj_dist-1.1-py3.7-linux-x86_64.egg\n",
            "Processing dependencies for traj-dist==1.1\n",
            "Searching for scipy==1.7.1\n",
            "Best match: scipy 1.7.1\n",
            "Adding scipy 1.7.1 to easy-install.pth file\n",
            "\n",
            "Using /usr/local/lib/python3.7/dist-packages\n",
            "Searching for pandas==1.1.5\n",
            "Best match: pandas 1.1.5\n",
            "Adding pandas 1.1.5 to easy-install.pth file\n",
            "\n",
            "Using /usr/local/lib/python3.7/dist-packages\n",
            "Searching for geohash2==1.1\n",
            "Best match: geohash2 1.1\n",
            "Adding geohash2 1.1 to easy-install.pth file\n",
            "\n",
            "Using /usr/local/lib/python3.7/dist-packages\n",
            "Searching for Shapely==1.7.1\n",
            "Best match: Shapely 1.7.1\n",
            "Adding Shapely 1.7.1 to easy-install.pth file\n",
            "\n",
            "Using /usr/local/lib/python3.7/dist-packages\n",
            "Searching for Cython==0.29.24\n",
            "Best match: Cython 0.29.24\n",
            "Adding Cython 0.29.24 to easy-install.pth file\n",
            "Installing cygdb script to /usr/local/bin\n",
            "Installing cython script to /usr/local/bin\n",
            "Installing cythonize script to /usr/local/bin\n",
            "\n",
            "Using /usr/local/lib/python3.7/dist-packages\n",
            "Searching for numpy==1.19.5\n",
            "Best match: numpy 1.19.5\n",
            "Adding numpy 1.19.5 to easy-install.pth file\n",
            "Installing f2py script to /usr/local/bin\n",
            "Installing f2py3 script to /usr/local/bin\n",
            "Installing f2py3.7 script to /usr/local/bin\n",
            "\n",
            "Using /usr/local/lib/python3.7/dist-packages\n",
            "Searching for pytz==2018.9\n",
            "Best match: pytz 2018.9\n",
            "Adding pytz 2018.9 to easy-install.pth file\n",
            "\n",
            "Using /usr/local/lib/python3.7/dist-packages\n",
            "Searching for python-dateutil==2.8.2\n",
            "Best match: python-dateutil 2.8.2\n",
            "Adding python-dateutil 2.8.2 to easy-install.pth file\n",
            "\n",
            "Using /usr/local/lib/python3.7/dist-packages\n",
            "Searching for docutils==0.17.1\n",
            "Best match: docutils 0.17.1\n",
            "Adding docutils 0.17.1 to easy-install.pth file\n",
            "\n",
            "Using /usr/local/lib/python3.7/dist-packages\n",
            "Searching for six==1.15.0\n",
            "Best match: six 1.15.0\n",
            "Adding six 1.15.0 to easy-install.pth file\n",
            "\n",
            "Using /usr/local/lib/python3.7/dist-packages\n",
            "Finished processing dependencies for traj-dist==1.1\n"
          ]
        }
      ],
      "source": [
        "# to install setup.py from the current directory\n",
        "!python setup.py install"
      ]
    },
    {
      "cell_type": "code",
      "execution_count": null,
      "metadata": {
        "colab": {
          "base_uri": "https://localhost:8080/"
        },
        "id": "dFyNWPPnc2UN",
        "outputId": "4ec1fe87-ce30-4128-c9ab-abc4a6e037dd"
      },
      "outputs": [
        {
          "name": "stdout",
          "output_type": "stream",
          "text": [
            "Requirement already satisfied: geohash2 in /usr/local/lib/python3.7/dist-packages (1.1)\n",
            "Requirement already satisfied: docutils>=0.3 in /usr/local/lib/python3.7/dist-packages (from geohash2) (0.17.1)\n"
          ]
        }
      ],
      "source": [
        "!pip install geohash2"
      ]
    },
    {
      "cell_type": "markdown",
      "metadata": {
        "id": "9_0cL4YiFYwy"
      },
      "source": [
        "# \"###################\" Now restart runtime \"###################\""
      ]
    },
    {
      "cell_type": "code",
      "execution_count": null,
      "metadata": {
        "id": "FlWnEszgVkNb"
      },
      "outputs": [],
      "source": [
        "import traj_dist.distance as tdist\n",
        "import pickle"
      ]
    },
    {
      "cell_type": "markdown",
      "metadata": {
        "id": "GY9Dc0FCCqTV"
      },
      "source": [
        "# Read data"
      ]
    },
    {
      "cell_type": "code",
      "execution_count": null,
      "metadata": {
        "id": "Qjm42sPxVzZL"
      },
      "outputs": [],
      "source": [
        "def read_file(file_name):\n",
        "    data = []\n",
        "    Data = []\n",
        "    flag = True\n",
        "    with open(file_name, \"r\") as f:\n",
        "        for line in f:\n",
        "            item = line.strip().split(\"|\")\n",
        "            if flag == True and len(item) == 5:\n",
        "                data.append([float(item[0]), float(item[1])])\n",
        "                Data.append([float(item[3]), float(item[4])])\n",
        "                flag = False\n",
        "            elif flag == True and len(item) == 6:\n",
        "                data.append([float(item[0]), float(item[1])])\n",
        "                Data.append([float(item[3]), float(item[4])])\n",
        "                flag = False\n",
        "            else:\n",
        "                flag = True\n",
        "    return np.array(data), np.array(Data)"
      ]
    },
    {
      "cell_type": "code",
      "execution_count": null,
      "metadata": {
        "id": "fTMuQ9gB0g_W"
      },
      "outputs": [],
      "source": [
        "P1 = glob.glob('/content/gdrive/My Drive/Research/Persons data/person1/**/', recursive=True)[1:]\n",
        "P2 = glob.glob('/content/gdrive/My Drive/Research/Persons data/person2/**/', recursive=True)[1:]\n",
        "I1 = glob.glob('/content/gdrive/My Drive/Research/Persons data/person1/**/*.txt', recursive=True)\n",
        "I2 = glob.glob('/content/gdrive/My Drive/Research/Persons data/person2/**/*.txt', recursive=True)"
      ]
    },
    {
      "cell_type": "code",
      "execution_count": null,
      "metadata": {
        "colab": {
          "base_uri": "https://localhost:8080/"
        },
        "id": "Q0BwE1ufVzZM",
        "outputId": "8470cac1-bb26-41dd-f011-4d6448467082"
      },
      "outputs": [
        {
          "data": {
            "text/plain": [
              "array([[4151.7448, 8739.0343, ' -5:09:12 ', 221.635987, 358.560798],\n",
              "       [4151.7404, 8739.0384, ' -5:09:22 ', 221.632501, 358.555709],\n",
              "       [4151.7418, 8739.0387, ' -5:09:23 ', 221.632231, 358.557317],\n",
              "       ...,\n",
              "       [4147.5155, 8806.6687, ' -5:43:28 ', 197.887199, 353.570877],\n",
              "       [4147.5141, 8806.6688, ' -5:43:29 ', 197.887118, 353.569267],\n",
              "       [4147.5126, 8806.6689, ' -5:43:30 ', 197.887036, 353.5675]],\n",
              "      dtype=object)"
            ]
          },
          "execution_count": 5,
          "metadata": {},
          "output_type": "execute_result"
        }
      ],
      "source": [
        "A = pd.read_csv(I1[0], header=None, delimiter=\"|\")\n",
        "np.array(A)"
      ]
    },
    {
      "cell_type": "code",
      "execution_count": null,
      "metadata": {
        "colab": {
          "base_uri": "https://localhost:8080/"
        },
        "id": "lArJ4tVLVzZO",
        "outputId": "bf362b79-b2d7-4311-c31a-fe34b600a2ed"
      },
      "outputs": [
        {
          "data": {
            "text/plain": [
              "(68, 35, 124, 89, 1.3932584269662922)"
            ]
          },
          "execution_count": 6,
          "metadata": {},
          "output_type": "execute_result"
        }
      ],
      "source": [
        "len(P1), len(P2), len(I1), len(I2), len(I1)/len(I2)"
      ]
    },
    {
      "cell_type": "code",
      "execution_count": null,
      "metadata": {
        "id": "1ibPxb9XVzZP"
      },
      "outputs": [],
      "source": [
        "data1_lan_long = [0] * len(I1) # trajectories in lan,long-coordinates\n",
        "data1_x_y = [0] * len(I1) # trajectories in projected x,y-coordinate\n",
        "data2_lan_long = [0] * len(I2) # trajectories in lan,long-coordinates\n",
        "data2_x_y = [0] * len(I2) # trajectories in projected x,y-coordinate\n",
        "\n",
        "for i in range(len(I1)):\n",
        "    z =read_file(I1[i])\n",
        "    data1_lan_long[i] = z[0]\n",
        "    data1_x_y[i] = z[1]\n",
        "\n",
        "for i in range(len(I2)):\n",
        "    z =read_file(I2[i])\n",
        "    data2_lan_long[i] = z[0]\n",
        "    data2_x_y[i] = z[1]\n",
        "    \n",
        "data1_lan_long = np.array(data1_lan_long, dtype = 'object')\n",
        "data1_x_y = np.array(data1_x_y, dtype = 'object')\n",
        "data2_lan_long = np.array(data2_lan_long, dtype = 'object')\n",
        "data2_x_y = np.array(data2_x_y, dtype = 'object')"
      ]
    },
    {
      "cell_type": "code",
      "execution_count": null,
      "metadata": {
        "id": "iVftNlt0VzZQ"
      },
      "outputs": [],
      "source": [
        "data1_lan_long = data1_x_y\n",
        "data2_lan_long = data2_x_y"
      ]
    },
    {
      "cell_type": "code",
      "execution_count": null,
      "metadata": {
        "id": "2PzOWuEWVzZR"
      },
      "outputs": [],
      "source": [
        "def remove_segments(traj): # removes stationary points\n",
        "    p2 = traj[1:]\n",
        "    p1 = traj[:-1]\n",
        "    L = ((p2-p1)*(p2-p1)).sum(axis =1)\n",
        "    I = np.where(L>1e-16)[0]\n",
        "    return traj[I]"
      ]
    },
    {
      "cell_type": "code",
      "execution_count": null,
      "metadata": {
        "colab": {
          "base_uri": "https://localhost:8080/"
        },
        "id": "LU9nO2D7VzZR",
        "outputId": "7afb0310-a99e-42ff-d261-5efb10effa00"
      },
      "outputs": [
        {
          "name": "stderr",
          "output_type": "stream",
          "text": [
            "/Users/hasan/opt/anaconda3/lib/python3.7/site-packages/ipykernel_launcher.py:1: VisibleDeprecationWarning: Creating an ndarray from ragged nested sequences (which is a list-or-tuple of lists-or-tuples-or ndarrays with different lengths or shapes) is deprecated. If you meant to do this, you must specify 'dtype=object' when creating the ndarray\n",
            "  \"\"\"Entry point for launching an IPython kernel.\n",
            "/Users/hasan/opt/anaconda3/lib/python3.7/site-packages/ipykernel_launcher.py:3: VisibleDeprecationWarning: Creating an ndarray from ragged nested sequences (which is a list-or-tuple of lists-or-tuples-or ndarrays with different lengths or shapes) is deprecated. If you meant to do this, you must specify 'dtype=object' when creating the ndarray\n",
            "  This is separate from the ipykernel package so we can avoid doing imports until\n"
          ]
        },
        {
          "data": {
            "text/plain": [
              "(124, 89)"
            ]
          },
          "execution_count": 10,
          "metadata": {},
          "output_type": "execute_result"
        }
      ],
      "source": [
        "data1_lan_long = np.array([remove_segments(data1_lan_long[i]) for i in range(len(data1_lan_long))])\n",
        "\n",
        "data2_lan_long = np.array([remove_segments(data2_lan_long[i]) for i in range(len(data2_lan_long))])\n",
        "\n",
        "len(data1_lan_long), len(data2_lan_long)"
      ]
    },
    {
      "cell_type": "code",
      "execution_count": null,
      "metadata": {
        "colab": {
          "base_uri": "https://localhost:8080/"
        },
        "id": "zRlQzyNrVzZR",
        "outputId": "94674a6e-c24b-4fb9-f8c4-63ba19e41d06"
      },
      "outputs": [
        {
          "data": {
            "text/plain": [
              "(93, 88)"
            ]
          },
          "execution_count": 11,
          "metadata": {},
          "output_type": "execute_result"
        }
      ],
      "source": [
        "L1 = np.array([len(data1_lan_long[i]) for i in range(len(data1_lan_long))])\n",
        "L2 = np.array([len(data2_lan_long[i]) for i in range(len(data2_lan_long))])\n",
        "    \n",
        "len(np.where(L1 < 2500)[0]), len(np.where(L2 < 2000)[0])"
      ]
    },
    {
      "cell_type": "code",
      "execution_count": null,
      "metadata": {
        "colab": {
          "base_uri": "https://localhost:8080/"
        },
        "id": "CFU5z1EoVzZS",
        "outputId": "67772faf-a01e-43a2-fea0-6730f6e88640"
      },
      "outputs": [
        {
          "data": {
            "text/plain": [
              "array([  70,   92,  120,  139,  144,  188,  203,  229,  263,  266,  284,\n",
              "        293,  294,  310,  323,  359,  373,  385,  416,  424,  427,  427,\n",
              "        431,  447,  472,  675,  838,  844,  846,  895,  923,  927,  957,\n",
              "        984, 1000, 1009, 1010, 1035, 1057, 1077, 1097, 1156, 1160, 1178,\n",
              "       1179, 1206, 1219, 1226, 1227, 1331, 1357, 1372, 1384, 1459, 1471,\n",
              "       1656, 1729, 1822, 1899, 1902, 1908, 1909, 1924, 1925, 1932, 1942,\n",
              "       1948, 1949, 1957, 1994, 2006, 2045, 2065, 2065, 2083, 2098, 2098,\n",
              "       2117, 2146, 2181, 2206, 2234, 2259, 2290, 2325, 2374, 2398, 2419,\n",
              "       2422, 2431, 2464, 2475, 2486, 2505, 2505, 2506, 2527, 2573, 2576,\n",
              "       2594, 2609, 2616, 2663, 2672, 2673, 2683, 2781, 2870, 3013, 3121,\n",
              "       3128, 3150, 3197, 3239, 3307, 3383, 3417, 3424, 3807, 3864, 3965,\n",
              "       4053, 4414, 5493])"
            ]
          },
          "execution_count": 12,
          "metadata": {},
          "output_type": "execute_result"
        }
      ],
      "source": [
        "np.sort(L1)"
      ]
    },
    {
      "cell_type": "code",
      "execution_count": null,
      "metadata": {
        "colab": {
          "base_uri": "https://localhost:8080/"
        },
        "id": "20xjV-QcVzZS",
        "outputId": "9bf0ba03-5c90-4a91-a673-5dfcbf8e50f4"
      },
      "outputs": [
        {
          "data": {
            "text/plain": [
              "array([  72,   92,   93,   95,  131,  139,  143,  145,  153,  164,  165,\n",
              "        179,  179,  180,  186,  188,  188,  192,  205,  207,  213,  214,\n",
              "        216,  219,  225,  248,  248,  254,  255,  257,  258,  260,  260,\n",
              "        263,  263,  275,  276,  276,  278,  281,  285,  286,  290,  290,\n",
              "        293,  295,  299,  310,  315,  317,  334,  339,  339,  349,  349,\n",
              "        357,  371,  376,  381,  382,  388,  388,  394,  395,  409,  440,\n",
              "        446,  447,  458,  465,  468,  473,  476,  481,  483,  483,  496,\n",
              "        502,  513,  515,  605,  610,  631,  634,  644,  645,  752, 1465,\n",
              "       2686])"
            ]
          },
          "execution_count": 13,
          "metadata": {},
          "output_type": "execute_result"
        }
      ],
      "source": [
        "np.sort(L2)"
      ]
    },
    {
      "cell_type": "code",
      "execution_count": null,
      "metadata": {
        "colab": {
          "base_uri": "https://localhost:8080/"
        },
        "id": "LraGO0ZAVzZX",
        "outputId": "679af6dc-8c83-42a1-81c3-82f4f875393a",
        "scrolled": false
      },
      "outputs": [
        {
          "data": {
            "image/png": "[encoded data removed]",
            "text/plain": [
              "<Figure size 432x288 with 1 Axes>"
            ]
          },
          "metadata": {
            "needs_background": "light"
          },
          "output_type": "display_data"
        }
      ],
      "source": [
        "for k in range(len(data1_lan_long)):\n",
        "    plt.plot(data1_lan_long[k][:,0], data1_lan_long[k][:,1], color = \"steelblue\");\n",
        "for k in range(len(data2_lan_long)):\n",
        "    plt.plot(data2_lan_long[k][:,0], data2_lan_long[k][:,1], color = \"red\");\n",
        "plt.show()"
      ]
    },
    {
      "cell_type": "code",
      "execution_count": null,
      "metadata": {
        "id": "y2la-axmYpo6"
      },
      "outputs": [],
      "source": [
        "import trjtrypy as tt\n",
        "from trjtrypy.featureMappings import curve2vec\n",
        "\n",
        "def ExpCurve2Vec(points,curves,mu):\n",
        "    D=tt.distsbase.DistsBase()\n",
        "    return [np.exp(-1*np.power(D.APntSetDistACrv(points,curve),2)/(mu)**2) for curve in curves]"
      ]
    },
    {
      "cell_type": "code",
      "execution_count": null,
      "metadata": {
        "id": "EP0mi0_6VzZY"
      },
      "outputs": [],
      "source": [
        "sigma = 10\n",
        "n_1 = len(data1_lan_long)\n",
        "n_2 = len(data2_lan_long)\n",
        "Q = np.array([[208.47169065, 358.8011311 ],\n",
        "       [215.66498507, 356.51173626],\n",
        "       [197.95927813, 358.10100818],\n",
        "       [207.8932129 , 354.66994672],\n",
        "       [202.46234057, 357.65275419],\n",
        "       [206.6951825 , 359.67975683],\n",
        "       [203.37120223, 360.23069571],\n",
        "       [209.32336545, 355.3536409 ],\n",
        "       [207.05488195, 354.4045235 ],\n",
        "       [205.13106652, 358.4823325 ]])\n",
        "\n",
        "projected_1 = np.concatenate((curve2vec(Q, data1_lan_long, version='signed', sigma=sigma), \n",
        "                              np.ones(n_1).reshape(n_1,1)), axis=1)\n",
        "\n",
        "projected_2 = np.concatenate((curve2vec(data1_lan_long[0][:10]+1, data2_lan_long, version='signed', sigma=sigma), \n",
        "                              -np.ones(n_2).reshape(n_2,1)), axis=1)"
      ]
    },
    {
      "cell_type": "code",
      "execution_count": null,
      "metadata": {
        "colab": {
          "base_uri": "https://localhost:8080/"
        },
        "id": "c5-Xu0u7VzZY",
        "outputId": "d4fb9953-82a5-4501-e606-68bd79495536"
      },
      "outputs": [
        {
          "data": {
            "image/png": "[encoded data removed]",
            "text/plain": [
              "<Figure size 432x288 with 1 Axes>"
            ]
          },
          "metadata": {
            "needs_background": "light"
          },
          "output_type": "display_data"
        }
      ],
      "source": [
        "x = projected_1[:,0]\n",
        "y = projected_1[:,1]\n",
        "\n",
        "u = projected_2[:,0]\n",
        "v = projected_2[:,1]\n",
        "\n",
        "plt.scatter(x, y, color= 'red')\n",
        "plt.scatter(u, v, color= 'blue')\n",
        "plt.show()"
      ]
    },
    {
      "cell_type": "markdown",
      "metadata": {
        "id": "zeSYcvmGrgP0"
      },
      "source": [
        "# Classifiers"
      ]
    },
    {
      "cell_type": "code",
      "execution_count": null,
      "metadata": {
        "id": "lNon5EvPdk6g"
      },
      "outputs": [],
      "source": [
        "CC = [1000, 100, 10]\n",
        "number_estimators = [50, 50]\n",
        "\n",
        "\n",
        "clf0 = [make_pipeline(LinearSVC(dual=False, C=CC[0], tol=1e-5, \n",
        "                               class_weight ='balanced', max_iter=1000)), \n",
        "        \"SVM, LinearSVC, C = \"+str(CC[0])]\n",
        "clf1 = [make_pipeline(StandardScaler(), svm.SVC(C=CC[1], kernel='rbf', gamma='auto', max_iter=200000)),\n",
        "        \"Gaussian SVM, C=\"+str(CC[1])+\", gamma=auto\"]\n",
        "clf2 = [make_pipeline(StandardScaler(), svm.SVC(C=CC[2], kernel='poly', degree=3, max_iter=400000)),\n",
        "        \"Poly kernel SVM, C=\"+str(CC[2])+\", deg=auto\"]\n",
        "clf3 = [DecisionTreeClassifier(), \"Decision Tree\"]\n",
        "clf4 = [RandomForestClassifier(n_estimators=number_estimators[0]), \n",
        "         \"RandomForestClassifier, n=\"+str(number_estimators[0])]\n",
        "clf5 = [KNeighborsClassifier(n_neighbors=5), \"KNN\"]\n",
        "clf6 = [LogisticRegression(solver='newton-cg'), \"Logistic Regression\"]\n",
        "\n",
        "clff = [clf0, clf1, clf2, clf3, clf4, clf5, clf6]\n",
        "classifs = [item[0] for item in clff]\n",
        "keys = [item[1] for item in clff]"
      ]
    },
    {
      "cell_type": "markdown",
      "metadata": {
        "id": "BkDXTYZ1QEdI"
      },
      "source": [
        "# Classification with feature mappings $v_Q$, $v_Q^{\\sigma}$, $v_Q^{\\mu}$ with 20 random landmarks, and endpoints (done)"
      ]
    },
    {
      "cell_type": "code",
      "execution_count": null,
      "metadata": {
        "colab": {
          "base_uri": "https://localhost:8080/",
          "height": 73,
          "resources": {
            "http://localhost:8080/nbextensions/google.colab/files.js": {
              "data": "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",
              "headers": [
                [
                  "content-type",
                  "application/javascript"
                ]
              ],
              "ok": true,
              "status": 200,
              "status_text": ""
            }
          }
        },
        "id": "OZwI3I7mQEdI",
        "outputId": "3ee86873-826d-4818-958e-9e8faf4dfb2b"
      },
      "outputs": [
        {
          "data": {
            "text/html": [
              "\n",
              "     <input type=\"file\" id=\"files-09b66e68-af9d-4db1-a178-36299656b114\" name=\"files[]\" multiple disabled\n",
              "        style=\"border:none\" />\n",
              "     <output id=\"result-09b66e68-af9d-4db1-a178-36299656b114\">\n",
              "      Upload widget is only available when the cell has been executed in the\n",
              "      current browser session. Please rerun this cell to enable.\n",
              "      </output>\n",
              "      <script src=\"/nbextensions/google.colab/files.js\"></script> "
            ],
            "text/plain": [
              "<IPython.core.display.HTML object>"
            ]
          },
          "metadata": {},
          "output_type": "display_data"
        },
        {
          "name": "stdout",
          "output_type": "stream",
          "text": [
            "Saving v_Q_mu_endpoints_classification.py to v_Q_mu_endpoints_classification (1).py\n"
          ]
        }
      ],
      "source": [
        "from google.colab import files\n",
        "files.upload()\n",
        "\n",
        "import v_Q_mu_endpoints_classification\n",
        "from v_Q_mu_endpoints_classification import binaryClassificationAverageMajority"
      ]
    },
    {
      "cell_type": "markdown",
      "metadata": {
        "id": "GTyNwgXGQEdJ"
      },
      "source": [
        "## Boost($v_Q$), Boost($v_Q^{\\varsigma}$), Boost($v_Q^{\\exp}$) with epoch=50 and num_trials_maj=11"
      ]
    },
    {
      "cell_type": "code",
      "execution_count": null,
      "metadata": {
        "colab": {
          "base_uri": "https://localhost:8080/",
          "height": 1000
        },
        "id": "YZxrV8TpQEdK",
        "outputId": "12ad8b31-9c45-4b38-bad0-afdab4a500a2",
        "scrolled": true
      },
      "outputs": [
        {
          "name": "stderr",
          "output_type": "stream",
          "text": [
            "/usr/local/lib/python3.7/dist-packages/sklearn/svm/_base.py:947: ConvergenceWarning: Liblinear failed to converge, increase the number of iterations.\n",
            "  \"the number of iterations.\", ConvergenceWarning)\n",
            "/usr/local/lib/python3.7/dist-packages/sklearn/svm/_base.py:947: ConvergenceWarning: Liblinear failed to converge, increase the number of iterations.\n",
            "  \"the number of iterations.\", ConvergenceWarning)\n",
            "/usr/local/lib/python3.7/dist-packages/sklearn/svm/_base.py:947: ConvergenceWarning: Liblinear failed to converge, increase the number of iterations.\n",
            "  \"the number of iterations.\", ConvergenceWarning)\n",
            "/usr/local/lib/python3.7/dist-packages/sklearn/svm/_base.py:947: ConvergenceWarning: Liblinear failed to converge, increase the number of iterations.\n",
            "  \"the number of iterations.\", ConvergenceWarning)\n",
            "/usr/local/lib/python3.7/dist-packages/sklearn/svm/_base.py:947: ConvergenceWarning: Liblinear failed to converge, increase the number of iterations.\n",
            "  \"the number of iterations.\", ConvergenceWarning)\n",
            "/usr/local/lib/python3.7/dist-packages/sklearn/svm/_base.py:947: ConvergenceWarning: Liblinear failed to converge, increase the number of iterations.\n",
            "  \"the number of iterations.\", ConvergenceWarning)\n",
            "/usr/local/lib/python3.7/dist-packages/sklearn/svm/_base.py:947: ConvergenceWarning: Liblinear failed to converge, increase the number of iterations.\n",
            "  \"the number of iterations.\", ConvergenceWarning)\n",
            "/usr/local/lib/python3.7/dist-packages/sklearn/svm/_base.py:947: ConvergenceWarning: Liblinear failed to converge, increase the number of iterations.\n",
            "  \"the number of iterations.\", ConvergenceWarning)\n",
            "/usr/local/lib/python3.7/dist-packages/sklearn/svm/_base.py:947: ConvergenceWarning: Liblinear failed to converge, increase the number of iterations.\n",
            "  \"the number of iterations.\", ConvergenceWarning)\n",
            "/usr/local/lib/python3.7/dist-packages/sklearn/svm/_base.py:947: ConvergenceWarning: Liblinear failed to converge, increase the number of iterations.\n",
            "  \"the number of iterations.\", ConvergenceWarning)\n",
            "/usr/local/lib/python3.7/dist-packages/sklearn/svm/_base.py:947: ConvergenceWarning: Liblinear failed to converge, increase the number of iterations.\n",
            "  \"the number of iterations.\", ConvergenceWarning)\n",
            "/usr/local/lib/python3.7/dist-packages/sklearn/svm/_base.py:947: ConvergenceWarning: Liblinear failed to converge, increase the number of iterations.\n",
            "  \"the number of iterations.\", ConvergenceWarning)\n",
            "/usr/local/lib/python3.7/dist-packages/sklearn/svm/_base.py:947: ConvergenceWarning: Liblinear failed to converge, increase the number of iterations.\n",
            "  \"the number of iterations.\", ConvergenceWarning)\n",
            "/usr/local/lib/python3.7/dist-packages/sklearn/svm/_base.py:947: ConvergenceWarning: Liblinear failed to converge, increase the number of iterations.\n",
            "  \"the number of iterations.\", ConvergenceWarning)\n",
            "/usr/local/lib/python3.7/dist-packages/sklearn/svm/_base.py:947: ConvergenceWarning: Liblinear failed to converge, increase the number of iterations.\n",
            "  \"the number of iterations.\", ConvergenceWarning)\n",
            "/usr/local/lib/python3.7/dist-packages/sklearn/svm/_base.py:947: ConvergenceWarning: Liblinear failed to converge, increase the number of iterations.\n",
            "  \"the number of iterations.\", ConvergenceWarning)\n",
            "/usr/local/lib/python3.7/dist-packages/sklearn/svm/_base.py:947: ConvergenceWarning: Liblinear failed to converge, increase the number of iterations.\n",
            "  \"the number of iterations.\", ConvergenceWarning)\n",
            "/usr/local/lib/python3.7/dist-packages/sklearn/svm/_base.py:947: ConvergenceWarning: Liblinear failed to converge, increase the number of iterations.\n",
            "  \"the number of iterations.\", ConvergenceWarning)\n",
            "/usr/local/lib/python3.7/dist-packages/sklearn/svm/_base.py:947: ConvergenceWarning: Liblinear failed to converge, increase the number of iterations.\n",
            "  \"the number of iterations.\", ConvergenceWarning)\n",
            "/usr/local/lib/python3.7/dist-packages/sklearn/svm/_base.py:947: ConvergenceWarning: Liblinear failed to converge, increase the number of iterations.\n",
            "  \"the number of iterations.\", ConvergenceWarning)\n",
            "/usr/local/lib/python3.7/dist-packages/sklearn/svm/_base.py:947: ConvergenceWarning: Liblinear failed to converge, increase the number of iterations.\n",
            "  \"the number of iterations.\", ConvergenceWarning)\n",
            "/usr/local/lib/python3.7/dist-packages/sklearn/svm/_base.py:947: ConvergenceWarning: Liblinear failed to converge, increase the number of iterations.\n",
            "  \"the number of iterations.\", ConvergenceWarning)\n",
            "/usr/local/lib/python3.7/dist-packages/sklearn/svm/_base.py:947: ConvergenceWarning: Liblinear failed to converge, increase the number of iterations.\n",
            "  \"the number of iterations.\", ConvergenceWarning)\n",
            "/usr/local/lib/python3.7/dist-packages/sklearn/svm/_base.py:947: ConvergenceWarning: Liblinear failed to converge, increase the number of iterations.\n",
            "  \"the number of iterations.\", ConvergenceWarning)\n",
            "/usr/local/lib/python3.7/dist-packages/sklearn/svm/_base.py:947: ConvergenceWarning: Liblinear failed to converge, increase the number of iterations.\n",
            "  \"the number of iterations.\", ConvergenceWarning)\n",
            "/usr/local/lib/python3.7/dist-packages/sklearn/svm/_base.py:947: ConvergenceWarning: Liblinear failed to converge, increase the number of iterations.\n",
            "  \"the number of iterations.\", ConvergenceWarning)\n",
            "/usr/local/lib/python3.7/dist-packages/sklearn/svm/_base.py:947: ConvergenceWarning: Liblinear failed to converge, increase the number of iterations.\n",
            "  \"the number of iterations.\", ConvergenceWarning)\n",
            "/usr/local/lib/python3.7/dist-packages/sklearn/svm/_base.py:947: ConvergenceWarning: Liblinear failed to converge, increase the number of iterations.\n",
            "  \"the number of iterations.\", ConvergenceWarning)\n",
            "/usr/local/lib/python3.7/dist-packages/sklearn/svm/_base.py:947: ConvergenceWarning: Liblinear failed to converge, increase the number of iterations.\n",
            "  \"the number of iterations.\", ConvergenceWarning)\n"
          ]
        },
        {
          "name": "stdout",
          "output_type": "stream",
          "text": [
            "\u001b[31mtotal time = 605.3209762573242\u001b[0m\n"
          ]
        },
        {
          "data": {
            "text/html": [
              "<div>\n",
              "<style scoped>\n",
              "    .dataframe tbody tr th:only-of-type {\n",
              "        vertical-align: middle;\n",
              "    }\n",
              "\n",
              "    .dataframe tbody tr th {\n",
              "        vertical-align: top;\n",
              "    }\n",
              "\n",
              "    .dataframe thead th {\n",
              "        text-align: right;\n",
              "    }\n",
              "</style>\n",
              "<table border=\"1\" class=\"dataframe\">\n",
              "  <thead>\n",
              "    <tr style=\"text-align: right;\">\n",
              "      <th></th>\n",
              "      <th>Classifier</th>\n",
              "      <th>Train Error</th>\n",
              "      <th>Test Error</th>\n",
              "      <th>Std Error</th>\n",
              "    </tr>\n",
              "  </thead>\n",
              "  <tbody>\n",
              "    <tr>\n",
              "      <th>1</th>\n",
              "      <td>SVM, LinearSVC, C = 1000</td>\n",
              "      <td>0.0382</td>\n",
              "      <td>0.0785</td>\n",
              "      <td>0.0323</td>\n",
              "    </tr>\n",
              "    <tr>\n",
              "      <th>2</th>\n",
              "      <td>Gaussian SVM, C=100, gamma=auto</td>\n",
              "      <td>0.0432</td>\n",
              "      <td>0.0597</td>\n",
              "      <td>0.0203</td>\n",
              "    </tr>\n",
              "    <tr>\n",
              "      <th>3</th>\n",
              "      <td>Poly kernel SVM, C=10, deg=auto</td>\n",
              "      <td>0.0516</td>\n",
              "      <td>0.0622</td>\n",
              "      <td>0.0257</td>\n",
              "    </tr>\n",
              "    <tr>\n",
              "      <th>4</th>\n",
              "      <td>Decision Tree</td>\n",
              "      <td>0.0072</td>\n",
              "      <td>0.0806</td>\n",
              "      <td>0.0301</td>\n",
              "    </tr>\n",
              "    <tr>\n",
              "      <th>5</th>\n",
              "      <td>RandomForestClassifier, n=50</td>\n",
              "      <td>0.0072</td>\n",
              "      <td>0.0625</td>\n",
              "      <td>0.0296</td>\n",
              "    </tr>\n",
              "    <tr>\n",
              "      <th>6</th>\n",
              "      <td>KNN</td>\n",
              "      <td>0.0504</td>\n",
              "      <td>0.0542</td>\n",
              "      <td>0.0209</td>\n",
              "    </tr>\n",
              "    <tr>\n",
              "      <th>7</th>\n",
              "      <td>Logistic Regression</td>\n",
              "      <td>0.0501</td>\n",
              "      <td>0.0572</td>\n",
              "      <td>0.0246</td>\n",
              "    </tr>\n",
              "  </tbody>\n",
              "</table>\n",
              "</div>"
            ],
            "text/plain": [
              "                        Classifier  Train Error  Test Error  Std Error\n",
              "1         SVM, LinearSVC, C = 1000       0.0382      0.0785     0.0323\n",
              "2  Gaussian SVM, C=100, gamma=auto       0.0432      0.0597     0.0203\n",
              "3  Poly kernel SVM, C=10, deg=auto       0.0516      0.0622     0.0257\n",
              "4                    Decision Tree       0.0072      0.0806     0.0301\n",
              "5     RandomForestClassifier, n=50       0.0072      0.0625     0.0296\n",
              "6                              KNN       0.0504      0.0542     0.0209\n",
              "7              Logistic Regression       0.0501      0.0572     0.0246"
            ]
          },
          "execution_count": 20,
          "metadata": {},
          "output_type": "execute_result"
        }
      ],
      "source": [
        "classifs = binaryClassificationAverageMajority(data1_lan_long, data2_lan_long, \n",
        "            Q_size=20, epoch=50, num_trials_maj=11, classifiers=clff,\n",
        "            version='unsigned', test_size=0.3)\n",
        "classifs.classification_v_Q()[0]"
      ]
    },
    {
      "cell_type": "code",
      "execution_count": null,
      "metadata": {
        "colab": {
          "base_uri": "https://localhost:8080/",
          "height": 298
        },
        "id": "24Jb1MXpQEdJ",
        "outputId": "24625e40-2754-4431-8210-2f34f266a409"
      },
      "outputs": [
        {
          "name": "stdout",
          "output_type": "stream",
          "text": [
            "Warning: Some of the landmarks have chosen overlapped segments of some trajectories\n",
            "\u001b[31mtotal time = 681.019939661026\u001b[0m\n"
          ]
        },
        {
          "data": {
            "text/html": [
              "<div>\n",
              "<style scoped>\n",
              "    .dataframe tbody tr th:only-of-type {\n",
              "        vertical-align: middle;\n",
              "    }\n",
              "\n",
              "    .dataframe tbody tr th {\n",
              "        vertical-align: top;\n",
              "    }\n",
              "\n",
              "    .dataframe thead th {\n",
              "        text-align: right;\n",
              "    }\n",
              "</style>\n",
              "<table border=\"1\" class=\"dataframe\">\n",
              "  <thead>\n",
              "    <tr style=\"text-align: right;\">\n",
              "      <th></th>\n",
              "      <th>Classifier</th>\n",
              "      <th>Train Error</th>\n",
              "      <th>Test Error</th>\n",
              "      <th>Std Error</th>\n",
              "    </tr>\n",
              "  </thead>\n",
              "  <tbody>\n",
              "    <tr>\n",
              "      <th>1</th>\n",
              "      <td>SVM, LinearSVC, C = 1000</td>\n",
              "      <td>0.1782</td>\n",
              "      <td>0.2868</td>\n",
              "      <td>0.0490</td>\n",
              "    </tr>\n",
              "    <tr>\n",
              "      <th>2</th>\n",
              "      <td>Gaussian SVM, C=100, gamma=auto</td>\n",
              "      <td>0.0239</td>\n",
              "      <td>0.0892</td>\n",
              "      <td>0.0287</td>\n",
              "    </tr>\n",
              "    <tr>\n",
              "      <th>3</th>\n",
              "      <td>Poly kernel SVM, C=10, deg=auto</td>\n",
              "      <td>0.0884</td>\n",
              "      <td>0.2197</td>\n",
              "      <td>0.0562</td>\n",
              "    </tr>\n",
              "    <tr>\n",
              "      <th>4</th>\n",
              "      <td>Decision Tree</td>\n",
              "      <td>0.0072</td>\n",
              "      <td>0.0963</td>\n",
              "      <td>0.0293</td>\n",
              "    </tr>\n",
              "    <tr>\n",
              "      <th>5</th>\n",
              "      <td>RandomForestClassifier, n=50</td>\n",
              "      <td>0.0072</td>\n",
              "      <td>0.0769</td>\n",
              "      <td>0.0263</td>\n",
              "    </tr>\n",
              "    <tr>\n",
              "      <th>6</th>\n",
              "      <td>KNN</td>\n",
              "      <td>0.0753</td>\n",
              "      <td>0.0825</td>\n",
              "      <td>0.0330</td>\n",
              "    </tr>\n",
              "    <tr>\n",
              "      <th>7</th>\n",
              "      <td>Logistic Regression</td>\n",
              "      <td>0.3222</td>\n",
              "      <td>0.3492</td>\n",
              "      <td>0.0495</td>\n",
              "    </tr>\n",
              "  </tbody>\n",
              "</table>\n",
              "</div>"
            ],
            "text/plain": [
              "                        Classifier  Train Error  Test Error  Std Error\n",
              "1         SVM, LinearSVC, C = 1000       0.1782      0.2868     0.0490\n",
              "2  Gaussian SVM, C=100, gamma=auto       0.0239      0.0892     0.0287\n",
              "3  Poly kernel SVM, C=10, deg=auto       0.0884      0.2197     0.0562\n",
              "4                    Decision Tree       0.0072      0.0963     0.0293\n",
              "5     RandomForestClassifier, n=50       0.0072      0.0769     0.0263\n",
              "6                              KNN       0.0753      0.0825     0.0330\n",
              "7              Logistic Regression       0.3222      0.3492     0.0495"
            ]
          },
          "execution_count": 21,
          "metadata": {},
          "output_type": "execute_result"
        }
      ],
      "source": [
        "classifs = binaryClassificationAverageMajority(data1_lan_long, data2_lan_long, \n",
        "            Q_size=20, epoch=50, num_trials_maj=11, classifiers=clff,\n",
        "            version='signed', sigma=100, test_size=0.3)\n",
        "classifs.classification_v_Q()[0]"
      ]
    },
    {
      "cell_type": "code",
      "execution_count": null,
      "metadata": {
        "colab": {
          "base_uri": "https://localhost:8080/",
          "height": 282
        },
        "id": "nyUnrkulQEdK",
        "outputId": "0dd9f76d-7f3a-4f26-bc2e-5bdd7843d19a"
      },
      "outputs": [
        {
          "name": "stdout",
          "output_type": "stream",
          "text": [
            "\u001b[31mtotal time = 585.8470225334167\u001b[0m\n"
          ]
        },
        {
          "data": {
            "text/html": [
              "<div>\n",
              "<style scoped>\n",
              "    .dataframe tbody tr th:only-of-type {\n",
              "        vertical-align: middle;\n",
              "    }\n",
              "\n",
              "    .dataframe tbody tr th {\n",
              "        vertical-align: top;\n",
              "    }\n",
              "\n",
              "    .dataframe thead th {\n",
              "        text-align: right;\n",
              "    }\n",
              "</style>\n",
              "<table border=\"1\" class=\"dataframe\">\n",
              "  <thead>\n",
              "    <tr style=\"text-align: right;\">\n",
              "      <th></th>\n",
              "      <th>Classifier</th>\n",
              "      <th>Train Error</th>\n",
              "      <th>Test Error</th>\n",
              "      <th>Std Error</th>\n",
              "    </tr>\n",
              "  </thead>\n",
              "  <tbody>\n",
              "    <tr>\n",
              "      <th>1</th>\n",
              "      <td>SVM, LinearSVC, C = 1000</td>\n",
              "      <td>0.0461</td>\n",
              "      <td>0.0735</td>\n",
              "      <td>0.0239</td>\n",
              "    </tr>\n",
              "    <tr>\n",
              "      <th>2</th>\n",
              "      <td>Gaussian SVM, C=100, gamma=auto</td>\n",
              "      <td>0.0439</td>\n",
              "      <td>0.0658</td>\n",
              "      <td>0.0267</td>\n",
              "    </tr>\n",
              "    <tr>\n",
              "      <th>3</th>\n",
              "      <td>Poly kernel SVM, C=10, deg=auto</td>\n",
              "      <td>0.0509</td>\n",
              "      <td>0.0615</td>\n",
              "      <td>0.0215</td>\n",
              "    </tr>\n",
              "    <tr>\n",
              "      <th>4</th>\n",
              "      <td>Decision Tree</td>\n",
              "      <td>0.0072</td>\n",
              "      <td>0.0714</td>\n",
              "      <td>0.0250</td>\n",
              "    </tr>\n",
              "    <tr>\n",
              "      <th>5</th>\n",
              "      <td>RandomForestClassifier, n=50</td>\n",
              "      <td>0.0072</td>\n",
              "      <td>0.0628</td>\n",
              "      <td>0.0238</td>\n",
              "    </tr>\n",
              "    <tr>\n",
              "      <th>6</th>\n",
              "      <td>KNN</td>\n",
              "      <td>0.0493</td>\n",
              "      <td>0.0538</td>\n",
              "      <td>0.0214</td>\n",
              "    </tr>\n",
              "    <tr>\n",
              "      <th>7</th>\n",
              "      <td>Logistic Regression</td>\n",
              "      <td>0.0512</td>\n",
              "      <td>0.0572</td>\n",
              "      <td>0.0230</td>\n",
              "    </tr>\n",
              "  </tbody>\n",
              "</table>\n",
              "</div>"
            ],
            "text/plain": [
              "                        Classifier  Train Error  Test Error  Std Error\n",
              "1         SVM, LinearSVC, C = 1000       0.0461      0.0735     0.0239\n",
              "2  Gaussian SVM, C=100, gamma=auto       0.0439      0.0658     0.0267\n",
              "3  Poly kernel SVM, C=10, deg=auto       0.0509      0.0615     0.0215\n",
              "4                    Decision Tree       0.0072      0.0714     0.0250\n",
              "5     RandomForestClassifier, n=50       0.0072      0.0628     0.0238\n",
              "6                              KNN       0.0493      0.0538     0.0214\n",
              "7              Logistic Regression       0.0512      0.0572     0.0230"
            ]
          },
          "execution_count": 22,
          "metadata": {},
          "output_type": "execute_result"
        }
      ],
      "source": [
        "classifs = binaryClassificationAverageMajority(data1_lan_long, data2_lan_long, \n",
        "            Q_size=20, epoch=50, num_trials_maj=11, classifiers=clff, test_size=0.3)\n",
        "classifs.classification_v_Q_mu()[0]"
      ]
    },
    {
      "cell_type": "markdown",
      "metadata": {
        "id": "nUWiU09hQEdI"
      },
      "source": [
        "## Rand $v_Q$, Rand $v_Q^{\\varsigma}$, Rand $v_Q^{\\exp}$ with epoch=50 and num_trials_maj=1"
      ]
    },
    {
      "cell_type": "code",
      "execution_count": null,
      "metadata": {
        "colab": {
          "base_uri": "https://localhost:8080/",
          "height": 436
        },
        "id": "AKwosr8xQEdI",
        "outputId": "6a3feddc-8949-468b-fb48-87f7b6a3effa"
      },
      "outputs": [
        {
          "name": "stderr",
          "output_type": "stream",
          "text": [
            "/usr/local/lib/python3.7/dist-packages/sklearn/svm/_base.py:947: ConvergenceWarning: Liblinear failed to converge, increase the number of iterations.\n",
            "  \"the number of iterations.\", ConvergenceWarning)\n",
            "/usr/local/lib/python3.7/dist-packages/sklearn/svm/_base.py:947: ConvergenceWarning: Liblinear failed to converge, increase the number of iterations.\n",
            "  \"the number of iterations.\", ConvergenceWarning)\n",
            "/usr/local/lib/python3.7/dist-packages/sklearn/svm/_base.py:947: ConvergenceWarning: Liblinear failed to converge, increase the number of iterations.\n",
            "  \"the number of iterations.\", ConvergenceWarning)\n",
            "/usr/local/lib/python3.7/dist-packages/sklearn/svm/_base.py:947: ConvergenceWarning: Liblinear failed to converge, increase the number of iterations.\n",
            "  \"the number of iterations.\", ConvergenceWarning)\n"
          ]
        },
        {
          "name": "stdout",
          "output_type": "stream",
          "text": [
            "\u001b[31mtotal time = 56.496999740600586\u001b[0m\n"
          ]
        },
        {
          "data": {
            "text/html": [
              "<div>\n",
              "<style scoped>\n",
              "    .dataframe tbody tr th:only-of-type {\n",
              "        vertical-align: middle;\n",
              "    }\n",
              "\n",
              "    .dataframe tbody tr th {\n",
              "        vertical-align: top;\n",
              "    }\n",
              "\n",
              "    .dataframe thead th {\n",
              "        text-align: right;\n",
              "    }\n",
              "</style>\n",
              "<table border=\"1\" class=\"dataframe\">\n",
              "  <thead>\n",
              "    <tr style=\"text-align: right;\">\n",
              "      <th></th>\n",
              "      <th>Classifier</th>\n",
              "      <th>Train Error</th>\n",
              "      <th>Test Error</th>\n",
              "      <th>Std Error</th>\n",
              "    </tr>\n",
              "  </thead>\n",
              "  <tbody>\n",
              "    <tr>\n",
              "      <th>1</th>\n",
              "      <td>SVM, LinearSVC, C = 1000</td>\n",
              "      <td>0.0376</td>\n",
              "      <td>0.0892</td>\n",
              "      <td>0.0326</td>\n",
              "    </tr>\n",
              "    <tr>\n",
              "      <th>2</th>\n",
              "      <td>Gaussian SVM, C=100, gamma=auto</td>\n",
              "      <td>0.0428</td>\n",
              "      <td>0.0625</td>\n",
              "      <td>0.0212</td>\n",
              "    </tr>\n",
              "    <tr>\n",
              "      <th>3</th>\n",
              "      <td>Poly kernel SVM, C=10, deg=auto</td>\n",
              "      <td>0.0518</td>\n",
              "      <td>0.0668</td>\n",
              "      <td>0.0259</td>\n",
              "    </tr>\n",
              "    <tr>\n",
              "      <th>4</th>\n",
              "      <td>Decision Tree</td>\n",
              "      <td>0.0068</td>\n",
              "      <td>0.1037</td>\n",
              "      <td>0.0384</td>\n",
              "    </tr>\n",
              "    <tr>\n",
              "      <th>5</th>\n",
              "      <td>RandomForestClassifier, n=50</td>\n",
              "      <td>0.0074</td>\n",
              "      <td>0.0692</td>\n",
              "      <td>0.0263</td>\n",
              "    </tr>\n",
              "    <tr>\n",
              "      <th>6</th>\n",
              "      <td>KNN</td>\n",
              "      <td>0.0493</td>\n",
              "      <td>0.0578</td>\n",
              "      <td>0.0217</td>\n",
              "    </tr>\n",
              "    <tr>\n",
              "      <th>7</th>\n",
              "      <td>Logistic Regression</td>\n",
              "      <td>0.0485</td>\n",
              "      <td>0.0631</td>\n",
              "      <td>0.0243</td>\n",
              "    </tr>\n",
              "  </tbody>\n",
              "</table>\n",
              "</div>"
            ],
            "text/plain": [
              "                        Classifier  Train Error  Test Error  Std Error\n",
              "1         SVM, LinearSVC, C = 1000       0.0376      0.0892     0.0326\n",
              "2  Gaussian SVM, C=100, gamma=auto       0.0428      0.0625     0.0212\n",
              "3  Poly kernel SVM, C=10, deg=auto       0.0518      0.0668     0.0259\n",
              "4                    Decision Tree       0.0068      0.1037     0.0384\n",
              "5     RandomForestClassifier, n=50       0.0074      0.0692     0.0263\n",
              "6                              KNN       0.0493      0.0578     0.0217\n",
              "7              Logistic Regression       0.0485      0.0631     0.0243"
            ]
          },
          "execution_count": 23,
          "metadata": {},
          "output_type": "execute_result"
        }
      ],
      "source": [
        "classifs = binaryClassificationAverageMajority(data1_lan_long, data2_lan_long, \n",
        "            Q_size=20, epoch=50, num_trials_maj=1, classifiers=clff,\n",
        "            version='unsigned', test_size=0.3)\n",
        "classifs.classification_v_Q()[0]"
      ]
    },
    {
      "cell_type": "code",
      "execution_count": null,
      "metadata": {
        "colab": {
          "base_uri": "https://localhost:8080/",
          "height": 282
        },
        "id": "3-N6s7aBQEdJ",
        "outputId": "be991b1a-bca5-447a-8067-0c64a90d25ab"
      },
      "outputs": [
        {
          "name": "stdout",
          "output_type": "stream",
          "text": [
            "\u001b[31mtotal time = 63.47153329849243\u001b[0m\n"
          ]
        },
        {
          "data": {
            "text/html": [
              "<div>\n",
              "<style scoped>\n",
              "    .dataframe tbody tr th:only-of-type {\n",
              "        vertical-align: middle;\n",
              "    }\n",
              "\n",
              "    .dataframe tbody tr th {\n",
              "        vertical-align: top;\n",
              "    }\n",
              "\n",
              "    .dataframe thead th {\n",
              "        text-align: right;\n",
              "    }\n",
              "</style>\n",
              "<table border=\"1\" class=\"dataframe\">\n",
              "  <thead>\n",
              "    <tr style=\"text-align: right;\">\n",
              "      <th></th>\n",
              "      <th>Classifier</th>\n",
              "      <th>Train Error</th>\n",
              "      <th>Test Error</th>\n",
              "      <th>Std Error</th>\n",
              "    </tr>\n",
              "  </thead>\n",
              "  <tbody>\n",
              "    <tr>\n",
              "      <th>1</th>\n",
              "      <td>SVM, LinearSVC, C = 1000</td>\n",
              "      <td>0.2351</td>\n",
              "      <td>0.3283</td>\n",
              "      <td>0.0725</td>\n",
              "    </tr>\n",
              "    <tr>\n",
              "      <th>2</th>\n",
              "      <td>Gaussian SVM, C=100, gamma=auto</td>\n",
              "      <td>0.0245</td>\n",
              "      <td>0.1102</td>\n",
              "      <td>0.0367</td>\n",
              "    </tr>\n",
              "    <tr>\n",
              "      <th>3</th>\n",
              "      <td>Poly kernel SVM, C=10, deg=auto</td>\n",
              "      <td>0.1108</td>\n",
              "      <td>0.2262</td>\n",
              "      <td>0.0673</td>\n",
              "    </tr>\n",
              "    <tr>\n",
              "      <th>4</th>\n",
              "      <td>Decision Tree</td>\n",
              "      <td>0.0069</td>\n",
              "      <td>0.1314</td>\n",
              "      <td>0.0358</td>\n",
              "    </tr>\n",
              "    <tr>\n",
              "      <th>5</th>\n",
              "      <td>RandomForestClassifier, n=50</td>\n",
              "      <td>0.0078</td>\n",
              "      <td>0.0892</td>\n",
              "      <td>0.0234</td>\n",
              "    </tr>\n",
              "    <tr>\n",
              "      <th>6</th>\n",
              "      <td>KNN</td>\n",
              "      <td>0.0824</td>\n",
              "      <td>0.0963</td>\n",
              "      <td>0.0342</td>\n",
              "    </tr>\n",
              "    <tr>\n",
              "      <th>7</th>\n",
              "      <td>Logistic Regression</td>\n",
              "      <td>0.3162</td>\n",
              "      <td>0.3462</td>\n",
              "      <td>0.0612</td>\n",
              "    </tr>\n",
              "  </tbody>\n",
              "</table>\n",
              "</div>"
            ],
            "text/plain": [
              "                        Classifier  Train Error  Test Error  Std Error\n",
              "1         SVM, LinearSVC, C = 1000       0.2351      0.3283     0.0725\n",
              "2  Gaussian SVM, C=100, gamma=auto       0.0245      0.1102     0.0367\n",
              "3  Poly kernel SVM, C=10, deg=auto       0.1108      0.2262     0.0673\n",
              "4                    Decision Tree       0.0069      0.1314     0.0358\n",
              "5     RandomForestClassifier, n=50       0.0078      0.0892     0.0234\n",
              "6                              KNN       0.0824      0.0963     0.0342\n",
              "7              Logistic Regression       0.3162      0.3462     0.0612"
            ]
          },
          "execution_count": 24,
          "metadata": {},
          "output_type": "execute_result"
        }
      ],
      "source": [
        "classifs = binaryClassificationAverageMajority(data1_lan_long, data2_lan_long, \n",
        "            Q_size=20, epoch=50, num_trials_maj=1, classifiers=clff,\n",
        "            version='signed', sigma=100, test_size=0.3)\n",
        "classifs.classification_v_Q()[0]"
      ]
    },
    {
      "cell_type": "code",
      "execution_count": null,
      "metadata": {
        "colab": {
          "base_uri": "https://localhost:8080/",
          "height": 282
        },
        "id": "Z4m8x4NOQEdJ",
        "outputId": "b83a850b-b511-4731-9b01-8f032e5bb28e"
      },
      "outputs": [
        {
          "name": "stdout",
          "output_type": "stream",
          "text": [
            "\u001b[31mtotal time = 55.866920471191406\u001b[0m\n"
          ]
        },
        {
          "data": {
            "text/html": [
              "<div>\n",
              "<style scoped>\n",
              "    .dataframe tbody tr th:only-of-type {\n",
              "        vertical-align: middle;\n",
              "    }\n",
              "\n",
              "    .dataframe tbody tr th {\n",
              "        vertical-align: top;\n",
              "    }\n",
              "\n",
              "    .dataframe thead th {\n",
              "        text-align: right;\n",
              "    }\n",
              "</style>\n",
              "<table border=\"1\" class=\"dataframe\">\n",
              "  <thead>\n",
              "    <tr style=\"text-align: right;\">\n",
              "      <th></th>\n",
              "      <th>Classifier</th>\n",
              "      <th>Train Error</th>\n",
              "      <th>Test Error</th>\n",
              "      <th>Std Error</th>\n",
              "    </tr>\n",
              "  </thead>\n",
              "  <tbody>\n",
              "    <tr>\n",
              "      <th>1</th>\n",
              "      <td>SVM, LinearSVC, C = 1000</td>\n",
              "      <td>0.0470</td>\n",
              "      <td>0.0751</td>\n",
              "      <td>0.0255</td>\n",
              "    </tr>\n",
              "    <tr>\n",
              "      <th>2</th>\n",
              "      <td>Gaussian SVM, C=100, gamma=auto</td>\n",
              "      <td>0.0441</td>\n",
              "      <td>0.0658</td>\n",
              "      <td>0.0213</td>\n",
              "    </tr>\n",
              "    <tr>\n",
              "      <th>3</th>\n",
              "      <td>Poly kernel SVM, C=10, deg=auto</td>\n",
              "      <td>0.0515</td>\n",
              "      <td>0.0609</td>\n",
              "      <td>0.0250</td>\n",
              "    </tr>\n",
              "    <tr>\n",
              "      <th>4</th>\n",
              "      <td>Decision Tree</td>\n",
              "      <td>0.0064</td>\n",
              "      <td>0.0889</td>\n",
              "      <td>0.0289</td>\n",
              "    </tr>\n",
              "    <tr>\n",
              "      <th>5</th>\n",
              "      <td>RandomForestClassifier, n=50</td>\n",
              "      <td>0.0068</td>\n",
              "      <td>0.0637</td>\n",
              "      <td>0.0220</td>\n",
              "    </tr>\n",
              "    <tr>\n",
              "      <th>6</th>\n",
              "      <td>KNN</td>\n",
              "      <td>0.0511</td>\n",
              "      <td>0.0523</td>\n",
              "      <td>0.0209</td>\n",
              "    </tr>\n",
              "    <tr>\n",
              "      <th>7</th>\n",
              "      <td>Logistic Regression</td>\n",
              "      <td>0.0545</td>\n",
              "      <td>0.0548</td>\n",
              "      <td>0.0231</td>\n",
              "    </tr>\n",
              "  </tbody>\n",
              "</table>\n",
              "</div>"
            ],
            "text/plain": [
              "                        Classifier  Train Error  Test Error  Std Error\n",
              "1         SVM, LinearSVC, C = 1000       0.0470      0.0751     0.0255\n",
              "2  Gaussian SVM, C=100, gamma=auto       0.0441      0.0658     0.0213\n",
              "3  Poly kernel SVM, C=10, deg=auto       0.0515      0.0609     0.0250\n",
              "4                    Decision Tree       0.0064      0.0889     0.0289\n",
              "5     RandomForestClassifier, n=50       0.0068      0.0637     0.0220\n",
              "6                              KNN       0.0511      0.0523     0.0209\n",
              "7              Logistic Regression       0.0545      0.0548     0.0231"
            ]
          },
          "execution_count": 25,
          "metadata": {},
          "output_type": "execute_result"
        }
      ],
      "source": [
        "classifs = binaryClassificationAverageMajority(data1_lan_long, data2_lan_long, \n",
        "            Q_size=20, epoch=50, num_trials_maj=1, classifiers=clff, test_size=0.3)\n",
        "classifs.classification_v_Q_mu()[0]"
      ]
    },
    {
      "cell_type": "code",
      "execution_count": null,
      "metadata": {
        "colab": {
          "base_uri": "https://localhost:8080/"
        },
        "id": "svEQoFWwivEk",
        "outputId": "0d5cf32e-d139-4643-c558-e797efdf7304"
      },
      "outputs": [
        {
          "name": "stderr",
          "output_type": "stream",
          "text": [
            "/usr/local/lib/python3.7/dist-packages/scipy/optimize/linesearch.py:478: LineSearchWarning: The line search algorithm did not converge\n",
            "  warn('The line search algorithm did not converge', LineSearchWarning)\n",
            "/usr/local/lib/python3.7/dist-packages/scipy/optimize/linesearch.py:327: LineSearchWarning: The line search algorithm did not converge\n",
            "  warn('The line search algorithm did not converge', LineSearchWarning)\n",
            "/usr/local/lib/python3.7/dist-packages/scipy/optimize/linesearch.py:327: LineSearchWarning: The line search algorithm did not converge\n",
            "  warn('The line search algorithm did not converge', LineSearchWarning)\n",
            "/usr/local/lib/python3.7/dist-packages/sklearn/utils/optimize.py:204: UserWarning: Line Search failed\n",
            "  warnings.warn('Line Search failed')\n",
            "/usr/local/lib/python3.7/dist-packages/scipy/optimize/linesearch.py:478: LineSearchWarning: The line search algorithm did not converge\n",
            "  warn('The line search algorithm did not converge', LineSearchWarning)\n",
            "/usr/local/lib/python3.7/dist-packages/scipy/optimize/linesearch.py:327: LineSearchWarning: The line search algorithm did not converge\n",
            "  warn('The line search algorithm did not converge', LineSearchWarning)\n",
            "/usr/local/lib/python3.7/dist-packages/scipy/optimize/linesearch.py:478: LineSearchWarning: The line search algorithm did not converge\n",
            "  warn('The line search algorithm did not converge', LineSearchWarning)\n",
            "/usr/local/lib/python3.7/dist-packages/scipy/optimize/linesearch.py:327: LineSearchWarning: The line search algorithm did not converge\n",
            "  warn('The line search algorithm did not converge', LineSearchWarning)\n",
            "/usr/local/lib/python3.7/dist-packages/scipy/optimize/linesearch.py:478: LineSearchWarning: The line search algorithm did not converge\n",
            "  warn('The line search algorithm did not converge', LineSearchWarning)\n",
            "/usr/local/lib/python3.7/dist-packages/scipy/optimize/linesearch.py:327: LineSearchWarning: The line search algorithm did not converge\n",
            "  warn('The line search algorithm did not converge', LineSearchWarning)\n",
            "/usr/local/lib/python3.7/dist-packages/scipy/optimize/linesearch.py:478: LineSearchWarning: The line search algorithm did not converge\n",
            "  warn('The line search algorithm did not converge', LineSearchWarning)\n",
            "/usr/local/lib/python3.7/dist-packages/scipy/optimize/linesearch.py:327: LineSearchWarning: The line search algorithm did not converge\n",
            "  warn('The line search algorithm did not converge', LineSearchWarning)\n",
            "/usr/local/lib/python3.7/dist-packages/scipy/optimize/linesearch.py:478: LineSearchWarning: The line search algorithm did not converge\n",
            "  warn('The line search algorithm did not converge', LineSearchWarning)\n",
            "/usr/local/lib/python3.7/dist-packages/scipy/optimize/linesearch.py:327: LineSearchWarning: The line search algorithm did not converge\n",
            "  warn('The line search algorithm did not converge', LineSearchWarning)\n",
            "/usr/local/lib/python3.7/dist-packages/scipy/optimize/linesearch.py:478: LineSearchWarning: The line search algorithm did not converge\n",
            "  warn('The line search algorithm did not converge', LineSearchWarning)\n",
            "/usr/local/lib/python3.7/dist-packages/scipy/optimize/linesearch.py:327: LineSearchWarning: The line search algorithm did not converge\n",
            "  warn('The line search algorithm did not converge', LineSearchWarning)\n",
            "/usr/local/lib/python3.7/dist-packages/scipy/optimize/linesearch.py:478: LineSearchWarning: The line search algorithm did not converge\n",
            "  warn('The line search algorithm did not converge', LineSearchWarning)\n",
            "/usr/local/lib/python3.7/dist-packages/scipy/optimize/linesearch.py:327: LineSearchWarning: The line search algorithm did not converge\n",
            "  warn('The line search algorithm did not converge', LineSearchWarning)\n",
            "/usr/local/lib/python3.7/dist-packages/scipy/optimize/linesearch.py:478: LineSearchWarning: The line search algorithm did not converge\n",
            "  warn('The line search algorithm did not converge', LineSearchWarning)\n",
            "/usr/local/lib/python3.7/dist-packages/scipy/optimize/linesearch.py:327: LineSearchWarning: The line search algorithm did not converge\n",
            "  warn('The line search algorithm did not converge', LineSearchWarning)\n",
            "/usr/local/lib/python3.7/dist-packages/scipy/optimize/linesearch.py:478: LineSearchWarning: The line search algorithm did not converge\n",
            "  warn('The line search algorithm did not converge', LineSearchWarning)\n",
            "/usr/local/lib/python3.7/dist-packages/scipy/optimize/linesearch.py:327: LineSearchWarning: The line search algorithm did not converge\n",
            "  warn('The line search algorithm did not converge', LineSearchWarning)\n",
            "/usr/local/lib/python3.7/dist-packages/scipy/optimize/linesearch.py:327: LineSearchWarning: The line search algorithm did not converge\n",
            "  warn('The line search algorithm did not converge', LineSearchWarning)\n",
            "/usr/local/lib/python3.7/dist-packages/sklearn/utils/optimize.py:204: UserWarning: Line Search failed\n",
            "  warnings.warn('Line Search failed')\n",
            "/usr/local/lib/python3.7/dist-packages/scipy/optimize/linesearch.py:478: LineSearchWarning: The line search algorithm did not converge\n",
            "  warn('The line search algorithm did not converge', LineSearchWarning)\n",
            "/usr/local/lib/python3.7/dist-packages/scipy/optimize/linesearch.py:327: LineSearchWarning: The line search algorithm did not converge\n",
            "  warn('The line search algorithm did not converge', LineSearchWarning)\n",
            "/usr/local/lib/python3.7/dist-packages/scipy/optimize/linesearch.py:478: LineSearchWarning: The line search algorithm did not converge\n",
            "  warn('The line search algorithm did not converge', LineSearchWarning)\n",
            "/usr/local/lib/python3.7/dist-packages/scipy/optimize/linesearch.py:327: LineSearchWarning: The line search algorithm did not converge\n",
            "  warn('The line search algorithm did not converge', LineSearchWarning)\n",
            "/usr/local/lib/python3.7/dist-packages/scipy/optimize/linesearch.py:478: LineSearchWarning: The line search algorithm did not converge\n",
            "  warn('The line search algorithm did not converge', LineSearchWarning)\n",
            "/usr/local/lib/python3.7/dist-packages/scipy/optimize/linesearch.py:327: LineSearchWarning: The line search algorithm did not converge\n",
            "  warn('The line search algorithm did not converge', LineSearchWarning)\n",
            "/usr/local/lib/python3.7/dist-packages/scipy/optimize/linesearch.py:478: LineSearchWarning: The line search algorithm did not converge\n",
            "  warn('The line search algorithm did not converge', LineSearchWarning)\n",
            "/usr/local/lib/python3.7/dist-packages/scipy/optimize/linesearch.py:327: LineSearchWarning: The line search algorithm did not converge\n",
            "  warn('The line search algorithm did not converge', LineSearchWarning)\n",
            "/usr/local/lib/python3.7/dist-packages/scipy/optimize/linesearch.py:478: LineSearchWarning: The line search algorithm did not converge\n",
            "  warn('The line search algorithm did not converge', LineSearchWarning)\n",
            "/usr/local/lib/python3.7/dist-packages/scipy/optimize/linesearch.py:327: LineSearchWarning: The line search algorithm did not converge\n",
            "  warn('The line search algorithm did not converge', LineSearchWarning)\n",
            "/usr/local/lib/python3.7/dist-packages/scipy/optimize/linesearch.py:478: LineSearchWarning: The line search algorithm did not converge\n",
            "  warn('The line search algorithm did not converge', LineSearchWarning)\n",
            "/usr/local/lib/python3.7/dist-packages/scipy/optimize/linesearch.py:327: LineSearchWarning: The line search algorithm did not converge\n",
            "  warn('The line search algorithm did not converge', LineSearchWarning)\n",
            "/usr/local/lib/python3.7/dist-packages/scipy/optimize/linesearch.py:478: LineSearchWarning: The line search algorithm did not converge\n",
            "  warn('The line search algorithm did not converge', LineSearchWarning)\n",
            "/usr/local/lib/python3.7/dist-packages/scipy/optimize/linesearch.py:327: LineSearchWarning: The line search algorithm did not converge\n",
            "  warn('The line search algorithm did not converge', LineSearchWarning)\n",
            "/usr/local/lib/python3.7/dist-packages/scipy/optimize/linesearch.py:478: LineSearchWarning: The line search algorithm did not converge\n",
            "  warn('The line search algorithm did not converge', LineSearchWarning)\n",
            "/usr/local/lib/python3.7/dist-packages/scipy/optimize/linesearch.py:327: LineSearchWarning: The line search algorithm did not converge\n",
            "  warn('The line search algorithm did not converge', LineSearchWarning)\n",
            "/usr/local/lib/python3.7/dist-packages/scipy/optimize/linesearch.py:478: LineSearchWarning: The line search algorithm did not converge\n",
            "  warn('The line search algorithm did not converge', LineSearchWarning)\n",
            "/usr/local/lib/python3.7/dist-packages/scipy/optimize/linesearch.py:327: LineSearchWarning: The line search algorithm did not converge\n",
            "  warn('The line search algorithm did not converge', LineSearchWarning)\n",
            "/usr/local/lib/python3.7/dist-packages/scipy/optimize/linesearch.py:478: LineSearchWarning: The line search algorithm did not converge\n",
            "  warn('The line search algorithm did not converge', LineSearchWarning)\n",
            "/usr/local/lib/python3.7/dist-packages/scipy/optimize/linesearch.py:327: LineSearchWarning: The line search algorithm did not converge\n",
            "  warn('The line search algorithm did not converge', LineSearchWarning)\n",
            "/usr/local/lib/python3.7/dist-packages/scipy/optimize/linesearch.py:478: LineSearchWarning: The line search algorithm did not converge\n",
            "  warn('The line search algorithm did not converge', LineSearchWarning)\n",
            "/usr/local/lib/python3.7/dist-packages/scipy/optimize/linesearch.py:327: LineSearchWarning: The line search algorithm did not converge\n",
            "  warn('The line search algorithm did not converge', LineSearchWarning)\n",
            "/usr/local/lib/python3.7/dist-packages/scipy/optimize/linesearch.py:478: LineSearchWarning: The line search algorithm did not converge\n",
            "  warn('The line search algorithm did not converge', LineSearchWarning)\n",
            "/usr/local/lib/python3.7/dist-packages/scipy/optimize/linesearch.py:327: LineSearchWarning: The line search algorithm did not converge\n",
            "  warn('The line search algorithm did not converge', LineSearchWarning)\n",
            "/usr/local/lib/python3.7/dist-packages/scipy/optimize/linesearch.py:478: LineSearchWarning: The line search algorithm did not converge\n",
            "  warn('The line search algorithm did not converge', LineSearchWarning)\n",
            "/usr/local/lib/python3.7/dist-packages/scipy/optimize/linesearch.py:327: LineSearchWarning: The line search algorithm did not converge\n",
            "  warn('The line search algorithm did not converge', LineSearchWarning)\n",
            "/usr/local/lib/python3.7/dist-packages/scipy/optimize/linesearch.py:478: LineSearchWarning: The line search algorithm did not converge\n",
            "  warn('The line search algorithm did not converge', LineSearchWarning)\n",
            "/usr/local/lib/python3.7/dist-packages/scipy/optimize/linesearch.py:327: LineSearchWarning: The line search algorithm did not converge\n",
            "  warn('The line search algorithm did not converge', LineSearchWarning)\n",
            "/usr/local/lib/python3.7/dist-packages/scipy/optimize/linesearch.py:478: LineSearchWarning: The line search algorithm did not converge\n",
            "  warn('The line search algorithm did not converge', LineSearchWarning)\n",
            "/usr/local/lib/python3.7/dist-packages/scipy/optimize/linesearch.py:327: LineSearchWarning: The line search algorithm did not converge\n",
            "  warn('The line search algorithm did not converge', LineSearchWarning)\n",
            "/usr/local/lib/python3.7/dist-packages/scipy/optimize/linesearch.py:478: LineSearchWarning: The line search algorithm did not converge\n",
            "  warn('The line search algorithm did not converge', LineSearchWarning)\n",
            "/usr/local/lib/python3.7/dist-packages/scipy/optimize/linesearch.py:327: LineSearchWarning: The line search algorithm did not converge\n",
            "  warn('The line search algorithm did not converge', LineSearchWarning)\n",
            "/usr/local/lib/python3.7/dist-packages/scipy/optimize/linesearch.py:478: LineSearchWarning: The line search algorithm did not converge\n",
            "  warn('The line search algorithm did not converge', LineSearchWarning)\n",
            "/usr/local/lib/python3.7/dist-packages/scipy/optimize/linesearch.py:327: LineSearchWarning: The line search algorithm did not converge\n",
            "  warn('The line search algorithm did not converge', LineSearchWarning)\n",
            "/usr/local/lib/python3.7/dist-packages/scipy/optimize/linesearch.py:478: LineSearchWarning: The line search algorithm did not converge\n",
            "  warn('The line search algorithm did not converge', LineSearchWarning)\n",
            "/usr/local/lib/python3.7/dist-packages/scipy/optimize/linesearch.py:327: LineSearchWarning: The line search algorithm did not converge\n",
            "  warn('The line search algorithm did not converge', LineSearchWarning)\n",
            "/usr/local/lib/python3.7/dist-packages/scipy/optimize/linesearch.py:478: LineSearchWarning: The line search algorithm did not converge\n",
            "  warn('The line search algorithm did not converge', LineSearchWarning)\n",
            "/usr/local/lib/python3.7/dist-packages/scipy/optimize/linesearch.py:327: LineSearchWarning: The line search algorithm did not converge\n",
            "  warn('The line search algorithm did not converge', LineSearchWarning)\n",
            "/usr/local/lib/python3.7/dist-packages/scipy/optimize/linesearch.py:478: LineSearchWarning: The line search algorithm did not converge\n",
            "  warn('The line search algorithm did not converge', LineSearchWarning)\n",
            "/usr/local/lib/python3.7/dist-packages/scipy/optimize/linesearch.py:327: LineSearchWarning: The line search algorithm did not converge\n",
            "  warn('The line search algorithm did not converge', LineSearchWarning)\n",
            "/usr/local/lib/python3.7/dist-packages/scipy/optimize/linesearch.py:478: LineSearchWarning: The line search algorithm did not converge\n",
            "  warn('The line search algorithm did not converge', LineSearchWarning)\n",
            "/usr/local/lib/python3.7/dist-packages/scipy/optimize/linesearch.py:327: LineSearchWarning: The line search algorithm did not converge\n",
            "  warn('The line search algorithm did not converge', LineSearchWarning)\n",
            "/usr/local/lib/python3.7/dist-packages/scipy/optimize/linesearch.py:478: LineSearchWarning: The line search algorithm did not converge\n",
            "  warn('The line search algorithm did not converge', LineSearchWarning)\n",
            "/usr/local/lib/python3.7/dist-packages/scipy/optimize/linesearch.py:327: LineSearchWarning: The line search algorithm did not converge\n",
            "  warn('The line search algorithm did not converge', LineSearchWarning)\n",
            "/usr/local/lib/python3.7/dist-packages/scipy/optimize/linesearch.py:478: LineSearchWarning: The line search algorithm did not converge\n",
            "  warn('The line search algorithm did not converge', LineSearchWarning)\n",
            "/usr/local/lib/python3.7/dist-packages/scipy/optimize/linesearch.py:327: LineSearchWarning: The line search algorithm did not converge\n",
            "  warn('The line search algorithm did not converge', LineSearchWarning)\n"
          ]
        },
        {
          "name": "stdout",
          "output_type": "stream",
          "text": [
            "\u001b[32mtotal time = 9.10960602760315\u001b[0m\n",
            "\u001b[34mNumber of trials = 50\u001b[0m\n"
          ]
        },
        {
          "name": "stderr",
          "output_type": "stream",
          "text": [
            "/usr/local/lib/python3.7/dist-packages/scipy/optimize/linesearch.py:478: LineSearchWarning: The line search algorithm did not converge\n",
            "  warn('The line search algorithm did not converge', LineSearchWarning)\n",
            "/usr/local/lib/python3.7/dist-packages/scipy/optimize/linesearch.py:327: LineSearchWarning: The line search algorithm did not converge\n",
            "  warn('The line search algorithm did not converge', LineSearchWarning)\n"
          ]
        },
        {
          "data": {
            "text/plain": [
              "(                        Classifier  Train Error  Test Error  Std Error\n",
              " 1         SVM, LinearSVC, C = 1000       0.0574      0.0566     0.0231\n",
              " 2  Gaussian SVM, C=100, gamma=auto       0.0470      0.0523     0.0222\n",
              " 3  Poly kernel SVM, C=10, deg=auto       0.0547      0.0677     0.0265\n",
              " 4                    Decision Tree       0.0069      0.1185     0.0354\n",
              " 5     RandomForestClassifier, n=50       0.0078      0.0655     0.0224\n",
              " 6                              KNN       0.0482      0.0514     0.0212\n",
              " 7              Logistic Regression       0.0573      0.0588     0.0225,\n",
              " array([0.05743243, 0.04702703, 0.05472973, 0.00689189, 0.00783784,\n",
              "        0.04824324, 0.0572973 ]),\n",
              " array([0.05661538, 0.05230769, 0.06769231, 0.11846154, 0.06553846,\n",
              "        0.05138462, 0.05876923]),\n",
              " array([0.02311586, 0.02218801, 0.02646869, 0.03538462, 0.02236015,\n",
              "        0.02123077, 0.02254568]))"
            ]
          },
          "execution_count": 26,
          "metadata": {},
          "output_type": "execute_result"
        }
      ],
      "source": [
        "classifs = binaryClassificationAverageMajority(data1_lan_long, data2_lan_long, \n",
        "                                        Q_size=1, epoch=50, num_trials_maj=1, \n",
        "                                        classifiers=clff, test_size=0.3)\n",
        "classifs.endpoint_classification()"
      ]
    },
    {
      "cell_type": "markdown",
      "source": [
        ""
      ],
      "metadata": {
        "id": "I0cz7UhC0vnv"
      }
    },
    {
      "cell_type": "markdown",
      "metadata": {
        "id": "ZVHufJfjSzEd"
      },
      "source": [
        "# Classification with perceptron-like algorithm with 20 landmarks (done)"
      ]
    },
    {
      "cell_type": "code",
      "execution_count": null,
      "metadata": {
        "colab": {
          "base_uri": "https://localhost:8080/",
          "height": 73,
          "resources": {
            "http://localhost:8080/nbextensions/google.colab/files.js": {
              "data": "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",
              "headers": [
                [
                  "content-type",
                  "application/javascript"
                ]
              ],
              "ok": true,
              "status": 200,
              "status_text": ""
            }
          }
        },
        "id": "uuy_ddp0SzEd",
        "outputId": "861aa8ba-681f-45be-cd32-68197df9d213"
      },
      "outputs": [
        {
          "data": {
            "text/html": [
              "\n",
              "     <input type=\"file\" id=\"files-e44ac7ee-d276-4556-89b5-2060634896b2\" name=\"files[]\" multiple disabled\n",
              "        style=\"border:none\" />\n",
              "     <output id=\"result-e44ac7ee-d276-4556-89b5-2060634896b2\">\n",
              "      Upload widget is only available when the cell has been executed in the\n",
              "      current browser session. Please rerun this cell to enable.\n",
              "      </output>\n",
              "      <script src=\"/nbextensions/google.colab/files.js\"></script> "
            ],
            "text/plain": [
              "<IPython.core.display.HTML object>"
            ]
          },
          "metadata": {},
          "output_type": "display_data"
        },
        {
          "name": "stdout",
          "output_type": "stream",
          "text": [
            "Saving Perceptron_Like_Algo_Class.py to Perceptron_Like_Algo_Class.py\n"
          ]
        }
      ],
      "source": [
        "# to import Perceptron_Like_Algo_Class from my computer\n",
        "from google.colab import files\n",
        "files.upload()\n",
        "\n",
        "import Perceptron_Like_Algo_Class\n",
        "from Perceptron_Like_Algo_Class import classification"
      ]
    },
    {
      "cell_type": "markdown",
      "metadata": {
        "id": "uAuH0ygoSzEe"
      },
      "source": [
        "## With average-majority (epoch=50, majority=11, init_num=3) done"
      ]
    },
    {
      "cell_type": "code",
      "execution_count": null,
      "metadata": {
        "colab": {
          "base_uri": "https://localhost:8080/"
        },
        "id": "V9bbn98lSzEf",
        "outputId": "ce8d003a-9f44-4e17-e86c-73124142bd01"
      },
      "outputs": [
        {
          "name": "stdout",
          "output_type": "stream",
          "text": [
            "\u001b[31mtotal time = 17819.59855055809\u001b[0m\n",
            "             Classifier  Train Error  Test Error  Std Error\n",
            "1  SVM, Linear SVC, C=1       0.0519      0.0511     0.0216\n",
            "\u001b[34mmu = 10.829036033207217\u001b[0m\n"
          ]
        }
      ],
      "source": [
        "classif = classification(data1_lan_long, data2_lan_long, Q_size=20, model='LSVM', \n",
        "                            C=1, gamma='auto', classifiers=[], epoch=50, maj_num=11, \n",
        "                            init_iter=3, std_coeff=1, test_size=0.3, n_neighbors=5, \n",
        "                            n_estimators=50)\n",
        "\n",
        "A = classif.classification_Q()\n",
        "print(A[0])\n",
        "print(colored(f\"mu = {A[1]}\", 'blue'))"
      ]
    },
    {
      "cell_type": "code",
      "execution_count": null,
      "metadata": {
        "colab": {
          "base_uri": "https://localhost:8080/"
        },
        "id": "W-26jHyfSzEf",
        "outputId": "eef78979-4fdc-40d7-a84e-4e0927911388"
      },
      "outputs": [
        {
          "name": "stdout",
          "output_type": "stream",
          "text": [
            "\u001b[31mtotal time = 16819.1734457016\u001b[0m\n",
            "              Classifier  Train Error  Test Error  Std Error\n",
            "1  GSVM, C=1, gamma=auto       0.0496      0.0575     0.0238\n",
            "\u001b[34mmu = 11.100540757435027\u001b[0m\n"
          ]
        }
      ],
      "source": [
        "classif = classification(data1_lan_long, data2_lan_long, Q_size=20, model='GSVM', \n",
        "                            C=1, gamma='auto', classifiers=[], epoch=50, maj_num=11, \n",
        "                            init_iter=3, std_coeff=1, test_size=0.3, n_neighbors=5, \n",
        "                            n_estimators=50)\n",
        "\n",
        "A = classif.classification_Q()\n",
        "print(A[0])\n",
        "print(colored(f\"mu = {A[1]}\", 'blue'))"
      ]
    },
    {
      "cell_type": "code",
      "execution_count": null,
      "metadata": {
        "colab": {
          "base_uri": "https://localhost:8080/"
        },
        "id": "OEoXlO30yq9x",
        "outputId": "5b888012-74b7-4a4f-83d9-42b84729b187"
      },
      "outputs": [
        {
          "name": "stderr",
          "output_type": "stream",
          "text": [
            "/usr/local/lib/python3.7/dist-packages/sklearn/svm/_base.py:231: ConvergenceWarning: Solver terminated early (max_iter=400000).  Consider pre-processing your data with StandardScaler or MinMaxScaler.\n",
            "  % self.max_iter, ConvergenceWarning)\n",
            "/usr/local/lib/python3.7/dist-packages/sklearn/svm/_base.py:231: ConvergenceWarning: Solver terminated early (max_iter=400000).  Consider pre-processing your data with StandardScaler or MinMaxScaler.\n",
            "  % self.max_iter, ConvergenceWarning)\n",
            "/usr/local/lib/python3.7/dist-packages/sklearn/svm/_base.py:231: ConvergenceWarning: Solver terminated early (max_iter=400000).  Consider pre-processing your data with StandardScaler or MinMaxScaler.\n",
            "  % self.max_iter, ConvergenceWarning)\n"
          ]
        },
        {
          "name": "stdout",
          "output_type": "stream",
          "text": [
            "\u001b[31mtotal time = 16930.102479457855\u001b[0m\n",
            "                        Classifier  Train Error  Test Error  Std Error\n",
            "1  Poly kernel SVM, C=10, deg=auto       0.0459      0.0655     0.0271\n",
            "\u001b[34mmu = 11.019539320896598\u001b[0m\n"
          ]
        }
      ],
      "source": [
        "classif = classification(data1_lan_long, data2_lan_long, Q_size=20, model='PSVM', \n",
        "                            C=10, gamma='auto', classifiers=[], epoch=50, maj_num=11, \n",
        "                            init_iter=3, std_coeff=1, test_size=0.3, n_neighbors=5, \n",
        "                            n_estimators=50)\n",
        "\n",
        "A = classif.classification_Q()\n",
        "print(A[0])\n",
        "print(colored(f\"mu = {A[1]}\", 'blue'))"
      ]
    },
    {
      "cell_type": "code",
      "execution_count": null,
      "metadata": {
        "colab": {
          "base_uri": "https://localhost:8080/"
        },
        "id": "zsBPQAYXSzEg",
        "outputId": "95473e46-218e-4f11-ca66-6f7222c0407c"
      },
      "outputs": [
        {
          "name": "stdout",
          "output_type": "stream",
          "text": [
            "\u001b[31mtotal time = 17056.11685538292\u001b[0m\n",
            "      Classifier  Train Error  Test Error  Std Error\n",
            "1  Decision Tree       0.0065      0.0735     0.0294\n",
            "\u001b[34mmu = 11.461509281945865\u001b[0m\n"
          ]
        }
      ],
      "source": [
        "classif = classification(data1_lan_long, data2_lan_long, Q_size=20, model='DT', \n",
        "                            C=10, gamma=10, classifiers=[], epoch=50, maj_num=11, \n",
        "                            init_iter=3, std_coeff=1, test_size=0.3, n_neighbors=5, \n",
        "                            n_estimators=50)\n",
        "\n",
        "A = classif.classification_Q()\n",
        "print(A[0])\n",
        "print(colored(f\"mu = {A[1]}\", 'blue'))"
      ]
    },
    {
      "cell_type": "code",
      "execution_count": null,
      "metadata": {
        "colab": {
          "base_uri": "https://localhost:8080/"
        },
        "id": "vBq9rFMAyzwQ",
        "outputId": "f10c8e83-0be2-422c-8417-5610b78fa08f"
      },
      "outputs": [
        {
          "name": "stdout",
          "output_type": "stream",
          "text": [
            "\u001b[31mtotal time = 19161.118537902832\u001b[0m\n",
            "                     Classifier  Train Error  Test Error  Std Error\n",
            "1  RandomForestClassifier, n=50       0.0073      0.0625     0.0254\n",
            "\u001b[34mmu = 11.290067833265738\u001b[0m\n"
          ]
        }
      ],
      "source": [
        "classif = classification(data1_lan_long, data2_lan_long, Q_size=20, model='RF', \n",
        "                            C=10, gamma=10, classifiers=[], epoch=50, maj_num=11, \n",
        "                            init_iter=3, std_coeff=1, test_size=0.3, n_neighbors=5, \n",
        "                            n_estimators=50)\n",
        "\n",
        "A = classif.classification_Q()\n",
        "print(A[0])\n",
        "print(colored(f\"mu = {A[1]}\", 'blue'))"
      ]
    },
    {
      "cell_type": "code",
      "execution_count": null,
      "metadata": {
        "colab": {
          "base_uri": "https://localhost:8080/"
        },
        "id": "8zFUowNsSzEf",
        "outputId": "3eb60aa3-8b23-4aff-d7c4-852a11fa5099"
      },
      "outputs": [
        {
          "name": "stdout",
          "output_type": "stream",
          "text": [
            "\u001b[31mtotal time = 18229.579961538315\u001b[0m\n",
            "  Classifier  Train Error  Test Error  Std Error\n",
            "1        KNN       0.0455      0.0566     0.0214\n",
            "\u001b[34mmu = 10.771215612990574\u001b[0m\n"
          ]
        }
      ],
      "source": [
        "classif = classification(data1_lan_long, data2_lan_long, Q_size=20, model='KNN', \n",
        "                            C=10, gamma=10, classifiers=[], epoch=50, maj_num=11, \n",
        "                            init_iter=3, std_coeff=1, test_size=0.3, n_neighbors=5, \n",
        "                            n_estimators=50)\n",
        "\n",
        "A = classif.classification_Q()\n",
        "print(A[0])\n",
        "print(colored(f\"mu = {A[1]}\", 'blue'))"
      ]
    },
    {
      "cell_type": "code",
      "execution_count": null,
      "metadata": {
        "colab": {
          "base_uri": "https://localhost:8080/"
        },
        "id": "XsC17N6TagQO",
        "outputId": "722cd28b-dc98-47f2-92c5-89cc08f37600"
      },
      "outputs": [
        {
          "name": "stdout",
          "output_type": "stream",
          "text": [
            "\u001b[31mtotal time = 17802.399354457855\u001b[0m\n",
            "            Classifier  Train Error  Test Error  Std Error\n",
            "1  Logistic Regression       0.0528      0.0492     0.0238\n",
            "\u001b[34mmu = 10.843727006737794\u001b[0m\n"
          ]
        }
      ],
      "source": [
        "classif = classification(data1_lan_long, data2_lan_long, Q_size=20, model='LR', \n",
        "                            C=10, gamma=10, classifiers=[], epoch=50, maj_num=11, \n",
        "                            init_iter=3, std_coeff=1, test_size=0.3, n_neighbors=5, \n",
        "                            n_estimators=50)\n",
        "\n",
        "A = classif.classification_Q()\n",
        "print(A[0])\n",
        "print(colored(f\"mu = {A[1]}\", 'blue'))"
      ]
    },
    {
      "cell_type": "markdown",
      "metadata": {
        "id": "gzJH_ZoqSzEg"
      },
      "source": [
        "## With average (epoch=50, majority=1, init_num=3) done"
      ]
    },
    {
      "cell_type": "code",
      "execution_count": null,
      "metadata": {
        "colab": {
          "base_uri": "https://localhost:8080/"
        },
        "id": "gLZE6co3j5IC",
        "outputId": "12f16834-83a3-4b8f-efc9-4609f6eb4275"
      },
      "outputs": [
        {
          "name": "stdout",
          "output_type": "stream",
          "text": [
            "\u001b[31mtotal time = 1217.5783383846283\u001b[0m\n",
            "             Classifier  Train Error  Test Error  Std Error\n",
            "1  SVM, Linear SVC, C=1       0.0546      0.0449     0.0259\n",
            "\u001b[34mmu = 10.56059898642431\u001b[0m\n"
          ]
        }
      ],
      "source": [
        "classif = classification(data1_lan_long, data2_lan_long, Q_size=20, model='LSVM', \n",
        "                            C=1, gamma=10, classifiers=[], epoch=50, maj_num=1, \n",
        "                            init_iter=3, std_coeff=1, test_size=0.3, n_neighbors=5, \n",
        "                            n_estimators=50)\n",
        "\n",
        "A = classif.classification_Q()\n",
        "print(A[0])\n",
        "print(colored(f\"mu = {A[1]}\", 'blue'))"
      ]
    },
    {
      "cell_type": "code",
      "execution_count": null,
      "metadata": {
        "colab": {
          "base_uri": "https://localhost:8080/"
        },
        "id": "snwMol3TSzEg",
        "outputId": "da04ce23-6046-4de1-ebfc-e60323e205a4"
      },
      "outputs": [
        {
          "name": "stdout",
          "output_type": "stream",
          "text": [
            "\u001b[31mtotal time = 1228.912299156189\u001b[0m\n",
            "              Classifier  Train Error  Test Error  Std Error\n",
            "1  GSVM, C=1, gamma=auto       0.0474      0.0625     0.0286\n",
            "\u001b[34mmu = 11.855664287484558\u001b[0m\n"
          ]
        }
      ],
      "source": [
        "classif = classification(data1_lan_long, data2_lan_long, Q_size=20, model='GSVM', \n",
        "                            C=1, gamma='auto', classifiers=[], epoch=50, maj_num=1, \n",
        "                            init_iter=3, std_coeff=1, test_size=0.3, n_neighbors=5, \n",
        "                            n_estimators=50)\n",
        "\n",
        "A = classif.classification_Q()\n",
        "print(A[0])\n",
        "print(colored(f\"mu = {A[1]}\", 'blue'))"
      ]
    },
    {
      "cell_type": "code",
      "execution_count": null,
      "metadata": {
        "colab": {
          "base_uri": "https://localhost:8080/"
        },
        "id": "O_QSHkANkCn0",
        "outputId": "9c5fef1c-e8e8-4e56-b8d9-abe6b7146c82"
      },
      "outputs": [
        {
          "name": "stderr",
          "output_type": "stream",
          "text": [
            "/usr/local/lib/python3.7/dist-packages/sklearn/svm/_base.py:231: ConvergenceWarning: Solver terminated early (max_iter=400000).  Consider pre-processing your data with StandardScaler or MinMaxScaler.\n",
            "  % self.max_iter, ConvergenceWarning)\n"
          ]
        },
        {
          "name": "stdout",
          "output_type": "stream",
          "text": [
            "\u001b[31mtotal time = 1249.848429441452\u001b[0m\n",
            "                        Classifier  Train Error  Test Error  Std Error\n",
            "1  Poly kernel SVM, C=10, deg=auto       0.0482      0.0683     0.0302\n",
            "\u001b[34mmu = 11.335939716367506\u001b[0m\n"
          ]
        }
      ],
      "source": [
        "classif = classification(data1_lan_long, data2_lan_long, Q_size=20, model='PSVM', \n",
        "                            C=10, gamma=10, classifiers=[], epoch=50, maj_num=1, \n",
        "                            init_iter=3, std_coeff=1, test_size=0.3, n_neighbors=5, \n",
        "                            n_estimators=50)\n",
        "\n",
        "A = classif.classification_Q()\n",
        "print(A[0])\n",
        "print(colored(f\"mu = {A[1]}\", 'blue'))"
      ]
    },
    {
      "cell_type": "code",
      "execution_count": null,
      "metadata": {
        "colab": {
          "base_uri": "https://localhost:8080/"
        },
        "id": "O0ggM5KxkClV",
        "outputId": "01910a92-6557-4590-9285-9ecd253e42f7"
      },
      "outputs": [
        {
          "name": "stdout",
          "output_type": "stream",
          "text": [
            "\u001b[31mtotal time = 1248.804116487503\u001b[0m\n",
            "      Classifier  Train Error  Test Error  Std Error\n",
            "1  Decision Tree       0.0065      0.0877     0.0289\n",
            "\u001b[34mmu = 11.106750868741585\u001b[0m\n"
          ]
        }
      ],
      "source": [
        "classif = classification(data1_lan_long, data2_lan_long, Q_size=20, model='DT', \n",
        "                            C=10, gamma=10, classifiers=[], epoch=50, maj_num=1, \n",
        "                            init_iter=3, std_coeff=1, test_size=0.3, n_neighbors=5, \n",
        "                            n_estimators=50)\n",
        "\n",
        "A = classif.classification_Q()\n",
        "print(A[0])\n",
        "print(colored(f\"mu = {A[1]}\", 'blue'))"
      ]
    },
    {
      "cell_type": "code",
      "execution_count": null,
      "metadata": {
        "colab": {
          "base_uri": "https://localhost:8080/"
        },
        "id": "qRUfBE7MSzEg",
        "outputId": "ac06e72f-3c28-4bdd-ed42-bb1e4777dff3"
      },
      "outputs": [
        {
          "name": "stdout",
          "output_type": "stream",
          "text": [
            "\u001b[31mtotal time = 1455.95987033844\u001b[0m\n",
            "                     Classifier  Train Error  Test Error  Std Error\n",
            "1  RandomForestClassifier, n=50       0.0076      0.0658     0.0263\n",
            "\u001b[34mmu = 11.041837641777562\u001b[0m\n"
          ]
        }
      ],
      "source": [
        "classif = classification(data1_lan_long, data2_lan_long, Q_size=20, model='RF', \n",
        "                            C=10, gamma=10, classifiers=[], epoch=50, maj_num=1, \n",
        "                            init_iter=3, std_coeff=1, test_size=0.3, n_neighbors=5, \n",
        "                            n_estimators=50)\n",
        "\n",
        "A = classif.classification_Q()\n",
        "print(A[0])\n",
        "print(colored(f\"mu = {A[1]}\", 'blue'))"
      ]
    },
    {
      "cell_type": "code",
      "execution_count": null,
      "metadata": {
        "colab": {
          "base_uri": "https://localhost:8080/"
        },
        "id": "9slTQwzIkJHt",
        "outputId": "b8e30f94-15ce-48db-d64e-7f01cc14af1d"
      },
      "outputs": [
        {
          "name": "stdout",
          "output_type": "stream",
          "text": [
            "\u001b[31mtotal time = 1258.9708297252655\u001b[0m\n",
            "  Classifier  Train Error  Test Error  Std Error\n",
            "1        KNN       0.0493      0.0483     0.0222\n",
            "\u001b[34mmu = 10.945398115152159\u001b[0m\n"
          ]
        }
      ],
      "source": [
        "classif = classification(data1_lan_long, data2_lan_long, Q_size=20, model='KNN', \n",
        "                            C=10, gamma=10, classifiers=[], epoch=50, maj_num=1, \n",
        "                            init_iter=3, std_coeff=1, test_size=0.3, n_neighbors=5, \n",
        "                            n_estimators=50)\n",
        "\n",
        "A = classif.classification_Q()\n",
        "print(A[0])\n",
        "print(colored(f\"mu = {A[1]}\", 'blue'))"
      ]
    },
    {
      "cell_type": "code",
      "execution_count": null,
      "metadata": {
        "colab": {
          "base_uri": "https://localhost:8080/"
        },
        "id": "wB2NbNE_SzEg",
        "outputId": "9c5a4eba-e14c-48b1-bc80-257f3fdf0736"
      },
      "outputs": [
        {
          "name": "stdout",
          "output_type": "stream",
          "text": [
            "\u001b[31mtotal time = 1255.801216840744\u001b[0m\n",
            "            Classifier  Train Error  Test Error  Std Error\n",
            "1  Logistic Regression       0.0527      0.0502      0.025\n",
            "\u001b[34mmu = 11.317247146046384\u001b[0m\n"
          ]
        }
      ],
      "source": [
        "classif = classification(data1_lan_long, data2_lan_long, Q_size=20, model='LR', \n",
        "                            C=10, gamma=10, classifiers=[], epoch=50, maj_num=1, \n",
        "                            init_iter=3, std_coeff=1, test_size=0.3, n_neighbors=5, \n",
        "                            n_estimators=50)\n",
        "\n",
        "A = classif.classification_Q()\n",
        "print(A[0])\n",
        "print(colored(f\"mu = {A[1]}\", 'blue'))"
      ]
    },
    {
      "cell_type": "markdown",
      "metadata": {
        "id": "lKFpdcUGVD0F"
      },
      "source": [
        "# KNN"
      ]
    },
    {
      "cell_type": "markdown",
      "metadata": {
        "id": "SP45WnNLgtsG"
      },
      "source": [
        "## KNN with other metrics than Continuous Frechet"
      ]
    },
    {
      "cell_type": "code",
      "execution_count": null,
      "metadata": {
        "id": "tRYedQ3FVeVp"
      },
      "outputs": [],
      "source": [
        "from scipy.spatial.distance import euclidean\n",
        "from fastdtw import fastdtw\n",
        "import traj_dist.distance as tdist\n",
        "import pickle\n",
        "import tslearn\n",
        "from tslearn.metrics import dtw as dtw_tslearn\n",
        "from sklearn.model_selection import train_test_split\n",
        "from sklearn.neighbors import KNeighborsClassifier\n",
        "from trjtrypy.distances import d_Q_pi\n",
        "from termcolor import colored"
      ]
    },
    {
      "cell_type": "code",
      "execution_count": null,
      "metadata": {
        "id": "VDU6c9s-VzZf",
        "scrolled": true
      },
      "outputs": [],
      "source": [
        "from google.colab import files\n",
        "files.upload()\n",
        "\n",
        "import KNN_Class_Colab\n",
        "from KNN_Class_Colab import KNN"
      ]
    },
    {
      "cell_type": "code",
      "execution_count": null,
      "metadata": {
        "colab": {
          "base_uri": "https://localhost:8080/"
        },
        "id": "FI9tzTrFVm2f",
        "outputId": "0ae20bcf-90ca-4cbf-ebc2-2797e27a9d28"
      },
      "outputs": [
        {
          "name": "stdout",
          "output_type": "stream",
          "text": [
            "i = 0\n",
            "\u001b[33mtime for discret_frechet: 3196.4622931480408\u001b[0m\n",
            "i = 1\n",
            "\u001b[33mtime for hausdorff: 958.7856068611145\u001b[0m\n",
            "i = 2\n",
            "\u001b[33mtime for dtw: 3537.7438344955444\u001b[0m\n",
            "i = 3\n",
            "\u001b[33mtime for sspd: 960.9529006481171\u001b[0m\n",
            "i = 4\n"
          ]
        },
        {
          "name": "stderr",
          "output_type": "stream",
          "text": [
            "/usr/local/lib/python3.7/dist-packages/traj_dist-1.1-py3.7-linux-x86_64.egg/traj_dist/distance.py:552: UserWarning: g parameter should be specified for metric erp. Default is \n",
            "  warnings.warn(\"g parameter should be specified for metric erp. Default is \")\n"
          ]
        },
        {
          "name": "stdout",
          "output_type": "stream",
          "text": [
            "\u001b[33mtime for erp: 9975.161024332047\u001b[0m\n",
            "i = 5\n",
            "\u001b[33mtime for edr: 3541.044348716736\u001b[0m\n",
            "i = 6\n"
          ]
        }
      ],
      "source": [
        "metrics = ['discret_frechet', 'hausdorff', 'dtw', 'sspd', 'erp', 'edr', 'lcss', \n",
        "           fastdtw, dtw_tslearn, 'd_Q_pi']\n",
        "\n",
        "Metrics = ['discret_frechet', 'hausdorff', 'dtw', 'sspd', 'erp', 'edr', 'lcss', \n",
        "           'fastdtw', 'dtw_tslearn', 'd_Q_pi']\n",
        "\n",
        "for i in range(6):\n",
        "    path = '/content/gdrive/My Drive/Research/Persons data/Calculated Distance Matrices/'+Metrics[i]+'.csv'\n",
        "    KNN_Classif = KNN(data1_lan_long, data2_lan_long, metric=metrics[i], \n",
        "                    gamma=None, eps_edr=1e-1, eps_lcss=1e-1, Q_size=10, Q=None, p=2, \n",
        "                    path=path, test_size=0.3, n_neighbors=5, num_trials=1, pair=None)\n",
        "    print(\"i =\", i)\n",
        "    start_time = time.time()\n",
        "    KNN_Classif.write_matrix_to_csv()\n",
        "    print(colored(f\"time for {Metrics[i]}: {time.time() - start_time}\", 'yellow'))"
      ]
    },
    {
      "cell_type": "code",
      "execution_count": null,
      "metadata": {
        "colab": {
          "base_uri": "https://localhost:8080/"
        },
        "id": "CTTmZP8gLI3X",
        "outputId": "f8856ab0-9e63-488b-b760-c6ecee6b9a49"
      },
      "outputs": [
        {
          "name": "stdout",
          "output_type": "stream",
          "text": [
            "i = 6\n",
            "\u001b[33mtime for lcss: 3461.2537848949432\u001b[0m\n",
            "i = 7\n",
            "\u001b[33mtime for fastdtw: 32.93586230278015\u001b[0m\n",
            "i = 8\n",
            "\u001b[33mtime for dtw_tslearn: 1273.059949874878\u001b[0m\n",
            "i = 9\n",
            "\u001b[33mtime for d_Q_pi: 175.426682472229\u001b[0m\n"
          ]
        }
      ],
      "source": [
        "metrics = ['discret_frechet', 'hausdorff', 'dtw', 'sspd', 'erp', 'edr', 'lcss', \n",
        "           fastdtw, dtw_tslearn, 'd_Q_pi']\n",
        "\n",
        "Metrics = ['discret_frechet', 'hausdorff', 'dtw', 'sspd', 'erp', 'edr', 'lcss', \n",
        "           'fastdtw', 'dtw_tslearn', 'd_Q_pi']\n",
        "\n",
        "for i in range(6, len(metrics)):\n",
        "    path = '/content/gdrive/My Drive/Research/Persons data/Calculated Distance Matrices/'+Metrics[i]+'.csv'\n",
        "    KNN_Classif = KNN(data1_lan_long, data2_lan_long, metric=metrics[i], \n",
        "                    gamma=None, eps_edr=1e-1, eps_lcss=1e-1, Q_size=10, Q=None, p=2, \n",
        "                    path=path, test_size=0.3, n_neighbors=5, num_trials=1, pair=None)\n",
        "    print(\"i =\", i)\n",
        "    start_time = time.time()\n",
        "    KNN_Classif.write_matrix_to_csv()\n",
        "    print(colored(f\"time for {Metrics[i]}: {time.time() - start_time}\", 'yellow'))"
      ]
    },
    {
      "cell_type": "code",
      "execution_count": null,
      "metadata": {
        "colab": {
          "base_uri": "https://localhost:8080/"
        },
        "id": "ZRwWVAZpFYmf",
        "outputId": "e4da1bc5-0aa1-4b90-80e6-204680234156"
      },
      "outputs": [
        {
          "name": "stdout",
          "output_type": "stream",
          "text": [
            "i = 9\n",
            "\u001b[33mtime for d_Q_pi: 221.01907324790955\u001b[0m\n"
          ]
        }
      ],
      "source": [
        "path = '/content/gdrive/My Drive/Research/Persons data/Calculated Distance Matrices/d_Q_pi.csv'\n",
        "KNN_Classif = KNN(data1_lan_long, data2_lan_long, metric='d_Q_pi', \n",
        "                gamma=None, eps_edr=1e-1, eps_lcss=1e-1, Q_size=20, Q=None, p=2, \n",
        "                path=path, test_size=0.3, n_neighbors=5, num_trials=1, pair=None)\n",
        "print(\"i =\", i)\n",
        "start_time = time.time()\n",
        "KNN_Classif.write_matrix_to_csv()\n",
        "print(colored(f\"time for d_Q_pi: {time.time() - start_time}\", 'yellow'))"
      ]
    },
    {
      "cell_type": "code",
      "execution_count": null,
      "metadata": {
        "colab": {
          "base_uri": "https://localhost:8080/"
        },
        "id": "PC17DFbDlVtS",
        "outputId": "7c7389cf-a913-40c4-c727-a291c0bfb72f"
      },
      "outputs": [
        {
          "name": "stdout",
          "output_type": "stream",
          "text": [
            "i = 0\n",
            "\u001b[34mnum_trials = 50\u001b[0m\n",
            "\u001b[32mtotal time = 1.6047544479370117\u001b[0m\n",
            "                          Classifier  Train Error    Mean  Median     Std\n",
            "1  KNN; discret_frechet; pair [0, 1]       0.0477  0.0554  0.0615  0.0226\n",
            "\u001b[33mtime for KNN with discret_frechet: 1.6121\u001b[0m\n",
            "\u001b[31m=========================================================================\u001b[0m\n",
            "i = 1\n",
            "\u001b[34mnum_trials = 50\u001b[0m\n",
            "\u001b[32mtotal time = 1.5579407215118408\u001b[0m\n",
            "                    Classifier  Train Error    Mean  Median     Std\n",
            "1  KNN; hausdorff; pair [0, 1]       0.0435  0.0582  0.0615  0.0252\n",
            "\u001b[33mtime for KNN with hausdorff: 1.5666\u001b[0m\n",
            "\u001b[31m=========================================================================\u001b[0m\n",
            "i = 2\n",
            "\u001b[34mnum_trials = 50\u001b[0m\n",
            "\u001b[32mtotal time = 1.6056263446807861\u001b[0m\n",
            "              Classifier  Train Error    Mean  Median    Std\n",
            "1  KNN; dtw; pair [0, 1]       0.0435  0.0551  0.0538  0.028\n",
            "\u001b[33mtime for KNN with dtw: 1.6123\u001b[0m\n",
            "\u001b[31m=========================================================================\u001b[0m\n",
            "i = 3\n",
            "\u001b[34mnum_trials = 50\u001b[0m\n",
            "\u001b[32mtotal time = 1.5746467113494873\u001b[0m\n",
            "               Classifier  Train Error    Mean  Median     Std\n",
            "1  KNN; sspd; pair [0, 1]       0.0496  0.0646  0.0615  0.0218\n",
            "\u001b[33mtime for KNN with sspd: 1.5812\u001b[0m\n",
            "\u001b[31m=========================================================================\u001b[0m\n",
            "i = 4\n",
            "\u001b[34mnum_trials = 50\u001b[0m\n",
            "\u001b[32mtotal time = 1.5988833904266357\u001b[0m\n",
            "              Classifier  Train Error    Mean  Median     Std\n",
            "1  KNN; erp; pair [0, 1]       0.1062  0.1252  0.1231  0.0345\n",
            "\u001b[33mtime for KNN with erp: 1.6067\u001b[0m\n",
            "\u001b[31m=========================================================================\u001b[0m\n",
            "i = 5\n",
            "\u001b[34mnum_trials = 50\u001b[0m\n",
            "\u001b[32mtotal time = 1.5794012546539307\u001b[0m\n",
            "              Classifier  Train Error    Mean  Median     Std\n",
            "1  KNN; edr; pair [0, 1]       0.4186  0.6726  0.7231  0.1287\n",
            "\u001b[33mtime for KNN with edr: 1.5872\u001b[0m\n",
            "\u001b[31m=========================================================================\u001b[0m\n",
            "i = 6\n",
            "\u001b[34mnum_trials = 50\u001b[0m\n",
            "\u001b[32mtotal time = 1.600121259689331\u001b[0m\n",
            "               Classifier  Train Error    Mean  Median     Std\n",
            "1  KNN; lcss; pair [0, 1]       0.0534  0.0748  0.0769  0.0277\n",
            "\u001b[33mtime for KNN with lcss: 1.6073\u001b[0m\n",
            "\u001b[31m=========================================================================\u001b[0m\n",
            "i = 7\n",
            "\u001b[34mnum_trials = 50\u001b[0m\n",
            "\u001b[32mtotal time = 1.5972371101379395\u001b[0m\n",
            "                                      Classifier  Train Error  ...  Median     Std\n",
            "1  KNN; <built-in function fastdtw>; pair [0, 1]       0.0445  ...  0.0462  0.0244\n",
            "\n",
            "[1 rows x 5 columns]\n",
            "\u001b[33mtime for KNN with fastdtw: 1.6049\u001b[0m\n",
            "\u001b[31m=========================================================================\u001b[0m\n",
            "i = 8\n",
            "\u001b[34mnum_trials = 50\u001b[0m\n",
            "\u001b[32mtotal time = 1.5498433113098145\u001b[0m\n",
            "                                          Classifier  ...     Std\n",
            "1  KNN; <function dtw at 0x7f8dc9e86560>; pair [0...  ...  0.0248\n",
            "\n",
            "[1 rows x 5 columns]\n",
            "\u001b[33mtime for KNN with dtw_tslearn: 1.5592\u001b[0m\n",
            "\u001b[31m=========================================================================\u001b[0m\n",
            "i = 9\n",
            "\u001b[34mnum_trials = 50\u001b[0m\n",
            "\u001b[32mtotal time = 1.6451549530029297\u001b[0m\n",
            "                 Classifier  Train Error    Mean  Median     Std\n",
            "1  KNN; d_Q_pi; pair [0, 1]       0.0449  0.0566  0.0615  0.0221\n",
            "\u001b[33mtime for KNN with d_Q_pi: 1.6519\u001b[0m\n",
            "\u001b[31m=========================================================================\u001b[0m\n"
          ]
        }
      ],
      "source": [
        "metrics = ['discret_frechet', 'hausdorff', 'dtw', 'sspd', 'erp', 'edr', 'lcss', \n",
        "           fastdtw, dtw_tslearn, 'd_Q_pi']\n",
        "\n",
        "Metrics = ['discret_frechet', 'hausdorff', 'dtw', 'sspd', 'erp', 'edr', 'lcss', \n",
        "           'fastdtw', 'dtw_tslearn', 'd_Q_pi']\n",
        "\n",
        "for i in range(len(metrics)):\n",
        "    path = '/content/gdrive/My Drive/Research/Persons data/Calculated Distance Matrices/'+Metrics[i]+'.csv'\n",
        "    KNN_Classif = KNN(data1_lan_long, data2_lan_long, metric=metrics[i], \n",
        "                    gamma=None, eps_edr=1e-1, eps_lcss=1e-1, Q_size=10, Q=None, p=2, \n",
        "                    path=path, test_size=0.3, n_neighbors=5, num_trials=50, pair=[0,1])\n",
        "    print(\"i =\", i)\n",
        "    start_time = time.time()\n",
        "    print(KNN_Classif.KNN_average_error()[0])\n",
        "    print(colored(f\"time for KNN with {Metrics[i]}: {np.round(time.time() - start_time, 4)}\", 'yellow'))\n",
        "    print(colored(f\"=========================================================================\", 'red'))"
      ]
    },
    {
      "cell_type": "code",
      "execution_count": null,
      "metadata": {
        "colab": {
          "base_uri": "https://localhost:8080/",
          "height": 130
        },
        "id": "2K29l6kKj_cS",
        "outputId": "ff374cce-994f-4a1f-e71d-ec782cd77346"
      },
      "outputs": [
        {
          "name": "stdout",
          "output_type": "stream",
          "text": [
            "\u001b[34mnum_trials = 50\u001b[0m\n",
            "\u001b[32mtotal time = 5.06274676322937\u001b[0m\n",
            "\u001b[33mtime for KNN with fastdtw: 5.0637\u001b[0m\n"
          ]
        },
        {
          "data": {
            "text/html": [
              "<div>\n",
              "<style scoped>\n",
              "    .dataframe tbody tr th:only-of-type {\n",
              "        vertical-align: middle;\n",
              "    }\n",
              "\n",
              "    .dataframe tbody tr th {\n",
              "        vertical-align: top;\n",
              "    }\n",
              "\n",
              "    .dataframe thead th {\n",
              "        text-align: right;\n",
              "    }\n",
              "</style>\n",
              "<table border=\"1\" class=\"dataframe\">\n",
              "  <thead>\n",
              "    <tr style=\"text-align: right;\">\n",
              "      <th></th>\n",
              "      <th>Classifier</th>\n",
              "      <th>Train Error</th>\n",
              "      <th>Mean</th>\n",
              "      <th>Median</th>\n",
              "      <th>Std</th>\n",
              "    </tr>\n",
              "  </thead>\n",
              "  <tbody>\n",
              "    <tr>\n",
              "      <th>1</th>\n",
              "      <td>KNN; &lt;built-in function fastdtw&gt;; pair [0, 1]</td>\n",
              "      <td>0.0468</td>\n",
              "      <td>0.0538</td>\n",
              "      <td>0.0462</td>\n",
              "      <td>0.0231</td>\n",
              "    </tr>\n",
              "  </tbody>\n",
              "</table>\n",
              "</div>"
            ],
            "text/plain": [
              "                                      Classifier  Train Error  ...  Median     Std\n",
              "1  KNN; <built-in function fastdtw>; pair [0, 1]       0.0468  ...  0.0462  0.0231\n",
              "\n",
              "[1 rows x 5 columns]"
            ]
          },
          "execution_count": 21,
          "metadata": {},
          "output_type": "execute_result"
        }
      ],
      "source": [
        "path = '/content/gdrive/My Drive/Research/Persons data/Calculated Distance Matrices/fastdtw.csv'\n",
        "KNN_Classif = KNN(data1_lan_long, data2_lan_long, metric=fastdtw, \n",
        "                gamma=None, eps_edr=1e-1, eps_lcss=1e-1, Q_size=20, Q=None, p=2, \n",
        "                path=path, test_size=0.3, n_neighbors=5, num_trials=50, pair=[0,1])\n",
        "start_time = time.time()\n",
        "A = KNN_Classif.KNN_average_error()[0]\n",
        "print(colored(f\"time for KNN with {'fastdtw'}: {np.round(time.time() - start_time, 4)}\", 'yellow'))\n",
        "A"
      ]
    },
    {
      "cell_type": "code",
      "execution_count": null,
      "metadata": {
        "colab": {
          "base_uri": "https://localhost:8080/",
          "height": 130
        },
        "id": "lWkRCz_jFKWH",
        "outputId": "33e2794c-9ff9-4a64-edbe-9d2c08a18c16"
      },
      "outputs": [
        {
          "name": "stdout",
          "output_type": "stream",
          "text": [
            "\u001b[34mnum_trials = 50\u001b[0m\n",
            "\u001b[32mtotal time = 1.983898639678955\u001b[0m\n",
            "\u001b[33mtime for KNN with dtw_tslearn: 1.9855\u001b[0m\n"
          ]
        },
        {
          "data": {
            "text/html": [
              "<div>\n",
              "<style scoped>\n",
              "    .dataframe tbody tr th:only-of-type {\n",
              "        vertical-align: middle;\n",
              "    }\n",
              "\n",
              "    .dataframe tbody tr th {\n",
              "        vertical-align: top;\n",
              "    }\n",
              "\n",
              "    .dataframe thead th {\n",
              "        text-align: right;\n",
              "    }\n",
              "</style>\n",
              "<table border=\"1\" class=\"dataframe\">\n",
              "  <thead>\n",
              "    <tr style=\"text-align: right;\">\n",
              "      <th></th>\n",
              "      <th>Classifier</th>\n",
              "      <th>Train Error</th>\n",
              "      <th>Mean</th>\n",
              "      <th>Median</th>\n",
              "      <th>Std</th>\n",
              "    </tr>\n",
              "  </thead>\n",
              "  <tbody>\n",
              "    <tr>\n",
              "      <th>1</th>\n",
              "      <td>KNN; &lt;function dtw at 0x7f6833cb2440&gt;; pair [0...</td>\n",
              "      <td>0.0442</td>\n",
              "      <td>0.0526</td>\n",
              "      <td>0.0615</td>\n",
              "      <td>0.0213</td>\n",
              "    </tr>\n",
              "  </tbody>\n",
              "</table>\n",
              "</div>"
            ],
            "text/plain": [
              "                                          Classifier  ...     Std\n",
              "1  KNN; <function dtw at 0x7f6833cb2440>; pair [0...  ...  0.0213\n",
              "\n",
              "[1 rows x 5 columns]"
            ]
          },
          "execution_count": 24,
          "metadata": {},
          "output_type": "execute_result"
        }
      ],
      "source": [
        "path = '/content/gdrive/My Drive/Research/Persons data/Calculated Distance Matrices/fastdtw.csv'\n",
        "KNN_Classif = KNN(data1_lan_long, data2_lan_long, metric=dtw_tslearn, \n",
        "                gamma=None, eps_edr=1e-1, eps_lcss=1e-1, Q_size=20, Q=None, p=2, \n",
        "                path=path, test_size=0.3, n_neighbors=5, num_trials=50, pair=[0,1])\n",
        "start_time = time.time()\n",
        "A = KNN_Classif.KNN_average_error()[0]\n",
        "print(colored(f\"time for KNN with {'dtw_tslearn'}: {np.round(time.time() - start_time, 4)}\", 'yellow'))\n",
        "A"
      ]
    },
    {
      "cell_type": "markdown",
      "metadata": {
        "id": "O-wPKtP8wf-F"
      },
      "source": [
        "# KNN with LSH"
      ]
    },
    {
      "cell_type": "code",
      "execution_count": null,
      "metadata": {
        "id": "5_bXXhx_zbKH"
      },
      "outputs": [],
      "source": [
        "pip install trjtrypy"
      ]
    },
    {
      "cell_type": "code",
      "execution_count": null,
      "metadata": {
        "colab": {
          "base_uri": "https://localhost:8080/",
          "height": 73,
          "resources": {
            "http://localhost:8080/nbextensions/google.colab/files.js": {
              "data": "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",
              "headers": [
                [
                  "content-type",
                  "application/javascript"
                ]
              ],
              "ok": true,
              "status": 200,
              "status_text": ""
            }
          }
        },
        "id": "dDQCjAWbwN4E",
        "outputId": "de9f2021-a4da-486e-cfc0-f1ff94662b73"
      },
      "outputs": [
        {
          "data": {
            "text/html": [
              "\n",
              "     <input type=\"file\" id=\"files-82942ac3-5bc0-4da2-83aa-b84088258d34\" name=\"files[]\" multiple disabled\n",
              "        style=\"border:none\" />\n",
              "     <output id=\"result-82942ac3-5bc0-4da2-83aa-b84088258d34\">\n",
              "      Upload widget is only available when the cell has been executed in the\n",
              "      current browser session. Please rerun this cell to enable.\n",
              "      </output>\n",
              "      <script src=\"/nbextensions/google.colab/files.js\"></script> "
            ],
            "text/plain": [
              "<IPython.core.display.HTML object>"
            ]
          },
          "metadata": {},
          "output_type": "display_data"
        },
        {
          "name": "stdout",
          "output_type": "stream",
          "text": [
            "Saving KNN_with_LSH_class.py to KNN_with_LSH_class.py\n"
          ]
        }
      ],
      "source": [
        "from google.colab import files\n",
        "files.upload()\n",
        "\n",
        "#import KNN_with_LSH_class\n",
        "from KNN_with_LSH_class import KNN_with_LSH"
      ]
    },
    {
      "cell_type": "code",
      "execution_count": null,
      "metadata": {
        "colab": {
          "base_uri": "https://localhost:8080/",
          "height": 114
        },
        "id": "c6cV6qrC4pCg",
        "outputId": "f02477d2-92a5-4314-f08f-00f731acbb56"
      },
      "outputs": [
        {
          "name": "stdout",
          "output_type": "stream",
          "text": [
            "\u001b[34mnum_trials = 50\u001b[0m\n",
            "\u001b[32mtotal time = 50.40667939186096\u001b[0m\n"
          ]
        },
        {
          "data": {
            "text/html": [
              "<div>\n",
              "<style scoped>\n",
              "    .dataframe tbody tr th:only-of-type {\n",
              "        vertical-align: middle;\n",
              "    }\n",
              "\n",
              "    .dataframe tbody tr th {\n",
              "        vertical-align: top;\n",
              "    }\n",
              "\n",
              "    .dataframe thead th {\n",
              "        text-align: right;\n",
              "    }\n",
              "</style>\n",
              "<table border=\"1\" class=\"dataframe\">\n",
              "  <thead>\n",
              "    <tr style=\"text-align: right;\">\n",
              "      <th></th>\n",
              "      <th>Classifier</th>\n",
              "      <th>Train Error</th>\n",
              "      <th>Test Error</th>\n",
              "      <th>std</th>\n",
              "    </tr>\n",
              "  </thead>\n",
              "  <tbody>\n",
              "    <tr>\n",
              "      <th>1</th>\n",
              "      <td>KNN with LSH</td>\n",
              "      <td>0.0539</td>\n",
              "      <td>0.0569</td>\n",
              "      <td>0.0227</td>\n",
              "    </tr>\n",
              "  </tbody>\n",
              "</table>\n",
              "</div>"
            ],
            "text/plain": [
              "     Classifier  Train Error  Test Error     std\n",
              "1  KNN with LSH       0.0539      0.0569  0.0227"
            ]
          },
          "execution_count": 20,
          "metadata": {},
          "output_type": "execute_result"
        }
      ],
      "source": [
        "KNN_with_LSH_class = KNN_with_LSH(data1_lan_long, data2_lan_long, \n",
        "                                  number_circles=20, num_trials=50)\n",
        "KNN_with_LSH_class.KNN_LSH_average_error()[0]"
      ]
    },
    {
      "cell_type": "markdown",
      "metadata": {
        "id": "51P_22Ifg0IZ"
      },
      "source": [
        "## KNN with Continuous Frechet (Didn't work: even one distance couldn't be calculated)"
      ]
    },
    {
      "cell_type": "code",
      "execution_count": null,
      "metadata": {
        "colab": {
          "base_uri": "https://localhost:8080/"
        },
        "id": "iebqVRiRhH07",
        "outputId": "35fe63b4-b15f-4a8c-9255-eb661f5c9da6"
      },
      "outputs": [
        {
          "name": "stdout",
          "output_type": "stream",
          "text": [
            "\u001b[33mIt's correct. Go ahead.\u001b[0m\n"
          ]
        }
      ],
      "source": [
        "# Check to see if every trajectory is in its right place\n",
        "\n",
        "a = sum(np.array([len(data1_lan_long[i]) for i in range(len(data1_lan_long))]) == \\\n",
        "np.array([1948, 3864, 2398, 4053, 3965, 3383, 2594, 2146, 2475, 2431, 2506,\n",
        "       3307, 2573,  424,  957, 1331,  323, 1178, 3424, 2464,  188,  310,\n",
        "        229,  263, 2083, 1000,  472,  293,  139,  895, 3807,  359, 1219,\n",
        "        927, 1077, 1908, 2663, 1226, 2325, 2374, 1932, 2259,  120,   92,\n",
        "        923, 1227, 3121, 1057, 2065, 4414, 1160,  294, 1035, 2616, 2672,\n",
        "        203,  284,  838,  846, 3417, 1729,  266,  427,  675,  416, 2098,\n",
        "       2683, 2290, 3150, 2234, 3013, 1949, 2098, 2673,  427, 2117, 3197,\n",
        "       2505, 2781, 2870, 1924, 1942, 1179, 1822, 1925,  844,  144,   70,\n",
        "       1459, 1156, 1902, 1471, 1206, 1909, 1097,  984, 2045, 3239, 2419,\n",
        "       3128, 2006, 1357, 1656,  431, 2527, 2181, 1994, 1384, 1957, 2206,\n",
        "       2065, 1372, 1009, 1010, 2576, 2422, 5493, 2486, 2505,  373, 2609,\n",
        "        447,  385, 1899]))\n",
        "\n",
        "b = sum(np.array([len(data2_lan_long[i]) for i in range(len(data2_lan_long))]) == \\\n",
        "np.array([ 219,  376,  440,  214,  334,  207,  216,  186,  153,  481,  165,\n",
        "        483,  357,  164,  258,  339, 1465,  188,  310,  610,  263,  634,\n",
        "        496,  409,  188,  192,  275,  213,  276,  179,  225,  285,  139,\n",
        "        388,   92,  315,  395,  339,  752,  257,  248,  295,  382,  645,\n",
        "        145,  248,  371,  446,  254,  502, 2686,  260,  281,  465,  381,\n",
        "        349,  394,  278,   95,  255,  388,   72,  293,  644,  468,  605,\n",
        "        263,  131,  299,  179,  286,  458,  631,  143,  515,  180,  276,\n",
        "        447,  483,   93,  476,  349,  260,  513,  290,  205,  290,  317,\n",
        "        473]))\n",
        "\n",
        "if (a == 124 and b == 89):\n",
        "    print(colored(\"It's correct. Go ahead.\", 'yellow'))"
      ]
    },
    {
      "cell_type": "code",
      "execution_count": null,
      "metadata": {
        "id": "w10uB_C2z7vG"
      },
      "outputs": [],
      "source": [
        "# data = np.concatenate((data1, data2), 0)\n",
        "def calculate_dists_line_by_line_frechet(data, start_idx, end_idx): \n",
        "    n = len(data)\n",
        "    for i in range(start_idx, end_idx):\n",
        "        start_time = time.time()\n",
        "        def f(traj):\n",
        "            return tdist.frechet(data[i], traj)\n",
        "        A = list(map(f, data[i+1:]))\n",
        "        np.savetxt('/content/gdrive/My Drive/traj-dist/Calculated Distance Matrices (Persons)/frechet lines/'+str(i)+'.csv', \n",
        "                   A, delimiter=',') \n",
        "        total_time = time.time() - start_time\n",
        "        print(f\"time for step {i}: {total_time}\")\n",
        "    return total_time"
      ]
    },
    {
      "cell_type": "code",
      "execution_count": null,
      "metadata": {
        "id": "-uy7CO6Xi3cb"
      },
      "outputs": [],
      "source": [
        "# Colab crashed\n",
        "data = np.concatenate((data1_lan_long, data2_lan_long), 0)\n",
        "calculate_dists_line_by_line_frechet(data, start_idx=0, end_idx=10) "
      ]
    },
    {
      "cell_type": "code",
      "execution_count": null,
      "metadata": {
        "id": "qt8ef4FJla6n"
      },
      "outputs": [],
      "source": [
        "# Colab crashed\n",
        "data = np.concatenate((data1_lan_long, data2_lan_long), 0)\n",
        "j = 1\n",
        "A = []\n",
        "for i in range(j+1, len(data)):\n",
        "    a = tdist.frechet(data[j], data[i])\n",
        "    A.append(a)\n",
        "    print('i, a =', i, a)\n",
        "    time.sleep(2)\n",
        "\n",
        "np.savetxt('/content/gdrive/My Drive/traj-dist/Calculated Distance Matrices (Persons)/frechet lines/'+str(j)+'.csv', \n",
        "           A, delimiter=',')"
      ]
    },
    {
      "cell_type": "code",
      "execution_count": null,
      "metadata": {
        "id": "HonUpojgrd7c"
      },
      "outputs": [],
      "source": [
        "# Colab crashed\n",
        "tdist.frechet(data1_lan_long[0], data1_lan_long[1])"
      ]
    },
    {
      "cell_type": "markdown",
      "metadata": {
        "id": "PEr8wwwnJc_u"
      },
      "source": [
        "# $v_{Q, length}$, $v_{Q, length}^{\\varsigma}$ (done)"
      ]
    },
    {
      "cell_type": "markdown",
      "metadata": {
        "id": "cOW8uYcZ4ytp"
      },
      "source": [
        "## Functions"
      ]
    },
    {
      "cell_type": "code",
      "execution_count": null,
      "metadata": {
        "id": "ZPEk5ejweIxo"
      },
      "outputs": [],
      "source": [
        "def length(x):\n",
        "    p1 = x[:,:2][:-1]\n",
        "    p2 = x[:,:2][1:]\n",
        "    L = np.sqrt(((p2-p1)*(p2-p1)).sum(axis =1))\n",
        "    Length = [sum(L)/len(L)]\n",
        "    return Length"
      ]
    },
    {
      "cell_type": "code",
      "execution_count": null,
      "metadata": {
        "id": "CR3ucp8mfi7P"
      },
      "outputs": [],
      "source": [
        "def train_test(data1, data2, test_size):\n",
        "    \n",
        "    n_1 = len(data1)\n",
        "    n_2 = len(data2) \n",
        "    train_idx_1, test_idx_1, train_label_1, test_label_1 = \\\n",
        "            train_test_split(np.arange(n_1), np.ones(n_1), test_size=test_size) \n",
        "    train_idx_2, test_idx_2, train_label_2, test_label_2 = \\\n",
        "    train_test_split(np.arange(n_2), -np.ones(n_2), test_size=test_size)\n",
        "    \n",
        "    return train_idx_1, test_idx_1, train_label_1, test_label_1, \\\n",
        "            train_idx_2, test_idx_2, train_label_2, test_label_2"
      ]
    },
    {
      "cell_type": "code",
      "execution_count": null,
      "metadata": {
        "id": "tHK_IjbkKAql"
      },
      "outputs": [],
      "source": [
        "def get_features_Q(train_1, train_2, version='unsigned', sigma=1, Q_size=20):\n",
        "\n",
        "    train = np.concatenate((train_1, train_2), 0)\n",
        "    n = len(train)\n",
        "    Mean = np.mean([np.mean(train[i], 0) for i in range(n)], 0)\n",
        "    Std = np.std([np.std(train[i], 0) for i in range(len(train))], 0)\n",
        "    Q = np.ones((Q_size, 2))\n",
        "    Q[:,0] = np.random.normal(Mean[0], 4 * Std[0], Q_size)\n",
        "    Q[:,1] = np.random.normal(Mean[1], 4 * Std[1], Q_size)\n",
        "    A = np.array(curve2vec(Q, train, version=version, sigma=sigma))\n",
        "    length_ = np.array([length(train[i]) for i in range(n)]).reshape(-1,1)\n",
        "    A = np.concatenate((A, length_),1)\n",
        "\n",
        "    return A, Q"
      ]
    },
    {
      "cell_type": "code",
      "execution_count": null,
      "metadata": {
        "id": "OfxiwyUbTQup"
      },
      "outputs": [],
      "source": [
        "def get_test_data_Q(test_1, test_2, Q, version='unsigned', sigma=1):\n",
        "\n",
        "    test = np.concatenate((test_1, test_2), 0)\n",
        "    n = len(test)\n",
        "    A = np.array(curve2vec(Q, test, version=version, sigma=sigma))\n",
        "    length_ = np.array([length(test[i]) for i in range(n)]).reshape(-1,1)\n",
        "    A = np.concatenate((A, length_),1)\n",
        "\n",
        "    return A"
      ]
    },
    {
      "cell_type": "code",
      "execution_count": null,
      "metadata": {
        "id": "qQCMm0HIJMos"
      },
      "outputs": [],
      "source": [
        "def classification_Q_physics(data1, data2, version='unsigned', sigma=1, \n",
        "                             Q_size=20, num_trials=10, classifiers=clff):\n",
        "\n",
        "    Start_time = time.time()\n",
        "    models = [item[0] for item in classifiers]\n",
        "    keys = [item[1] for item in classifiers]\n",
        "    r = len(classifiers)\n",
        "    train_error_mean = np.zeros(r)\n",
        "    test_error_mean = np.zeros(r)\n",
        "    test_error_std = np.zeros(r)\n",
        "    train_error_list = np.zeros((r, num_trials)) \n",
        "    test_error_list = np.zeros((r, num_trials))\n",
        "\n",
        "    for s in range(num_trials):\n",
        "\n",
        "        train_idx_1, test_idx_1, train_labels_1, test_labels_1, \\\n",
        "            train_idx_2, test_idx_2, train_labels_2, test_labels_2 \\\n",
        "            = train_test(data1, data2, test_size=0.3)\n",
        "\n",
        "        train1 = data1[train_idx_1]\n",
        "        train2 = data2[train_idx_2]\n",
        "        test1 = data1[test_idx_1]\n",
        "        test2 = data2[test_idx_2]\n",
        "\n",
        "        train, Q = get_features_Q(train1, train2, version, sigma, Q_size)\n",
        "        #train = (train-np.mean(train,0))/np.std(train,0)\n",
        "        train_labels = np.concatenate((train_labels_1, train_labels_2), 0)\n",
        "\n",
        "        I = np.arange(len(train))\n",
        "        np.random.shuffle(I)\n",
        "        train = train[I]\n",
        "        train_labels = train_labels[I]\n",
        "\n",
        "        J = np.arange(len(test1)+len(test2))\n",
        "        np.random.shuffle(J)\n",
        "\n",
        "        test = get_test_data_Q(test1, test2, Q, version=version, sigma=sigma)[J]\n",
        "        test_labels = np.concatenate((test_labels_1, test_labels_2), 0)[J]\n",
        "        #test = (test-np.mean(test,0))/np.std(test,0)\n",
        "\n",
        "        for k in range(r):            \n",
        "            model = models[k]\n",
        "\n",
        "            #Train the model using the training sets\n",
        "            model.fit(train, train_labels)\n",
        "\n",
        "            #Predict train labels\n",
        "            train_pred = model.predict(train)\n",
        "            err = sum(train_labels != train_pred)/len(train_labels)\n",
        "            train_error_list[k][s] = err\n",
        "            \n",
        "            #Predict test labels\n",
        "            test_pred = model.predict(test)\n",
        "            er = sum(test_labels != test_pred)/len(test_labels)\n",
        "            test_error_list[k][s] = er\n",
        "            \n",
        "    for k in range(r):\n",
        "        train_error_mean[k] = np.mean(train_error_list[k])\n",
        "        test_error_mean[k] = np.mean(test_error_list[k])\n",
        "        test_error_std[k] = np.std(test_error_list[k])\n",
        "    \n",
        "    Dic = {}\n",
        "\n",
        "    for k in range(len(keys)): \n",
        "        Dic[k] = [keys[k], np.round(train_error_mean[k], decimals = 4), \n",
        "                    np.round(test_error_mean[k], decimals = 4),\n",
        "                    np.round(test_error_std[k], decimals = 4)]\n",
        "\n",
        "    pdf = pd.DataFrame.from_dict(Dic, orient='index', columns=['Classifier','Train Error', \n",
        "                                                               'Test Error', 'Std Error'])\n",
        "    print(colored(f\"Total time: {time.time() - Start_time}\", 'red'))\n",
        "    return pdf, train_error_mean, test_error_mean, test_error_std"
      ]
    },
    {
      "cell_type": "markdown",
      "metadata": {
        "id": "zEL5_sbQxbHa"
      },
      "source": [
        "## $v_{Q, length}$"
      ]
    },
    {
      "cell_type": "code",
      "execution_count": null,
      "metadata": {
        "colab": {
          "base_uri": "https://localhost:8080/",
          "height": 470
        },
        "id": "roIosFyP8Uj1",
        "outputId": "d0dded0d-2ec8-4907-98e8-d3d4677072ac"
      },
      "outputs": [
        {
          "name": "stderr",
          "output_type": "stream",
          "text": [
            "/usr/local/lib/python3.7/dist-packages/sklearn/svm/_base.py:947: ConvergenceWarning: Liblinear failed to converge, increase the number of iterations.\n",
            "  \"the number of iterations.\", ConvergenceWarning)\n",
            "/usr/local/lib/python3.7/dist-packages/sklearn/svm/_base.py:947: ConvergenceWarning: Liblinear failed to converge, increase the number of iterations.\n",
            "  \"the number of iterations.\", ConvergenceWarning)\n",
            "/usr/local/lib/python3.7/dist-packages/sklearn/svm/_base.py:947: ConvergenceWarning: Liblinear failed to converge, increase the number of iterations.\n",
            "  \"the number of iterations.\", ConvergenceWarning)\n",
            "/usr/local/lib/python3.7/dist-packages/sklearn/svm/_base.py:947: ConvergenceWarning: Liblinear failed to converge, increase the number of iterations.\n",
            "  \"the number of iterations.\", ConvergenceWarning)\n",
            "/usr/local/lib/python3.7/dist-packages/sklearn/svm/_base.py:947: ConvergenceWarning: Liblinear failed to converge, increase the number of iterations.\n",
            "  \"the number of iterations.\", ConvergenceWarning)\n"
          ]
        },
        {
          "name": "stdout",
          "output_type": "stream",
          "text": [
            "\u001b[31mTotal time: 60.22538089752197\u001b[0m\n"
          ]
        },
        {
          "data": {
            "text/html": [
              "<div>\n",
              "<style scoped>\n",
              "    .dataframe tbody tr th:only-of-type {\n",
              "        vertical-align: middle;\n",
              "    }\n",
              "\n",
              "    .dataframe tbody tr th {\n",
              "        vertical-align: top;\n",
              "    }\n",
              "\n",
              "    .dataframe thead th {\n",
              "        text-align: right;\n",
              "    }\n",
              "</style>\n",
              "<table border=\"1\" class=\"dataframe\">\n",
              "  <thead>\n",
              "    <tr style=\"text-align: right;\">\n",
              "      <th></th>\n",
              "      <th>Classifier</th>\n",
              "      <th>Train Error</th>\n",
              "      <th>Test Error</th>\n",
              "      <th>Std Error</th>\n",
              "    </tr>\n",
              "  </thead>\n",
              "  <tbody>\n",
              "    <tr>\n",
              "      <th>0</th>\n",
              "      <td>SVM, LinearSVC, C = 1000</td>\n",
              "      <td>0.0369</td>\n",
              "      <td>0.0985</td>\n",
              "      <td>0.0348</td>\n",
              "    </tr>\n",
              "    <tr>\n",
              "      <th>1</th>\n",
              "      <td>Gaussian SVM, C=100, gamma=auto</td>\n",
              "      <td>0.0442</td>\n",
              "      <td>0.0591</td>\n",
              "      <td>0.0233</td>\n",
              "    </tr>\n",
              "    <tr>\n",
              "      <th>2</th>\n",
              "      <td>Poly kernel SVM, C=10, deg=auto</td>\n",
              "      <td>0.0547</td>\n",
              "      <td>0.0640</td>\n",
              "      <td>0.0260</td>\n",
              "    </tr>\n",
              "    <tr>\n",
              "      <th>3</th>\n",
              "      <td>Decision Tree</td>\n",
              "      <td>0.0068</td>\n",
              "      <td>0.0988</td>\n",
              "      <td>0.0397</td>\n",
              "    </tr>\n",
              "    <tr>\n",
              "      <th>4</th>\n",
              "      <td>RandomForestClassifier, n=50</td>\n",
              "      <td>0.0078</td>\n",
              "      <td>0.0652</td>\n",
              "      <td>0.0253</td>\n",
              "    </tr>\n",
              "    <tr>\n",
              "      <th>5</th>\n",
              "      <td>KNN</td>\n",
              "      <td>0.0512</td>\n",
              "      <td>0.0523</td>\n",
              "      <td>0.0220</td>\n",
              "    </tr>\n",
              "    <tr>\n",
              "      <th>6</th>\n",
              "      <td>Logistic Regression</td>\n",
              "      <td>0.0504</td>\n",
              "      <td>0.0585</td>\n",
              "      <td>0.0240</td>\n",
              "    </tr>\n",
              "  </tbody>\n",
              "</table>\n",
              "</div>"
            ],
            "text/plain": [
              "                        Classifier  Train Error  Test Error  Std Error\n",
              "0         SVM, LinearSVC, C = 1000       0.0369      0.0985     0.0348\n",
              "1  Gaussian SVM, C=100, gamma=auto       0.0442      0.0591     0.0233\n",
              "2  Poly kernel SVM, C=10, deg=auto       0.0547      0.0640     0.0260\n",
              "3                    Decision Tree       0.0068      0.0988     0.0397\n",
              "4     RandomForestClassifier, n=50       0.0078      0.0652     0.0253\n",
              "5                              KNN       0.0512      0.0523     0.0220\n",
              "6              Logistic Regression       0.0504      0.0585     0.0240"
            ]
          },
          "execution_count": 33,
          "metadata": {},
          "output_type": "execute_result"
        }
      ],
      "source": [
        "classification_Q_physics(data1_lan_long, data2_lan_long, version='unsigned', \n",
        "                         Q_size=20, num_trials=50, classifiers=clff)[0]"
      ]
    },
    {
      "cell_type": "markdown",
      "metadata": {
        "id": "rnyvmMQiksR7"
      },
      "source": [
        "## $v_{Q, length}^{\\varsigma}$"
      ]
    },
    {
      "cell_type": "code",
      "execution_count": null,
      "metadata": {
        "colab": {
          "base_uri": "https://localhost:8080/",
          "height": 298
        },
        "id": "iXpa9Slk_ee6",
        "outputId": "e19fed8a-ecc3-40ee-9b59-464b49b06373"
      },
      "outputs": [
        {
          "name": "stdout",
          "output_type": "stream",
          "text": [
            "Warning: Some of the landmarks have chosen overlapped segments of some trajectories\n",
            "\u001b[31mTotal time: 65.40714597702026\u001b[0m\n"
          ]
        },
        {
          "data": {
            "text/html": [
              "<div>\n",
              "<style scoped>\n",
              "    .dataframe tbody tr th:only-of-type {\n",
              "        vertical-align: middle;\n",
              "    }\n",
              "\n",
              "    .dataframe tbody tr th {\n",
              "        vertical-align: top;\n",
              "    }\n",
              "\n",
              "    .dataframe thead th {\n",
              "        text-align: right;\n",
              "    }\n",
              "</style>\n",
              "<table border=\"1\" class=\"dataframe\">\n",
              "  <thead>\n",
              "    <tr style=\"text-align: right;\">\n",
              "      <th></th>\n",
              "      <th>Classifier</th>\n",
              "      <th>Train Error</th>\n",
              "      <th>Test Error</th>\n",
              "      <th>Std Error</th>\n",
              "    </tr>\n",
              "  </thead>\n",
              "  <tbody>\n",
              "    <tr>\n",
              "      <th>0</th>\n",
              "      <td>SVM, LinearSVC, C = 1000</td>\n",
              "      <td>0.2045</td>\n",
              "      <td>0.2997</td>\n",
              "      <td>0.0588</td>\n",
              "    </tr>\n",
              "    <tr>\n",
              "      <th>1</th>\n",
              "      <td>Gaussian SVM, C=100, gamma=auto</td>\n",
              "      <td>0.0249</td>\n",
              "      <td>0.1080</td>\n",
              "      <td>0.0377</td>\n",
              "    </tr>\n",
              "    <tr>\n",
              "      <th>2</th>\n",
              "      <td>Poly kernel SVM, C=10, deg=auto</td>\n",
              "      <td>0.0972</td>\n",
              "      <td>0.2142</td>\n",
              "      <td>0.0566</td>\n",
              "    </tr>\n",
              "    <tr>\n",
              "      <th>3</th>\n",
              "      <td>Decision Tree</td>\n",
              "      <td>0.0061</td>\n",
              "      <td>0.1280</td>\n",
              "      <td>0.0419</td>\n",
              "    </tr>\n",
              "    <tr>\n",
              "      <th>4</th>\n",
              "      <td>RandomForestClassifier, n=50</td>\n",
              "      <td>0.0069</td>\n",
              "      <td>0.0800</td>\n",
              "      <td>0.0320</td>\n",
              "    </tr>\n",
              "    <tr>\n",
              "      <th>5</th>\n",
              "      <td>KNN</td>\n",
              "      <td>0.0841</td>\n",
              "      <td>0.0957</td>\n",
              "      <td>0.0373</td>\n",
              "    </tr>\n",
              "    <tr>\n",
              "      <th>6</th>\n",
              "      <td>Logistic Regression</td>\n",
              "      <td>0.3412</td>\n",
              "      <td>0.3529</td>\n",
              "      <td>0.0612</td>\n",
              "    </tr>\n",
              "  </tbody>\n",
              "</table>\n",
              "</div>"
            ],
            "text/plain": [
              "                        Classifier  Train Error  Test Error  Std Error\n",
              "0         SVM, LinearSVC, C = 1000       0.2045      0.2997     0.0588\n",
              "1  Gaussian SVM, C=100, gamma=auto       0.0249      0.1080     0.0377\n",
              "2  Poly kernel SVM, C=10, deg=auto       0.0972      0.2142     0.0566\n",
              "3                    Decision Tree       0.0061      0.1280     0.0419\n",
              "4     RandomForestClassifier, n=50       0.0069      0.0800     0.0320\n",
              "5                              KNN       0.0841      0.0957     0.0373\n",
              "6              Logistic Regression       0.3412      0.3529     0.0612"
            ]
          },
          "execution_count": 32,
          "metadata": {},
          "output_type": "execute_result"
        }
      ],
      "source": [
        "classification_Q_physics(data1_lan_long, data2_lan_long, version='signed', sigma=100, \n",
        "                         Q_size=20, num_trials=50, classifiers=clff)[0]"
      ]
    },
    {
      "cell_type": "markdown",
      "metadata": {
        "id": "E5yZZdXaie3y"
      },
      "source": [
        "# Run time Analysis"
      ]
    },
    {
      "cell_type": "markdown",
      "metadata": {
        "id": "Z7UIOHAIkQ-K"
      },
      "source": [
        "## $v_Q$, $v_Q^{\\varsigma}$, $v_Q^{\\exp}$, endpoints"
      ]
    },
    {
      "cell_type": "code",
      "execution_count": null,
      "metadata": {
        "colab": {
          "base_uri": "https://localhost:8080/",
          "height": 73,
          "resources": {
            "http://localhost:8080/nbextensions/google.colab/files.js": {
              "data": "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",
              "headers": [
                [
                  "content-type",
                  "application/javascript"
                ]
              ],
              "ok": true,
              "status": 200,
              "status_text": ""
            }
          }
        },
        "id": "Os5m5FX6kgVM",
        "outputId": "d6927466-d831-4885-d040-9bd5e9ce7f07"
      },
      "outputs": [
        {
          "data": {
            "text/html": [
              "\n",
              "     <input type=\"file\" id=\"files-5b7ffef5-7ce8-4d15-9c29-7575608b8248\" name=\"files[]\" multiple disabled\n",
              "        style=\"border:none\" />\n",
              "     <output id=\"result-5b7ffef5-7ce8-4d15-9c29-7575608b8248\">\n",
              "      Upload widget is only available when the cell has been executed in the\n",
              "      current browser session. Please rerun this cell to enable.\n",
              "      </output>\n",
              "      <script src=\"/nbextensions/google.colab/files.js\"></script> "
            ],
            "text/plain": [
              "<IPython.core.display.HTML object>"
            ]
          },
          "metadata": {},
          "output_type": "display_data"
        },
        {
          "name": "stdout",
          "output_type": "stream",
          "text": [
            "Saving v_Q_mu_endpoints_classification_runtime.py to v_Q_mu_endpoints_classification_runtime.py\n"
          ]
        }
      ],
      "source": [
        "from google.colab import files\n",
        "files.upload()\n",
        "\n",
        "import v_Q_mu_endpoints_classification_runtime\n",
        "from v_Q_mu_endpoints_classification_runtime import runTime"
      ]
    },
    {
      "cell_type": "markdown",
      "metadata": {
        "id": "GOPY9ifiXvJh"
      },
      "source": [
        "## Class"
      ]
    },
    {
      "cell_type": "code",
      "execution_count": null,
      "metadata": {
        "id": "V5atncV_r_d-"
      },
      "outputs": [],
      "source": [
        "import numpy as np \n",
        "import pandas as pd\n",
        "from sklearn.pipeline import make_pipeline\n",
        "from sklearn.preprocessing import StandardScaler\n",
        "from sklearn import svm\n",
        "from sklearn.svm import NuSVC\n",
        "from sklearn.model_selection import train_test_split\n",
        "from sklearn import metrics\n",
        "from sklearn.ensemble import AdaBoostClassifier\n",
        "from sklearn.svm import SVC\n",
        "from sklearn.ensemble import RandomForestClassifier\n",
        "from sklearn.tree import DecisionTreeClassifier\n",
        "from sklearn.linear_model import LogisticRegression\n",
        "from sklearn.neighbors import KNeighborsClassifier\n",
        "from sklearn.linear_model import Perceptron\n",
        "from termcolor import colored\n",
        "from sklearn.svm import LinearSVC\n",
        "import trjtrypy as tt\n",
        "from trjtrypy.distances import d_Q\n",
        "from trjtrypy.distances import d_Q_pi\n",
        "from trjtrypy.featureMappings import curve2vec\n",
        "from scipy.spatial import distance\n",
        "from collections import Counter\n",
        "import time\n",
        "import timeit\n",
        "\n",
        "\n",
        "\n",
        "def ExpCurve2Vec(points, curves, mu):\n",
        "    D = tt.distsbase.DistsBase()\n",
        "    a = np.array([np.exp(-1*np.power(D.APntSetDistACrv(points,curve),2)/(mu)**2) for curve in curves])\n",
        "    return a\n",
        "\n",
        "\n",
        "'''The following class includes 3 functions:\n",
        "        1. According to v_Q classification (classification_v_Q() function)\n",
        "            a) Average\n",
        "            b) Average-Majority\n",
        "        2. According to v_Q^mu classification (classification_v_Q_mu() function)\n",
        "            a) Average\n",
        "            b) Average-Majority\n",
        "        3. Endpoint classification (endpoint_classification() function)\n",
        "            a) Only average'''\n",
        "\n",
        "class runTime():\n",
        "    def __init__(self, data_1, data_2, Q_size, classifiers, std_coeff=1, version='unsigned', sigma=1):\n",
        "        self.data_1 = data_1\n",
        "        self.data_2 = data_2\n",
        "        self.Q_size = Q_size\n",
        "        self.classifiers = classifiers\n",
        "        self.version = version\n",
        "        self.sigma = sigma\n",
        "        self.std_coeff = std_coeff\n",
        "\n",
        "    \n",
        "        \n",
        "    '''mu calculator function'''\n",
        "        \n",
        "    def get_mu(self, data_1, data_2):\n",
        "        a = np.mean([np.mean(data_1[i], 0) for i in range(len(data_1))], 0)\n",
        "        b = np.mean([np.mean(data_2[i], 0) for i in range(len(data_2))], 0)\n",
        "        return max(abs(a-b)) * self.std_coeff\n",
        "\n",
        "\n",
        "    def generate_Q_runtime(self):\n",
        "\n",
        "        start_time = time.time()\n",
        "        data = np.concatenate((self.data_1, self.data_2), 0)\n",
        "\n",
        "        Mean = np.mean([np.mean(data[i], 0) for i in range(len(data))], 0)\n",
        "        Std = np.std([np.std(data[i], 0) for i in range(len(data))], 0)\n",
        "\n",
        "        Q = np.ones((self.Q_size, 2))\n",
        "        Q[:,0] = np.random.normal(Mean[0], 4 * Std[0], self.Q_size)\n",
        "        Q[:,1] = np.random.normal(Mean[1], 4 * Std[1], self.Q_size)\n",
        "\n",
        "        stop_time = time.time()\n",
        "        total_time = stop_time - start_time\n",
        "\n",
        "        return total_time\n",
        "\n",
        "\n",
        "    def train_classifier_v_Q_runtime(self):\n",
        "\n",
        "        start_time = time.time()\n",
        "        models = [item[0] for item in self.classifiers]\n",
        "        keys = [item[1] for item in self.classifiers]\n",
        "\n",
        "        r = len(self.classifiers)\n",
        "        train_runtime = np.zeros(r)\n",
        "\n",
        "        for k in range(r): \n",
        "\n",
        "            time_temp = time.time() #timeit.default_timer()\n",
        "\n",
        "            n_1 = len(self.data_1)\n",
        "            n_2 = len(self.data_2) \n",
        "\n",
        "            data = np.concatenate((self.data_1, self.data_2), 0)\n",
        "            labels = np.array([1]*n_1 + [-1]*n_2)\n",
        "\n",
        "            Mean = np.mean([np.mean(data[i], 0) for i in range(len(data))], 0)\n",
        "            Std = np.std([np.std(data[i], 0) for i in range(len(data))], 0)\n",
        "            \n",
        "            Q = np.ones((self.Q_size, 2))\n",
        "            Q[:,0] = np.random.normal(Mean[0], 4 * Std[0], self.Q_size)\n",
        "            Q[:,1] = np.random.normal(Mean[1], 4 * Std[1], self.Q_size)\n",
        "\n",
        "            Data = curve2vec(Q, data, version=self.version, sigma=self.sigma)\n",
        "\n",
        "            model = models[k]\n",
        "            model.fit(Data, labels)\n",
        "            stop_time = time.time() #timeit.default_timer()\n",
        "\n",
        "            train_runtime[k] = stop_time - time_temp\n",
        "                    \n",
        "        print(colored(f\"run time: {time.time() - start_time}\", \"red\"))\n",
        "        \n",
        "        Dict = {}\n",
        "        for k in range(len(keys)): \n",
        "            Dict[k+1] = [keys[k], train_runtime[k]]\n",
        "\n",
        "        pdf = pd.DataFrame.from_dict(Dict, orient='index', columns=['Classifier','Runtime'])\n",
        "\n",
        "        return pdf, train_runtime\n",
        "\n",
        "\n",
        "    def train_classifier_v_Q_exp_runtime(self):\n",
        "\n",
        "        start_time = time.time()\n",
        "        models = [item[0] for item in self.classifiers]\n",
        "        keys = [item[1] for item in self.classifiers]\n",
        "\n",
        "        r = len(self.classifiers)\n",
        "        train_runtime = np.zeros(r)\n",
        "\n",
        "        for k in range(r): \n",
        "\n",
        "            time_temp = time.time() #timeit.default_timer()\n",
        "\n",
        "            n_1 = len(self.data_1)\n",
        "            n_2 = len(self.data_2) \n",
        "\n",
        "            data = np.concatenate((self.data_1, self.data_2), 0)\n",
        "            labels = np.array([1]*n_1 + [-1]*n_2)\n",
        "\n",
        "            mu = self.get_mu(self.data_1, self.data_2)\n",
        "\n",
        "            Mean = np.mean([np.mean(data[i], 0) for i in range(len(data))], 0)\n",
        "            Std = np.std([np.std(data[i], 0) for i in range(len(data))], 0)\n",
        "            \n",
        "            Q = np.ones((self.Q_size, 2))\n",
        "            Q[:,0] = np.random.normal(Mean[0], 4 * Std[0], self.Q_size)\n",
        "            Q[:,1] = np.random.normal(Mean[1], 4 * Std[1], self.Q_size)\n",
        "\n",
        "            Data = ExpCurve2Vec(Q, data, mu)\n",
        "\n",
        "            model = models[k]\n",
        "            model.fit(Data, labels)\n",
        "            stop_time = time.time() #timeit.default_timer()\n",
        "\n",
        "            train_runtime[k] = stop_time - time_temp\n",
        "                    \n",
        "        print(colored(f\"run time: {time.time() - start_time}\", \"red\"))\n",
        "        \n",
        "        Dict = {}\n",
        "        for k in range(len(keys)): \n",
        "            Dict[k+1] = [keys[k], train_runtime[k]]\n",
        "\n",
        "        pdf = pd.DataFrame.from_dict(Dict, orient='index', columns=['Classifier','Runtime'])\n",
        "\n",
        "        return pdf, train_runtime\n",
        "\n",
        "    '''Get the endpoints of all trajectories in data_1 and data_2'''\n",
        "    def get_endpoints(self):\n",
        "        n_1 = len(self.data_1)\n",
        "        n_2 = len(self.data_2)\n",
        "        data_1_endpoints = np.zeros((n_1, 4))\n",
        "        data_2_endpoints = np.zeros((n_2, 4))\n",
        "        for i in range(n_1):\n",
        "            data_1_endpoints[i] = np.concatenate((self.data_1[i][0], self.data_1[i][-1]), 0)\n",
        "        for i in range(n_2):\n",
        "            data_2_endpoints[i] = np.concatenate((self.data_2[i][0], self.data_2[i][-1]), 0)\n",
        "        return data_1_endpoints, data_2_endpoints\n",
        "        \n",
        "\n",
        "    '''Get the endpoint classification error\n",
        "       parameters: \n",
        "            1. data_1, data_2\n",
        "            2. epoch\n",
        "            3. classifiers'''\n",
        "    def train_classifier_endpoint_runtime(self):\n",
        "\n",
        "        start_time = time.time()\n",
        "        models = [item[0] for item in self.classifiers]\n",
        "        keys = [item[1] for item in self.classifiers]\n",
        "        r = len(self.classifiers)\n",
        "        train_runtime = np.zeros(r)\n",
        "        n_1 = len(self.data_1)\n",
        "        n_2 = len(self.data_2) \n",
        "\n",
        "        data_1_endpoints, data_2_endpoints = self.get_endpoints()\n",
        "        Data = np.concatenate((data_1_endpoints, data_2_endpoints), 0)\n",
        "        labels = np.array([1]*n_1 + [-1]*n_2)\n",
        "\n",
        "        for k in range(r):\n",
        "            time_temp = time.time()\n",
        "            model = models[k]\n",
        "            model.fit(Data, labels)\n",
        "            stop_time = time.time()\n",
        "            train_runtime[k] = stop_time - time_temp\n",
        "                    \n",
        "        print(colored(f\"run time: {time.time() - start_time}\", \"red\"))\n",
        "        \n",
        "        Dict = {}\n",
        "        for k in range(len(keys)): \n",
        "            Dict[k+1] = [keys[k], train_runtime[k]]\n",
        "\n",
        "        pdf = pd.DataFrame.from_dict(Dict, orient='index', columns=['Classifier','Runtime'])\n",
        "\n",
        "        return pdf, train_runtime"
      ]
    },
    {
      "cell_type": "markdown",
      "metadata": {
        "id": "Iu9HpL9TXN13"
      },
      "source": [
        "## Runtime of initializing random landmarks with different classifiers"
      ]
    },
    {
      "cell_type": "code",
      "execution_count": null,
      "metadata": {
        "colab": {
          "base_uri": "https://localhost:8080/"
        },
        "id": "BE_yeYWMA6mN",
        "outputId": "4f00b293-7250-4969-855c-ff12e21d4a65"
      },
      "outputs": [
        {
          "name": "stdout",
          "output_type": "stream",
          "text": [
            "The slowest run took 13.86 times longer than the fastest. This could mean that an intermediate result is being cached.\n",
            "1000000 loops, best of 5: 921 ns per loop\n",
            "0.022823810577392578\n",
            "\u001b[33mruntimes for generating random Q: 0.022823810577392578\u001b[0m\n"
          ]
        }
      ],
      "source": [
        "%timeit runTime(data1_lan_long, data2_lan_long, Q_size=20, classifiers=clff, \\\n",
        "                version='unsigned')\n",
        "Runtime = runTime(data1_lan_long, data2_lan_long, Q_size=20, classifiers=clff, \n",
        "                  version='unsigned')\n",
        "A = Runtime.generate_Q_runtime()\n",
        "print(A)\n",
        "print(colored(f'runtimes for generating random Q: {A}', 'yellow'))"
      ]
    },
    {
      "cell_type": "markdown",
      "metadata": {
        "id": "5qH6mWdpXr1v"
      },
      "source": [
        "## Runtime of training classifiers"
      ]
    },
    {
      "cell_type": "code",
      "execution_count": null,
      "metadata": {
        "colab": {
          "base_uri": "https://localhost:8080/"
        },
        "id": "Lg8lBchFvoTX",
        "outputId": "c57a133f-f86e-42e3-beba-201e59ac9ef5"
      },
      "outputs": [
        {
          "name": "stdout",
          "output_type": "stream",
          "text": [
            "The slowest run took 6.83 times longer than the fastest. This could mean that an intermediate result is being cached.\n",
            "100000 loops, best of 5: 1.59 µs per loop\n",
            "\u001b[31mrun time: 9.416468858718872\u001b[0m\n",
            "                        Classifier   Runtime\n",
            "1         SVM, LinearSVC, C = 1000  1.428224\n",
            "2  Gaussian SVM, C=100, gamma=auto  1.469847\n",
            "3  Poly kernel SVM, C=10, deg=auto  1.457876\n",
            "4                    Decision Tree  1.480711\n",
            "5     RandomForestClassifier, n=50  1.658562\n",
            "6                              KNN  0.944226\n",
            "7              Logistic Regression  0.976967\n",
            "\u001b[33mruntimes for v_Q: [1.4282236099243164, 1.4698474407196045, 1.457876205444336, 1.4807109832763672, 1.658562421798706, 0.9442262649536133, 0.9769666194915771]\u001b[0m\n"
          ]
        }
      ],
      "source": [
        "%timeit runTime(data1_lan_long, data2_lan_long, Q_size=20, classifiers=clff, \\\n",
        "                version='unsigned')\n",
        "Runtime = runTime(data1_lan_long, data2_lan_long, Q_size=20, classifiers=clff, \n",
        "                  version='unsigned')\n",
        "A = Runtime.train_classifier_v_Q_runtime()\n",
        "print(A[0])\n",
        "print(colored(f'runtimes for v_Q: {list(A[1])}', 'yellow'))"
      ]
    },
    {
      "cell_type": "code",
      "execution_count": null,
      "metadata": {
        "colab": {
          "base_uri": "https://localhost:8080/"
        },
        "id": "S_91hyuvieD9",
        "outputId": "89acfcd1-97d1-4f1d-8b18-f6deeb346a9d"
      },
      "outputs": [
        {
          "name": "stdout",
          "output_type": "stream",
          "text": [
            "The slowest run took 57.77 times longer than the fastest. This could mean that an intermediate result is being cached.\n",
            "1000000 loops, best of 5: 1.97 µs per loop\n",
            "Warning: Some of the landmarks have chosen overlapped segments of some trajectories\n",
            "\u001b[31mrun time: 12.263697862625122\u001b[0m\n",
            "                        Classifier   Runtime\n",
            "1         SVM, LinearSVC, C = 1000  1.540270\n",
            "2  Gaussian SVM, C=100, gamma=auto  1.769995\n",
            "3  Poly kernel SVM, C=10, deg=auto  1.715478\n",
            "4                    Decision Tree  1.677958\n",
            "5     RandomForestClassifier, n=50  1.584119\n",
            "6                              KNN  1.631017\n",
            "7              Logistic Regression  2.344810\n",
            "\u001b[33mruntimes for v_Q^varsigma: [1.5402703285217285, 1.7699947357177734, 1.7154779434204102, 1.677957534790039, 1.5841190814971924, 1.6310172080993652, 2.3448100090026855]\u001b[0m\n"
          ]
        }
      ],
      "source": [
        "%timeit runTime(data1_lan_long, data2_lan_long, Q_size=20, classifiers=clff, \\\n",
        "                version='signed', sigma=100)\n",
        "Runtime = runTime(data1_lan_long, data2_lan_long, Q_size=20, classifiers=clff, \n",
        "                  version='signed', sigma=100)\n",
        "A = Runtime.train_classifier_v_Q_runtime()\n",
        "print(A[0])\n",
        "print(colored(f'runtimes for v_Q^varsigma: {list(A[1])}', 'yellow'))"
      ]
    },
    {
      "cell_type": "code",
      "execution_count": null,
      "metadata": {
        "colab": {
          "base_uri": "https://localhost:8080/"
        },
        "id": "v2KL_7gu1Lvq",
        "outputId": "748da820-43ce-4f61-ce2a-d0f658804e41"
      },
      "outputs": [
        {
          "name": "stdout",
          "output_type": "stream",
          "text": [
            "The slowest run took 11.37 times longer than the fastest. This could mean that an intermediate result is being cached.\n",
            "1000000 loops, best of 5: 867 ns per loop\n",
            "\u001b[31mrun time: 7.291353702545166\u001b[0m\n",
            "                        Classifier   Runtime\n",
            "1         SVM, LinearSVC, C = 1000  0.991065\n",
            "2  Gaussian SVM, C=100, gamma=auto  0.888418\n",
            "3  Poly kernel SVM, C=10, deg=auto  1.000418\n",
            "4                    Decision Tree  0.993098\n",
            "5     RandomForestClassifier, n=50  1.055481\n",
            "6                              KNN  0.908646\n",
            "7              Logistic Regression  1.454189\n",
            "\u001b[33mruntimes for v_Q^exp: [0.9910647869110107, 0.8884181976318359, 1.000417947769165, 0.9930980205535889, 1.055480718612671, 0.9086463451385498, 1.4541890621185303]\u001b[0m\n"
          ]
        }
      ],
      "source": [
        "%timeit runTime(data1_lan_long, data2_lan_long, Q_size=20, classifiers=clff, \\\n",
        "                version='unsigned')\n",
        "Runtime = runTime(data1_lan_long, data2_lan_long, Q_size=20, classifiers=clff, \n",
        "                  version='unsigned')\n",
        "A = Runtime.train_classifier_v_Q_exp_runtime()\n",
        "print(A[0])\n",
        "print(colored(f'runtimes for v_Q^exp: {list(A[1])}', 'yellow'))"
      ]
    },
    {
      "cell_type": "code",
      "execution_count": null,
      "metadata": {
        "colab": {
          "base_uri": "https://localhost:8080/"
        },
        "id": "7mahmqT7GNHx",
        "outputId": "691d1e5d-a3c3-44bd-ac07-476f1051c360"
      },
      "outputs": [
        {
          "name": "stdout",
          "output_type": "stream",
          "text": [
            "The slowest run took 13.41 times longer than the fastest. This could mean that an intermediate result is being cached.\n",
            "1000000 loops, best of 5: 848 ns per loop\n",
            "\u001b[31mrun time: 0.19060182571411133\u001b[0m\n",
            "                        Classifier   Runtime\n",
            "1         SVM, LinearSVC, C = 1000  0.001552\n",
            "2  Gaussian SVM, C=100, gamma=auto  0.002104\n",
            "3  Poly kernel SVM, C=10, deg=auto  0.001611\n",
            "4                    Decision Tree  0.000905\n",
            "5     RandomForestClassifier, n=50  0.072642\n",
            "6                              KNN  0.000478\n",
            "7              Logistic Regression  0.110437\n",
            "\u001b[33mruntimes for v_Q: [0.0015521049499511719, 0.002103567123413086, 0.0016109943389892578, 0.0009050369262695312, 0.07264208793640137, 0.0004782676696777344, 0.11043691635131836]\u001b[0m\n"
          ]
        },
        {
          "name": "stderr",
          "output_type": "stream",
          "text": [
            "/usr/local/lib/python3.7/dist-packages/scipy/optimize/linesearch.py:478: LineSearchWarning: The line search algorithm did not converge\n",
            "  warn('The line search algorithm did not converge', LineSearchWarning)\n",
            "/usr/local/lib/python3.7/dist-packages/scipy/optimize/linesearch.py:327: LineSearchWarning: The line search algorithm did not converge\n",
            "  warn('The line search algorithm did not converge', LineSearchWarning)\n",
            "/usr/local/lib/python3.7/dist-packages/scipy/optimize/linesearch.py:478: LineSearchWarning: The line search algorithm did not converge\n",
            "  warn('The line search algorithm did not converge', LineSearchWarning)\n",
            "/usr/local/lib/python3.7/dist-packages/scipy/optimize/linesearch.py:327: LineSearchWarning: The line search algorithm did not converge\n",
            "  warn('The line search algorithm did not converge', LineSearchWarning)\n"
          ]
        }
      ],
      "source": [
        "%timeit runTime(data1_lan_long, data2_lan_long, Q_size=20, classifiers=clff)\n",
        "Runtime = runTime(data1_lan_long, data2_lan_long, Q_size=20, classifiers=clff)\n",
        "A = Runtime.train_classifier_endpoint_runtime()\n",
        "print(A[0])\n",
        "print(colored(f'runtimes for v_Q: {list(A[1])}', 'yellow'))"
      ]
    },
    {
      "cell_type": "markdown",
      "metadata": {
        "id": "1CJWEjULkc0s"
      },
      "source": [
        "## Mistake-driven"
      ]
    },
    {
      "cell_type": "code",
      "execution_count": null,
      "metadata": {
        "colab": {
          "base_uri": "https://localhost:8080/",
          "height": 73,
          "resources": {
            "http://localhost:8080/nbextensions/google.colab/files.js": {
              "data": "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",
              "headers": [
                [
                  "content-type",
                  "application/javascript"
                ]
              ],
              "ok": true,
              "status": 200,
              "status_text": ""
            }
          }
        },
        "id": "Y1QAnceOkjRG",
        "outputId": "7ff0b948-d001-40fd-9ebf-9230584d64b3"
      },
      "outputs": [
        {
          "data": {
            "text/html": [
              "\n",
              "     <input type=\"file\" id=\"files-8b9ddb58-c17f-4d9e-a5a0-7ca49c6e8862\" name=\"files[]\" multiple disabled\n",
              "        style=\"border:none\" />\n",
              "     <output id=\"result-8b9ddb58-c17f-4d9e-a5a0-7ca49c6e8862\">\n",
              "      Upload widget is only available when the cell has been executed in the\n",
              "      current browser session. Please rerun this cell to enable.\n",
              "      </output>\n",
              "      <script src=\"/nbextensions/google.colab/files.js\"></script> "
            ],
            "text/plain": [
              "<IPython.core.display.HTML object>"
            ]
          },
          "metadata": {},
          "output_type": "display_data"
        },
        {
          "name": "stdout",
          "output_type": "stream",
          "text": [
            "Saving Perceptron_Like_Algo_Runtime.py to Perceptron_Like_Algo_Runtime.py\n"
          ]
        }
      ],
      "source": [
        "from google.colab import files\n",
        "files.upload()\n",
        "\n",
        "import Perceptron_Like_Algo_Runtime\n",
        "from Perceptron_Like_Algo_Runtime import runTimeMD"
      ]
    },
    {
      "cell_type": "markdown",
      "metadata": {
        "id": "DPwq3SdyYHmB"
      },
      "source": [
        "## Class"
      ]
    },
    {
      "cell_type": "code",
      "execution_count": null,
      "metadata": {
        "id": "qzuHY-hSH4pb"
      },
      "outputs": [],
      "source": [
        "import numpy as np \n",
        "import pandas as pd\n",
        "from sklearn.pipeline import make_pipeline\n",
        "from sklearn.preprocessing import StandardScaler\n",
        "from sklearn import svm\n",
        "from sklearn.svm import NuSVC\n",
        "from sklearn.model_selection import train_test_split\n",
        "from sklearn import metrics\n",
        "from sklearn.ensemble import AdaBoostClassifier\n",
        "from sklearn.svm import SVC\n",
        "from sklearn.ensemble import RandomForestClassifier\n",
        "from sklearn.tree import DecisionTreeClassifier\n",
        "from sklearn.linear_model import LogisticRegression\n",
        "from sklearn.neighbors import KNeighborsClassifier\n",
        "from sklearn.linear_model import Perceptron\n",
        "from termcolor import colored\n",
        "from sklearn.svm import LinearSVC\n",
        "import trjtrypy as tt\n",
        "from trjtrypy.distances import d_Q\n",
        "from trjtrypy.distances import d_Q_pi\n",
        "from trjtrypy.featureMappings import curve2vec\n",
        "from scipy.spatial import distance\n",
        "from collections import Counter\n",
        "import time\n",
        "from scipy.stats import entropy\n",
        "\n",
        "\n",
        "\n",
        "\n",
        "def ExpCurve2Vec(points, curves, mu):\n",
        "    D = tt.distsbase.DistsBase()\n",
        "    a = np.array([np.exp(-1*np.power(D.APntSetDistACrv(points,curve),2)/(mu)**2) for curve in curves])\n",
        "    return a\n",
        "\n",
        "\n",
        "# models = ['LSVM', 'GSVM', 'PSVM', 'LR', 'PERN', 'DT', 'RF', 'KNN']\n",
        "\n",
        "class runTimeMD:\n",
        "    def __init__(self, data_1, data_2, Q_size, model, C, gamma, std_coeff, \n",
        "                 n_neighbors, n_estimators):\n",
        "        \n",
        "        self.data_1 = data_1\n",
        "        self.data_2 = data_2\n",
        "        self.Q_size = Q_size\n",
        "        self.model = model\n",
        "        self.C = C\n",
        "        self.gamma = gamma\n",
        "        self.std_coeff = std_coeff\n",
        "        self.n_neighbors = n_neighbors\n",
        "        self.n_estimators = n_estimators\n",
        "        \n",
        "        \n",
        "    \n",
        "        \n",
        "    '''mu calculator function'''\n",
        "        \n",
        "    def get_mu(self):\n",
        "        a = np.mean([np.mean(self.data_1[i], 0) for i in range(len(self.data_1))], 0)\n",
        "        b = np.mean([np.mean(self.data_2[i], 0) for i in range(len(self.data_2))], 0)\n",
        "        return max(abs(a-b)) * self.std_coeff\n",
        "       \n",
        "        \n",
        "    '''Perceptron-Like Algorithm'''\n",
        "        \n",
        "    def initialize_Q(self): \n",
        "        \n",
        "        Q = []        \n",
        "\n",
        "        mu = self.get_mu()\n",
        "        std = mu * self.std_coeff\n",
        "\n",
        "        trajectory_train_data = np.concatenate((self.data_1, self.data_2), axis = 0)\n",
        "        train_labels = np.concatenate(([1] * len(self.data_1), [-1] * len(self.data_2)), 0)\n",
        "        index = np.random.randint(0, high=len(trajectory_train_data)) \n",
        "        k = np.random.randint(0, high=len(trajectory_train_data[index]))\n",
        "        q = trajectory_train_data[index][k] + np.random.normal(0, std, 2)\n",
        "        Q.append(q)\n",
        "        \n",
        "        if self.model == \"LSVM\":\n",
        "            clf = make_pipeline(LinearSVC(dual=False, C=self.C, tol=1e-5, \n",
        "                                        class_weight='balanced', max_iter=1000))\n",
        "        elif self.model == \"GSVM\":\n",
        "            clf = make_pipeline(StandardScaler(), svm.SVC(C=self.C, kernel='rbf', \n",
        "                                                gamma=self.gamma, max_iter=200000))\n",
        "        elif self.model == 'PSVM':\n",
        "            clf = make_pipeline(StandardScaler(), svm.SVC(C=self.C, kernel='poly', \n",
        "                                                    degree=3, max_iter = 400000))\n",
        "        elif self.model == \"LR\":\n",
        "            clf = LogisticRegression(solver='lbfgs')\n",
        "        elif self.model == \"Prn\":\n",
        "            clf = Perceptron(tol=1e-5, validation_fraction=0.01, class_weight=\"balanced\")\n",
        "        elif self.model == \"DT\":\n",
        "            clf = DecisionTreeClassifier()\n",
        "        elif self.model == \"RF\":\n",
        "            clf = RandomForestClassifier(n_estimators=self.n_estimators)\n",
        "        elif self.model == \"KNN\":\n",
        "            clf = KNeighborsClassifier(n_neighbors=self.n_neighbors)\n",
        "        else:\n",
        "            print(\"error: model is not supported\")\n",
        "        \n",
        "        for i in range(self.Q_size):\n",
        "            train_data = ExpCurve2Vec(np.array(Q), trajectory_train_data, mu)\n",
        "            clf.fit(train_data, train_labels)\n",
        "\n",
        "            train_pred = clf.predict(train_data)\n",
        "            error = sum(train_labels != train_pred)/len(train_labels)\n",
        "            \n",
        "            if self.model in ['LSVM', 'GSVM', 'PSVM', 'LR', 'Prn']:\n",
        "                temp = train_labels * clf.decision_function(train_data)\n",
        "                index = np.argmin(temp)\n",
        "            elif self.model in ['DT', 'RF', 'KNN']:\n",
        "                probs = clf.predict_proba(train_data)\n",
        "                index = np.argmax(entropy(probs, axis=1))\n",
        "            \n",
        "            k = np.random.randint(0, high=len(trajectory_train_data[index]))\n",
        "            q = trajectory_train_data[index][k] + np.random.normal(0, std, 2)\n",
        "            Q.append(q)\n",
        "        \n",
        "        return np.array(Q), mu\n",
        "\n",
        "\n",
        "\n",
        "    \n",
        "    def train_classifier_runtime_Q(self):\n",
        "\n",
        "        if self.model == 'LSVM':\n",
        "            clf_L = [make_pipeline(LinearSVC(dual=False, C=self.C, tol=1e-5, \n",
        "                                       class_weight ='balanced', max_iter=1000)), \n",
        "                    \"SVM, Linear SVC, C=\"+str(self.C)]\n",
        "            clf = clf_L[0] \n",
        "        elif self.model == 'GSVM':\n",
        "            clf_rbf = [make_pipeline(StandardScaler(), svm.SVC(C=self.C, kernel='rbf', \n",
        "                                                    gamma=self.gamma, max_iter=200000)), \n",
        "                       \"GSVM, C=\"+str(self.C)+\", gamma=\"+str(self.gamma)]\n",
        "            clf = clf_rbf[0]\n",
        "        elif self.model == 'PSVM':\n",
        "            clf_PSVM = [make_pipeline(StandardScaler(), svm.SVC(C=self.C, kernel='poly', \n",
        "                                                        degree=3, max_iter = 400000)),\n",
        "                        \"Poly kernel SVM, C=\"+str(self.C)+\", deg=auto\"]\n",
        "            clf = clf_PSVM[0]\n",
        "        elif self.model == \"LR\":\n",
        "            clf_LR = [LogisticRegression(solver='lbfgs'), \"Logistic Regression\"]\n",
        "            clf = clf_LR[0]\n",
        "        elif self.model == \"Prn\":\n",
        "            clf_Prn = [Perceptron(tol=1e-5, validation_fraction=0.01, \n",
        "                               class_weight=\"balanced\"), \"Perceptron\"]\n",
        "            clf = clf_Prn [0]\n",
        "        elif self.model == \"DT\":\n",
        "            clf_DT = [DecisionTreeClassifier(), \"Decision Tree\"]\n",
        "            clf = clf_DT[0]\n",
        "        elif self.model == \"RF\":\n",
        "            clf_RF = [RandomForestClassifier(n_estimators=self.n_estimators), \n",
        "                             \"RandomForestClassifier, n=\"+str(self.n_estimators)]\n",
        "            clf = clf_RF[0]\n",
        "        elif self.model == \"KNN\":\n",
        "            clf_KNN = [KNeighborsClassifier(n_neighbors=self.n_neighbors), \"KNN\"]\n",
        "            clf = clf_KNN[0]\n",
        "        else:\n",
        "            print('model is not supported')\n",
        "\n",
        "        start_time = time.time()\n",
        "\n",
        "        n_1 = len(self.data_1)\n",
        "        n_2 = len(self.data_2) \n",
        "        data = np.concatenate((self.data_1, self.data_2), axis = 0)\n",
        "        labels = np.array([1]*n_1 + [-1]*n_2)\n",
        "        \n",
        "        I = np.arange(len(data))\n",
        "        np.random.shuffle(I)\n",
        "        data = data[I]\n",
        "        labels = labels[I]\n",
        "\n",
        "        init_Q_strat_time = time.time()\n",
        "        B = self.initialize_Q()\n",
        "        init_Q_end_time = time.time()\n",
        "        init_total_time = init_Q_end_time - init_Q_strat_time\n",
        "        \n",
        "        Q = B[0]\n",
        "        mu = B[1]\n",
        "        Data = ExpCurve2Vec(Q, data, mu)\n",
        "        clf.fit(Data, labels)\n",
        "\n",
        "        train_runtime = time.time() - start_time\n",
        "\n",
        "        return train_runtime, init_total_time\n"
      ]
    },
    {
      "cell_type": "markdown",
      "metadata": {
        "id": "Naib4R0ZWFBc"
      },
      "source": [
        "## Runtime of training classifiers"
      ]
    },
    {
      "cell_type": "code",
      "execution_count": null,
      "metadata": {
        "colab": {
          "base_uri": "https://localhost:8080/"
        },
        "id": "HA6PWDAFlT89",
        "outputId": "c3f2b3ab-e187-4396-bceb-6ab31b760331"
      },
      "outputs": [
        {
          "name": "stdout",
          "output_type": "stream",
          "text": [
            "The slowest run took 5.61 times longer than the fastest. This could mean that an intermediate result is being cached.\n",
            "100000 loops, best of 5: 2.22 µs per loop\n",
            "\u001b[35mruntimes for initializing 20 landmarks with LSVM: 20.6367\u001b[0m\n",
            "\u001b[33mruntimes for LSVM: 22.1058\u001b[0m\n"
          ]
        }
      ],
      "source": [
        "model = 'LSVM'\n",
        "%timeit runTimeMD(data1_lan_long, data2_lan_long, Q_size=20, model=model, \\\n",
        "                  C=100, gamma='auto', std_coeff=1, n_neighbors=5, n_estimators=50)\n",
        "Runtime = runTimeMD(data1_lan_long, data2_lan_long, Q_size=20, model=model, C=100, \n",
        "                    gamma='auto', std_coeff=1, n_neighbors=5, n_estimators=50)\n",
        "A = Runtime.train_classifier_runtime_Q()\n",
        "\n",
        "print(colored(f'runtimes for initializing 20 landmarks with {model}: {np.round(A[1], decimals=4)}', 'magenta'))\n",
        "print(colored(f'runtimes for {model}: {np.round(A[0], decimals=4)}', 'yellow'))"
      ]
    },
    {
      "cell_type": "code",
      "execution_count": null,
      "metadata": {
        "colab": {
          "base_uri": "https://localhost:8080/"
        },
        "id": "hLxUdL2jaWQD",
        "outputId": "0c781d7f-2ee8-4a76-de65-4b189ec19202"
      },
      "outputs": [
        {
          "name": "stdout",
          "output_type": "stream",
          "text": [
            "The slowest run took 6.07 times longer than the fastest. This could mean that an intermediate result is being cached.\n",
            "1000000 loops, best of 5: 1.89 µs per loop\n",
            "\u001b[35mruntimes for initializing 20 landmarks with GSVM: 17.1322\u001b[0m\n",
            "\u001b[33mruntimes for GSVM: 18.122\u001b[0m\n"
          ]
        }
      ],
      "source": [
        "model = 'GSVM'\n",
        "%timeit runTimeMD(data1_lan_long, data2_lan_long, Q_size=20, model=model, \\\n",
        "                  C=100, gamma='auto', std_coeff=1, n_neighbors=5, n_estimators=50)\n",
        "Runtime = runTimeMD(data1_lan_long, data2_lan_long, Q_size=20, model=model, C=100, \n",
        "                    gamma='auto', std_coeff=1, n_neighbors=5, n_estimators=50)\n",
        "A = Runtime.train_classifier_runtime_Q()\n",
        "\n",
        "print(colored(f'runtimes for initializing 20 landmarks with {model}: {np.round(A[1], decimals=4)}', 'magenta'))\n",
        "print(colored(f'runtimes for {model}: {np.round(A[0], decimals=4)}', 'yellow'))"
      ]
    },
    {
      "cell_type": "code",
      "execution_count": null,
      "metadata": {
        "colab": {
          "base_uri": "https://localhost:8080/"
        },
        "id": "SXnjYyl_Se0f",
        "outputId": "356287c1-9852-4b7d-958f-8b67868ba9f1"
      },
      "outputs": [
        {
          "name": "stdout",
          "output_type": "stream",
          "text": [
            "The slowest run took 9.84 times longer than the fastest. This could mean that an intermediate result is being cached.\n",
            "1000000 loops, best of 5: 1.22 µs per loop\n",
            "\u001b[35mruntimes for initializing 20 landmarks with PSVM: 20.7594\u001b[0m\n",
            "\u001b[33mruntimes for PSVM: 23.0307\u001b[0m\n"
          ]
        }
      ],
      "source": [
        "model = 'PSVM'\n",
        "%timeit runTimeMD(data1_lan_long, data2_lan_long, Q_size=20, model=model, \\\n",
        "                  C=100, gamma='auto', std_coeff=1, n_neighbors=5, n_estimators=50)\n",
        "Runtime = runTimeMD(data1_lan_long, data2_lan_long, Q_size=20, model=model, C=100, \n",
        "                    gamma='auto', std_coeff=1, n_neighbors=5, n_estimators=50)\n",
        "A = Runtime.train_classifier_runtime_Q()\n",
        "\n",
        "print(colored(f'runtimes for initializing 20 landmarks with {model}: {np.round(A[1], decimals=4)}', 'magenta'))\n",
        "print(colored(f'runtimes for {model}: {np.round(A[0], decimals=4)}', 'yellow'))"
      ]
    },
    {
      "cell_type": "code",
      "execution_count": null,
      "metadata": {
        "colab": {
          "base_uri": "https://localhost:8080/"
        },
        "id": "ATMZ6vwRhJnK",
        "outputId": "3fae2680-0dff-44b6-b312-2ea16c9a1d57"
      },
      "outputs": [
        {
          "name": "stdout",
          "output_type": "stream",
          "text": [
            "The slowest run took 5.87 times longer than the fastest. This could mean that an intermediate result is being cached.\n",
            "100000 loops, best of 5: 2.15 µs per loop\n",
            "\u001b[35mruntimes for initializing 20 landmarks with DT: 17.8924\u001b[0m\n",
            "\u001b[33mruntimes for DT: 18.9481\u001b[0m\n"
          ]
        }
      ],
      "source": [
        "model = 'DT'\n",
        "%timeit runTimeMD(data1_lan_long, data2_lan_long, Q_size=20, model=model, \\\n",
        "                  C=100, gamma='auto', std_coeff=1, n_neighbors=5, n_estimators=50)\n",
        "Runtime = runTimeMD(data1_lan_long, data2_lan_long, Q_size=20, model=model, C=100, \n",
        "                    gamma='auto', std_coeff=1, n_neighbors=5, n_estimators=50)\n",
        "A = Runtime.train_classifier_runtime_Q()\n",
        "\n",
        "print(colored(f'runtimes for initializing 20 landmarks with {model}: {np.round(A[1], decimals=4)}', 'magenta'))\n",
        "print(colored(f'runtimes for {model}: {np.round(A[0], decimals=4)}', 'yellow'))"
      ]
    },
    {
      "cell_type": "code",
      "execution_count": null,
      "metadata": {
        "colab": {
          "base_uri": "https://localhost:8080/"
        },
        "id": "a2GHxDWqhLSN",
        "outputId": "8f5cb1aa-4170-4a1a-921e-34237bf6aa26"
      },
      "outputs": [
        {
          "name": "stdout",
          "output_type": "stream",
          "text": [
            "The slowest run took 15.25 times longer than the fastest. This could mean that an intermediate result is being cached.\n",
            "1000000 loops, best of 5: 1.22 µs per loop\n",
            "\u001b[35mruntimes for initializing 20 landmarks with RF: 15.4247\u001b[0m\n",
            "\u001b[33mruntimes for RF: 16.5377\u001b[0m\n"
          ]
        }
      ],
      "source": [
        "model = 'RF'\n",
        "%timeit runTimeMD(data1_lan_long, data2_lan_long, Q_size=20, model=model, \\\n",
        "                  C=100, gamma='auto', std_coeff=1, n_neighbors=5, n_estimators=50)\n",
        "Runtime = runTimeMD(data1_lan_long, data2_lan_long, Q_size=20, model=model, C=100, \n",
        "                    gamma='auto', std_coeff=1, n_neighbors=5, n_estimators=50)\n",
        "A = Runtime.train_classifier_runtime_Q()\n",
        "\n",
        "print(colored(f'runtimes for initializing 20 landmarks with {model}: {np.round(A[1], decimals=4)}', 'magenta'))\n",
        "print(colored(f'runtimes for {model}: {np.round(A[0], decimals=4)}', 'yellow'))"
      ]
    },
    {
      "cell_type": "code",
      "execution_count": null,
      "metadata": {
        "colab": {
          "base_uri": "https://localhost:8080/"
        },
        "id": "9eLeVsNjhMsU",
        "outputId": "22b58f8a-02d5-4343-901a-6f19efd3a14d"
      },
      "outputs": [
        {
          "name": "stdout",
          "output_type": "stream",
          "text": [
            "The slowest run took 7.83 times longer than the fastest. This could mean that an intermediate result is being cached.\n",
            "1000000 loops, best of 5: 1.23 µs per loop\n",
            "\u001b[35mruntimes for initializing 20 landmarks with KNN: 14.0156\u001b[0m\n",
            "\u001b[33mruntimes for KNN: 15.066\u001b[0m\n"
          ]
        }
      ],
      "source": [
        "model = 'KNN'\n",
        "%timeit runTimeMD(data1_lan_long, data2_lan_long, Q_size=20, model=model, \\\n",
        "                  C=100, gamma='auto', std_coeff=1, n_neighbors=5, n_estimators=50)\n",
        "Runtime = runTimeMD(data1_lan_long, data2_lan_long, Q_size=20, model=model, C=100, \n",
        "                    gamma='auto', std_coeff=1, n_neighbors=5, n_estimators=50)\n",
        "A = Runtime.train_classifier_runtime_Q()\n",
        "\n",
        "print(colored(f'runtimes for initializing 20 landmarks with {model}: {np.round(A[1], decimals=4)}', 'magenta'))\n",
        "print(colored(f'runtimes for {model}: {np.round(A[0], decimals=4)}', 'yellow'))"
      ]
    },
    {
      "cell_type": "code",
      "execution_count": null,
      "metadata": {
        "colab": {
          "base_uri": "https://localhost:8080/"
        },
        "id": "UrF73nslhOYk",
        "outputId": "234d1331-19c5-4db7-f6d2-9bcc03f2a978"
      },
      "outputs": [
        {
          "name": "stdout",
          "output_type": "stream",
          "text": [
            "The slowest run took 7.53 times longer than the fastest. This could mean that an intermediate result is being cached.\n",
            "1000000 loops, best of 5: 1.21 µs per loop\n",
            "\u001b[35mruntimes for initializing 20 landmarks with LR: 15.3133\u001b[0m\n",
            "\u001b[33mruntimes for LR: 16.3527\u001b[0m\n"
          ]
        }
      ],
      "source": [
        "model = 'LR'\n",
        "%timeit runTimeMD(data1_lan_long, data2_lan_long, Q_size=20, model=model, \\\n",
        "                  C=100, gamma='auto', std_coeff=1, n_neighbors=5, n_estimators=50)\n",
        "Runtime = runTimeMD(data1_lan_long, data2_lan_long, Q_size=20, model=model, C=100, \n",
        "                    gamma='auto', std_coeff=1, n_neighbors=5, n_estimators=50)\n",
        "A = Runtime.train_classifier_runtime_Q()\n",
        "\n",
        "print(colored(f'runtimes for initializing 20 landmarks with {model}: {np.round(A[1], decimals=4)}', 'magenta'))\n",
        "print(colored(f'runtimes for {model}: {np.round(A[0], decimals=4)}', 'yellow'))"
      ]
    },
    {
      "cell_type": "markdown",
      "metadata": {
        "id": "oy_vop-f-8yh"
      },
      "source": [
        "## KNN runtime"
      ]
    },
    {
      "cell_type": "markdown",
      "metadata": {
        "id": "5XOyGGrpow0R"
      },
      "source": [
        "### install package"
      ]
    },
    {
      "cell_type": "code",
      "execution_count": null,
      "metadata": {
        "colab": {
          "base_uri": "https://localhost:8080/"
        },
        "id": "AhzEVPpzow0R",
        "outputId": "e5269227-31c3-4ca8-ac83-dbe7938866ee"
      },
      "outputs": [
        {
          "name": "stdout",
          "output_type": "stream",
          "text": [
            "/content/gdrive/My Drive/traj-dist\n"
          ]
        }
      ],
      "source": [
        "# to make a directory\n",
        "%cd 'gdrive/My Drive/traj-dist'"
      ]
    },
    {
      "cell_type": "code",
      "execution_count": null,
      "metadata": {
        "id": "r64WIR-DUEY8"
      },
      "outputs": [],
      "source": [
        "# to see in what directory we are in"
      ]
    },
    {
      "cell_type": "code",
      "execution_count": null,
      "metadata": {
        "colab": {
          "base_uri": "https://localhost:8080/",
          "height": 35
        },
        "id": "X2Acg0FSow0S",
        "outputId": "e83825ce-fd50-4e84-b687-5e7adcf9943a"
      },
      "outputs": [
        {
          "data": {
            "application/vnd.google.colaboratory.intrinsic+json": {
              "type": "string"
            },
            "text/plain": [
              "'/content/gdrive/My Drive/traj-dist'"
            ]
          },
          "execution_count": 48,
          "metadata": {},
          "output_type": "execute_result"
        }
      ],
      "source": [
        "pwd"
      ]
    },
    {
      "cell_type": "code",
      "execution_count": null,
      "metadata": {
        "id": "3PIdZeswow0S"
      },
      "outputs": [],
      "source": [
        "# to install setup.py from the current directory\n",
        "!python setup.py install"
      ]
    },
    {
      "cell_type": "code",
      "execution_count": null,
      "metadata": {
        "colab": {
          "base_uri": "https://localhost:8080/"
        },
        "id": "yc1M062tow0S",
        "outputId": "4a41f883-dfb4-4247-8194-8c6ff01b618b"
      },
      "outputs": [
        {
          "name": "stdout",
          "output_type": "stream",
          "text": [
            "Requirement already satisfied: geohash2 in /usr/local/lib/python3.7/dist-packages (1.1)\n",
            "Requirement already satisfied: docutils>=0.3 in /usr/local/lib/python3.7/dist-packages (from geohash2) (0.17.1)\n"
          ]
        }
      ],
      "source": [
        "!pip install geohash2"
      ]
    },
    {
      "cell_type": "code",
      "execution_count": null,
      "metadata": {
        "colab": {
          "base_uri": "https://localhost:8080/"
        },
        "id": "tZ5jFhtNCa_T",
        "outputId": "63a30103-c31a-4472-97b6-a1502364dbf3"
      },
      "outputs": [
        {
          "name": "stdout",
          "output_type": "stream",
          "text": [
            "Requirement already satisfied: fastdtw in /usr/local/lib/python3.7/dist-packages (0.3.4)\n",
            "Requirement already satisfied: numpy in /usr/local/lib/python3.7/dist-packages (from fastdtw) (1.19.5)\n"
          ]
        }
      ],
      "source": [
        "pip install fastdtw"
      ]
    },
    {
      "cell_type": "code",
      "execution_count": null,
      "metadata": {
        "id": "OLkQo51ICl6e"
      },
      "outputs": [],
      "source": [
        "pip install tslearn"
      ]
    },
    {
      "cell_type": "markdown",
      "metadata": {
        "id": "--uKwvMpCC44"
      },
      "source": [
        "### KNN runtimes"
      ]
    },
    {
      "cell_type": "code",
      "execution_count": null,
      "metadata": {
        "colab": {
          "base_uri": "https://localhost:8080/",
          "height": 73,
          "resources": {
            "http://localhost:8080/nbextensions/google.colab/files.js": {
              "data": "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",
              "headers": [
                [
                  "content-type",
                  "application/javascript"
                ]
              ],
              "ok": true,
              "status": 200,
              "status_text": ""
            }
          }
        },
        "id": "R4IRvLtVkWGk",
        "outputId": "155113c5-0069-4ed5-def5-126df716067c"
      },
      "outputs": [
        {
          "data": {
            "text/html": [
              "\n",
              "     <input type=\"file\" id=\"files-c4d6cf03-84e8-4901-b2a7-f019babfc923\" name=\"files[]\" multiple disabled\n",
              "        style=\"border:none\" />\n",
              "     <output id=\"result-c4d6cf03-84e8-4901-b2a7-f019babfc923\">\n",
              "      Upload widget is only available when the cell has been executed in the\n",
              "      current browser session. Please rerun this cell to enable.\n",
              "      </output>\n",
              "      <script src=\"/nbextensions/google.colab/files.js\"></script> "
            ],
            "text/plain": [
              "<IPython.core.display.HTML object>"
            ]
          },
          "metadata": {},
          "output_type": "display_data"
        },
        {
          "name": "stdout",
          "output_type": "stream",
          "text": [
            "Saving KNN_Class_Colab_runtime.py to KNN_Class_Colab_runtime (1).py\n"
          ]
        }
      ],
      "source": [
        "from google.colab import files\n",
        "files.upload()\n",
        "\n",
        "import KNN_Class_Colab_runtime\n",
        "from KNN_Class_Colab_runtime import KNN_runTime"
      ]
    },
    {
      "cell_type": "code",
      "execution_count": null,
      "metadata": {
        "id": "RtHARuFkhQ_D"
      },
      "outputs": [],
      "source": [
        "'''This class handles all the metrics in \"metrics array bellow\" and is appropriate for using in Anaconda \n",
        "   for example, but not on Google Colab.'''\n",
        "\n",
        "'''Requirements: (These are already installed in my computer)\n",
        "        1. We need \"pip install trjtrypy\" in order to be able to use d_Q_pi\n",
        "        2. We need \"pip install tslearn\" in order to be able to use dtw\n",
        "        3. We need \"pip install fastdtw\" in order to be able to use fastdtw\n",
        "        4. We need \"pip install traj_dist\" in order to be able to use the rest of metrics'''\n",
        "\n",
        "\n",
        "import numpy as np\n",
        "import time\n",
        "import pandas as pd\n",
        "import random\n",
        "from scipy.spatial.distance import euclidean\n",
        "from fastdtw import fastdtw\n",
        "import traj_dist.distance as tdist\n",
        "import pickle\n",
        "import tslearn\n",
        "from tslearn.metrics import dtw as dtw_tslearn\n",
        "from sklearn.model_selection import train_test_split\n",
        "from sklearn.neighbors import KNeighborsClassifier\n",
        "from trjtrypy.distances import d_Q_pi\n",
        "from termcolor import colored\n",
        "\n",
        "#metrics = ['discret_frechet', 'hausdorff', 'dtw', 'sspd', 'erp', 'edr', 'lcss',  \n",
        "#           fastdtw, dtw, d_Q_pi]\n",
        "\n",
        "# path example: \n",
        "#'Calculated Distance Matrices for KNN/Beijing-Pairs['+str(pairs_final[i])+']-d_Q_pi.csv'\n",
        "\n",
        "\n",
        "class KNN_runTime:\n",
        "    \n",
        "    def __init__(self, data1, data2, metric, gamma=None, eps_edr=None, eps_lcss=None, \n",
        "                 Q_size=None, Q=None, p=2, n_neighbors=5, pair=None):\n",
        "        '''data1 = data[pair[0]]\n",
        "           data2 = data[pair[1]]'''\n",
        "        self.data1 = data1\n",
        "        self.data2 = data2\n",
        "        self.metric = metric\n",
        "        self.gamma = gamma\n",
        "        self.eps_edr = eps_edr\n",
        "        self.eps_lcss = eps_lcss\n",
        "        self.Q_size = Q_size\n",
        "        self.Q = Q\n",
        "        self.p = p\n",
        "        self.n_neighbors = n_neighbors\n",
        "        self.pair = pair\n",
        "    \n",
        "\n",
        "\n",
        "\n",
        "    def calculate_dists_matrix(self):\n",
        "\n",
        "        data = np.concatenate((self.data1, self.data2), 0)\n",
        "        n = len(data)\n",
        "\n",
        "        if self.metric == 'lcss':\n",
        "            A = tdist.pdist(data, self.metric, type_d=\"euclidean\", eps=self.eps_lcss)\n",
        "        if self.metric == 'edr':\n",
        "            A = tdist.pdist(data, self.metric, type_d=\"euclidean\", eps=self.eps_edr)\n",
        "        if self.metric in ['discret_frechet', 'hausdorff', 'dtw', 'sspd', 'erp']: \n",
        "            A = tdist.pdist(data, str(self.metric))\n",
        "        if self.metric == fastdtw: \n",
        "            A = []\n",
        "            for i in range(n-1):\n",
        "                for j in range(i+1, n):\n",
        "                    A.append(self.metric(data[i], data[j])[0])\n",
        "        if self.metric == dtw_tslearn: \n",
        "            A = []\n",
        "            for i in range(n-1):\n",
        "                for j in range(i+1, n):\n",
        "                    A.append(self.metric(data[i], data[j]))\n",
        "        if self.metric == 'd_Q_pi':\n",
        "            A = []\n",
        "            if self.Q_size:\n",
        "                Q = self.generate_random_Q()\n",
        "                for i in range(n-1):\n",
        "                    for j in range(i+1, n):\n",
        "                        A.append(d_Q_pi(Q, data[i], data[j], p=self.p))\n",
        "            elif len(self.Q):\n",
        "                for i in range(n-1):\n",
        "                    for j in range(i+1, n):\n",
        "                        A.append(d_Q_pi(self.Q, data[i], data[j], p=self.p))\n",
        "\n",
        "        tri = np.zeros((n, n))\n",
        "        tri[np.triu_indices(n, 1)] = np.array(A)\n",
        "        for i in range(1, n):\n",
        "            for j in range(i):\n",
        "                tri[i][j] = tri[j][i]\n",
        "                \n",
        "        return tri\n",
        "\n",
        "\n",
        "\n",
        "\n",
        "\n",
        "    '''The following function is only used for d_Q_pi distance in order to \n",
        "       generate random landmarks\n",
        "       Notice: in this pattern of coding we cannot use train1 and train2 to \n",
        "       get Q in the following function.'''\n",
        "    def generate_random_Q(self):\n",
        "        Q = np.zeros((self.Q_size, 2))\n",
        "        data = np.concatenate((self.data1, self.data2), 0)\n",
        "        Mean = np.mean([np.mean(data[i], 0) for i in range(len(data))], 0)\n",
        "        Std = np.std([np.std(data[i], 0) for i in range(len(data))], 0)\n",
        "        Q[:,0] = np.random.normal(Mean[0], 4 * Std[0], self.Q_size)\n",
        "        Q[:,1] = np.random.normal(Mean[1], 4 * Std[1], self.Q_size)\n",
        "        return Q\n",
        "\n",
        "\n",
        "\n",
        "\n",
        "    def KNN_runtime(self):\n",
        "        \n",
        "        start_time = time.time()\n",
        "        n_1 = len(self.data1)\n",
        "        n_2 = len(self.data2) \n",
        "        \n",
        "        labels = np.array([1] * n_1 + [-1] * n_2)\n",
        "        data = np.concatenate((self.data1, self.data2), 0)\n",
        "        dist_matrix = self.calculate_dists_matrix()\n",
        "\n",
        "        clf = KNeighborsClassifier(n_neighbors=self.n_neighbors, metric='precomputed')\n",
        "        clf.fit(dist_matrix, list(labels))\n",
        "        stop_time = time.time()\n",
        "        runtime = stop_time - start_time\n",
        "\n",
        "        return runtime\n",
        "    "
      ]
    },
    {
      "cell_type": "code",
      "execution_count": null,
      "metadata": {
        "colab": {
          "base_uri": "https://localhost:8080/"
        },
        "id": "xvVivhRLDYo6",
        "outputId": "97f297f9-90f6-44bc-ff0f-f54138e475d8"
      },
      "outputs": [
        {
          "name": "stdout",
          "output_type": "stream",
          "text": [
            "The slowest run took 10.74 times longer than the fastest. This could mean that an intermediate result is being cached.\n",
            "1000000 loops, best of 5: 1.53 µs per loop\n",
            "\u001b[33mruntimes for discret_frechet: 3176.5091540813446\u001b[0m\n",
            "\u001b[31m===============================================================\u001b[0m\n",
            "The slowest run took 6.24 times longer than the fastest. This could mean that an intermediate result is being cached.\n",
            "1000000 loops, best of 5: 1.55 µs per loop\n",
            "\u001b[33mruntimes for hausdorff: 965.9958684444427\u001b[0m\n",
            "\u001b[31m===============================================================\u001b[0m\n",
            "The slowest run took 6.31 times longer than the fastest. This could mean that an intermediate result is being cached.\n",
            "1000000 loops, best of 5: 1.52 µs per loop\n",
            "\u001b[33mruntimes for <function dtw at 0x7fa8675693b0>: 1203.904515504837\u001b[0m\n",
            "\u001b[31m===============================================================\u001b[0m\n",
            "The slowest run took 6.91 times longer than the fastest. This could mean that an intermediate result is being cached.\n",
            "1000000 loops, best of 5: 1.52 µs per loop\n",
            "\u001b[33mruntimes for <built-in function fastdtw>: 32.95609426498413\u001b[0m\n",
            "\u001b[31m===============================================================\u001b[0m\n",
            "The slowest run took 5.22 times longer than the fastest. This could mean that an intermediate result is being cached.\n",
            "1000000 loops, best of 5: 1.54 µs per loop\n",
            "\u001b[33mruntimes for lcss: 3300.155518054962\u001b[0m\n",
            "\u001b[31m===============================================================\u001b[0m\n",
            "The slowest run took 6.89 times longer than the fastest. This could mean that an intermediate result is being cached.\n",
            "1000000 loops, best of 5: 1.54 µs per loop\n",
            "\u001b[33mruntimes for sspd: 964.6377811431885\u001b[0m\n",
            "\u001b[31m===============================================================\u001b[0m\n",
            "The slowest run took 6.71 times longer than the fastest. This could mean that an intermediate result is being cached.\n",
            "1000000 loops, best of 5: 1.55 µs per loop\n",
            "\u001b[33mruntimes for edr: 3568.7783415317535\u001b[0m\n",
            "\u001b[31m===============================================================\u001b[0m\n",
            "The slowest run took 6.89 times longer than the fastest. This could mean that an intermediate result is being cached.\n",
            "1000000 loops, best of 5: 1.52 µs per loop\n"
          ]
        },
        {
          "name": "stderr",
          "output_type": "stream",
          "text": [
            "/usr/local/lib/python3.7/dist-packages/traj_dist-1.1-py3.7-linux-x86_64.egg/traj_dist/distance.py:552: UserWarning: g parameter should be specified for metric erp. Default is \n",
            "  warnings.warn(\"g parameter should be specified for metric erp. Default is \")\n"
          ]
        }
      ],
      "source": [
        "metrics = ['discret_frechet', 'hausdorff', dtw_tslearn, fastdtw, 'lcss', 'sspd',\n",
        "           'edr']\n",
        "runtimes = []\n",
        "for metric in metrics:\n",
        "    %timeit KNN_runTime(data1_lan_long, data2_lan_long, metric=metric, gamma=None, \\\n",
        "                        eps_edr=0.1, eps_lcss=0.1, Q_size=20, Q=None, p=2, \\\n",
        "                        n_neighbors=5, pair=[0,1])\n",
        "\n",
        "    Runtime = KNN_runTime(data1_lan_long, data2_lan_long, metric=metric, \n",
        "                          gamma=None, eps_edr=0.1, eps_lcss=0.1, Q_size=20, \n",
        "                          Q=None, p=2, n_neighbors=5, pair=[0,1])\n",
        "    a = Runtime.KNN_runtime()\n",
        "    runtimes.append(a)\n",
        "    print(colored(f'runtimes for {metric}: {a}', 'yellow'))\n",
        "    print(colored(\"===============================================================\", 'red'))\n",
        "\n",
        "print(colored(runtimes, 'blue'))"
      ]
    },
    {
      "cell_type": "code",
      "execution_count": null,
      "metadata": {
        "colab": {
          "base_uri": "https://localhost:8080/"
        },
        "id": "-7FdDRWoWmp0",
        "outputId": "38ae6927-a026-4a34-e3ce-bd0e6d46d939"
      },
      "outputs": [
        {
          "name": "stdout",
          "output_type": "stream",
          "text": [
            "The slowest run took 5.18 times longer than the fastest. This could mean that an intermediate result is being cached.\n",
            "100000 loops, best of 5: 2.88 µs per loop\n"
          ]
        },
        {
          "name": "stderr",
          "output_type": "stream",
          "text": [
            "/usr/local/lib/python3.7/dist-packages/traj_dist-1.1-py3.7-linux-x86_64.egg/traj_dist/distance.py:552: UserWarning: g parameter should be specified for metric erp. Default is \n",
            "  warnings.warn(\"g parameter should be specified for metric erp. Default is \")\n"
          ]
        },
        {
          "name": "stdout",
          "output_type": "stream",
          "text": [
            "\u001b[33mruntimes for erp: 10293.7284283638\u001b[0m\n",
            "\u001b[31m===============================================================\u001b[0m\n",
            "The slowest run took 6.45 times longer than the fastest. This could mean that an intermediate result is being cached.\n",
            "1000000 loops, best of 5: 1.53 µs per loop\n",
            "\u001b[33mruntimes for d_Q_pi: 297.22679829597473\u001b[0m\n",
            "\u001b[31m===============================================================\u001b[0m\n",
            "\u001b[34m[10293.7284283638, 297.22679829597473]\u001b[0m\n"
          ]
        }
      ],
      "source": [
        "metrics = ['erp', 'd_Q_pi']\n",
        "runtimes = []\n",
        "for metric in metrics:\n",
        "    %timeit KNN_runTime(data1_lan_long, data2_lan_long, metric=metric, gamma=None, \\\n",
        "                        eps_edr=0.1, eps_lcss=0.1, Q_size=20, Q=None, p=2, \\\n",
        "                        n_neighbors=5, pair=[0,1])\n",
        "\n",
        "    Runtime = KNN_runTime(data1_lan_long, data2_lan_long, metric=metric, \n",
        "                          gamma=None, eps_edr=0.1, eps_lcss=0.1, Q_size=20, \n",
        "                          Q=None, p=2, n_neighbors=5, pair=[0,1])\n",
        "    a = Runtime.KNN_runtime()\n",
        "    runtimes.append(a)\n",
        "    print(colored(f'runtimes for {metric}: {a}', 'yellow'))\n",
        "    print(colored(\"===============================================================\", 'red'))\n",
        "\n",
        "print(colored(runtimes, 'blue'))"
      ]
    },
    {
      "cell_type": "markdown",
      "metadata": {
        "id": "B7hNqrTzfv66"
      },
      "source": [
        "### KNN_LSH"
      ]
    },
    {
      "cell_type": "code",
      "execution_count": null,
      "metadata": {
        "colab": {
          "base_uri": "https://localhost:8080/",
          "height": 73,
          "resources": {
            "http://localhost:8080/nbextensions/google.colab/files.js": {
              "data": "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",
              "headers": [
                [
                  "content-type",
                  "application/javascript"
                ]
              ],
              "ok": true,
              "status": 200,
              "status_text": ""
            }
          }
        },
        "id": "AwmRiXkXlHaf",
        "outputId": "3df618d4-e322-4242-b86c-d7407f953004"
      },
      "outputs": [
        {
          "data": {
            "text/html": [
              "\n",
              "     <input type=\"file\" id=\"files-7ef1d8b6-54a0-4ff9-93ba-5b6d51284d31\" name=\"files[]\" multiple disabled\n",
              "        style=\"border:none\" />\n",
              "     <output id=\"result-7ef1d8b6-54a0-4ff9-93ba-5b6d51284d31\">\n",
              "      Upload widget is only available when the cell has been executed in the\n",
              "      current browser session. Please rerun this cell to enable.\n",
              "      </output>\n",
              "      <script src=\"/nbextensions/google.colab/files.js\"></script> "
            ],
            "text/plain": [
              "<IPython.core.display.HTML object>"
            ]
          },
          "metadata": {},
          "output_type": "display_data"
        },
        {
          "name": "stdout",
          "output_type": "stream",
          "text": [
            "Saving KNN_with_LSH_runtime.py to KNN_with_LSH_runtime (1).py\n"
          ]
        }
      ],
      "source": [
        "from google.colab import files\n",
        "files.upload()\n",
        "\n",
        "import KNN_with_LSH_runtime\n",
        "from KNN_with_LSH_runtime import KNN_LSH_runTime"
      ]
    },
    {
      "cell_type": "code",
      "execution_count": null,
      "metadata": {
        "id": "YzzkfAP4MOkY"
      },
      "outputs": [],
      "source": [
        "# pip install trjtrypy\n",
        "\n",
        "'''A clss for KNN with LSH distance with random circles in each iteration'''\n",
        "\n",
        "import numpy as np \n",
        "import time\n",
        "import random\n",
        "import pandas as pd\n",
        "from sklearn.model_selection import train_test_split\n",
        "from sklearn.neighbors import KNeighborsClassifier\n",
        "from trjtrypy.basedists import distance\n",
        "from termcolor import colored\n",
        "\n",
        "\n",
        "\n",
        "\n",
        "class KNN_LSH_runTime:\n",
        "    def __init__(self, data1, data2, number_circles):\n",
        "        self.data1 = data1\n",
        "        self.data2 = data2\n",
        "        self.number_circles = number_circles\n",
        "\n",
        "\n",
        "\n",
        "    def get_circles(self):\n",
        "\n",
        "        data = np.concatenate((self.data1, self.data2,), 0)\n",
        "        n = len(data)\n",
        "        Mean = np.mean([np.mean(data[i], 0) for i in range(n)], 0)\n",
        "        Std = np.std([np.std(data[i], 0) for i in range(n)], 0)\n",
        "        circles_centers = np.ones((self.number_circles,2))\n",
        "        circles_centers[:,0] = np.random.normal(Mean[0], 4 * Std[0], self.number_circles)\n",
        "        circles_centers[:,1] = np.random.normal(Mean[1], 4 * Std[1], self.number_circles)\n",
        "\n",
        "        return circles_centers\n",
        "\n",
        "\n",
        "\n",
        "    def get_radius(self):\n",
        "\n",
        "        a = np.mean([np.mean(self.data1[i], 0) for i in range(len(self.data1))], 0)\n",
        "        b = np.mean([np.mean(self.data2[i], 0) for i in range(len(self.data2))], 0)\n",
        "\n",
        "        return max(abs(a-b))\n",
        "\n",
        "\n",
        "\n",
        "    def LSH_sketch(self):\n",
        "\n",
        "        radius = self.get_radius()\n",
        "        #print(\"radius =\", radius)\n",
        "        data = np.concatenate((self.data1, self.data2), 0)\n",
        "        circles_centers = self.get_circles()\n",
        "        dists = distance(circles_centers, data) # shape = len(data) x number_circles\n",
        "        LSH_array = np.zeros((len(data), self.number_circles))\n",
        "        circules_cut_idx = np.where(dists < radius)\n",
        "        LSH_array[circules_cut_idx] = 1\n",
        "\n",
        "        return LSH_array\n",
        "\n",
        "\n",
        "    def calculate_LSH_dists(self):\n",
        "\n",
        "        LSH_array = self.LSH_sketch()\n",
        "        data = np.concatenate((self.data1, self.data2), 0)\n",
        "        dists = np.zeros((len(data), len(data)))\n",
        "        for i in range(len(data)-1):\n",
        "            dists[i, i+1:] = np.sum(abs(LSH_array[i+1:] - LSH_array[i]), 1)\n",
        "        for i in range(len(data)-1):\n",
        "            for j in range(i+1, len(data)):\n",
        "                dists[j][i] = dists[i][j]\n",
        "        \n",
        "        return dists\n",
        "\n",
        "\n",
        "\n",
        "    def KNN_LSH_runtime(self):\n",
        "\n",
        "        start_time = time.time()\n",
        "        n_1 = len(self.data1)\n",
        "        n_2 = len(self.data2)\n",
        "\n",
        "        radius = self.get_radius()\n",
        "        dist_matrix = self.calculate_LSH_dists()\n",
        "\n",
        "        labels = np.array([1]*n_1 + [-1] * n_2)\n",
        "\n",
        "        clf = KNeighborsClassifier(n_neighbors=5, metric='precomputed')\n",
        "        clf.fit(dist_matrix, list(labels))\n",
        "\n",
        "        stop_time = time.time()\n",
        "        runtime = stop_time - start_time\n",
        "        \n",
        "        return runtime\n"
      ]
    },
    {
      "cell_type": "code",
      "execution_count": null,
      "metadata": {
        "colab": {
          "base_uri": "https://localhost:8080/"
        },
        "id": "M3_SIFuThww7",
        "outputId": "34a4d6f6-edd8-48f0-e70c-2cc9796bddc9"
      },
      "outputs": [
        {
          "name": "stdout",
          "output_type": "stream",
          "text": [
            "The slowest run took 15.74 times longer than the fastest. This could mean that an intermediate result is being cached.\n",
            "1000000 loops, best of 5: 563 ns per loop\n",
            "\u001b[33mruntime for KNN with LSH is: 1.1543548107147217\u001b[0m\n"
          ]
        }
      ],
      "source": [
        "%timeit KNN_LSH = KNN_LSH_runTime(data1_lan_long, data2_lan_long, number_circles=20)\n",
        "\n",
        "KNN_LSH = KNN_LSH_runTime(data1_lan_long, data2_lan_long, number_circles=20)\n",
        "t = KNN_LSH.KNN_LSH_runtime()\n",
        "print(colored(f'runtime for KNN with LSH is: {t}', 'yellow'))"
      ]
    },
    {
      "cell_type": "markdown",
      "metadata": {
        "id": "UzM8TRIc0g_s"
      },
      "source": [
        "# Convolutional Neural Network For Random Choice of Q"
      ]
    },
    {
      "cell_type": "markdown",
      "metadata": {
        "id": "CeyWc9h40g_s"
      },
      "source": [
        "## Helper functions"
      ]
    },
    {
      "cell_type": "code",
      "execution_count": null,
      "metadata": {
        "id": "L6bMoKgu0g_s"
      },
      "outputs": [],
      "source": [
        "from collections import Counter\n",
        "\n",
        "def find_majority(votes):\n",
        "    vote_count = Counter(votes)\n",
        "    top = vote_count.most_common(1)\n",
        "    return top[0][0]\n",
        "\n",
        "def find_majority_array(A): # column-wise majority\n",
        "    return list(map(find_majority, A.T))\n",
        "\n",
        "\n",
        "def get_mu(data_1, data_2):\n",
        "    a = np.mean([np.mean(data_1[i], 0) for i in range(len(data_1))], 0)\n",
        "    b = np.mean([np.mean(data_2[i], 0) for i in range(len(data_2))], 0)\n",
        "    c = abs(a-b)\n",
        "    return max(c)\n",
        "\n",
        "\n",
        "def ExpCurve2Vec(points, curves, mu):\n",
        "    D = tt.distsbase.DistsBase()\n",
        "    a = np.array([np.exp(-1*np.power(D.APntSetDistACrv(points,curve),2)/(mu)**2) for curve in curves])\n",
        "    return a\n",
        "\n",
        "def get_endpoints(data):\n",
        "    n = len(data)\n",
        "    data_endpoints = np.zeros((n, 4))\n",
        "    for i in range(n):\n",
        "        data_endpoints[i] = np.concatenate((data[i][0], data[i][-1]), 0)\n",
        "    return data_endpoints\n",
        "\n",
        "def train_test(data_1, data_2, test_size=0.3):\n",
        "    \n",
        "    n_1 = len(data_1)\n",
        "    n_2 = len(data_2) \n",
        "    train_idx_1, test_idx_1, train_label_1, test_label_1 \\\n",
        "        = train_test_split(np.arange(n_1), [1] * n_1, test_size = test_size) \n",
        "    train_idx_2, test_idx_2, train_label_2, test_label_2 \\\n",
        "        = train_test_split(np.arange(n_2), [0] * n_2, test_size = test_size)\n",
        "\n",
        "    return train_idx_1, test_idx_1, train_label_1, test_label_1, \\\n",
        "                train_idx_2, test_idx_2, train_label_2, test_label_2\n",
        "\n",
        "def train_test_mu(data_1, data_2, test_size=0.3):\n",
        "    \n",
        "    n_1 = len(data_1)\n",
        "    n_2 = len(data_2) \n",
        "    train_idx_1, test_idx_1, train_label_1, test_label_1 \\\n",
        "        = train_test_split(np.arange(n_1), [1] * n_1, test_size=test_size) \n",
        "    train_idx_2, test_idx_2, train_label_2, test_label_2 \\\n",
        "        = train_test_split(np.arange(n_2), [0] * n_2, test_size=test_size)\n",
        "\n",
        "    train_1 = data_1[train_idx_1]\n",
        "    train_2 = data_2[train_idx_2]\n",
        "    test_1 = data_1[test_idx_1]\n",
        "    test_2 = data_2[test_idx_2]\n",
        "\n",
        "    arr1 = np.arange(len(train_1)+len(train_2))\n",
        "    I_1 = np.random.shuffle(arr1)\n",
        "\n",
        "    arr2 = np.arange(len(test_1)+len(test_2))\n",
        "    I_2 = np.random.shuffle(arr2)\n",
        "    \n",
        "    train = np.concatenate((train_1, train_2), 0)[arr1[I_1]]\n",
        "    train_labels = np.concatenate((train_label_1, train_label_2), 0)[arr1[I_1]]\n",
        "    test = np.concatenate((test_1, test_2), 0)[arr2[I_2]]\n",
        "    test_labels = np.concatenate((test_label_1, test_label_2), 0)[arr2[I_2]]\n",
        "\n",
        "    a = np.mean([np.mean(train_1[i], 0) for i in range(len(train_1))], 0)\n",
        "    b = np.mean([np.mean(train_2[i], 0) for i in range(len(train_2))], 0)\n",
        "    mu = max(abs(a-b))\n",
        "    \n",
        "    return mu, train[0], test[0], train_labels[0], test_labels[0]\n",
        "\n",
        "def flatten(x):\n",
        "    N = x.shape[0] \n",
        "    return x.view(N, -1)\n",
        "\n",
        "class Flatten(nn.Module):\n",
        "    def forward(self, x):\n",
        "        return flatten(x)"
      ]
    },
    {
      "cell_type": "markdown",
      "metadata": {
        "id": "qbxfL9xQ0g_s"
      },
      "source": [
        "## CNN for $v_Q$, $v_Q^{\\varsigma}$, $v_Q^{exp}$, endpoints"
      ]
    },
    {
      "cell_type": "code",
      "execution_count": null,
      "metadata": {
        "id": "oo0Bcy0E0g_s"
      },
      "outputs": [],
      "source": [
        "def neuralNetworkClassificationCNN(data_1, data_2, Q_size = 20, lr_decay = 0.9, \n",
        "                                   learning_rate = 1e-3, num_trials_maj = 11,\n",
        "                                   out_channels = 10, kernel_size = 10, \n",
        "                                   padding = 1, bias = True, Num_updates = 1000, \n",
        "                                   D_out = 2, epoch = 50, version = 'unsigned', \n",
        "                                   sigma = 100, test_size = 0.3):\n",
        "    \n",
        "    \"\"\" \n",
        "    in_channels: the dimension of hidden layer\n",
        "    D_out: output dimension\n",
        "    version: 'signed' or 'unsigned' or 'exp' \n",
        "    stride: should be fixed to 1\n",
        "    \"\"\"\n",
        "\n",
        "    start_time = time.time()\n",
        "\n",
        "    train_errors = np.zeros(epoch)\n",
        "    test_errors = np.zeros(epoch)\n",
        "\n",
        "    losses = torch.zeros(epoch, num_trials_maj, Num_updates)\n",
        "    \n",
        "    for s in range(epoch):\n",
        "\n",
        "        mu, train, test, train_labels, test_labels = train_test_mu(data_1, data_2, test_size)\n",
        "\n",
        "        train_labels = torch.from_numpy(train_labels).long()\n",
        "        test_labels = torch.from_numpy(test_labels).long()\n",
        "        \n",
        "        x_preds = torch.zeros(num_trials_maj, len(train))\n",
        "        y_preds = torch.zeros(num_trials_maj, len(test))\n",
        "\n",
        "        Min = np.min([np.min(train[i], 0) for i in range(len(train))], 0)\n",
        "        Max = np.max([np.max(train[i], 0) for i in range(len(train))], 0)\n",
        "        Mean = np.mean([np.mean(train[i], 0) for i in range(len(train))], 0)\n",
        "        Std = np.std([np.std(train[i], 0) for i in range(len(train))], 0)\n",
        "\n",
        "        for t in range(num_trials_maj):\n",
        "            Q = np.ones((Q_size, 2))\n",
        "            Q[:,0] = np.random.normal(Mean[0], 4 * Std[0], Q_size)\n",
        "            Q[:,1] = np.random.normal(Mean[1], 4 * Std[1], Q_size)\n",
        "\n",
        "            if (version == 'unsigned' or version == 'signed'):\n",
        "                train_data = curve2vec(Q, train, version = version, sigma = sigma)\n",
        "                test_data = curve2vec(Q, test, version = version, sigma = sigma)\n",
        "            elif version == 'exp':\n",
        "                train_data = ExpCurve2Vec(Q, train, mu)\n",
        "                test_data = ExpCurve2Vec(Q, test, mu)\n",
        "            elif version == 'endpoints':\n",
        "                train_data = get_endpoints(train)\n",
        "                test_data = get_endpoints(test)\n",
        "            \n",
        "            model = nn.Sequential(nn.Conv1d(in_channels = 1, \n",
        "                                    out_channels = out_channels, \n",
        "                                    kernel_size = kernel_size,\n",
        "                                    stride  = 1,\n",
        "                                    padding = padding,\n",
        "                                    bias = bias),\n",
        "                                nn.ReLU(),\n",
        "                                #nn.LeakyReLU(0.01),\n",
        "                                #nn.Tanh(),\n",
        "                                Flatten(),\n",
        "                                nn.Linear(out_channels * (len(train_data[0]) - kernel_size + 1 + 2 * padding), \n",
        "                                            D_out)\n",
        "                                )\n",
        "\n",
        "            #if torch.cuda.is_available(): # or device == torch.device(\"cuda:0\"):\n",
        "            #    model.cuda()\n",
        "    \n",
        "            loss_fn = torch.nn.CrossEntropyLoss()\n",
        "            optimizer = torch.optim.Adam(model.parameters(), lr = learning_rate)\n",
        "            \n",
        "            train_data = torch.from_numpy(train_data).float()\n",
        "            test_data = torch.from_numpy(test_data).float()\n",
        "\n",
        "            train_data = train_data.view(len(train_data), 1, len(train_data[0]))\n",
        "            \n",
        "            for k in range(Num_updates):\n",
        "                x_pred = model(train_data) # of shape (N, D_out)\n",
        "                loss = loss_fn(x_pred, train_labels)\n",
        "                losses[s, t, k] = loss\n",
        "                    \n",
        "                if (k+1) % 100 == 0:\n",
        "                    optimizer.param_groups[0]['lr'] = lr_decay * learning_rate\n",
        "\n",
        "                optimizer.zero_grad()\n",
        "\n",
        "                loss.backward() # Backward pass\n",
        "\n",
        "                optimizer.step()  # Calling the step function on the Optimizer \n",
        "\n",
        "            x_preds[t] = torch.argmax(model(train_data), axis=1)\n",
        "            test_data = test_data.view(len(test_data), 1, len(test_data[0]))        \n",
        "            y_preds[t] = torch.argmax(model(test_data), axis=1)\n",
        "        \n",
        "        x_preds = torch.tensor(find_majority_array(x_preds))\n",
        "        y_preds = torch.tensor(find_majority_array(y_preds))\n",
        "\n",
        "        train_errors[s] = sum(abs(train_labels - x_preds))/len(train_labels)\n",
        "        test_errors[s] = sum(abs(test_labels - y_preds))/len(test_labels)\n",
        "            \n",
        "    train_error_mean = np.mean(train_errors)\n",
        "    test_error_mean = np.mean(test_errors)\n",
        "    test_error_std = np.std(test_errors)\n",
        "\n",
        "    plt.plot((torch.mean(losses, dim=(0,1))).detach().numpy())\n",
        "    plt.show()\n",
        "\n",
        "    Dict = {\"CNN 1-Layer\": [out_channels, learning_rate, \n",
        "               np.round(train_error_mean, decimals=4), \n",
        "                np.round(test_error_mean, decimals=4),\n",
        "                np.round(test_error_std, decimals=4)]}\n",
        "\n",
        "    pdf = pd.DataFrame.from_dict(Dict, orient='index', \n",
        "                columns=['Channel 1', 'Learning Rate', 'Train Error', \n",
        "                         'Test Error', 'Std Error'])\n",
        "    \n",
        "    print(colored(f\"total time = {time.time() - start_time}\", \"red\"))\n",
        "\n",
        "    return pdf"
      ]
    },
    {
      "cell_type": "markdown",
      "metadata": {
        "id": "F04BDsTy0g_t"
      },
      "source": [
        "### Endpoints"
      ]
    },
    {
      "cell_type": "code",
      "execution_count": null,
      "metadata": {
        "scrolled": true,
        "id": "hGlsQhAG0g_t",
        "outputId": "b6351a77-6c93-4e8a-9edf-8e1187ca4b62"
      },
      "outputs": [
        {
          "data": {
            "image/png": "[encoded data removed]",
            "text/plain": [
              "<Figure size 432x288 with 1 Axes>"
            ]
          },
          "metadata": {
            "needs_background": "light"
          },
          "output_type": "display_data"
        },
        {
          "name": "stdout",
          "output_type": "stream",
          "text": [
            "\u001b[31mtotal time = 27.306640148162842\u001b[0m\n"
          ]
        },
        {
          "data": {
            "text/html": [
              "<div>\n",
              "<style scoped>\n",
              "    .dataframe tbody tr th:only-of-type {\n",
              "        vertical-align: middle;\n",
              "    }\n",
              "\n",
              "    .dataframe tbody tr th {\n",
              "        vertical-align: top;\n",
              "    }\n",
              "\n",
              "    .dataframe thead th {\n",
              "        text-align: right;\n",
              "    }\n",
              "</style>\n",
              "<table border=\"1\" class=\"dataframe\">\n",
              "  <thead>\n",
              "    <tr style=\"text-align: right;\">\n",
              "      <th></th>\n",
              "      <th>Channel 1</th>\n",
              "      <th>Learning Rate</th>\n",
              "      <th>Train Error</th>\n",
              "      <th>Test Error</th>\n",
              "      <th>Std Error</th>\n",
              "    </tr>\n",
              "  </thead>\n",
              "  <tbody>\n",
              "    <tr>\n",
              "      <th>CNN 1-Layer</th>\n",
              "      <td>10</td>\n",
              "      <td>0.001</td>\n",
              "      <td>0.0762</td>\n",
              "      <td>0.0778</td>\n",
              "      <td>0.0753</td>\n",
              "    </tr>\n",
              "  </tbody>\n",
              "</table>\n",
              "</div>"
            ],
            "text/plain": [
              "             Channel 1  Learning Rate  Train Error  Test Error  Std Error\n",
              "CNN 1-Layer         10          0.001       0.0762      0.0778     0.0753"
            ]
          },
          "execution_count": 56,
          "metadata": {},
          "output_type": "execute_result"
        }
      ],
      "source": [
        "neuralNetworkClassificationCNN(data1_lan_long, data2_lan_long, Q_size = 20, lr_decay = 0.9, \n",
        "                                   learning_rate = 1e-3, num_trials_maj = 1,\n",
        "                                   out_channels = 10, kernel_size = 2,  \n",
        "                                   padding = 1, bias = True, Num_updates = 500, \n",
        "                                   D_out = 2, epoch = 50, version = 'endpoints', \n",
        "                                   sigma = 0.01, test_size = 0.3)"
      ]
    },
    {
      "cell_type": "markdown",
      "metadata": {
        "id": "CxKLymR30g_t"
      },
      "source": [
        "### |Q|=20"
      ]
    },
    {
      "cell_type": "markdown",
      "metadata": {
        "id": "YecFkSKK0g_t"
      },
      "source": [
        "#### Vote(Rand $v_Q$)"
      ]
    },
    {
      "cell_type": "code",
      "execution_count": null,
      "metadata": {
        "id": "UXaGVFKJ0g_t",
        "outputId": "2af09e76-e78e-4ed9-aa00-32194890ff98"
      },
      "outputs": [
        {
          "data": {
            "image/png": "[encoded data removed]",
            "text/plain": [
              "<Figure size 432x288 with 1 Axes>"
            ]
          },
          "metadata": {
            "needs_background": "light"
          },
          "output_type": "display_data"
        },
        {
          "name": "stdout",
          "output_type": "stream",
          "text": [
            "\u001b[31mtotal time = 831.2375822067261\u001b[0m\n"
          ]
        },
        {
          "data": {
            "text/html": [
              "<div>\n",
              "<style scoped>\n",
              "    .dataframe tbody tr th:only-of-type {\n",
              "        vertical-align: middle;\n",
              "    }\n",
              "\n",
              "    .dataframe tbody tr th {\n",
              "        vertical-align: top;\n",
              "    }\n",
              "\n",
              "    .dataframe thead th {\n",
              "        text-align: right;\n",
              "    }\n",
              "</style>\n",
              "<table border=\"1\" class=\"dataframe\">\n",
              "  <thead>\n",
              "    <tr style=\"text-align: right;\">\n",
              "      <th></th>\n",
              "      <th>Channel 1</th>\n",
              "      <th>Learning Rate</th>\n",
              "      <th>Train Error</th>\n",
              "      <th>Test Error</th>\n",
              "      <th>Std Error</th>\n",
              "    </tr>\n",
              "  </thead>\n",
              "  <tbody>\n",
              "    <tr>\n",
              "      <th>CNN 1-Layer</th>\n",
              "      <td>10</td>\n",
              "      <td>0.001</td>\n",
              "      <td>0.048</td>\n",
              "      <td>0.0637</td>\n",
              "      <td>0.0232</td>\n",
              "    </tr>\n",
              "  </tbody>\n",
              "</table>\n",
              "</div>"
            ],
            "text/plain": [
              "             Channel 1  Learning Rate  Train Error  Test Error  Std Error\n",
              "CNN 1-Layer         10          0.001        0.048      0.0637     0.0232"
            ]
          },
          "execution_count": 57,
          "metadata": {},
          "output_type": "execute_result"
        }
      ],
      "source": [
        "neuralNetworkClassificationCNN(data1_lan_long, data2_lan_long, Q_size = 20, lr_decay = 0.9, \n",
        "                                   learning_rate = 1e-3, num_trials_maj = 11,\n",
        "                                   out_channels = 10, kernel_size = 5,  \n",
        "                                   padding = 1, bias = True, Num_updates = 500, \n",
        "                                   D_out = 2, epoch = 50, version = 'unsigned', \n",
        "                                   sigma = 100, test_size = 0.3)"
      ]
    },
    {
      "cell_type": "markdown",
      "metadata": {
        "id": "LP-4rUQp0g_t"
      },
      "source": [
        "#### Vote($v_Q^{\\varsigma}$)"
      ]
    },
    {
      "cell_type": "code",
      "execution_count": null,
      "metadata": {
        "id": "6iO9gs7y0g_t",
        "outputId": "12ce427d-75d8-4410-aafd-e6c036ffc803"
      },
      "outputs": [
        {
          "data": {
            "image/png": "[encoded data removed]",
            "text/plain": [
              "<Figure size 432x288 with 1 Axes>"
            ]
          },
          "metadata": {
            "needs_background": "light"
          },
          "output_type": "display_data"
        },
        {
          "name": "stdout",
          "output_type": "stream",
          "text": [
            "\u001b[31mtotal time = 790.3821868896484\u001b[0m\n"
          ]
        },
        {
          "data": {
            "text/html": [
              "<div>\n",
              "<style scoped>\n",
              "    .dataframe tbody tr th:only-of-type {\n",
              "        vertical-align: middle;\n",
              "    }\n",
              "\n",
              "    .dataframe tbody tr th {\n",
              "        vertical-align: top;\n",
              "    }\n",
              "\n",
              "    .dataframe thead th {\n",
              "        text-align: right;\n",
              "    }\n",
              "</style>\n",
              "<table border=\"1\" class=\"dataframe\">\n",
              "  <thead>\n",
              "    <tr style=\"text-align: right;\">\n",
              "      <th></th>\n",
              "      <th>Channel 1</th>\n",
              "      <th>Learning Rate</th>\n",
              "      <th>Train Error</th>\n",
              "      <th>Test Error</th>\n",
              "      <th>Std Error</th>\n",
              "    </tr>\n",
              "  </thead>\n",
              "  <tbody>\n",
              "    <tr>\n",
              "      <th>CNN 1-Layer</th>\n",
              "      <td>10</td>\n",
              "      <td>0.002</td>\n",
              "      <td>0.0657</td>\n",
              "      <td>0.1043</td>\n",
              "      <td>0.0344</td>\n",
              "    </tr>\n",
              "  </tbody>\n",
              "</table>\n",
              "</div>"
            ],
            "text/plain": [
              "             Channel 1  Learning Rate  Train Error  Test Error  Std Error\n",
              "CNN 1-Layer         10          0.002       0.0657      0.1043     0.0344"
            ]
          },
          "execution_count": 58,
          "metadata": {},
          "output_type": "execute_result"
        }
      ],
      "source": [
        "neuralNetworkClassificationCNN(data1_lan_long, data2_lan_long, Q_size = 20, lr_decay = 0.9, \n",
        "                                   learning_rate = 2e-3, num_trials_maj = 11,\n",
        "                                   out_channels = 10, kernel_size = 5,  \n",
        "                                   padding = 1, bias = True, Num_updates = 500, \n",
        "                                   D_out = 2, epoch = 50, version = 'signed', \n",
        "                                   sigma = 100, test_size = 0.3)"
      ]
    },
    {
      "cell_type": "markdown",
      "metadata": {
        "id": "D6M1cjuE0g_u"
      },
      "source": [
        "#### Vote(Rand $v_Q^{exp}$)"
      ]
    },
    {
      "cell_type": "code",
      "execution_count": null,
      "metadata": {
        "id": "L_l86piA0g_u",
        "outputId": "3f98f650-6f80-482d-b9a8-04b1f500bbc9"
      },
      "outputs": [
        {
          "data": {
            "image/png": "[encoded data removed]",
            "text/plain": [
              "<Figure size 432x288 with 1 Axes>"
            ]
          },
          "metadata": {
            "needs_background": "light"
          },
          "output_type": "display_data"
        },
        {
          "name": "stdout",
          "output_type": "stream",
          "text": [
            "\u001b[31mtotal time = 811.9109740257263\u001b[0m\n"
          ]
        },
        {
          "data": {
            "text/html": [
              "<div>\n",
              "<style scoped>\n",
              "    .dataframe tbody tr th:only-of-type {\n",
              "        vertical-align: middle;\n",
              "    }\n",
              "\n",
              "    .dataframe tbody tr th {\n",
              "        vertical-align: top;\n",
              "    }\n",
              "\n",
              "    .dataframe thead th {\n",
              "        text-align: right;\n",
              "    }\n",
              "</style>\n",
              "<table border=\"1\" class=\"dataframe\">\n",
              "  <thead>\n",
              "    <tr style=\"text-align: right;\">\n",
              "      <th></th>\n",
              "      <th>Channel 1</th>\n",
              "      <th>Learning Rate</th>\n",
              "      <th>Train Error</th>\n",
              "      <th>Test Error</th>\n",
              "      <th>Std Error</th>\n",
              "    </tr>\n",
              "  </thead>\n",
              "  <tbody>\n",
              "    <tr>\n",
              "      <th>CNN 1-Layer</th>\n",
              "      <td>10</td>\n",
              "      <td>0.001</td>\n",
              "      <td>0.0551</td>\n",
              "      <td>0.0449</td>\n",
              "      <td>0.0264</td>\n",
              "    </tr>\n",
              "  </tbody>\n",
              "</table>\n",
              "</div>"
            ],
            "text/plain": [
              "             Channel 1  Learning Rate  Train Error  Test Error  Std Error\n",
              "CNN 1-Layer         10          0.001       0.0551      0.0449     0.0264"
            ]
          },
          "execution_count": 59,
          "metadata": {},
          "output_type": "execute_result"
        }
      ],
      "source": [
        "neuralNetworkClassificationCNN(data1_lan_long, data2_lan_long, Q_size = 20, lr_decay = 0.9, \n",
        "                                   learning_rate = 1e-3, num_trials_maj = 11,\n",
        "                                   out_channels = 10, kernel_size = 5,  \n",
        "                                   padding = 1, bias = True, Num_updates = 500, \n",
        "                                   D_out = 2, epoch = 50, version = 'exp', \n",
        "                                   sigma = 100, test_size = 0.3)"
      ]
    },
    {
      "cell_type": "markdown",
      "metadata": {
        "id": "aSCMIFPt0g_u"
      },
      "source": [
        "#### Rand($v_Q$)"
      ]
    },
    {
      "cell_type": "code",
      "execution_count": null,
      "metadata": {
        "id": "X95p9tm60g_u",
        "outputId": "dca70087-d20e-42e2-caf3-6c41dde58139"
      },
      "outputs": [
        {
          "data": {
            "image/png": "[encoded data removed]",
            "text/plain": [
              "<Figure size 432x288 with 1 Axes>"
            ]
          },
          "metadata": {
            "needs_background": "light"
          },
          "output_type": "display_data"
        },
        {
          "name": "stdout",
          "output_type": "stream",
          "text": [
            "\u001b[31mtotal time = 67.3783609867096\u001b[0m\n"
          ]
        },
        {
          "data": {
            "text/html": [
              "<div>\n",
              "<style scoped>\n",
              "    .dataframe tbody tr th:only-of-type {\n",
              "        vertical-align: middle;\n",
              "    }\n",
              "\n",
              "    .dataframe tbody tr th {\n",
              "        vertical-align: top;\n",
              "    }\n",
              "\n",
              "    .dataframe thead th {\n",
              "        text-align: right;\n",
              "    }\n",
              "</style>\n",
              "<table border=\"1\" class=\"dataframe\">\n",
              "  <thead>\n",
              "    <tr style=\"text-align: right;\">\n",
              "      <th></th>\n",
              "      <th>Channel 1</th>\n",
              "      <th>Learning Rate</th>\n",
              "      <th>Train Error</th>\n",
              "      <th>Test Error</th>\n",
              "      <th>Std Error</th>\n",
              "    </tr>\n",
              "  </thead>\n",
              "  <tbody>\n",
              "    <tr>\n",
              "      <th>CNN 1-Layer</th>\n",
              "      <td>10</td>\n",
              "      <td>0.001</td>\n",
              "      <td>0.0474</td>\n",
              "      <td>0.0646</td>\n",
              "      <td>0.0254</td>\n",
              "    </tr>\n",
              "  </tbody>\n",
              "</table>\n",
              "</div>"
            ],
            "text/plain": [
              "             Channel 1  Learning Rate  Train Error  Test Error  Std Error\n",
              "CNN 1-Layer         10          0.001       0.0474      0.0646     0.0254"
            ]
          },
          "execution_count": 60,
          "metadata": {},
          "output_type": "execute_result"
        }
      ],
      "source": [
        "neuralNetworkClassificationCNN(data1_lan_long, data2_lan_long, Q_size = 20, lr_decay = 0.9, \n",
        "                                   learning_rate = 1e-3, num_trials_maj = 1,\n",
        "                                   out_channels = 10, kernel_size = 5,  \n",
        "                                   padding = 1, bias = True, Num_updates = 500, \n",
        "                                   D_out = 2, epoch = 50, version = 'unsigned', \n",
        "                                   sigma = 100, test_size = 0.3)"
      ]
    },
    {
      "cell_type": "markdown",
      "metadata": {
        "id": "ALdUzEUV0g_u"
      },
      "source": [
        "#### Rand($v_Q^{\\varsigma}$)"
      ]
    },
    {
      "cell_type": "code",
      "execution_count": null,
      "metadata": {
        "id": "o5Mu9IWU0g_u",
        "outputId": "ecfb1b15-4fce-4fe2-d861-c49033e22bb3"
      },
      "outputs": [
        {
          "data": {
            "image/png": "[encoded data removed]",
            "text/plain": [
              "<Figure size 432x288 with 1 Axes>"
            ]
          },
          "metadata": {
            "needs_background": "light"
          },
          "output_type": "display_data"
        },
        {
          "name": "stdout",
          "output_type": "stream",
          "text": [
            "\u001b[31mtotal time = 66.34213185310364\u001b[0m\n"
          ]
        },
        {
          "data": {
            "text/html": [
              "<div>\n",
              "<style scoped>\n",
              "    .dataframe tbody tr th:only-of-type {\n",
              "        vertical-align: middle;\n",
              "    }\n",
              "\n",
              "    .dataframe tbody tr th {\n",
              "        vertical-align: top;\n",
              "    }\n",
              "\n",
              "    .dataframe thead th {\n",
              "        text-align: right;\n",
              "    }\n",
              "</style>\n",
              "<table border=\"1\" class=\"dataframe\">\n",
              "  <thead>\n",
              "    <tr style=\"text-align: right;\">\n",
              "      <th></th>\n",
              "      <th>Channel 1</th>\n",
              "      <th>Learning Rate</th>\n",
              "      <th>Train Error</th>\n",
              "      <th>Test Error</th>\n",
              "      <th>Std Error</th>\n",
              "    </tr>\n",
              "  </thead>\n",
              "  <tbody>\n",
              "    <tr>\n",
              "      <th>CNN 1-Layer</th>\n",
              "      <td>10</td>\n",
              "      <td>0.001</td>\n",
              "      <td>0.0504</td>\n",
              "      <td>0.0569</td>\n",
              "      <td>0.0289</td>\n",
              "    </tr>\n",
              "  </tbody>\n",
              "</table>\n",
              "</div>"
            ],
            "text/plain": [
              "             Channel 1  Learning Rate  Train Error  Test Error  Std Error\n",
              "CNN 1-Layer         10          0.001       0.0504      0.0569     0.0289"
            ]
          },
          "execution_count": 61,
          "metadata": {},
          "output_type": "execute_result"
        }
      ],
      "source": [
        "neuralNetworkClassificationCNN(data1_lan_long, data2_lan_long, Q_size = 20, lr_decay = 0.9, \n",
        "                                   learning_rate = 1e-3, num_trials_maj = 1,\n",
        "                                   out_channels = 10, kernel_size = 5,  \n",
        "                                   padding = 1, bias = True, Num_updates = 500, \n",
        "                                   D_out = 2, epoch = 50, version = 'unsigned', \n",
        "                                   sigma = 100, test_size = 0.3)"
      ]
    },
    {
      "cell_type": "markdown",
      "metadata": {
        "id": "QuaGDxHW0g_u"
      },
      "source": [
        "#### Rand($v_Q^{exp}$)"
      ]
    },
    {
      "cell_type": "code",
      "execution_count": null,
      "metadata": {
        "id": "V8lL4Lhz0g_v",
        "outputId": "2324524b-de18-4e89-812f-fc8ce69f1ad1"
      },
      "outputs": [
        {
          "data": {
            "image/png": "[encoded data removed]",
            "text/plain": [
              "<Figure size 432x288 with 1 Axes>"
            ]
          },
          "metadata": {
            "needs_background": "light"
          },
          "output_type": "display_data"
        },
        {
          "name": "stdout",
          "output_type": "stream",
          "text": [
            "\u001b[31mtotal time = 71.42929482460022\u001b[0m\n"
          ]
        },
        {
          "data": {
            "text/html": [
              "<div>\n",
              "<style scoped>\n",
              "    .dataframe tbody tr th:only-of-type {\n",
              "        vertical-align: middle;\n",
              "    }\n",
              "\n",
              "    .dataframe tbody tr th {\n",
              "        vertical-align: top;\n",
              "    }\n",
              "\n",
              "    .dataframe thead th {\n",
              "        text-align: right;\n",
              "    }\n",
              "</style>\n",
              "<table border=\"1\" class=\"dataframe\">\n",
              "  <thead>\n",
              "    <tr style=\"text-align: right;\">\n",
              "      <th></th>\n",
              "      <th>Channel 1</th>\n",
              "      <th>Learning Rate</th>\n",
              "      <th>Train Error</th>\n",
              "      <th>Test Error</th>\n",
              "      <th>Std Error</th>\n",
              "    </tr>\n",
              "  </thead>\n",
              "  <tbody>\n",
              "    <tr>\n",
              "      <th>CNN 1-Layer</th>\n",
              "      <td>10</td>\n",
              "      <td>0.001</td>\n",
              "      <td>0.0532</td>\n",
              "      <td>0.0511</td>\n",
              "      <td>0.0214</td>\n",
              "    </tr>\n",
              "  </tbody>\n",
              "</table>\n",
              "</div>"
            ],
            "text/plain": [
              "             Channel 1  Learning Rate  Train Error  Test Error  Std Error\n",
              "CNN 1-Layer         10          0.001       0.0532      0.0511     0.0214"
            ]
          },
          "execution_count": 62,
          "metadata": {},
          "output_type": "execute_result"
        }
      ],
      "source": [
        "neuralNetworkClassificationCNN(data1_lan_long, data2_lan_long, Q_size = 20, lr_decay = 0.9, \n",
        "                                   learning_rate = 1e-3, num_trials_maj = 1,\n",
        "                                   out_channels = 10, kernel_size = 5,  \n",
        "                                   padding = 1, bias = True, Num_updates = 500, \n",
        "                                   D_out = 2, epoch = 50, version = 'exp', \n",
        "                                   sigma = 100, test_size = 0.3)"
      ]
    },
    {
      "cell_type": "markdown",
      "metadata": {
        "id": "FQxX1HHM0g_v"
      },
      "source": [
        "# Neural Network for Mistake Driven Method of Choosing Q"
      ]
    },
    {
      "cell_type": "markdown",
      "metadata": {
        "id": "NiLafzpI0g_v"
      },
      "source": [
        "## Initialize Q"
      ]
    },
    {
      "cell_type": "code",
      "execution_count": null,
      "metadata": {
        "id": "qvXOYkQD0g_v"
      },
      "outputs": [],
      "source": [
        "def initialize_Q(train_1, train_2, std_coeff, out_channels, kernel_size, Q_size, \n",
        "                 padding, learning_rate = 1e-3, bias = True, D_out=2, lr_decay = 0.9, \n",
        "                 Num_updates = 100): \n",
        "        \n",
        "    Q = []\n",
        "    errors = []\n",
        "    losses = np.zeros((Q_size - kernel_size, Num_updates))\n",
        "    \n",
        "    mu = get_mu(train_1, train_2)\n",
        "    std = mu * std_coeff\n",
        "\n",
        "    trajectory_train_data = np.concatenate((train_1, train_2), axis = 0)\n",
        "    train_labels = np.concatenate(([1] * len(train_1), [0] * len(train_2)), 0)\n",
        "    train_labels = torch.from_numpy(train_labels).long()\n",
        "    index = np.random.randint(0, high=len(trajectory_train_data)) \n",
        "    k = np.random.randint(0, high=len(trajectory_train_data[index]))\n",
        "    for i in range(kernel_size):\n",
        "        q = trajectory_train_data[index][k] + np.random.normal(0, std, 2)\n",
        "        Q.append(q)\n",
        "\n",
        "    for i in range(Q_size - kernel_size):\n",
        "        train_data = ExpCurve2Vec(np.array(Q), trajectory_train_data, mu)\n",
        "        model = nn.Sequential(nn.Conv1d(in_channels = 1, \n",
        "                            out_channels = out_channels, \n",
        "                            kernel_size = kernel_size,\n",
        "                            stride  = 1,\n",
        "                            padding = padding,\n",
        "                            bias = bias),\n",
        "                nn.ReLU(),\n",
        "                #nn.LeakyReLU(0.01),\n",
        "                #nn.Tanh(),\n",
        "                Flatten(),\n",
        "                nn.Linear(out_channels * (len(train_data[0]) - kernel_size + 1 + 2 * padding), \n",
        "                            D_out)\n",
        "                )\n",
        "    \n",
        "        loss_fn = torch.nn.CrossEntropyLoss()\n",
        "        optimizer = torch.optim.Adam(model.parameters(), lr = learning_rate)\n",
        "        \n",
        "        train_data = torch.from_numpy(train_data).float()\n",
        "        train_data = train_data.view(len(train_data), 1, len(train_data[0]))\n",
        "        \n",
        "        for k in range(Num_updates):\n",
        "            x_pred = model(train_data) # of shape (N, D_out)\n",
        "            loss = loss_fn(x_pred, train_labels)\n",
        "            losses[i, k] = loss\n",
        "            \n",
        "            if (k+1) % 100 == 0:\n",
        "                optimizer.param_groups[0]['lr'] = lr_decay * learning_rate\n",
        "            optimizer.zero_grad()\n",
        "            loss.backward() \n",
        "            optimizer.step() \n",
        "        \n",
        "        train_pred = torch.argmax(model(train_data), axis=1)\n",
        "        scores = model(train_data)\n",
        "        I = np.where((train_labels == train_pred) == False)[0]\n",
        "\n",
        "        temp_labels = 2 * train_labels.numpy().reshape(len(train_labels.numpy()), 1) - 1\n",
        "        temp = temp_labels * scores.detach().numpy()\n",
        "        temp = np.max(temp, axis=1)\n",
        "        index = I[np.argmax(temp[I])]\n",
        "\n",
        "        error = sum(train_labels != train_pred)/len(train_labels)\n",
        "        errors.append(error.item())\n",
        "        \n",
        "        k = np.random.randint(0, high=len(trajectory_train_data[index]))\n",
        "        q = trajectory_train_data[index][k] + np.random.normal(0, std, 2)\n",
        "        Q.append(q)\n",
        "\n",
        "    final_error = errors[-1]\n",
        "\n",
        "    #plt.plot((np.mean(losses, axis=0)))\n",
        "    #plt.show()\n",
        "\n",
        "    return np.array(Q), np.array(errors), mu, final_error"
      ]
    },
    {
      "cell_type": "markdown",
      "metadata": {
        "id": "3yZkMge90g_w"
      },
      "source": [
        "## Mistake Driven with CNN"
      ]
    },
    {
      "cell_type": "code",
      "execution_count": null,
      "metadata": {
        "id": "lcQ4hTPf0g_w"
      },
      "outputs": [],
      "source": [
        "def MD_NeuralNetworkClassificationCNN(data_1, data_2, maj_num, epoch, init_iter, \n",
        "                                      test_size, std_coeff, out_channels, kernel_size, \n",
        "                                      Q_size, padding, learning_rate = 1e-3, \n",
        "                                      bias = True, D_out=2, lr_decay = 0.9, \n",
        "                                      Num_updates = 100):\n",
        "        \n",
        "    start_time = time.time()\n",
        "\n",
        "    train_errors = np.zeros(epoch) \n",
        "    test_errors = np.zeros(epoch)\n",
        "\n",
        "    n_1 = len(data_1)\n",
        "    n_2 = len(data_2) \n",
        "\n",
        "    for s in range(epoch):\n",
        "        train_idx_1, test_idx_1, train_label_1, test_label_1, train_idx_2, \\\n",
        "        test_idx_2, train_label_2, test_label_2 = train_test(data_1, data_2, test_size)\n",
        "\n",
        "        train = np.concatenate((data_1[train_idx_1], data_2[train_idx_2]), 0)\n",
        "        test = np.concatenate((data_1[test_idx_1], data_2[test_idx_2]), 0)\n",
        "        train_labels = np.concatenate((train_label_1, train_label_2), axis = 0)\n",
        "        test_labels = np.concatenate((test_label_1, test_label_2), axis = 0)\n",
        "        train_labels = torch.from_numpy(train_labels).long()\n",
        "        test_labels = torch.from_numpy(test_labels).long()\n",
        "\n",
        "        x_preds = np.zeros((maj_num, len(train)))\n",
        "        y_preds = np.zeros((maj_num, len(test)))\n",
        "        \n",
        "        I = np.arange(len(train))\n",
        "        np.random.shuffle(I)\n",
        "        train = train[I]\n",
        "        train_labels = train_labels[I]\n",
        "        \n",
        "        J = np.arange(len(test))\n",
        "        np.random.shuffle(J)\n",
        "        test = test[J]\n",
        "        test_labels = test_labels[J]\n",
        "\n",
        "        for t in range(maj_num):\n",
        "\n",
        "            Q_list = []\n",
        "            temp_errors = []\n",
        "            mu_temp = []\n",
        "\n",
        "            for j in range(init_iter):\n",
        "                B = initialize_Q(data_1[train_idx_1], data_2[train_idx_2], \n",
        "                                 std_coeff, out_channels, kernel_size, Q_size, \n",
        "                                 padding, learning_rate = 1e-3, bias = True, \n",
        "                                 D_out=2, lr_decay = 0.9, Num_updates = 100)\n",
        "\n",
        "                Q_list.append(B[0])\n",
        "                mu_temp.append(B[2])\n",
        "                temp_errors.append(B[-1])\n",
        "\n",
        "            h = np.argmin(temp_errors)\n",
        "            Q = Q_list[h]\n",
        "            mu = mu_temp[h]\n",
        "\n",
        "            train_data = torch.from_numpy(ExpCurve2Vec(Q, train, mu)).float()\n",
        "            train_data = train_data.view(len(train_data), 1, len(train_data[0]))\n",
        "\n",
        "            test_data = torch.from_numpy(ExpCurve2Vec(Q, test, mu)).float()\n",
        "            test_data = test_data.view(len(test_data), 1, len(test_data[0]))\n",
        "\n",
        "            model = nn.Sequential(nn.Conv1d(in_channels = 1, \n",
        "                                    out_channels = out_channels, \n",
        "                                    kernel_size = kernel_size,\n",
        "                                    stride  = 1,\n",
        "                                    padding = padding,\n",
        "                                    bias = bias),\n",
        "                    nn.ReLU(),\n",
        "                    Flatten(),\n",
        "                    nn.Linear(out_channels * (len(train_data[0][0]) - kernel_size + 1 + 2 * padding), \n",
        "                              D_out)\n",
        "                    )\n",
        "        \n",
        "            loss_fn = torch.nn.CrossEntropyLoss()\n",
        "            optimizer = torch.optim.Adam(model.parameters(), lr = learning_rate)\n",
        "        \n",
        "            for k in range(Num_updates):\n",
        "                x_pred = model(train_data) # of shape (N, D_out)\n",
        "                loss = loss_fn(x_pred, train_labels)\n",
        "\n",
        "                if (k+1) % 10 == 0:\n",
        "                    optimizer.param_groups[0]['lr'] = lr_decay * learning_rate\n",
        "                optimizer.zero_grad()\n",
        "                loss.backward() \n",
        "                optimizer.step() \n",
        "\n",
        "            scores = model(train_data)\n",
        "            \n",
        "            x_preds[t] = torch.argmax(scores, axis=1).detach().numpy()\n",
        "            y_preds[t] = torch.argmax(model(test_data), axis=1).detach().numpy()\n",
        "\n",
        "        x_preds = torch.tensor(find_majority_array(x_preds))\n",
        "        y_preds = torch.tensor(find_majority_array(y_preds))\n",
        "\n",
        "        train_errors[s] = sum(abs(train_labels - x_preds))/len(train_labels)\n",
        "        test_errors[s] = sum(abs(test_labels - y_preds))/len(test_labels)\n",
        "\n",
        "    train_error_mean = np.mean(train_errors)\n",
        "    test_error_mean = np.mean(test_errors)\n",
        "    test_error_std = np.std(test_errors)\n",
        "\n",
        "    Dict = {\"CNN 1-Layer\": [out_channels, learning_rate, \n",
        "                            np.round(train_error_mean, decimals = 4), \n",
        "                            np.round(test_error_mean, decimals = 4),\n",
        "                            np.round(test_error_std, decimals = 4)]}\n",
        "\n",
        "    pdf = pd.DataFrame.from_dict(Dict, orient='index', \n",
        "                                 columns=['Channel 1', 'Learning Rate', \n",
        "                                          'Train Error', 'Test Error', 'Std Error'])\n",
        "\n",
        "    print(colored(f\"total time = {time.time() - start_time}\", \"red\"))\n",
        "    print(\"mu =\", mu)\n",
        "\n",
        "    return pdf"
      ]
    },
    {
      "cell_type": "code",
      "execution_count": null,
      "metadata": {
        "scrolled": true,
        "id": "BGbb5CTR0g_w",
        "outputId": "4f735393-151d-4e29-f6b0-48ccfe605c57"
      },
      "outputs": [
        {
          "name": "stdout",
          "output_type": "stream",
          "text": [
            "\u001b[31mtotal time = 10732.693811893463\u001b[0m\n",
            "mu = 11.625506459216837\n"
          ]
        },
        {
          "data": {
            "text/html": [
              "<div>\n",
              "<style scoped>\n",
              "    .dataframe tbody tr th:only-of-type {\n",
              "        vertical-align: middle;\n",
              "    }\n",
              "\n",
              "    .dataframe tbody tr th {\n",
              "        vertical-align: top;\n",
              "    }\n",
              "\n",
              "    .dataframe thead th {\n",
              "        text-align: right;\n",
              "    }\n",
              "</style>\n",
              "<table border=\"1\" class=\"dataframe\">\n",
              "  <thead>\n",
              "    <tr style=\"text-align: right;\">\n",
              "      <th></th>\n",
              "      <th>Channel 1</th>\n",
              "      <th>Learning Rate</th>\n",
              "      <th>Train Error</th>\n",
              "      <th>Test Error</th>\n",
              "      <th>Std Error</th>\n",
              "    </tr>\n",
              "  </thead>\n",
              "  <tbody>\n",
              "    <tr>\n",
              "      <th>CNN 1-Layer</th>\n",
              "      <td>10</td>\n",
              "      <td>0.01</td>\n",
              "      <td>0.0515</td>\n",
              "      <td>0.0526</td>\n",
              "      <td>0.0202</td>\n",
              "    </tr>\n",
              "  </tbody>\n",
              "</table>\n",
              "</div>"
            ],
            "text/plain": [
              "             Channel 1  Learning Rate  Train Error  Test Error  Std Error\n",
              "CNN 1-Layer         10           0.01       0.0515      0.0526     0.0202"
            ]
          },
          "execution_count": 20,
          "metadata": {},
          "output_type": "execute_result"
        }
      ],
      "source": [
        "MD_NeuralNetworkClassificationCNN(data1_lan_long, data2_lan_long, maj_num=11, epoch=50, \n",
        "                              init_iter=3, test_size=0.3, std_coeff=1, out_channels=10, \n",
        "                              kernel_size = 5, Q_size = 20, padding = 1, \n",
        "                              learning_rate = 1e-2, bias = True, D_out=2, \n",
        "                              lr_decay = 0.9, Num_updates = 100)"
      ]
    },
    {
      "cell_type": "code",
      "execution_count": null,
      "metadata": {
        "id": "cjPwQZL2iiY3",
        "outputId": "25fd76b8-22f3-4cb6-a070-585a987f784b"
      },
      "outputs": [
        {
          "name": "stderr",
          "output_type": "stream",
          "text": [
            "../aten/src/ATen/native/BinaryOps.cpp:81: UserWarning: Integer division of tensors using div or / is deprecated, and in a future release div will perform true division as in Python 3. Use true_divide or floor_divide (// in Python) instead.\n"
          ]
        },
        {
          "name": "stdout",
          "output_type": "stream",
          "text": [
            "\u001b[31mtotal time = 1163.1201980113983\u001b[0m\n",
            "mu = 10.594034087205586\n"
          ]
        },
        {
          "data": {
            "text/html": [
              "<div>\n",
              "<style scoped>\n",
              "    .dataframe tbody tr th:only-of-type {\n",
              "        vertical-align: middle;\n",
              "    }\n",
              "\n",
              "    .dataframe tbody tr th {\n",
              "        vertical-align: top;\n",
              "    }\n",
              "\n",
              "    .dataframe thead th {\n",
              "        text-align: right;\n",
              "    }\n",
              "</style>\n",
              "<table border=\"1\" class=\"dataframe\">\n",
              "  <thead>\n",
              "    <tr style=\"text-align: right;\">\n",
              "      <th></th>\n",
              "      <th>Channel 1</th>\n",
              "      <th>Learning Rate</th>\n",
              "      <th>Train Error</th>\n",
              "      <th>Test Error</th>\n",
              "      <th>Std Error</th>\n",
              "    </tr>\n",
              "  </thead>\n",
              "  <tbody>\n",
              "    <tr>\n",
              "      <th>CNN 1-Layer</th>\n",
              "      <td>10</td>\n",
              "      <td>0.01</td>\n",
              "      <td>0.0516</td>\n",
              "      <td>0.0566</td>\n",
              "      <td>0.026</td>\n",
              "    </tr>\n",
              "  </tbody>\n",
              "</table>\n",
              "</div>"
            ],
            "text/plain": [
              "             Channel 1  Learning Rate  Train Error  Test Error  Std Error\n",
              "CNN 1-Layer         10           0.01       0.0516      0.0566      0.026"
            ]
          },
          "execution_count": 19,
          "metadata": {},
          "output_type": "execute_result"
        }
      ],
      "source": [
        "MD_NeuralNetworkClassificationCNN(data1_lan_long, data2_lan_long, maj_num = 1, epoch = 50,\n",
        "                                init_iter=3, test_size=0.3, std_coeff=1, out_channels=10,\n",
        "                                kernel_size = 5, Q_size = 20, padding = 1, \n",
        "                                learning_rate = 1e-2, bias = True, D_out=2, \n",
        "                                lr_decay = 0.9, Num_updates = 200)"
      ]
    },
    {
      "cell_type": "markdown",
      "metadata": {
        "id": "UsuLPoKb0g_x"
      },
      "source": [
        "# Plot test errors"
      ]
    },
    {
      "cell_type": "code",
      "execution_count": null,
      "metadata": {
        "id": "5lrIdjbA0g_x"
      },
      "outputs": [],
      "source": [
        "def lower_limit_error(x, y):\n",
        "    if y - x < 0:\n",
        "        return y\n",
        "    else:\n",
        "        return x\n",
        "\n",
        "lower_limit_error = np.vectorize(lower_limit_error)"
      ]
    },
    {
      "cell_type": "code",
      "execution_count": null,
      "metadata": {
        "id": "2sFjs9HR0g_x"
      },
      "outputs": [],
      "source": [
        "A_LSVM = [0.0511, 0.0785, 0.2868, 0.0735, 0.0449, 0.0892, 0.3283, 0.0751, 0.0566]\n",
        "A_GSVM = [0.0575, 0.0597, 0.0892, 0.0658, 0.0625, 0.0625, 0.1102, 0.0658, 0.0523]\n",
        "A_PSVM = [0.0655, 0.0622, 0.2197, 0.0615, 0.0683, 0.0668, 0.2262, 0.0609, 0.0677]\n",
        "A_DT = [0.0735, 0.0806, 0.0963, 0.0714, 0.0877, 0.1037, 0.1314, 0.0889, 0.1185]\n",
        "A_RF = [0.0625, 0.0625, 0.0769, 0.0628, 0.0658, 0.0692, 0.0892, 0.0637, 0.0655]\n",
        "A_KNN = [0.0566, 0.0542, 0.0825, 0.0538, 0.0483, 0.0578, 0.0963, 0.0523, 0.0514]\n",
        "A_LR = [0.0492, 0.0572, 0.3492, 0.0572, 0.0502, 0.0631, 0.3462, 0.0548, 0.0588]\n",
        "A_CNN = [0.0526, 0.0637, 0.1043, 0.0449, 0.0566, 0.0646, 0.0569, 0.0511, 0.0778]\n",
        "\n",
        "A = np.array([A_LSVM, A_GSVM, A_PSVM, A_DT, A_RF, A_KNN, A_LR, A_CNN])\n",
        "B = A.T"
      ]
    },
    {
      "cell_type": "code",
      "execution_count": null,
      "metadata": {
        "id": "4Glt8-5L0g_x"
      },
      "outputs": [],
      "source": [
        "std_LSVM = [0.0216, 0.0323, 0.0490, 0.0239, 0.0259, 0.0326, 0.0725, 0.0616, 0.0231]\n",
        "std_GSVM = [0.0238, 0.0203, 0.0287, 0.0267, 0.0286, 0.0212, 0.0367, 0.0783, 0.0222]\n",
        "std_PSVM = [0.0271, 0.0257, 0.0562, 0.0215, 0.0302, 0.0259, 0.0673, 0.0692, 0.0265]\n",
        "std_DT = [0.0294, 0.0301, 0.0293, 0.0250, 0.0289, 0.0384, 0.0358, 0.0812, 0.0354]\n",
        "std_RF = [0.0254, 0.0296, 0.0263, 0.0238, 0.0263, 0.0263, 0.0234, 0.0857, 0.0224]\n",
        "std_KNN = [0.0214, 0.0209, 0.0330, 0.0214, 0.0222, 0.0217, 0.0342, 0.0521, 0.0212]\n",
        "std_LR = [0.0238, 0.0246, 0.0495, 0.0230, 0.0250, 0.0243, 0.0612, 0.0620, 0.0225]\n",
        "std_CNN = [0.0202, 0.0232, 0.0344, 0.0264, 0.0260, 0.0254, 0.0289, 0.0214, 0.0753]\n",
        "\n",
        "C = np.array([std_LSVM, std_GSVM, std_PSVM, std_DT, std_RF, std_KNN, std_LR, std_CNN]).T"
      ]
    },
    {
      "cell_type": "code",
      "execution_count": null,
      "metadata": {
        "id": "YQre8equ0g_y"
      },
      "outputs": [],
      "source": [
        "errors = [0.0554, 0.0582, 0.0526, 0.0591, 0.0538, 0.0748, 0.0646, 0.3274, 0.1252, \n",
        "          0.0569, 0.0566]\n",
        "\n",
        "stds = [0.0226, 0.0252, 0.0213, 0.0212, 0.0231, 0.0277, 0.0218, 0.1287, 0.0345, \n",
        "        0.0227, 0.0221]"
      ]
    },
    {
      "cell_type": "code",
      "execution_count": null,
      "metadata": {
        "id": "4NA_sJM00g_y"
      },
      "outputs": [],
      "source": [
        "classifiers = ['LSVM', 'GSVM', 'PSVM', 'DT', 'RF', 'KNN', 'LR', 'CNN']\n",
        "\n",
        "FM = (r'KNN', r'Vote(MD $v_Q^{exp}$)', r'Vote(Rand $v_Q$)', r'Vote($v_Q^{\\varsigma}$)', \n",
        "      r'Vote(Rand $v_Q^{exp}$)', r'MD $v_Q^{exp}$', r'Rand $v_Q$', \n",
        "      r'Rand $v_Q^{\\varsigma}$', r'Rand $v_Q^{exp}$', 'Endpoints')\n",
        "\n",
        "labels = ['LSVM', 'GSVM', 'PSVM', 'DT', 'RF', 'KNN', 'LR', 'CNN']\n",
        "\n",
        "dists = [r'$d_{dF}$', r'$dH$', r'DTW', r'soft-dtw', r'fastdtw', \n",
        "         r'LCSS', r'SSPD', r'EDR', r'ERP', r'LSH', r'$d_Q^{\\pi}$']"
      ]
    },
    {
      "cell_type": "code",
      "execution_count": null,
      "metadata": {
        "scrolled": false,
        "id": "m0xfZWes0g_y",
        "outputId": "3718922b-43b7-467d-debd-5d5438c739b7"
      },
      "outputs": [
        {
          "data": {
            "image/png": "[encoded data removed]",
            "text/plain": [
              "<Figure size 1296x374.4 with 1 Axes>"
            ]
          },
          "metadata": {
            "needs_background": "light"
          },
          "output_type": "display_data"
        }
      ],
      "source": [
        "width=0.1\n",
        "index = np.arange(len(stds))\n",
        "ind = np.arange(len(A)) + len(index) * 0.25\n",
        "\n",
        "plt.subplots(figsize = (18, 5.2), tight_layout=True)\n",
        "bars = [0] * 10\n",
        "\n",
        "lower_lim = lower_limit_error(stds, errors)\n",
        "bars[0] = plt.bar(index * 0.2, errors, width, yerr=[lower_lim, stds], capsize=2)\n",
        "\n",
        "for i in range(len(FM)-1):\n",
        "    lower_limit = lower_limit_error(C[i], B[i])\n",
        "    bars[i+1] = plt.bar(ind+width*i-0.3, B[i], width, yerr=[lower_limit, C[i]], capsize=2)\n",
        "\n",
        "plt.title('Two Persons Data', fontsize = 20)\n",
        "plt.xticks(list(np.arange(len(stds)) * 0.2) + list(ind + 0.5 * width), \n",
        "           dists + labels, fontsize = 14)\n",
        "\n",
        "plt.legend(tuple(bars), FM, loc=0, fontsize = 12)\n",
        "\n",
        "plt.gca().yaxis.grid(color='gray', linestyle='dotted', linewidth=0.6)\n",
        "plt.xticks(rotation='vertical', fontsize = 14)\n",
        "plt.yticks(fontsize = 14)\n",
        "\n",
        "path = '/content/gdrive/My Drive/Research/plots/plots two persons/Two persons bar chart all horizontal.png'\n",
        "\n",
        "plt.savefig(path, bbox_inches='tight', dpi=200)\n",
        "\n",
        "plt.show()\n"
      ]
    },
    {
      "cell_type": "code",
      "execution_count": null,
      "metadata": {
        "id": "MKMB14lv0g_1"
      },
      "outputs": [],
      "source": [
        ""
      ]
    }
  ],
  "metadata": {
    "colab": {
      "collapsed_sections": [
        "qRG2AEM60i2c",
        "FjUDYLcS07zg",
        "GY9Dc0FCCqTV",
        "zeSYcvmGrgP0",
        "BkDXTYZ1QEdI",
        "GTyNwgXGQEdJ",
        "ZVHufJfjSzEd",
        "uAuH0ygoSzEe",
        "lKFpdcUGVD0F",
        "SP45WnNLgtsG",
        "O-wPKtP8wf-F",
        "PEr8wwwnJc_u",
        "cOW8uYcZ4ytp",
        "zEL5_sbQxbHa",
        "rnyvmMQiksR7",
        "E5yZZdXaie3y",
        "Z7UIOHAIkQ-K",
        "GOPY9ifiXvJh",
        "Iu9HpL9TXN13",
        "5qH6mWdpXr1v",
        "DPwq3SdyYHmB",
        "5XOyGGrpow0R",
        "B7hNqrTzfv66",
        "CeyWc9h40g_s",
        "qbxfL9xQ0g_s",
        "NiLafzpI0g_v",
        "3yZkMge90g_w",
        "UsuLPoKb0g_x"
      ],
      "name": "Two_Persons_Experiments.ipynb",
      "provenance": []
    },
    "kernelspec": {
      "display_name": "Python 3 (ipykernel)",
      "language": "python",
      "name": "python3"
    },
    "language_info": {
      "codemirror_mode": {
        "name": "ipython",
        "version": 3
      },
      "file_extension": ".py",
      "mimetype": "text/x-python",
      "name": "python",
      "nbconvert_exporter": "python",
      "pygments_lexer": "ipython3",
      "version": "3.7.11"
    }
  },
  "nbformat": 4,
  "nbformat_minor": 0
}