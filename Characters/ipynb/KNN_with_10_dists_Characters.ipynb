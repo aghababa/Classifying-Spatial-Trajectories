{
  "nbformat": 4,
  "nbformat_minor": 0,
  "metadata": {
    "colab": {
      "name": "KNN_with_10_dists_Characters_August_28.ipynb",
      "provenance": [],
      "collapsed_sections": [
        "FjUDYLcS07zg",
        "2tCLYXpw0_8S",
        "6jHreXogmrW_",
        "oGsx-OVXAstM",
        "UGsb_EraIPMt",
        "NyUeJdRA2jAw",
        "yVKyw9B40zID",
        "-6y3HBZIwbd5"
      ]
    },
    "kernelspec": {
      "display_name": "Python 3",
      "language": "python",
      "name": "python3"
    },
    "language_info": {
      "codemirror_mode": {
        "name": "ipython",
        "version": 3
      },
      "file_extension": ".py",
      "mimetype": "text/x-python",
      "name": "python",
      "nbconvert_exporter": "python",
      "pygments_lexer": "ipython3",
      "version": "3.7.4"
    }
  },
  "cells": [
    {
      "cell_type": "code",
      "metadata": {
        "id": "khy8eWtZbB0G",
        "scrolled": true
      },
      "source": [
        "import glob\n",
        "import numpy as np \n",
        "import time\n",
        "import math\n",
        "import random\n",
        "from scipy import linalg as LA\n",
        "import pandas as pd\n",
        "from sklearn.model_selection import train_test_split\n",
        "from sklearn import metrics\n",
        "from sklearn.neighbors import KNeighborsClassifier\n",
        "import matplotlib.pyplot as plt\n",
        "from termcolor import colored\n",
        "import matplotlib as mpl\n",
        "import scipy.io"
      ],
      "execution_count": null,
      "outputs": []
    },
    {
      "cell_type": "code",
      "metadata": {
        "colab": {
          "base_uri": "https://localhost:8080/"
        },
        "id": "SS_bnF7fcFww",
        "outputId": "8d6f6f90-0721-4cde-f94a-01de0caa8bd9"
      },
      "source": [
        "from google.colab import drive\n",
        "drive.mount(\"/content/gdrive\")"
      ],
      "execution_count": null,
      "outputs": [
        {
          "output_type": "stream",
          "name": "stdout",
          "text": [
            "Drive already mounted at /content/gdrive; to attempt to forcibly remount, call drive.mount(\"/content/gdrive\", force_remount=True).\n"
          ]
        }
      ]
    },
    {
      "cell_type": "markdown",
      "metadata": {
        "id": "FjUDYLcS07zg"
      },
      "source": [
        "# install package \n",
        "\n",
        "This is only needed for distances calculations. Since they are calculated once, there is no need to run again the cells in this and next blocks. "
      ]
    },
    {
      "cell_type": "code",
      "metadata": {
        "id": "D3lvO_zYcKQT",
        "colab": {
          "base_uri": "https://localhost:8080/"
        },
        "outputId": "ad73abf1-58ad-46cb-f594-782276225fd0"
      },
      "source": [
        "# to make a directory\n",
        "%cd 'gdrive/My Drive/traj-dist'"
      ],
      "execution_count": null,
      "outputs": [
        {
          "output_type": "stream",
          "name": "stdout",
          "text": [
            "/content/gdrive/My Drive/traj-dist\n"
          ]
        }
      ]
    },
    {
      "cell_type": "code",
      "metadata": {
        "id": "r64WIR-DUEY8"
      },
      "source": [
        "# to see in what directory we are in"
      ],
      "execution_count": null,
      "outputs": []
    },
    {
      "cell_type": "code",
      "metadata": {
        "id": "uizep1yEchxQ",
        "colab": {
          "base_uri": "https://localhost:8080/"
        },
        "outputId": "6cf8a8d1-7559-4b6b-9320-94d9285b9b86"
      },
      "source": [
        "pwd"
      ],
      "execution_count": null,
      "outputs": [
        {
          "output_type": "execute_result",
          "data": {
            "application/vnd.google.colaboratory.intrinsic+json": {
              "type": "string"
            },
            "text/plain": [
              "'/content/gdrive/My Drive/traj-dist'"
            ]
          },
          "metadata": {},
          "execution_count": 5
        }
      ]
    },
    {
      "cell_type": "code",
      "metadata": {
        "id": "tbFXlofdMaQQ",
        "colab": {
          "base_uri": "https://localhost:8080/"
        },
        "outputId": "6491394e-7b17-4c43-8528-c78d075df2bc"
      },
      "source": [
        "# to install setup.py from the current directory\n",
        "!python setup.py install"
      ],
      "execution_count": null,
      "outputs": [
        {
          "output_type": "stream",
          "name": "stdout",
          "text": [
            "/usr/local/lib/python3.7/dist-packages/setuptools/dist.py:700: UserWarning: Usage of dash-separated 'description-file' will not be supported in future versions. Please use the underscore name 'description_file' instead\n",
            "  % (opt, underscore_opt))\n",
            "/usr/lib/python3.7/distutils/dist.py:274: UserWarning: Unknown distribution option: 'download_urt'\n",
            "  warnings.warn(msg)\n",
            "running install\n",
            "running bdist_egg\n",
            "running egg_info\n",
            "writing traj_dist.egg-info/PKG-INFO\n",
            "writing dependency_links to traj_dist.egg-info/dependency_links.txt\n",
            "writing requirements to traj_dist.egg-info/requires.txt\n",
            "writing top-level names to traj_dist.egg-info/top_level.txt\n",
            "adding license file 'LICENSE.txt'\n",
            "writing manifest file 'traj_dist.egg-info/SOURCES.txt'\n",
            "installing library code to build/bdist.linux-x86_64/egg\n",
            "running install_lib\n",
            "running build_py\n",
            "running build_ext\n",
            "skipping 'traj_dist/cydist/basic_geographical.c' Cython extension (up-to-date)\n",
            "skipping 'traj_dist/cydist/basic_euclidean.c' Cython extension (up-to-date)\n",
            "skipping 'traj_dist/cydist/sspd.c' Cython extension (up-to-date)\n",
            "skipping 'traj_dist/cydist/dtw.c' Cython extension (up-to-date)\n",
            "skipping 'traj_dist/cydist/lcss.c' Cython extension (up-to-date)\n",
            "skipping 'traj_dist/cydist/hausdorff.c' Cython extension (up-to-date)\n",
            "skipping 'traj_dist/cydist/discret_frechet.c' Cython extension (up-to-date)\n",
            "skipping 'traj_dist/cydist/frechet.c' Cython extension (up-to-date)\n",
            "skipping 'traj_dist/cydist/segment_distance.c' Cython extension (up-to-date)\n",
            "skipping 'traj_dist/cydist/sowd.c' Cython extension (up-to-date)\n",
            "skipping 'traj_dist/cydist/erp.c' Cython extension (up-to-date)\n",
            "skipping 'traj_dist/cydist/edr.c' Cython extension (up-to-date)\n",
            "creating build/bdist.linux-x86_64/egg\n",
            "creating build/bdist.linux-x86_64/egg/traj_dist\n",
            "copying build/lib.linux-x86_64-3.7/traj_dist/example.py -> build/bdist.linux-x86_64/egg/traj_dist\n",
            "copying build/lib.linux-x86_64-3.7/traj_dist/build_benchmark_data.py -> build/bdist.linux-x86_64/egg/traj_dist\n",
            "copying build/lib.linux-x86_64-3.7/traj_dist/distance.py -> build/bdist.linux-x86_64/egg/traj_dist\n",
            "copying build/lib.linux-x86_64-3.7/traj_dist/__init__.py -> build/bdist.linux-x86_64/egg/traj_dist\n",
            "copying build/lib.linux-x86_64-3.7/traj_dist/benchmark.py -> build/bdist.linux-x86_64/egg/traj_dist\n",
            "creating build/bdist.linux-x86_64/egg/traj_dist/cydist\n",
            "copying build/lib.linux-x86_64-3.7/traj_dist/cydist/__init__.py -> build/bdist.linux-x86_64/egg/traj_dist/cydist\n",
            "copying build/lib.linux-x86_64-3.7/traj_dist/cydist/basic_geographical.cpython-37m-x86_64-linux-gnu.so -> build/bdist.linux-x86_64/egg/traj_dist/cydist\n",
            "copying build/lib.linux-x86_64-3.7/traj_dist/cydist/basic_euclidean.cpython-37m-x86_64-linux-gnu.so -> build/bdist.linux-x86_64/egg/traj_dist/cydist\n",
            "copying build/lib.linux-x86_64-3.7/traj_dist/cydist/sspd.cpython-37m-x86_64-linux-gnu.so -> build/bdist.linux-x86_64/egg/traj_dist/cydist\n",
            "copying build/lib.linux-x86_64-3.7/traj_dist/cydist/dtw.cpython-37m-x86_64-linux-gnu.so -> build/bdist.linux-x86_64/egg/traj_dist/cydist\n",
            "copying build/lib.linux-x86_64-3.7/traj_dist/cydist/lcss.cpython-37m-x86_64-linux-gnu.so -> build/bdist.linux-x86_64/egg/traj_dist/cydist\n",
            "copying build/lib.linux-x86_64-3.7/traj_dist/cydist/hausdorff.cpython-37m-x86_64-linux-gnu.so -> build/bdist.linux-x86_64/egg/traj_dist/cydist\n",
            "copying build/lib.linux-x86_64-3.7/traj_dist/cydist/discret_frechet.cpython-37m-x86_64-linux-gnu.so -> build/bdist.linux-x86_64/egg/traj_dist/cydist\n",
            "copying build/lib.linux-x86_64-3.7/traj_dist/cydist/frechet.cpython-37m-x86_64-linux-gnu.so -> build/bdist.linux-x86_64/egg/traj_dist/cydist\n",
            "copying build/lib.linux-x86_64-3.7/traj_dist/cydist/segment_distance.cpython-37m-x86_64-linux-gnu.so -> build/bdist.linux-x86_64/egg/traj_dist/cydist\n",
            "copying build/lib.linux-x86_64-3.7/traj_dist/cydist/sowd.cpython-37m-x86_64-linux-gnu.so -> build/bdist.linux-x86_64/egg/traj_dist/cydist\n",
            "copying build/lib.linux-x86_64-3.7/traj_dist/cydist/erp.cpython-37m-x86_64-linux-gnu.so -> build/bdist.linux-x86_64/egg/traj_dist/cydist\n",
            "copying build/lib.linux-x86_64-3.7/traj_dist/cydist/edr.cpython-37m-x86_64-linux-gnu.so -> build/bdist.linux-x86_64/egg/traj_dist/cydist\n",
            "creating build/bdist.linux-x86_64/egg/traj_dist/pydist\n",
            "copying build/lib.linux-x86_64-3.7/traj_dist/pydist/segment_distance.py -> build/bdist.linux-x86_64/egg/traj_dist/pydist\n",
            "copying build/lib.linux-x86_64-3.7/traj_dist/pydist/sowd.py -> build/bdist.linux-x86_64/egg/traj_dist/pydist\n",
            "copying build/lib.linux-x86_64-3.7/traj_dist/pydist/lcss.py -> build/bdist.linux-x86_64/egg/traj_dist/pydist\n",
            "copying build/lib.linux-x86_64-3.7/traj_dist/pydist/basic_euclidean.py -> build/bdist.linux-x86_64/egg/traj_dist/pydist\n",
            "copying build/lib.linux-x86_64-3.7/traj_dist/pydist/sspd.py -> build/bdist.linux-x86_64/egg/traj_dist/pydist\n",
            "copying build/lib.linux-x86_64-3.7/traj_dist/pydist/hausdorff.py -> build/bdist.linux-x86_64/egg/traj_dist/pydist\n",
            "copying build/lib.linux-x86_64-3.7/traj_dist/pydist/frechet.py -> build/bdist.linux-x86_64/egg/traj_dist/pydist\n",
            "copying build/lib.linux-x86_64-3.7/traj_dist/pydist/__init__.py -> build/bdist.linux-x86_64/egg/traj_dist/pydist\n",
            "copying build/lib.linux-x86_64-3.7/traj_dist/pydist/edr.py -> build/bdist.linux-x86_64/egg/traj_dist/pydist\n",
            "copying build/lib.linux-x86_64-3.7/traj_dist/pydist/discret_frechet.py -> build/bdist.linux-x86_64/egg/traj_dist/pydist\n",
            "copying build/lib.linux-x86_64-3.7/traj_dist/pydist/erp.py -> build/bdist.linux-x86_64/egg/traj_dist/pydist\n",
            "copying build/lib.linux-x86_64-3.7/traj_dist/pydist/basic_spherical.py -> build/bdist.linux-x86_64/egg/traj_dist/pydist\n",
            "copying build/lib.linux-x86_64-3.7/traj_dist/pydist/linecell.py -> build/bdist.linux-x86_64/egg/traj_dist/pydist\n",
            "copying build/lib.linux-x86_64-3.7/traj_dist/pydist/dtw.py -> build/bdist.linux-x86_64/egg/traj_dist/pydist\n",
            "byte-compiling build/bdist.linux-x86_64/egg/traj_dist/example.py to example.cpython-37.pyc\n",
            "byte-compiling build/bdist.linux-x86_64/egg/traj_dist/build_benchmark_data.py to build_benchmark_data.cpython-37.pyc\n",
            "byte-compiling build/bdist.linux-x86_64/egg/traj_dist/distance.py to distance.cpython-37.pyc\n",
            "byte-compiling build/bdist.linux-x86_64/egg/traj_dist/__init__.py to __init__.cpython-37.pyc\n",
            "byte-compiling build/bdist.linux-x86_64/egg/traj_dist/benchmark.py to benchmark.cpython-37.pyc\n",
            "byte-compiling build/bdist.linux-x86_64/egg/traj_dist/cydist/__init__.py to __init__.cpython-37.pyc\n",
            "byte-compiling build/bdist.linux-x86_64/egg/traj_dist/pydist/segment_distance.py to segment_distance.cpython-37.pyc\n",
            "byte-compiling build/bdist.linux-x86_64/egg/traj_dist/pydist/sowd.py to sowd.cpython-37.pyc\n",
            "byte-compiling build/bdist.linux-x86_64/egg/traj_dist/pydist/lcss.py to lcss.cpython-37.pyc\n",
            "byte-compiling build/bdist.linux-x86_64/egg/traj_dist/pydist/basic_euclidean.py to basic_euclidean.cpython-37.pyc\n",
            "byte-compiling build/bdist.linux-x86_64/egg/traj_dist/pydist/sspd.py to sspd.cpython-37.pyc\n",
            "byte-compiling build/bdist.linux-x86_64/egg/traj_dist/pydist/hausdorff.py to hausdorff.cpython-37.pyc\n",
            "byte-compiling build/bdist.linux-x86_64/egg/traj_dist/pydist/frechet.py to frechet.cpython-37.pyc\n",
            "byte-compiling build/bdist.linux-x86_64/egg/traj_dist/pydist/__init__.py to __init__.cpython-37.pyc\n",
            "byte-compiling build/bdist.linux-x86_64/egg/traj_dist/pydist/edr.py to edr.cpython-37.pyc\n",
            "byte-compiling build/bdist.linux-x86_64/egg/traj_dist/pydist/discret_frechet.py to discret_frechet.cpython-37.pyc\n",
            "byte-compiling build/bdist.linux-x86_64/egg/traj_dist/pydist/erp.py to erp.cpython-37.pyc\n",
            "byte-compiling build/bdist.linux-x86_64/egg/traj_dist/pydist/basic_spherical.py to basic_spherical.cpython-37.pyc\n",
            "byte-compiling build/bdist.linux-x86_64/egg/traj_dist/pydist/linecell.py to linecell.cpython-37.pyc\n",
            "byte-compiling build/bdist.linux-x86_64/egg/traj_dist/pydist/dtw.py to dtw.cpython-37.pyc\n",
            "creating stub loader for traj_dist/cydist/basic_geographical.cpython-37m-x86_64-linux-gnu.so\n",
            "creating stub loader for traj_dist/cydist/basic_euclidean.cpython-37m-x86_64-linux-gnu.so\n",
            "creating stub loader for traj_dist/cydist/sspd.cpython-37m-x86_64-linux-gnu.so\n",
            "creating stub loader for traj_dist/cydist/dtw.cpython-37m-x86_64-linux-gnu.so\n",
            "creating stub loader for traj_dist/cydist/lcss.cpython-37m-x86_64-linux-gnu.so\n",
            "creating stub loader for traj_dist/cydist/hausdorff.cpython-37m-x86_64-linux-gnu.so\n",
            "creating stub loader for traj_dist/cydist/discret_frechet.cpython-37m-x86_64-linux-gnu.so\n",
            "creating stub loader for traj_dist/cydist/frechet.cpython-37m-x86_64-linux-gnu.so\n",
            "creating stub loader for traj_dist/cydist/segment_distance.cpython-37m-x86_64-linux-gnu.so\n",
            "creating stub loader for traj_dist/cydist/sowd.cpython-37m-x86_64-linux-gnu.so\n",
            "creating stub loader for traj_dist/cydist/erp.cpython-37m-x86_64-linux-gnu.so\n",
            "creating stub loader for traj_dist/cydist/edr.cpython-37m-x86_64-linux-gnu.so\n",
            "byte-compiling build/bdist.linux-x86_64/egg/traj_dist/cydist/basic_geographical.py to basic_geographical.cpython-37.pyc\n",
            "byte-compiling build/bdist.linux-x86_64/egg/traj_dist/cydist/basic_euclidean.py to basic_euclidean.cpython-37.pyc\n",
            "byte-compiling build/bdist.linux-x86_64/egg/traj_dist/cydist/sspd.py to sspd.cpython-37.pyc\n",
            "byte-compiling build/bdist.linux-x86_64/egg/traj_dist/cydist/dtw.py to dtw.cpython-37.pyc\n",
            "byte-compiling build/bdist.linux-x86_64/egg/traj_dist/cydist/lcss.py to lcss.cpython-37.pyc\n",
            "byte-compiling build/bdist.linux-x86_64/egg/traj_dist/cydist/hausdorff.py to hausdorff.cpython-37.pyc\n",
            "byte-compiling build/bdist.linux-x86_64/egg/traj_dist/cydist/discret_frechet.py to discret_frechet.cpython-37.pyc\n",
            "byte-compiling build/bdist.linux-x86_64/egg/traj_dist/cydist/frechet.py to frechet.cpython-37.pyc\n",
            "byte-compiling build/bdist.linux-x86_64/egg/traj_dist/cydist/segment_distance.py to segment_distance.cpython-37.pyc\n",
            "byte-compiling build/bdist.linux-x86_64/egg/traj_dist/cydist/sowd.py to sowd.cpython-37.pyc\n",
            "byte-compiling build/bdist.linux-x86_64/egg/traj_dist/cydist/erp.py to erp.cpython-37.pyc\n",
            "byte-compiling build/bdist.linux-x86_64/egg/traj_dist/cydist/edr.py to edr.cpython-37.pyc\n",
            "creating build/bdist.linux-x86_64/egg/EGG-INFO\n",
            "copying traj_dist.egg-info/PKG-INFO -> build/bdist.linux-x86_64/egg/EGG-INFO\n",
            "copying traj_dist.egg-info/SOURCES.txt -> build/bdist.linux-x86_64/egg/EGG-INFO\n",
            "copying traj_dist.egg-info/dependency_links.txt -> build/bdist.linux-x86_64/egg/EGG-INFO\n",
            "copying traj_dist.egg-info/requires.txt -> build/bdist.linux-x86_64/egg/EGG-INFO\n",
            "copying traj_dist.egg-info/top_level.txt -> build/bdist.linux-x86_64/egg/EGG-INFO\n",
            "writing build/bdist.linux-x86_64/egg/EGG-INFO/native_libs.txt\n",
            "zip_safe flag not set; analyzing archive contents...\n",
            "traj_dist.cydist.__pycache__.basic_euclidean.cpython-37: module references __file__\n",
            "traj_dist.cydist.__pycache__.basic_geographical.cpython-37: module references __file__\n",
            "traj_dist.cydist.__pycache__.discret_frechet.cpython-37: module references __file__\n",
            "traj_dist.cydist.__pycache__.dtw.cpython-37: module references __file__\n",
            "traj_dist.cydist.__pycache__.edr.cpython-37: module references __file__\n",
            "traj_dist.cydist.__pycache__.erp.cpython-37: module references __file__\n",
            "traj_dist.cydist.__pycache__.frechet.cpython-37: module references __file__\n",
            "traj_dist.cydist.__pycache__.hausdorff.cpython-37: module references __file__\n",
            "traj_dist.cydist.__pycache__.lcss.cpython-37: module references __file__\n",
            "traj_dist.cydist.__pycache__.segment_distance.cpython-37: module references __file__\n",
            "traj_dist.cydist.__pycache__.sowd.cpython-37: module references __file__\n",
            "traj_dist.cydist.__pycache__.sspd.cpython-37: module references __file__\n",
            "creating 'dist/traj_dist-1.1-py3.7-linux-x86_64.egg' and adding 'build/bdist.linux-x86_64/egg' to it\n",
            "removing 'build/bdist.linux-x86_64/egg' (and everything under it)\n",
            "Processing traj_dist-1.1-py3.7-linux-x86_64.egg\n",
            "creating /usr/local/lib/python3.7/dist-packages/traj_dist-1.1-py3.7-linux-x86_64.egg\n",
            "Extracting traj_dist-1.1-py3.7-linux-x86_64.egg to /usr/local/lib/python3.7/dist-packages\n",
            "Adding traj-dist 1.1 to easy-install.pth file\n",
            "\n",
            "Installed /usr/local/lib/python3.7/dist-packages/traj_dist-1.1-py3.7-linux-x86_64.egg\n",
            "Processing dependencies for traj-dist==1.1\n",
            "Searching for geohash2==1.1\n",
            "Reading https://pypi.org/simple/geohash2/\n",
            "Downloading https://files.pythonhosted.org/packages/3e/0d/c40ea785cc5fa33c2f1e796ee02e763207140542d7aae2c6ea413358c092/geohash2-1.1.tar.gz#sha256=0ed0583b1f4fc329f96d807c9a4cd895c7eed2c35479ac7b4a50725249997bda\n",
            "Best match: geohash2 1.1\n",
            "Processing geohash2-1.1.tar.gz\n",
            "Writing /tmp/easy_install-lhsctyl0/geohash2-1.1/setup.cfg\n",
            "Running geohash2-1.1/setup.py -q bdist_egg --dist-dir /tmp/easy_install-lhsctyl0/geohash2-1.1/egg-dist-tmp-2z97k0to\n",
            "zip_safe flag not set; analyzing archive contents...\n",
            "Moving geohash2-1.1-py3.7.egg to /usr/local/lib/python3.7/dist-packages\n",
            "Adding geohash2 1.1 to easy-install.pth file\n",
            "\n",
            "Installed /usr/local/lib/python3.7/dist-packages/geohash2-1.1-py3.7.egg\n",
            "Searching for scipy==1.4.1\n",
            "Best match: scipy 1.4.1\n",
            "Adding scipy 1.4.1 to easy-install.pth file\n",
            "\n",
            "Using /usr/local/lib/python3.7/dist-packages\n",
            "Searching for pandas==1.1.5\n",
            "Best match: pandas 1.1.5\n",
            "Adding pandas 1.1.5 to easy-install.pth file\n",
            "\n",
            "Using /usr/local/lib/python3.7/dist-packages\n",
            "Searching for Shapely==1.7.1\n",
            "Best match: Shapely 1.7.1\n",
            "Adding Shapely 1.7.1 to easy-install.pth file\n",
            "\n",
            "Using /usr/local/lib/python3.7/dist-packages\n",
            "Searching for Cython==0.29.24\n",
            "Best match: Cython 0.29.24\n",
            "Adding Cython 0.29.24 to easy-install.pth file\n",
            "Installing cygdb script to /usr/local/bin\n",
            "Installing cython script to /usr/local/bin\n",
            "Installing cythonize script to /usr/local/bin\n",
            "\n",
            "Using /usr/local/lib/python3.7/dist-packages\n",
            "Searching for numpy==1.19.5\n",
            "Best match: numpy 1.19.5\n",
            "Adding numpy 1.19.5 to easy-install.pth file\n",
            "Installing f2py script to /usr/local/bin\n",
            "Installing f2py3 script to /usr/local/bin\n",
            "Installing f2py3.7 script to /usr/local/bin\n",
            "\n",
            "Using /usr/local/lib/python3.7/dist-packages\n",
            "Searching for pytz==2018.9\n",
            "Best match: pytz 2018.9\n",
            "Adding pytz 2018.9 to easy-install.pth file\n",
            "\n",
            "Using /usr/local/lib/python3.7/dist-packages\n",
            "Searching for python-dateutil==2.8.2\n",
            "Best match: python-dateutil 2.8.2\n",
            "Adding python-dateutil 2.8.2 to easy-install.pth file\n",
            "\n",
            "Using /usr/local/lib/python3.7/dist-packages\n",
            "Searching for docutils==0.17.1\n",
            "Best match: docutils 0.17.1\n",
            "Adding docutils 0.17.1 to easy-install.pth file\n",
            "\n",
            "Using /usr/local/lib/python3.7/dist-packages\n",
            "Searching for six==1.15.0\n",
            "Best match: six 1.15.0\n",
            "Adding six 1.15.0 to easy-install.pth file\n",
            "\n",
            "Using /usr/local/lib/python3.7/dist-packages\n",
            "Finished processing dependencies for traj-dist==1.1\n"
          ]
        }
      ]
    },
    {
      "cell_type": "code",
      "metadata": {
        "id": "dFyNWPPnc2UN",
        "colab": {
          "base_uri": "https://localhost:8080/"
        },
        "outputId": "8d28fbdb-990f-477c-a945-7c61b264a6e7"
      },
      "source": [
        "!pip install geohash2"
      ],
      "execution_count": null,
      "outputs": [
        {
          "output_type": "stream",
          "name": "stdout",
          "text": [
            "Requirement already satisfied: geohash2 in /usr/local/lib/python3.7/dist-packages/geohash2-1.1-py3.7.egg (1.1)\n",
            "Requirement already satisfied: docutils>=0.3 in /usr/local/lib/python3.7/dist-packages (from geohash2) (0.17.1)\n"
          ]
        }
      ]
    },
    {
      "cell_type": "markdown",
      "metadata": {
        "id": "2tCLYXpw0_8S"
      },
      "source": [
        "# \"######################\" Now restart runtime \"######################\"\n",
        "\n",
        "But don't run above block"
      ]
    },
    {
      "cell_type": "code",
      "metadata": {
        "id": "UbpesF58tyNH"
      },
      "source": [
        "import traj_dist.distance as tdist\n",
        "import pickle"
      ],
      "execution_count": null,
      "outputs": []
    },
    {
      "cell_type": "markdown",
      "metadata": {
        "id": "6jHreXogmrW_"
      },
      "source": [
        "# Reading data"
      ]
    },
    {
      "cell_type": "code",
      "metadata": {
        "id": "TboyjU_9qIKi",
        "colab": {
          "base_uri": "https://localhost:8080/"
        },
        "outputId": "d0b0f12c-2ef9-4305-c7ad-58127402d925"
      },
      "source": [
        "mat = scipy.io.loadmat('/content/gdrive/My Drive/Research/Characters/mixoutALL_shifted.mat')\n",
        "\n",
        "s = set()\n",
        "for i in range(len(mat['mixout'][0])):\n",
        "    s.add(mat['mixout'][0][i].shape[1])\n",
        "print(\"length of data points belongs to: \\n\", s)\n",
        "\n",
        "labels = mat['consts'][0][0][4][0]\n",
        "print(labels)\n",
        "\n",
        "Data = [0] * len(mat['mixout'][0])\n",
        "for j in range(len(Data)):\n",
        "    Data[j] = [0] * len(mat['mixout'][0][j][0])\n",
        "    Data[j][0] = np.zeros(2)\n",
        "    for i in range(1, len(mat['mixout'][0][j][0])):\n",
        "        Data[j][i] = Data[j][i-1] + mat['mixout'][0][j][:2, i]\n",
        "    Data[j] = np.array(Data[j])\n",
        "        \n",
        "Data = np.array(Data, dtype='object')\n",
        "print(Data.shape)\n",
        "\n",
        "\n",
        "data = [0] * 20\n",
        "for i in range(1, 21):\n",
        "    I = np.where(labels == i)[0]\n",
        "    data[i-1] = Data[I]\n",
        "data = np.array(data, dtype='object')"
      ],
      "execution_count": null,
      "outputs": [
        {
          "output_type": "stream",
          "name": "stdout",
          "text": [
            "length of data points belongs to: \n",
            " {160, 130, 162, 163, 196, 198, 166, 109, 174, 205, 176, 177, 178, 173, 183, 152}\n",
            "[ 1  1  1 ... 20 20 20]\n",
            "(2858,)\n"
          ]
        }
      ]
    },
    {
      "cell_type": "code",
      "metadata": {
        "colab": {
          "base_uri": "https://localhost:8080/"
        },
        "id": "bQQAXAh2bB0T",
        "outputId": "d4211766-0dbd-471e-fb93-0ac9538c8cf9"
      },
      "source": [
        "mat = scipy.io.loadmat('/content/gdrive/My Drive/Research/Characters/mixoutALL_shifted.mat')\n",
        "\n",
        "s = set()\n",
        "for i in range(len(mat['mixout'][0])):\n",
        "    s.add(mat['mixout'][0][i].shape[1])\n",
        "print(\"length of data points belongs to: \\n\", s)"
      ],
      "execution_count": null,
      "outputs": [
        {
          "output_type": "stream",
          "name": "stdout",
          "text": [
            "length of data points belongs to: \n",
            " {160, 130, 162, 163, 196, 198, 166, 109, 174, 205, 176, 177, 178, 173, 183, 152}\n"
          ]
        }
      ]
    },
    {
      "cell_type": "code",
      "metadata": {
        "colab": {
          "base_uri": "https://localhost:8080/"
        },
        "id": "0RJojyPf_Pab",
        "outputId": "023c40a3-0ec7-4be2-8f77-bbf712b32ec9"
      },
      "source": [
        "labels = mat['consts'][0][0][4][0]\n",
        "labels"
      ],
      "execution_count": null,
      "outputs": [
        {
          "output_type": "execute_result",
          "data": {
            "text/plain": [
              "array([ 1,  1,  1, ..., 20, 20, 20], dtype=uint8)"
            ]
          },
          "metadata": {},
          "execution_count": 6
        }
      ]
    },
    {
      "cell_type": "code",
      "metadata": {
        "colab": {
          "base_uri": "https://localhost:8080/"
        },
        "id": "ug4COUsSbB0V",
        "outputId": "48edb8ce-3962-48e8-8902-6238bbb29b6f"
      },
      "source": [
        "Data = [0] * len(mat['mixout'][0])\n",
        "for j in range(len(Data)):\n",
        "    Data[j] = [0] * len(mat['mixout'][0][j][0])\n",
        "    Data[j][0] = np.zeros(2)\n",
        "    for i in range(1, len(mat['mixout'][0][j][0])):\n",
        "        Data[j][i] = Data[j][i-1] + mat['mixout'][0][j][:2, i]\n",
        "    Data[j] = np.array(Data[j])\n",
        "        \n",
        "Data = np.array(Data, dtype='object')\n",
        "Data.shape"
      ],
      "execution_count": null,
      "outputs": [
        {
          "output_type": "execute_result",
          "data": {
            "text/plain": [
              "(2858,)"
            ]
          },
          "metadata": {},
          "execution_count": 7
        }
      ]
    },
    {
      "cell_type": "code",
      "metadata": {
        "id": "wpbWIEhKKo3J"
      },
      "source": [
        "data = [0] * 20\n",
        "for i in range(1, 21):\n",
        "    I = np.where(labels == i)[0]\n",
        "    data[i-1] = Data[I]\n",
        "data = np.array(data, dtype='object')"
      ],
      "execution_count": null,
      "outputs": []
    },
    {
      "cell_type": "markdown",
      "metadata": {
        "id": "J9fhwOIM5H4r"
      },
      "source": [
        "## Remove stationary points"
      ]
    },
    {
      "cell_type": "code",
      "metadata": {
        "id": "YWNWueCp5Vm9"
      },
      "source": [
        "def remove_segments(traj): # removes stationary points\n",
        "    p2 = traj[:,:2][1:]\n",
        "    p1 = traj[:,:2][:-1]\n",
        "    L = ((p2-p1)*(p2-p1)).sum(axis =1)\n",
        "    I = np.where(L>0)[0]\n",
        "    return traj[I]"
      ],
      "execution_count": null,
      "outputs": []
    },
    {
      "cell_type": "markdown",
      "metadata": {
        "id": "EV9hqqYZ5Ylz"
      },
      "source": [
        "### In the following data consists of trajectories with removed stationary points\n"
      ]
    },
    {
      "cell_type": "code",
      "metadata": {
        "colab": {
          "base_uri": "https://localhost:8080/"
        },
        "id": "roExBPRk5JOF",
        "outputId": "81461720-b011-4180-f0cc-d9fac03e7788"
      },
      "source": [
        "for i in range(len(data)):\n",
        "    data[i] = np.array(list(map(remove_segments, data[i])), dtype='object')\n",
        "len(data)"
      ],
      "execution_count": null,
      "outputs": [
        {
          "output_type": "execute_result",
          "data": {
            "text/plain": [
              "20"
            ]
          },
          "metadata": {},
          "execution_count": 10
        }
      ]
    },
    {
      "cell_type": "markdown",
      "metadata": {
        "id": "oGsx-OVXAstM"
      },
      "source": [
        "# Chosen Pairs"
      ]
    },
    {
      "cell_type": "code",
      "metadata": {
        "id": "t8KG5W03CXw1"
      },
      "source": [
        "pairs = [[16,18], [10,18], [10,16], [2,8], [3,11]]\n",
        "pairs = np.array(pairs) - 1\n",
        "# (u,w), (n,w), (n,u), (b,c), (c,o)"
      ],
      "execution_count": null,
      "outputs": []
    },
    {
      "cell_type": "code",
      "metadata": {
        "colab": {
          "base_uri": "https://localhost:8080/"
        },
        "id": "G7HLHXMuSXk_",
        "outputId": "ce1d7c62-f93f-41a6-8258-092677919791"
      },
      "source": [
        "i = 0 \n",
        "m, n = pairs[i]\n",
        "print(\"pairs =\", f\"{m},\", n)\n",
        "plt.plot(data[n][0][:,0], data[n][0][:,1])\n",
        "plt.plot(data[m][0][:,0], data[m][0][:,1])\n",
        "plt.show()"
      ],
      "execution_count": null,
      "outputs": [
        {
          "output_type": "stream",
          "text": [
            "pairs = 15, 17\n"
          ],
          "name": "stdout"
        },
        {
          "output_type": "display_data",
          "data": {
            "image/png": "[encoded data removed]",
            "text/plain": [
              "<Figure size 432x288 with 1 Axes>"
            ]
          },
          "metadata": {
            "tags": [],
            "needs_background": "light"
          }
        }
      ]
    },
    {
      "cell_type": "code",
      "metadata": {
        "colab": {
          "base_uri": "https://localhost:8080/"
        },
        "id": "GmI1mBh2rTSm",
        "scrolled": true,
        "outputId": "84fa33b2-dcb3-41d8-cbf4-13aa8deede43"
      },
      "source": [
        "for n, m in pairs:\n",
        "    plt.plot(data[n][0][:,0], data[n][0][:,1])\n",
        "    plt.plot(data[m][0][:,0], data[m][0][:,1])\n",
        "    plt.show()"
      ],
      "execution_count": null,
      "outputs": [
        {
          "output_type": "display_data",
          "data": {
            "image/png": "[encoded data removed]",
            "text/plain": [
              "<Figure size 432x288 with 1 Axes>"
            ]
          },
          "metadata": {
            "tags": [],
            "needs_background": "light"
          }
        },
        {
          "output_type": "display_data",
          "data": {
            "image/png": "[encoded data removed]",
            "text/plain": [
              "<Figure size 432x288 with 1 Axes>"
            ]
          },
          "metadata": {
            "tags": [],
            "needs_background": "light"
          }
        },
        {
          "output_type": "display_data",
          "data": {
            "image/png": "[encoded data removed]",
            "text/plain": [
              "<Figure size 432x288 with 1 Axes>"
            ]
          },
          "metadata": {
            "tags": [],
            "needs_background": "light"
          }
        },
        {
          "output_type": "display_data",
          "data": {
            "image/png": "[encoded data removed]",
            "text/plain": [
              "<Figure size 432x288 with 1 Axes>"
            ]
          },
          "metadata": {
            "tags": [],
            "needs_background": "light"
          }
        },
        {
          "output_type": "display_data",
          "data": {
            "image/png": "[encoded data removed]",
            "text/plain": [
              "<Figure size 432x288 with 1 Axes>"
            ]
          },
          "metadata": {
            "tags": [],
            "needs_background": "light"
          }
        }
      ]
    },
    {
      "cell_type": "markdown",
      "metadata": {
        "id": "TIRzpwANnlPp"
      },
      "source": [
        "# KNN with other 7 distances"
      ]
    },
    {
      "cell_type": "markdown",
      "metadata": {
        "id": "UGsb_EraIPMt"
      },
      "source": [
        "# From github page: https://github.com/bguillouet/traj-dist\n",
        "\n",
        "It includes 9 distances for trajectories including: Continuous Frechet, Discrete Frechet, Hausdorff, DTW, SSPD, LCSS, EDR, ERP.\n",
        "\n",
        "## All but the continuous Frechet distance are really fast."
      ]
    },
    {
      "cell_type": "code",
      "metadata": {
        "id": "cG9gzbtN4so1"
      },
      "source": [
        "# a usage example\n",
        "\n",
        "traj_list = data[0]\n",
        "traj_A = traj_list[0]\n",
        "traj_B = traj_list[1]\n",
        "\n",
        "# Simple distance\n",
        "dist = tdist.discret_frechet(traj_A, traj_B)\n",
        "print(dist)\n",
        "\n",
        "# Pairwise distance\n",
        "pdist = tdist.pdist(data[0][:20], metric=\"hausdorff\")\n",
        "print(pdist)\n",
        "\n",
        "# Distance between two list of trajectories\n",
        "cdist = tdist.cdist(data[0][:20], data[1][:20], metric=\"discret_frechet\")\n",
        "print(cdist)"
      ],
      "execution_count": null,
      "outputs": []
    },
    {
      "cell_type": "markdown",
      "metadata": {
        "id": "NyUeJdRA2jAw"
      },
      "source": [
        "#### Calculate dustances all together \n",
        "\n",
        "'discret_frechet', 'hausdorff', 'dtw', 'sspd', 'erp'"
      ]
    },
    {
      "cell_type": "code",
      "metadata": {
        "id": "3XeX95gcshth"
      },
      "source": [
        "def calculate_dists(data1, data2, pairs_idx, metrics, eps_lcss=1, eps_edr=1): \n",
        "    '''pairs_idx: 0 or 1 or 2 or 3 or 4 (it should be aligned with data1 and data2,\n",
        "                  so that data1 = data[pairs[pair_idx][0]] and data2 = data[pairs[pair_idx][1]])\n",
        "       eps_lcss: if metric = 'lcss', then eps_lcss is effective.\n",
        "       eps_edr: if metric = 'edr', then eps_edr is effective.'''\n",
        "    start_time = time.time() \n",
        "    data = np.concatenate((data1, data2), 0)\n",
        "    n = len(data)\n",
        "    for metric in metrics:\n",
        "        if metric == 'lcss':\n",
        "            A = tdist.pdist(data, metric, type_d=\"euclidean\", eps=eps_lcss)\n",
        "        elif metric == 'edr':\n",
        "            A = tdist.pdist(data, metric, type_d=\"euclidean\", eps=eps_edr)\n",
        "        else: \n",
        "            A = tdist.pdist(data, metric)\n",
        "        tri = np.zeros((n, n))\n",
        "        tri[np.triu_indices(n, 1)] = A\n",
        "        for i in range(1, n):\n",
        "            for j in range(i):\n",
        "                tri[i][j] = tri[j][i]\n",
        "        np.savetxt('/content/gdrive/My Drive/traj-dist/Calculated Distance Matrices (Characters Pairs['+str(pairs_idx)+'])/'+metric+'.csv', \n",
        "                   tri, delimiter=',')\n",
        "    total_time = time.time() - start_time\n",
        "    print(colored(f\"total time for pairs[{pairs_idx}]: {total_time}\", 'yellow'))\n",
        "    return total_time"
      ],
      "execution_count": null,
      "outputs": []
    },
    {
      "cell_type": "code",
      "metadata": {
        "id": "dzKWCTumXUbL"
      },
      "source": [
        "Metrics = ['discret_frechet', 'hausdorff', 'dtw', 'sspd', 'lcss', 'edr', 'erp']\n",
        "\n",
        "# eps_lcss=1, eps_edr=1 are used for pairs[0] and pairs[2]\n",
        "\n",
        "for i in [0,2]:\n",
        "    calculate_dists(data[pairs[i][0]], data[pairs[i][1]], pairs_idx=i, \n",
        "                    metrics=Metrics, eps_lcss=1, eps_edr=1)"
      ],
      "execution_count": null,
      "outputs": []
    },
    {
      "cell_type": "code",
      "metadata": {
        "id": "1MreFyXBuAnC"
      },
      "source": [
        "Metrics = ['discret_frechet', 'hausdorff', 'dtw', 'sspd', 'lcss', 'edr', 'erp']\n",
        "#Metrics = ['lcss', 'edr']\n",
        "\n",
        "# for pairs[1] and pairs[3] and pairs[4] other pairs eps_lcss=2, eps_edr=2 is used. \n",
        "\n",
        "for i in [1, 3, 4]:\n",
        "    calculate_dists(data[pairs[i][0]], data[pairs[i][1]], pairs_idx=i, \n",
        "                    metrics=Metrics, eps_lcss=1, eps_edr=2)"
      ],
      "execution_count": null,
      "outputs": []
    },
    {
      "cell_type": "markdown",
      "metadata": {
        "id": "yVKyw9B40zID"
      },
      "source": [
        "#### Calculate distances for continuous Frechet line by line by the following function. Then at the end concatenate them together."
      ]
    },
    {
      "cell_type": "code",
      "metadata": {
        "id": "wuKXMG-H0k2F"
      },
      "source": [
        "# Data = np.concatenate((data[pairs[pairs_idx][0]], data[pairs[pairs_idx][1]]), 0)\n",
        "def calculate_dists_line_by_line_frechet(Data, pairs_idx, start_idx): \n",
        "    n = len(Data)\n",
        "    for i in range(start_idx, n-1):\n",
        "        start_time = time.time()\n",
        "        def f(traj):\n",
        "            return tdist.frechet(Data[i], traj)\n",
        "        A = list(map(f, Data[i+1:]))\n",
        "        np.savetxt('/content/gdrive/My Drive/traj-dist/Calculated Distance Matrices (Characters Pairs['+str(pairs_idx)+'])/frechet lines/'+str(i)+'.csv', \n",
        "                   A, delimiter=',') \n",
        "        total_time = time.time() - start_time\n",
        "        print(f\"time for step {i}: {total_time}\")\n",
        "    return total_time"
      ],
      "execution_count": null,
      "outputs": []
    },
    {
      "cell_type": "code",
      "metadata": {
        "id": "xV-mBAhmyR2G"
      },
      "source": [
        "pairs_idx = 3\n",
        "start_idx = 0\n",
        "Data = np.concatenate((data[pairs[pairs_idx][0]], data[pairs[pairs_idx][1]]), 0)\n",
        "calculate_dists_line_by_line_frechet(Data, pairs_idx=pairs_idx, start_idx=start_idx)"
      ],
      "execution_count": null,
      "outputs": []
    },
    {
      "cell_type": "markdown",
      "metadata": {
        "id": "-6y3HBZIwbd5"
      },
      "source": [
        "### To stack the 1d generated vectors together to get the distance matrix of continuous Frechet distance we will use the following get_matrix function."
      ]
    },
    {
      "cell_type": "code",
      "metadata": {
        "id": "B6WoHcv6wRtR"
      },
      "source": [
        "def get_matrix(pairs_idx, path):\n",
        "    '''\n",
        "    path example: \n",
        "    /content/gdrive/My Drive/traj-dist/Calculated Distance Matrices (Characters Pairs['+str(pairs_idx)+'])/frechet lines/\n",
        "    '''\n",
        "    n = len(data[pairs[pairs_idx][0]]) + len(data[pairs[pairs_idx][1]])\n",
        "    matrix = np.zeros((n,n))\n",
        "    for i in range(n-1):\n",
        "        #matrix[i][i+1:] = np.array(pd.read_csv(path+str(i)+'.csv', header=None)).reshape(n-i-1,)\n",
        "        matrix[i][i+1:] = np.loadtxt(path+str(i)+'.csv')\n",
        "    for i in range(1, n):\n",
        "        for j in range(i):\n",
        "            matrix[i][j] = matrix[j][i]\n",
        "    np.savetxt(path[:-14]+'frechet.csv', matrix, delimiter=',')\n",
        "    return matrix"
      ],
      "execution_count": null,
      "outputs": []
    },
    {
      "cell_type": "code",
      "metadata": {
        "id": "U7c1dC204Lgh"
      },
      "source": [
        "for pairs_idx in [0, 1, 2, 3, 4]:\n",
        "    path = '/content/gdrive/My Drive/traj-dist/Calculated Distance Matrices (Characters Pairs['+str(pairs_idx)+'])/frechet lines/'\n",
        "    A = get_matrix(pairs_idx, path)"
      ],
      "execution_count": null,
      "outputs": []
    },
    {
      "cell_type": "markdown",
      "metadata": {
        "id": "oXa4_9Ck0sTi"
      },
      "source": [
        "# KNN with 8 distances: \n",
        "\n",
        "### Continuous Frechet, Discrete Frechet, Hausdorff, DTW, SSPD, LCSS, EDR, ERP"
      ]
    },
    {
      "cell_type": "code",
      "metadata": {
        "id": "NOkPgAbQcUX5"
      },
      "source": [
        "def KNN_with_dists(n_1, n_2, dists_names, paths_to_dists):\n",
        "    '''path example: '/content/gdrive/My Drive/traj-dist/Calculated Distance Matrices (car-bus)/sspd.csv'\n",
        "       dists_names: a list of distance names\n",
        "       paths_to_dists: the paths list to the corresponding distancas (each path \n",
        "                       points out to the corresponding distance matrix)\n",
        "       n_1: len(data_1)\n",
        "       n_2: len(data_2)\n",
        "       dist_name: the name of distance used to calculate sitance matrix \n",
        "       (the name is taken from a list above called metrics)'''\n",
        "\n",
        "    train_errors = np.zeros(len(dists_names))\n",
        "    test_errors = np.zeros(len(dists_names))\n",
        "\n",
        "    I_1, J_1, y_train_1, y_test_1 = train_test_split(np.arange(n_1), \n",
        "                                                np.ones(n_1), test_size=0.3)\n",
        "    I_2, J_2, y_train_2, y_test_2 = train_test_split(np.arange(n_1, n_1+n_2), \n",
        "                                                np.ones(n_2), test_size=0.3)\n",
        "    labels = np.array([1]*n_1 + [0] * n_2)\n",
        "    I = np.concatenate((I_1, I_2), 0)\n",
        "    np.random.shuffle(I)\n",
        "    J = np.concatenate((J_1, J_2), 0)\n",
        "    np.random.shuffle(J)\n",
        "\n",
        "    for i in range(len(dists_names)):\n",
        "\n",
        "        dist_matrix = np.array(pd.read_csv(paths_to_dists[i],  header=None))\n",
        "\n",
        "        D_train = dist_matrix[I][:, I]\n",
        "        D_test = dist_matrix[J][:,I]\n",
        "        train_labels = labels[I]\n",
        "        test_labels = labels[J]\n",
        "\n",
        "        clf = KNeighborsClassifier(n_neighbors=5, metric='precomputed')\n",
        "        \n",
        "        #Train the model using the training sets\n",
        "        clf.fit(D_train, list(train_labels))\n",
        "\n",
        "        #Predict labels for train dataset\n",
        "        train_pred = clf.predict(D_train)\n",
        "        train_errors[i] = sum(train_labels != train_pred)/len(I)\n",
        "        \n",
        "        #Predict labels for test dataset\n",
        "        test_pred = clf.predict(D_test)\n",
        "        test_errors[i] = sum((test_labels != test_pred))/len(J)\n",
        "        \n",
        "    return train_errors, test_errors"
      ],
      "execution_count": null,
      "outputs": []
    },
    {
      "cell_type": "code",
      "metadata": {
        "id": "zyyv66EdA_um"
      },
      "source": [
        "def KNN_average_error(data1, data2, num_trials, dists_names, paths_to_dists):\n",
        "\n",
        "    '''dists_names: a list of distance names\n",
        "       paths_to_dists: the paths list to the corresponding distancas (each path \n",
        "                       points out to the corresponding distance matrix)'''\n",
        "\n",
        "    Start_time = time.time()\n",
        "\n",
        "    train_errors = np.zeros((num_trials, len(dists_names)))\n",
        "    test_errors = np.zeros((num_trials, len(dists_names)))\n",
        "\n",
        "    for i in range(num_trials):\n",
        "        tr_errors, ts_errors = KNN_with_dists(len(data1), len(data2), dists_names, paths_to_dists)\n",
        "        train_errors[i] = tr_errors\n",
        "        test_errors[i] = ts_errors\n",
        "\n",
        "    train_error = np.mean(train_errors, axis=0)\n",
        "    test_error = np.mean(test_errors, axis=0)\n",
        "    std_test_error = np.std(test_errors, axis=0)\n",
        "\n",
        "    Dict = {}\n",
        "    for i in range(len(dists_names)):\n",
        "        Dict[i+1] = [f\"KNN with {dists_names[i]}\", \n",
        "                     np.round(train_error[i], decimals = 4), \n",
        "                     np.round(test_error[i], decimals = 4), \n",
        "                     np.round(std_test_error[i], decimals = 4)]\n",
        "\n",
        "    df = pd.DataFrame.from_dict(Dict, orient='index', columns=['Classifier',\n",
        "                                'Train Error', 'Test Error', 'std'])\n",
        "    print(colored(f\"num_trials = {num_trials}\", \"blue\"))\n",
        "    print(colored(f'total time = {time.time() - Start_time}', 'green'))\n",
        "\n",
        "    return (df, train_errors, test_errors, train_error, test_error)"
      ],
      "execution_count": null,
      "outputs": []
    },
    {
      "cell_type": "code",
      "metadata": {
        "colab": {
          "base_uri": "https://localhost:8080/"
        },
        "id": "YSO_O-AhaF0T",
        "outputId": "8058d30b-3db8-457c-c8cd-5429417ee41b"
      },
      "source": [
        "Metrics = ['frechet', 'discret_frechet', 'hausdorff', 'dtw', 'lcss', 'sspd',\n",
        "           'edr', 'erp']\n",
        "test_errors = []\n",
        "test_stds = []\n",
        "\n",
        "for j in range(len(pairs)):\n",
        "    paths = []\n",
        "    print(colored(f\"pairs: {pairs[j]}\", 'yellow'))\n",
        "    for i in range(len(Metrics)):\n",
        "        paths.append('/content/gdrive/My Drive/traj-dist/Calculated Distance Matrices (Characters Pairs['+str(j)+'])/'+Metrics[i]+'.csv')\n",
        "\n",
        "    F = KNN_average_error(data[pairs[j][0]], data[pairs[j][1]], num_trials=50, \n",
        "                          dists_names=Metrics, paths_to_dists=paths)\n",
        "    test_errors.append(np.array(F[0])[:, 2])\n",
        "    test_stds.append(np.array(F[0])[:, 3])\n",
        "    print(F[0])\n",
        "    print(colored(\"============================================================\", 'red'))\n",
        "\n",
        "test_errors = np.array(test_errors)\n",
        "test_stds = np.array(test_stds)\n",
        "\n",
        "print(colored(f'mean test errors: {list(np.round(list(np.mean(test_errors, 0)), decimals=4))}', 'yellow'))\n",
        "print(colored(f'mean of stds:     {list(np.round(list(np.mean(test_stds, 0)), decimals=4))}', 'blue'))"
      ],
      "execution_count": null,
      "outputs": [
        {
          "output_type": "stream",
          "text": [
            "\u001b[33mpairs: [15 17]\u001b[0m\n",
            "\u001b[34mnum_trials = 50\u001b[0m\n",
            "\u001b[32mtotal time = 19.0954270362854\u001b[0m\n",
            "                 Classifier  Train Error  Test Error     std\n",
            "1          KNN with frechet       0.0460      0.0682  0.0307\n",
            "2  KNN with discret_frechet       0.0482      0.0728  0.0289\n",
            "3        KNN with hausdorff       0.0455      0.0703  0.0298\n",
            "4              KNN with dtw       0.0635      0.1100  0.0334\n",
            "5             KNN with lcss       0.0906      0.1503  0.0386\n",
            "6             KNN with sspd       0.0785      0.1241  0.0349\n",
            "7              KNN with edr       0.1184      0.1731  0.0395\n",
            "8              KNN with erp       0.0184      0.0282  0.0181\n",
            "\u001b[31m============================================================\u001b[0m\n",
            "\u001b[33mpairs: [ 9 17]\u001b[0m\n",
            "\u001b[34mnum_trials = 50\u001b[0m\n",
            "\u001b[32mtotal time = 18.696921586990356\u001b[0m\n",
            "                 Classifier  Train Error  Test Error     std\n",
            "1          KNN with frechet       0.1137      0.1813  0.0410\n",
            "2  KNN with discret_frechet       0.1065      0.1691  0.0404\n",
            "3        KNN with hausdorff       0.1146      0.1870  0.0408\n",
            "4              KNN with dtw       0.1378      0.2117  0.0420\n",
            "5             KNN with lcss       0.1073      0.1966  0.0438\n",
            "6             KNN with sspd       0.1822      0.2719  0.0479\n",
            "7              KNN with edr       0.0672      0.1203  0.0321\n",
            "8              KNN with erp       0.0212      0.0416  0.0244\n",
            "\u001b[31m============================================================\u001b[0m\n",
            "\u001b[33mpairs: [ 9 15]\u001b[0m\n",
            "\u001b[34mnum_trials = 50\u001b[0m\n",
            "\u001b[32mtotal time = 19.13439393043518\u001b[0m\n",
            "                 Classifier  Train Error  Test Error     std\n",
            "1          KNN with frechet       0.0354      0.0524  0.0222\n",
            "2  KNN with discret_frechet       0.0375      0.0539  0.0196\n",
            "3        KNN with hausdorff       0.0447      0.0653  0.0250\n",
            "4              KNN with dtw       0.0341      0.0557  0.0216\n",
            "5             KNN with lcss       0.0618      0.0873  0.0300\n",
            "6             KNN with sspd       0.0424      0.0706  0.0279\n",
            "7              KNN with edr       0.0726      0.1101  0.0319\n",
            "8              KNN with erp       0.0114      0.0109  0.0110\n",
            "\u001b[31m============================================================\u001b[0m\n",
            "\u001b[33mpairs: [1 7]\u001b[0m\n",
            "\u001b[34mnum_trials = 50\u001b[0m\n",
            "\u001b[32mtotal time = 24.66626524925232\u001b[0m\n",
            "                 Classifier  Train Error  Test Error     std\n",
            "1          KNN with frechet       0.0044      0.0088  0.0082\n",
            "2  KNN with discret_frechet       0.0033      0.0065  0.0078\n",
            "3        KNN with hausdorff       0.0260      0.0417  0.0217\n",
            "4              KNN with dtw       0.0000      0.0002  0.0015\n",
            "5             KNN with lcss       0.1008      0.1904  0.0305\n",
            "6             KNN with sspd       0.0437      0.0565  0.0202\n",
            "7              KNN with edr       0.1145      0.1940  0.0311\n",
            "8              KNN with erp       0.0000      0.0000  0.0000\n",
            "\u001b[31m============================================================\u001b[0m\n",
            "\u001b[33mpairs: [ 2 10]\u001b[0m\n",
            "\u001b[34mnum_trials = 50\u001b[0m\n",
            "\u001b[32mtotal time = 21.57046127319336\u001b[0m\n",
            "                 Classifier  Train Error  Test Error     std\n",
            "1          KNN with frechet       0.0293      0.0563  0.0217\n",
            "2  KNN with discret_frechet       0.0002      0.0007  0.0028\n",
            "3        KNN with hausdorff       0.0149      0.0344  0.0192\n",
            "4              KNN with dtw       0.0002      0.0007  0.0028\n",
            "5             KNN with lcss       0.0924      0.1414  0.0329\n",
            "6             KNN with sspd       0.0426      0.0814  0.0303\n",
            "7              KNN with edr       0.1026      0.1507  0.0304\n",
            "8              KNN with erp       0.0005      0.0026  0.0048\n",
            "\u001b[31m============================================================\u001b[0m\n",
            "\u001b[33mmean test errors: [0.0734, 0.0606, 0.0797, 0.0757, 0.1532, 0.1209, 0.1496, 0.0167]\u001b[0m\n",
            "\u001b[34mmean of stds:     [0.0248, 0.0199, 0.0273, 0.0203, 0.0352, 0.0322, 0.033, 0.0117]\u001b[0m\n"
          ],
          "name": "stdout"
        }
      ]
    },
    {
      "cell_type": "markdown",
      "metadata": {
        "id": "bKd_aTMCQdU4"
      },
      "source": [
        "# KNN with fastdtw which is an approximate dtw"
      ]
    },
    {
      "cell_type": "code",
      "metadata": {
        "id": "2CEHWopgQrVY",
        "colab": {
          "base_uri": "https://localhost:8080/"
        },
        "outputId": "c6ff4cab-d868-4bba-de41-be39110574ca"
      },
      "source": [
        "pip install fastdtw"
      ],
      "execution_count": null,
      "outputs": [
        {
          "output_type": "stream",
          "name": "stdout",
          "text": [
            "Requirement already satisfied: fastdtw in /usr/local/lib/python3.7/dist-packages (0.3.4)\n",
            "Requirement already satisfied: numpy in /usr/local/lib/python3.7/dist-packages (from fastdtw) (1.19.5)\n"
          ]
        }
      ]
    },
    {
      "cell_type": "code",
      "metadata": {
        "id": "erbi2TUXSlPS"
      },
      "source": [
        "from scipy.spatial.distance import euclidean\n",
        "from fastdtw import fastdtw"
      ],
      "execution_count": null,
      "outputs": []
    },
    {
      "cell_type": "code",
      "metadata": {
        "id": "f4badXvWXevM"
      },
      "source": [
        "def calculate_fastdtw_dists(data1, data2): \n",
        "    X = np.concatenate((data1, data2), 0)\n",
        "    n = len(X)\n",
        "    matrix = np.zeros((n, n))\n",
        "\n",
        "    for i in range(n):\n",
        "        matrix[i][i:] = [fastdtw(X[i], X[j])[0] for j in range(i, n)]\n",
        "\n",
        "    for i in range(1, n):\n",
        "        for j in range(i):\n",
        "            matrix[i][j] = matrix[j][i]\n",
        "    return matrix"
      ],
      "execution_count": null,
      "outputs": []
    },
    {
      "cell_type": "code",
      "metadata": {
        "id": "sbcQrAbOToDD"
      },
      "source": [
        "def KNN_with_fastdtw(n_1, n_2, dist_matrix):\n",
        "    '''n_1: len(data_1)\n",
        "       n_2: len(data_2)\n",
        "       dist_name: the name of distance used to calculate sitance matrix \n",
        "       (the name is taken from a list above called metrics)'''\n",
        "\n",
        "    I_1, J_1, y_train_1, y_test_1 = train_test_split(np.arange(n_1), \n",
        "                                                np.ones(n_1), test_size=0.3)\n",
        "    I_2, J_2, y_train_2, y_test_2 = train_test_split(np.arange(n_1, n_1+n_2), \n",
        "                                                np.ones(n_2), test_size=0.3)\n",
        "    labels = np.array([1]*n_1 + [0] * n_2)\n",
        "    I = np.concatenate((I_1, I_2), 0)\n",
        "    np.random.shuffle(I)\n",
        "    J = np.concatenate((J_1, J_2), 0)\n",
        "    np.random.shuffle(J)\n",
        "\n",
        "    D_train = dist_matrix[I][:, I]\n",
        "    D_test = dist_matrix[J][:,I]\n",
        "    train_labels = labels[I]\n",
        "    test_labels = labels[J]\n",
        "\n",
        "    clf = KNeighborsClassifier(n_neighbors=5, metric='precomputed')\n",
        "    \n",
        "    #Train the model using the training sets\n",
        "    clf.fit(D_train, list(train_labels))\n",
        "\n",
        "    #Predict labels for train dataset\n",
        "    train_pred = clf.predict(D_train)\n",
        "    train_errors = sum(train_labels != train_pred)/len(I)\n",
        "    \n",
        "    #Predict labels for test dataset\n",
        "    test_pred = clf.predict(D_test)\n",
        "    test_errors = sum((test_labels != test_pred))/len(J)\n",
        "        \n",
        "    return train_errors, test_errors"
      ],
      "execution_count": null,
      "outputs": []
    },
    {
      "cell_type": "code",
      "metadata": {
        "id": "GiP9VqFiToDQ"
      },
      "source": [
        "def KNN_fastdtw_average_error(data1, data2, dist_matrix, num_trials):\n",
        "\n",
        "    '''dists_names: a list of distance names\n",
        "       paths_to_dists: the paths list to the corresponding distancas (each path \n",
        "                       points out to the corresponding distance matrix)'''\n",
        "\n",
        "    Start_time = time.time()\n",
        "\n",
        "    train_errors = np.zeros(num_trials)\n",
        "    test_errors = np.zeros(num_trials)\n",
        "\n",
        "    for i in range(num_trials):\n",
        "        tr_errors, ts_errors = KNN_with_fastdtw(len(data1), len(data2), dist_matrix)\n",
        "        train_errors[i] = tr_errors\n",
        "        test_errors[i] = ts_errors\n",
        "\n",
        "    train_error = np.mean(train_errors)\n",
        "    test_error = np.mean(test_errors)\n",
        "    std_test_error = np.std(test_errors)\n",
        "\n",
        "    Dict = {}\n",
        "    Dict[1] = [f\"KNN with fastdtw\", np.round(train_error, decimals = 4), \n",
        "               np.round(test_error, decimals = 4), \n",
        "               np.round(std_test_error, decimals = 4)]\n",
        "\n",
        "    df = pd.DataFrame.from_dict(Dict, orient='index', columns=['Classifier',\n",
        "                                'Train Error', 'Test Error', 'std'])\n",
        "    print(colored(f\"num_trials = {num_trials}\", \"blue\"))\n",
        "    print(colored(f'total time for averaging = {time.time() - Start_time}', 'green'))\n",
        "\n",
        "    return (df, train_errors, test_errors, train_error, test_error)"
      ],
      "execution_count": null,
      "outputs": []
    },
    {
      "cell_type": "code",
      "metadata": {
        "colab": {
          "base_uri": "https://localhost:8080/"
        },
        "id": "i2LHfjF1p0y1",
        "outputId": "58245e5b-7c82-4c66-df49-3807069d44bf"
      },
      "source": [
        "test_errors_fastdtw = []\n",
        "test_stds_fastdtw = []\n",
        "for j in range(len(pairs)):\n",
        "    m, n = pairs[j]\n",
        "    fastdtw_matrix = calculate_fastdtw_dists(data[m], data[n])\n",
        "\n",
        "    E = KNN_fastdtw_average_error(data[m], data[n], dist_matrix=fastdtw_matrix, num_trials=50)\n",
        "    print(E[0])\n",
        "    test_errors_fastdtw.append(np.array(E[0])[0][2])\n",
        "    test_stds_fastdtw.append(np.array(E[0])[0][3])\n",
        "    print(colored(\"====================================================\", 'red'))\n",
        "\n",
        "test_errors_fastdtw = np.array(test_errors_fastdtw)\n",
        "test_stds_fastdtw = np.array(test_stds_fastdtw)\n",
        "\n",
        "print(colored(f'mean test errors: {np.round(np.mean(test_errors_fastdtw), decimals=4)}', 'magenta'))\n",
        "print(colored(f'mean of stds:     {np.round(np.mean(test_stds_fastdtw), decimals=4)}', 'blue'))"
      ],
      "execution_count": null,
      "outputs": [
        {
          "output_type": "stream",
          "name": "stdout",
          "text": [
            "\u001b[34mnum_trials = 50\u001b[0m\n",
            "\u001b[32mtotal time for averaging = 0.5238537788391113\u001b[0m\n",
            "         Classifier  Train Error  Test Error     std\n",
            "1  KNN with fastdtw       0.0421      0.0751  0.0232\n",
            "\u001b[31m====================================================\u001b[0m\n",
            "\u001b[34mnum_trials = 50\u001b[0m\n",
            "\u001b[32mtotal time for averaging = 0.5313422679901123\u001b[0m\n",
            "         Classifier  Train Error  Test Error    std\n",
            "1  KNN with fastdtw       0.0626      0.1239  0.036\n",
            "\u001b[31m====================================================\u001b[0m\n",
            "\u001b[34mnum_trials = 50\u001b[0m\n",
            "\u001b[32mtotal time for averaging = 0.5465335845947266\u001b[0m\n",
            "         Classifier  Train Error  Test Error     std\n",
            "1  KNN with fastdtw       0.0237      0.0377  0.0178\n",
            "\u001b[31m====================================================\u001b[0m\n",
            "\u001b[34mnum_trials = 50\u001b[0m\n",
            "\u001b[32mtotal time for averaging = 0.6626520156860352\u001b[0m\n",
            "         Classifier  Train Error  Test Error  std\n",
            "1  KNN with fastdtw          0.0         0.0  0.0\n",
            "\u001b[31m====================================================\u001b[0m\n",
            "\u001b[34mnum_trials = 50\u001b[0m\n",
            "\u001b[32mtotal time for averaging = 0.5788302421569824\u001b[0m\n",
            "         Classifier  Train Error  Test Error  std\n",
            "1  KNN with fastdtw          0.0         0.0  0.0\n",
            "\u001b[31m====================================================\u001b[0m\n",
            "\u001b[35mmean test errors: 0.0473\u001b[0m\n",
            "\u001b[34mmean of stds:     0.0154\u001b[0m\n"
          ]
        }
      ]
    },
    {
      "cell_type": "markdown",
      "metadata": {
        "id": "O-wPKtP8wf-F"
      },
      "source": [
        "# KNN with LSH"
      ]
    },
    {
      "cell_type": "code",
      "metadata": {
        "id": "5_bXXhx_zbKH"
      },
      "source": [
        "pip install trjtrypy"
      ],
      "execution_count": null,
      "outputs": []
    },
    {
      "cell_type": "code",
      "metadata": {
        "colab": {
          "resources": {
            "http://localhost:8080/nbextensions/google.colab/files.js": {
              "data": "Ly8gQ29weXJpZ2h0IDIwMTcgR29vZ2xlIExMQwovLwovLyBMaWNlbnNlZCB1bmRlciB0aGUgQXBhY2hlIExpY2Vuc2UsIFZlcnNpb24gMi4wICh0aGUgIkxpY2Vuc2UiKTsKLy8geW91IG1heSBub3QgdXNlIHRoaXMgZmlsZSBleGNlcHQgaW4gY29tcGxpYW5jZSB3aXRoIHRoZSBMaWNlbnNlLgovLyBZb3UgbWF5IG9idGFpbiBhIGNvcHkgb2YgdGhlIExpY2Vuc2UgYXQKLy8KLy8gICAgICBodHRwOi8vd3d3LmFwYWNoZS5vcmcvbGljZW5zZXMvTElDRU5TRS0yLjAKLy8KLy8gVW5sZXNzIHJlcXVpcmVkIGJ5IGFwcGxpY2FibGUgbGF3IG9yIGFncmVlZCB0byBpbiB3cml0aW5nLCBzb2Z0d2FyZQovLyBkaXN0cmlidXRlZCB1bmRlciB0aGUgTGljZW5zZSBpcyBkaXN0cmlidXRlZCBvbiBhbiAiQVMgSVMiIEJBU0lTLAovLyBXSVRIT1VUIFdBUlJBTlRJRVMgT1IgQ09ORElUSU9OUyBPRiBBTlkgS0lORCwgZWl0aGVyIGV4cHJlc3Mgb3IgaW1wbGllZC4KLy8gU2VlIHRoZSBMaWNlbnNlIGZvciB0aGUgc3BlY2lmaWMgbGFuZ3VhZ2UgZ292ZXJuaW5nIHBlcm1pc3Npb25zIGFuZAovLyBsaW1pdGF0aW9ucyB1bmRlciB0aGUgTGljZW5zZS4KCi8qKgogKiBAZmlsZW92ZXJ2aWV3IEhlbHBlcnMgZm9yIGdvb2dsZS5jb2xhYiBQeXRob24gbW9kdWxlLgogKi8KKGZ1bmN0aW9uKHNjb3BlKSB7CmZ1bmN0aW9uIHNwYW4odGV4dCwgc3R5bGVBdHRyaWJ1dGVzID0ge30pIHsKICBjb25zdCBlbGVtZW50ID0gZG9jdW1lbnQuY3JlYXRlRWxlbWVudCgnc3BhbicpOwogIGVsZW1lbnQudGV4dENvbnRlbnQgPSB0ZXh0OwogIGZvciAoY29uc3Qga2V5IG9mIE9iamVjdC5rZXlzKHN0eWxlQXR0cmlidXRlcykpIHsKICAgIGVsZW1lbnQuc3R5bGVba2V5XSA9IHN0eWxlQXR0cmlidXRlc1trZXldOwogIH0KICByZXR1cm4gZWxlbWVudDsKfQoKLy8gTWF4IG51bWJlciBvZiBieXRlcyB3aGljaCB3aWxsIGJlIHVwbG9hZGVkIGF0IGEgdGltZS4KY29uc3QgTUFYX1BBWUxPQURfU0laRSA9IDEwMCAqIDEwMjQ7CgpmdW5jdGlvbiBfdXBsb2FkRmlsZXMoaW5wdXRJZCwgb3V0cHV0SWQpIHsKICBjb25zdCBzdGVwcyA9IHVwbG9hZEZpbGVzU3RlcChpbnB1dElkLCBvdXRwdXRJZCk7CiAgY29uc3Qgb3V0cHV0RWxlbWVudCA9IGRvY3VtZW50LmdldEVsZW1lbnRCeUlkKG91dHB1dElkKTsKICAvLyBDYWNoZSBzdGVwcyBvbiB0aGUgb3V0cHV0RWxlbWVudCB0byBtYWtlIGl0IGF2YWlsYWJsZSBmb3IgdGhlIG5leHQgY2FsbAogIC8vIHRvIHVwbG9hZEZpbGVzQ29udGludWUgZnJvbSBQeXRob24uCiAgb3V0cHV0RWxlbWVudC5zdGVwcyA9IHN0ZXBzOwoKICByZXR1cm4gX3VwbG9hZEZpbGVzQ29udGludWUob3V0cHV0SWQpOwp9CgovLyBUaGlzIGlzIHJvdWdobHkgYW4gYXN5bmMgZ2VuZXJhdG9yIChub3Qgc3VwcG9ydGVkIGluIHRoZSBicm93c2VyIHlldCksCi8vIHdoZXJlIHRoZXJlIGFyZSBtdWx0aXBsZSBhc3luY2hyb25vdXMgc3RlcHMgYW5kIHRoZSBQeXRob24gc2lkZSBpcyBnb2luZwovLyB0byBwb2xsIGZvciBjb21wbGV0aW9uIG9mIGVhY2ggc3RlcC4KLy8gVGhpcyB1c2VzIGEgUHJvbWlzZSB0byBibG9jayB0aGUgcHl0aG9uIHNpZGUgb24gY29tcGxldGlvbiBvZiBlYWNoIHN0ZXAsCi8vIHRoZW4gcGFzc2VzIHRoZSByZXN1bHQgb2YgdGhlIHByZXZpb3VzIHN0ZXAgYXMgdGhlIGlucHV0IHRvIHRoZSBuZXh0IHN0ZXAuCmZ1bmN0aW9uIF91cGxvYWRGaWxlc0NvbnRpbnVlKG91dHB1dElkKSB7CiAgY29uc3Qgb3V0cHV0RWxlbWVudCA9IGRvY3VtZW50LmdldEVsZW1lbnRCeUlkKG91dHB1dElkKTsKICBjb25zdCBzdGVwcyA9IG91dHB1dEVsZW1lbnQuc3RlcHM7CgogIGNvbnN0IG5leHQgPSBzdGVwcy5uZXh0KG91dHB1dEVsZW1lbnQubGFzdFByb21pc2VWYWx1ZSk7CiAgcmV0dXJuIFByb21pc2UucmVzb2x2ZShuZXh0LnZhbHVlLnByb21pc2UpLnRoZW4oKHZhbHVlKSA9PiB7CiAgICAvLyBDYWNoZSB0aGUgbGFzdCBwcm9taXNlIHZhbHVlIHRvIG1ha2UgaXQgYXZhaWxhYmxlIHRvIHRoZSBuZXh0CiAgICAvLyBzdGVwIG9mIHRoZSBnZW5lcmF0b3IuCiAgICBvdXRwdXRFbGVtZW50Lmxhc3RQcm9taXNlVmFsdWUgPSB2YWx1ZTsKICAgIHJldHVybiBuZXh0LnZhbHVlLnJlc3BvbnNlOwogIH0pOwp9CgovKioKICogR2VuZXJhdG9yIGZ1bmN0aW9uIHdoaWNoIGlzIGNhbGxlZCBiZXR3ZWVuIGVhY2ggYXN5bmMgc3RlcCBvZiB0aGUgdXBsb2FkCiAqIHByb2Nlc3MuCiAqIEBwYXJhbSB7c3RyaW5nfSBpbnB1dElkIEVsZW1lbnQgSUQgb2YgdGhlIGlucHV0IGZpbGUgcGlja2VyIGVsZW1lbnQuCiAqIEBwYXJhbSB7c3RyaW5nfSBvdXRwdXRJZCBFbGVtZW50IElEIG9mIHRoZSBvdXRwdXQgZGlzcGxheS4KICogQHJldHVybiB7IUl0ZXJhYmxlPCFPYmplY3Q+fSBJdGVyYWJsZSBvZiBuZXh0IHN0ZXBzLgogKi8KZnVuY3Rpb24qIHVwbG9hZEZpbGVzU3RlcChpbnB1dElkLCBvdXRwdXRJZCkgewogIGNvbnN0IGlucHV0RWxlbWVudCA9IGRvY3VtZW50LmdldEVsZW1lbnRCeUlkKGlucHV0SWQpOwogIGlucHV0RWxlbWVudC5kaXNhYmxlZCA9IGZhbHNlOwoKICBjb25zdCBvdXRwdXRFbGVtZW50ID0gZG9jdW1lbnQuZ2V0RWxlbWVudEJ5SWQob3V0cHV0SWQpOwogIG91dHB1dEVsZW1lbnQuaW5uZXJIVE1MID0gJyc7CgogIGNvbnN0IHBpY2tlZFByb21pc2UgPSBuZXcgUHJvbWlzZSgocmVzb2x2ZSkgPT4gewogICAgaW5wdXRFbGVtZW50LmFkZEV2ZW50TGlzdGVuZXIoJ2NoYW5nZScsIChlKSA9PiB7CiAgICAgIHJlc29sdmUoZS50YXJnZXQuZmlsZXMpOwogICAgfSk7CiAgfSk7CgogIGNvbnN0IGNhbmNlbCA9IGRvY3VtZW50LmNyZWF0ZUVsZW1lbnQoJ2J1dHRvbicpOwogIGlucHV0RWxlbWVudC5wYXJlbnRFbGVtZW50LmFwcGVuZENoaWxkKGNhbmNlbCk7CiAgY2FuY2VsLnRleHRDb250ZW50ID0gJ0NhbmNlbCB1cGxvYWQnOwogIGNvbnN0IGNhbmNlbFByb21pc2UgPSBuZXcgUHJvbWlzZSgocmVzb2x2ZSkgPT4gewogICAgY2FuY2VsLm9uY2xpY2sgPSAoKSA9PiB7CiAgICAgIHJlc29sdmUobnVsbCk7CiAgICB9OwogIH0pOwoKICAvLyBXYWl0IGZvciB0aGUgdXNlciB0byBwaWNrIHRoZSBmaWxlcy4KICBjb25zdCBmaWxlcyA9IHlpZWxkIHsKICAgIHByb21pc2U6IFByb21pc2UucmFjZShbcGlja2VkUHJvbWlzZSwgY2FuY2VsUHJvbWlzZV0pLAogICAgcmVzcG9uc2U6IHsKICAgICAgYWN0aW9uOiAnc3RhcnRpbmcnLAogICAgfQogIH07CgogIGNhbmNlbC5yZW1vdmUoKTsKCiAgLy8gRGlzYWJsZSB0aGUgaW5wdXQgZWxlbWVudCBzaW5jZSBmdXJ0aGVyIHBpY2tzIGFyZSBub3QgYWxsb3dlZC4KICBpbnB1dEVsZW1lbnQuZGlzYWJsZWQgPSB0cnVlOwoKICBpZiAoIWZpbGVzKSB7CiAgICByZXR1cm4gewogICAgICByZXNwb25zZTogewogICAgICAgIGFjdGlvbjogJ2NvbXBsZXRlJywKICAgICAgfQogICAgfTsKICB9CgogIGZvciAoY29uc3QgZmlsZSBvZiBmaWxlcykgewogICAgY29uc3QgbGkgPSBkb2N1bWVudC5jcmVhdGVFbGVtZW50KCdsaScpOwogICAgbGkuYXBwZW5kKHNwYW4oZmlsZS5uYW1lLCB7Zm9udFdlaWdodDogJ2JvbGQnfSkpOwogICAgbGkuYXBwZW5kKHNwYW4oCiAgICAgICAgYCgke2ZpbGUudHlwZSB8fCAnbi9hJ30pIC0gJHtmaWxlLnNpemV9IGJ5dGVzLCBgICsKICAgICAgICBgbGFzdCBtb2RpZmllZDogJHsKICAgICAgICAgICAgZmlsZS5sYXN0TW9kaWZpZWREYXRlID8gZmlsZS5sYXN0TW9kaWZpZWREYXRlLnRvTG9jYWxlRGF0ZVN0cmluZygpIDoKICAgICAgICAgICAgICAgICAgICAgICAgICAgICAgICAgICAgJ24vYSd9IC0gYCkpOwogICAgY29uc3QgcGVyY2VudCA9IHNwYW4oJzAlIGRvbmUnKTsKICAgIGxpLmFwcGVuZENoaWxkKHBlcmNlbnQpOwoKICAgIG91dHB1dEVsZW1lbnQuYXBwZW5kQ2hpbGQobGkpOwoKICAgIGNvbnN0IGZpbGVEYXRhUHJvbWlzZSA9IG5ldyBQcm9taXNlKChyZXNvbHZlKSA9PiB7CiAgICAgIGNvbnN0IHJlYWRlciA9IG5ldyBGaWxlUmVhZGVyKCk7CiAgICAgIHJlYWRlci5vbmxvYWQgPSAoZSkgPT4gewogICAgICAgIHJlc29sdmUoZS50YXJnZXQucmVzdWx0KTsKICAgICAgfTsKICAgICAgcmVhZGVyLnJlYWRBc0FycmF5QnVmZmVyKGZpbGUpOwogICAgfSk7CiAgICAvLyBXYWl0IGZvciB0aGUgZGF0YSB0byBiZSByZWFkeS4KICAgIGxldCBmaWxlRGF0YSA9IHlpZWxkIHsKICAgICAgcHJvbWlzZTogZmlsZURhdGFQcm9taXNlLAogICAgICByZXNwb25zZTogewogICAgICAgIGFjdGlvbjogJ2NvbnRpbnVlJywKICAgICAgfQogICAgfTsKCiAgICAvLyBVc2UgYSBjaHVua2VkIHNlbmRpbmcgdG8gYXZvaWQgbWVzc2FnZSBzaXplIGxpbWl0cy4gU2VlIGIvNjIxMTU2NjAuCiAgICBsZXQgcG9zaXRpb24gPSAwOwogICAgZG8gewogICAgICBjb25zdCBsZW5ndGggPSBNYXRoLm1pbihmaWxlRGF0YS5ieXRlTGVuZ3RoIC0gcG9zaXRpb24sIE1BWF9QQVlMT0FEX1NJWkUpOwogICAgICBjb25zdCBjaHVuayA9IG5ldyBVaW50OEFycmF5KGZpbGVEYXRhLCBwb3NpdGlvbiwgbGVuZ3RoKTsKICAgICAgcG9zaXRpb24gKz0gbGVuZ3RoOwoKICAgICAgY29uc3QgYmFzZTY0ID0gYnRvYShTdHJpbmcuZnJvbUNoYXJDb2RlLmFwcGx5KG51bGwsIGNodW5rKSk7CiAgICAgIHlpZWxkIHsKICAgICAgICByZXNwb25zZTogewogICAgICAgICAgYWN0aW9uOiAnYXBwZW5kJywKICAgICAgICAgIGZpbGU6IGZpbGUubmFtZSwKICAgICAgICAgIGRhdGE6IGJhc2U2NCwKICAgICAgICB9LAogICAgICB9OwoKICAgICAgbGV0IHBlcmNlbnREb25lID0gZmlsZURhdGEuYnl0ZUxlbmd0aCA9PT0gMCA/CiAgICAgICAgICAxMDAgOgogICAgICAgICAgTWF0aC5yb3VuZCgocG9zaXRpb24gLyBmaWxlRGF0YS5ieXRlTGVuZ3RoKSAqIDEwMCk7CiAgICAgIHBlcmNlbnQudGV4dENvbnRlbnQgPSBgJHtwZXJjZW50RG9uZX0lIGRvbmVgOwoKICAgIH0gd2hpbGUgKHBvc2l0aW9uIDwgZmlsZURhdGEuYnl0ZUxlbmd0aCk7CiAgfQoKICAvLyBBbGwgZG9uZS4KICB5aWVsZCB7CiAgICByZXNwb25zZTogewogICAgICBhY3Rpb246ICdjb21wbGV0ZScsCiAgICB9CiAgfTsKfQoKc2NvcGUuZ29vZ2xlID0gc2NvcGUuZ29vZ2xlIHx8IHt9OwpzY29wZS5nb29nbGUuY29sYWIgPSBzY29wZS5nb29nbGUuY29sYWIgfHwge307CnNjb3BlLmdvb2dsZS5jb2xhYi5fZmlsZXMgPSB7CiAgX3VwbG9hZEZpbGVzLAogIF91cGxvYWRGaWxlc0NvbnRpbnVlLAp9Owp9KShzZWxmKTsK",
              "ok": true,
              "headers": [
                [
                  "content-type",
                  "application/javascript"
                ]
              ],
              "status": 200,
              "status_text": ""
            }
          },
          "base_uri": "https://localhost:8080/",
          "height": 73
        },
        "id": "dDQCjAWbwN4E",
        "outputId": "cec50463-966a-4978-cfde-f86c8ec138ea"
      },
      "source": [
        "from google.colab import files\n",
        "files.upload()\n",
        "\n",
        "#import KNN_with_LSH_class\n",
        "from KNN_with_LSH_class import KNN_with_LSH"
      ],
      "execution_count": null,
      "outputs": [
        {
          "output_type": "display_data",
          "data": {
            "text/html": [
              "\n",
              "     <input type=\"file\" id=\"files-3ce35d56-6f39-47bb-a026-4f8e7f373855\" name=\"files[]\" multiple disabled\n",
              "        style=\"border:none\" />\n",
              "     <output id=\"result-3ce35d56-6f39-47bb-a026-4f8e7f373855\">\n",
              "      Upload widget is only available when the cell has been executed in the\n",
              "      current browser session. Please rerun this cell to enable.\n",
              "      </output>\n",
              "      <script src=\"/nbextensions/google.colab/files.js\"></script> "
            ],
            "text/plain": [
              "<IPython.core.display.HTML object>"
            ]
          },
          "metadata": {}
        },
        {
          "output_type": "stream",
          "text": [
            "Saving KNN_with_LSH_class.py to KNN_with_LSH_class.py\n"
          ],
          "name": "stdout"
        }
      ]
    },
    {
      "cell_type": "code",
      "metadata": {
        "colab": {
          "base_uri": "https://localhost:8080/"
        },
        "id": "jDchqGUrh2i7",
        "outputId": "9e6ef89d-e3f3-476b-9699-6d27b6c70076"
      },
      "source": [
        "test_errors_LSH = []\n",
        "test_stds_LSH = []\n",
        "for j in range(len(pairs)):\n",
        "    m, n = pairs[j]\n",
        "    KNN_with_LSH_class = KNN_with_LSH(data[m], data[n], number_circles=20, num_trials=50)\n",
        "    E = KNN_with_LSH_class.KNN_LSH_average_error()\n",
        "    print(E[0])\n",
        "    test_errors_LSH.append(np.array(E[0])[0][2])\n",
        "    test_stds_LSH.append(np.array(E[0])[0][3])\n",
        "    print(colored(\"================================================\", 'red'))\n",
        "\n",
        "test_errors_LSH = np.array(test_errors_LSH)\n",
        "test_stds_LSH = np.array(test_stds_LSH)\n",
        "\n",
        "print(colored(f'mean test errors: {np.round(np.mean(test_errors_LSH), decimals=4)}', 'magenta'))\n",
        "print(colored(f'mean of stds:     {np.round(np.mean(test_stds_LSH), decimals=4)}', 'blue'))"
      ],
      "execution_count": null,
      "outputs": [
        {
          "output_type": "stream",
          "text": [
            "\u001b[34mnum_trials = 50\u001b[0m\n",
            "\u001b[32mtotal time = 8.590339183807373\u001b[0m\n",
            "     Classifier  Train Error  Test Error     std\n",
            "1  KNN with LSH       0.1243      0.1841  0.0427\n",
            "\u001b[31m================================================\u001b[0m\n",
            "\u001b[34mnum_trials = 50\u001b[0m\n",
            "\u001b[32mtotal time = 8.378520250320435\u001b[0m\n",
            "     Classifier  Train Error  Test Error     std\n",
            "1  KNN with LSH       0.1871       0.294  0.0559\n",
            "\u001b[31m================================================\u001b[0m\n",
            "\u001b[34mnum_trials = 50\u001b[0m\n",
            "\u001b[32mtotal time = 8.615057229995728\u001b[0m\n",
            "     Classifier  Train Error  Test Error     std\n",
            "1  KNN with LSH       0.1374      0.1719  0.0536\n",
            "\u001b[31m================================================\u001b[0m\n",
            "\u001b[34mnum_trials = 50\u001b[0m\n",
            "\u001b[32mtotal time = 9.734510898590088\u001b[0m\n",
            "     Classifier  Train Error  Test Error     std\n",
            "1  KNN with LSH       0.1323      0.1844  0.0631\n",
            "\u001b[31m================================================\u001b[0m\n",
            "\u001b[34mnum_trials = 50\u001b[0m\n",
            "\u001b[32mtotal time = 8.654668807983398\u001b[0m\n",
            "     Classifier  Train Error  Test Error     std\n",
            "1  KNN with LSH       0.1035      0.1393  0.0476\n",
            "\u001b[31m================================================\u001b[0m\n",
            "\u001b[35mmean test errors: 0.1947\u001b[0m\n",
            "\u001b[34mmean of stds:     0.0526\u001b[0m\n"
          ],
          "name": "stdout"
        }
      ]
    },
    {
      "cell_type": "code",
      "metadata": {
        "id": "_vMhSMJMlN1v"
      },
      "source": [
        ""
      ],
      "execution_count": null,
      "outputs": []
    }
  ]
}