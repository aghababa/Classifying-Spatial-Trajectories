{
 "cells": [
  {
   "cell_type": "code",
   "execution_count": 1,
   "metadata": {},
   "outputs": [],
   "source": [
    "import glob\n",
    "import numpy as np \n",
    "import time\n",
    "import math\n",
    "import random\n",
    "from scipy import linalg as LA\n",
    "import pandas as pd\n",
    "from sklearn.model_selection import train_test_split\n",
    "from sklearn.neighbors import KNeighborsClassifier\n",
    "from sklearn import metrics\n",
    "import statsmodels.api as sm\n",
    "from termcolor import colored\n",
    "import similaritymeasures\n",
    "from sdtw import SoftDTW\n",
    "from sdtw.distance import SquaredEuclidean\n",
    "from matplotlib import pyplot as plt"
   ]
  },
  {
   "cell_type": "code",
   "execution_count": 5,
   "metadata": {},
   "outputs": [
    {
     "name": "stdout",
     "output_type": "stream",
     "text": [
      "l, 163-l= 40 123\n",
      "len(cars), len(buses)= 78 45\n"
     ]
    }
   ],
   "source": [
    "def read_file(file_name):\n",
    "    data = []\n",
    "    with open(file_name, \"r\") as f:\n",
    "        for line in f:\n",
    "            item = line.strip().split(\",\")\n",
    "            data.append(np.array(item))\n",
    "    return np.array(data)\n",
    "\n",
    "data1 = read_file('/Users/hasan/Desktop/Anaconda/Research/GPS Trajectory/go_track_tracks.csv')[1:,:-1]\n",
    "data2 = read_file('/Users/hasan/Desktop/Anaconda/Research/GPS Trajectory/go_track_trackspoints.csv')[1:,1:4]\n",
    "\n",
    "float1 = np.vectorize(float)\n",
    "int1 = np.vectorize(int)\n",
    "track_id = int1(data1[:,0])\n",
    "labels = np.where(int1(data1[:,-1]) < 1.5, int1(data1[:,-1]), -1) \n",
    "traj = float1(data2)\n",
    "\n",
    "trajec = [0] * 163\n",
    "\n",
    "for i in range(163):\n",
    "    trajec[i] = []\n",
    "    I = np.where(traj[:,2] == track_id[i])\n",
    "    trajec[i] = np.array([labels[i], traj[I]], dtype = 'object')\n",
    "\n",
    "trajec = np.array(trajec)\n",
    "\n",
    "trajectory = [0] * 163\n",
    "trajectory_label_id = [0] * 163\n",
    "\n",
    "for i in range(163):\n",
    "    trajectory[i] = trajec[i][1][:,:2]\n",
    "    trajectory_label_id[i] = np.array([trajec[i][1][:,:2], trajec[i][0], trajec[i][1][:,2][0]], dtype = 'object')\n",
    "    \n",
    "trajectory_label_id = np.array(trajectory_label_id, dtype = 'object')\n",
    "trajectory = np.array(trajectory, dtype = 'object')\n",
    "\n",
    "\n",
    "min_length = 10\n",
    "max_length = 1000 #160 for balance data\n",
    "l = 0\n",
    "index = [] \n",
    "for i in range(163):\n",
    "    if len(trajectory[i]) < min_length or len(trajectory[i]) > max_length:\n",
    "        l = l + 1\n",
    "    else:\n",
    "        index.append(i)\n",
    "        \n",
    "print(\"l, 163-l=\", l, 163-l)\n",
    "\n",
    "trajectories = [0] * (163-l)\n",
    "trajectories_label_id = [0] * (163-l)\n",
    "\n",
    "j = 0\n",
    "for i in range(163):\n",
    "    if len(trajectory[i]) >= min_length and len(trajectory[i]) <= max_length:\n",
    "        trajectories[j] = np.array(trajectory[i])\n",
    "        trajectories_label_id[j] = trajectory_label_id[i]\n",
    "        j = j + 1\n",
    "\n",
    "trajectories_label_id = np.array(trajectories_label_id, dtype = 'object')\n",
    "trajectories = np.array(trajectories, dtype = 'object')\n",
    "\n",
    "cars = trajectories_label_id[np.where(trajectories_label_id[:,1] == 1)][:,:2][:,0]\n",
    "buses = trajectories_label_id[np.where(trajectories_label_id[:,1] == -1)][:,:2][:,0]\n",
    "cars_copy = cars.copy()\n",
    "buses_copy = buses.copy()\n",
    "print(\"len(cars), len(buses)=\", len(cars), len(buses))"
   ]
  },
  {
   "cell_type": "code",
   "execution_count": 6,
   "metadata": {},
   "outputs": [
    {
     "data": {
      "text/plain": [
       "(76, 44)"
      ]
     },
     "execution_count": 6,
     "metadata": {},
     "output_type": "execute_result"
    }
   ],
   "source": [
    "a = np.arange(len(cars))\n",
    "I = np.where((a != 28) & (a != 29))\n",
    "cars = cars[I]\n",
    "buses = buses[:-1]\n",
    "len(cars), len(buses)"
   ]
  },
  {
   "cell_type": "code",
   "execution_count": 23,
   "metadata": {},
   "outputs": [
    {
     "data": {
      "image/png": "[encoded data removed]",
      "text/plain": [
       "<Figure size 432x288 with 1 Axes>"
      ]
     },
     "metadata": {
      "needs_background": "light"
     },
     "output_type": "display_data"
    }
   ],
   "source": [
    "for i in range(len(cars)):\n",
    "    plt.plot(cars[i][:,0], cars[i][:,1], color='blue')\n",
    "for i in range(len(buses)):\n",
    "    plt.plot(buses[i][:,0], buses[i][:,1], color='red')\n",
    "plt.savefig(f'/Users/hasan/Desktop/Anaconda/Research/Pictures for 2ed paper/car-bus.png', \n",
    "            bbox_inches='tight', dpi=200)\n",
    "plt.show()"
   ]
  },
  {
   "cell_type": "code",
   "execution_count": 9,
   "metadata": {},
   "outputs": [
    {
     "name": "stdout",
     "output_type": "stream",
     "text": [
      "data_1.shape, data_2.shape= (226,) (220,)\n"
     ]
    }
   ],
   "source": [
    "data_1 = []\n",
    "data_2 = []\n",
    "for i in range(226):\n",
    "    path = '/Users/hasan/Desktop/Anaconda/Research/car-bus-generated/data_1/'+str(i)+'.csv'\n",
    "    data_1.append(np.array(pd.read_csv(path, header=None)))\n",
    "\n",
    "for i in range(220):\n",
    "    path = '/Users/hasan/Desktop/Anaconda/Research/car-bus-generated/data_2/'+str(i)+'.csv'\n",
    "    data_2.append(np.array(pd.read_csv(path, header=None)))\n",
    "\n",
    "data_1 = np.array(data_1, dtype = \"object\")\n",
    "data_2 = np.array(data_2, dtype = \"object\")\n",
    "print(\"data_1.shape, data_2.shape=\", data_1.shape, data_2.shape)"
   ]
  },
  {
   "cell_type": "code",
   "execution_count": 10,
   "metadata": {},
   "outputs": [
    {
     "data": {
      "image/png": "[encoded data removed]",
      "text/plain": [
       "<Figure size 432x288 with 1 Axes>"
      ]
     },
     "metadata": {
      "needs_background": "light"
     },
     "output_type": "display_data"
    }
   ],
   "source": [
    "for i in range(len(data_1)):\n",
    "    plt.plot(data_1[i][:,0], data_1[i][:,1], color='blue')\n",
    "for i in range(len(data_2)):\n",
    "    plt.plot(data_2[i][:,0], data_2[i][:,1], color='red')\n",
    "plt.savefig(f'/Users/hasan/Desktop/Anaconda/Research/Pictures for 2ed paper/Simulated-car-bus-446.png', \n",
    "            bbox_inches='tight', dpi=200)\n",
    "plt.show()"
   ]
  },
  {
   "cell_type": "code",
   "execution_count": 11,
   "metadata": {},
   "outputs": [
    {
     "data": {
      "image/png": "[encoded data removed]",
      "text/plain": [
       "<Figure size 432x288 with 1 Axes>"
      ]
     },
     "metadata": {
      "needs_background": "light"
     },
     "output_type": "display_data"
    }
   ],
   "source": [
    "for i in range(0,222, 6):\n",
    "    plt.plot(data_1[i][:,0], data_1[i][:,1], color='blue')\n",
    "for i in range(0,220,6):\n",
    "    plt.plot(data_2[i][:,0], data_2[i][:,1], color='red')\n",
    "plt.savefig(f'/Users/hasan/Desktop/Anaconda/Research/Pictures for 2ed paper/Simulated-car-bus-446-36.png', \n",
    "            bbox_inches='tight', dpi=200)\n",
    "plt.show()"
   ]
  },
  {
   "cell_type": "code",
   "execution_count": 12,
   "metadata": {},
   "outputs": [
    {
     "name": "stdout",
     "output_type": "stream",
     "text": [
      "length and width: 0.67 0.62\n"
     ]
    }
   ],
   "source": [
    "a, c = np.min((np.min([np.min(data_1[i], axis=0) for i in range(len(data_1))], axis=0), \n",
    "       np.min([np.min(data_2[i], axis=0) for i in range(len(data_2))], axis=0)), axis=0)\n",
    "  \n",
    "b, d = np.max((np.max([np.max(data_1[i], axis=0) for i in range(len(data_1))], axis=0), \n",
    "               np.max([np.max(data_2[i], axis=0) for i in range(len(data_2))], axis=0)), axis=0)\n",
    "\n",
    "print(\"length and width:\", np.round(b - a, decimals=2), np.round(d - c, decimals=2))"
   ]
  },
  {
   "cell_type": "code",
   "execution_count": 13,
   "metadata": {},
   "outputs": [],
   "source": [
    "def get_mu(data_1, data_2):\n",
    "    a = np.mean([np.mean(data_1[i], 0) for i in range(len(data_1))], 0)\n",
    "    b = np.mean([np.mean(data_2[i], 0) for i in range(len(data_2))], 0)\n",
    "    c = abs(a-b)\n",
    "    return max(c)"
   ]
  },
  {
   "cell_type": "markdown",
   "metadata": {},
   "source": [
    "# KNN with Soft-DTW with matrix saving method"
   ]
  },
  {
   "cell_type": "code",
   "execution_count": 24,
   "metadata": {},
   "outputs": [],
   "source": [
    "def calculate_dists_soft_dtw(data1, data2, gamma, path): \n",
    "    start_time = time.time() \n",
    "    data = np.concatenate((data1, data2), 0)\n",
    "    n = len(data)\n",
    "    A = []\n",
    "    for i in range(n-1):\n",
    "        for j in range(i+1, n):\n",
    "            D = SquaredEuclidean(data[i], data[j])\n",
    "            sdtw = SoftDTW(D, gamma=gamma)\n",
    "            A.append(sdtw.compute())\n",
    "    A = np.array(A)\n",
    "    tri = np.zeros((n, n))\n",
    "    tri[np.triu_indices(n, 1)] = A\n",
    "    for i in range(1, n):\n",
    "        for j in range(i):\n",
    "            tri[i][j] = tri[j][i]\n",
    "    np.savetxt(path, tri, delimiter=',')\n",
    "    total_time = time.time() - start_time\n",
    "    return total_time"
   ]
  },
  {
   "cell_type": "code",
   "execution_count": 17,
   "metadata": {},
   "outputs": [
    {
     "data": {
      "text/plain": [
       "69.32698512077332"
      ]
     },
     "execution_count": 17,
     "metadata": {},
     "output_type": "execute_result"
    }
   ],
   "source": [
    "path = '/Users/hasan/Desktop/Anaconda/Research/Calculated Distance Matrices for KNN-soft-dtw/car-bus-generated-soft-dtw-446.csv'\n",
    "calculate_dists_soft_dtw(data_1, data_2, gamma=1e-15, path=path)"
   ]
  },
  {
   "cell_type": "code",
   "execution_count": 28,
   "metadata": {},
   "outputs": [],
   "source": [
    "def KNN_with_dists_soft_dtw(n_1, n_2, path_to_dists):\n",
    "    '''path example: '/content/gdrive/My Drive/traj-dist/Calculated Distance Matrices (car-bus)/sspd.csv'\n",
    "       path_to_dists: the path to the corresponding distance matrix\n",
    "       n_1: len(data_1)\n",
    "       n_2: len(data_2)'''\n",
    "\n",
    "    I_1, J_1, y_train_1, y_test_1 = train_test_split(np.arange(n_1), \n",
    "                                                np.ones(n_1), test_size=0.3)\n",
    "    I_2, J_2, y_train_2, y_test_2 = train_test_split(np.arange(n_1, n_1+n_2), \n",
    "                                                np.ones(n_2), test_size=0.3)\n",
    "    labels = np.array([1] * n_1 + [0] * n_2)\n",
    "    I = np.concatenate((I_1, I_2), 0)\n",
    "    np.random.shuffle(I)\n",
    "    J = np.concatenate((J_1, J_2), 0)\n",
    "    np.random.shuffle(J)\n",
    "\n",
    "    dist_matrix = np.array(pd.read_csv(path_to_dists,  header=None))\n",
    "\n",
    "    D_train = dist_matrix[I][:, I]\n",
    "    D_test = dist_matrix[J][:,I]\n",
    "    train_labels = labels[I]\n",
    "    test_labels = labels[J]\n",
    "\n",
    "    clf = KNeighborsClassifier(n_neighbors=5, metric='precomputed')\n",
    "    \n",
    "    #Train the model using the training sets\n",
    "    clf.fit(D_train, list(train_labels))\n",
    "\n",
    "    #Predict labels for train dataset\n",
    "    train_pred = clf.predict(D_train)\n",
    "    train_error = sum(train_labels != train_pred)/len(I)\n",
    "    \n",
    "    #Predict labels for test dataset\n",
    "    test_pred = clf.predict(D_test)\n",
    "    test_error = sum((test_labels != test_pred))/len(J)\n",
    "        \n",
    "    return train_error, test_error"
   ]
  },
  {
   "cell_type": "code",
   "execution_count": 29,
   "metadata": {},
   "outputs": [],
   "source": [
    "def KNN_average_error_soft_dtw(data1, data2, num_trials, path_to_dists):\n",
    "\n",
    "    '''path_to_dists: the path to the corresponding distance matrix'''\n",
    "\n",
    "    Start_time = time.time()\n",
    "\n",
    "    train_errors = np.zeros(num_trials)\n",
    "    test_errors = np.zeros(num_trials)\n",
    "\n",
    "    for i in range(num_trials):\n",
    "        train_errors[i], test_errors[i] = KNN_with_dists_soft_dtw(len(data1), len(data2), path_to_dists)\n",
    "\n",
    "    Dict = {}\n",
    "    Dict[1] = [f\"KNN with soft dtw\", \n",
    "                    np.round(np.mean(train_errors), decimals = 4), \n",
    "                    np.round(np.mean(test_errors), decimals = 4), \n",
    "                    np.round(np.std(test_errors), decimals = 4)]\n",
    "\n",
    "    df = pd.DataFrame.from_dict(Dict, orient='index', columns=['Classifier',\n",
    "                                'Train Error', 'Test Error', 'std'])\n",
    "    print(colored(f\"num_trials = {num_trials}\", \"blue\"))\n",
    "    print(colored(f'total time = {time.time() - Start_time}', 'green'))\n",
    "\n",
    "    return (df, np.mean(train_errors), np.mean(test_errors), np.std(test_errors))"
   ]
  },
  {
   "cell_type": "code",
   "execution_count": 22,
   "metadata": {},
   "outputs": [
    {
     "name": "stdout",
     "output_type": "stream",
     "text": [
      "\u001b[34mnum_trials = 50\u001b[0m\n",
      "\u001b[32mtotal time = 3.7435810565948486\u001b[0m\n"
     ]
    },
    {
     "data": {
      "text/html": [
       "<div>\n",
       "<style scoped>\n",
       "    .dataframe tbody tr th:only-of-type {\n",
       "        vertical-align: middle;\n",
       "    }\n",
       "\n",
       "    .dataframe tbody tr th {\n",
       "        vertical-align: top;\n",
       "    }\n",
       "\n",
       "    .dataframe thead th {\n",
       "        text-align: right;\n",
       "    }\n",
       "</style>\n",
       "<table border=\"1\" class=\"dataframe\">\n",
       "  <thead>\n",
       "    <tr style=\"text-align: right;\">\n",
       "      <th></th>\n",
       "      <th>Classifier</th>\n",
       "      <th>Train Error</th>\n",
       "      <th>Test Error</th>\n",
       "      <th>std</th>\n",
       "    </tr>\n",
       "  </thead>\n",
       "  <tbody>\n",
       "    <tr>\n",
       "      <td>1</td>\n",
       "      <td>KNN with soft dtw</td>\n",
       "      <td>0.063</td>\n",
       "      <td>0.124</td>\n",
       "      <td>0.0315</td>\n",
       "    </tr>\n",
       "  </tbody>\n",
       "</table>\n",
       "</div>"
      ],
      "text/plain": [
       "          Classifier  Train Error  Test Error     std\n",
       "1  KNN with soft dtw        0.063       0.124  0.0315"
      ]
     },
     "execution_count": 22,
     "metadata": {},
     "output_type": "execute_result"
    }
   ],
   "source": [
    "path = '/Users/hasan/Desktop/Anaconda/Research/Calculated Distance Matrices for KNN-soft-dtw/car-bus-generated-soft-dtw-446.csv'\n",
    "\n",
    "E = KNN_average_error_soft_dtw(data_1, data_2, num_trials=50, path_to_dists=path)\n",
    "E[0]"
   ]
  },
  {
   "cell_type": "code",
   "execution_count": null,
   "metadata": {},
   "outputs": [],
   "source": []
  }
 ],
 "metadata": {
  "kernelspec": {
   "display_name": "Python 3",
   "language": "python",
   "name": "python3"
  },
  "language_info": {
   "codemirror_mode": {
    "name": "ipython",
    "version": 3
   },
   "file_extension": ".py",
   "mimetype": "text/x-python",
   "name": "python",
   "nbconvert_exporter": "python",
   "pygments_lexer": "ipython3",
   "version": "3.7.4"
  }
 },
 "nbformat": 4,
 "nbformat_minor": 2
}
