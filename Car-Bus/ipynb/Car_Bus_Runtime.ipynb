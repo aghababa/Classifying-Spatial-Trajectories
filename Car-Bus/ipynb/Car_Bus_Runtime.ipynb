{
  "nbformat": 4,
  "nbformat_minor": 0,
  "metadata": {
    "colab": {
      "name": "Car-Bus_Runtime.ipynb",
      "provenance": [],
      "collapsed_sections": [
        "ubAIAs89PJw8",
        "AfbIPquYs0B0",
        "6QcTXPtAN2p7",
        "E5yZZdXaie3y",
        "aW-pMmG9XZnW",
        "csEuSvBmXJi8",
        "GjaS3YxyXWHh",
        "1CJWEjULkc0s",
        "X7JpgW0ngKS7",
        "AZa7rr8gR9Qa",
        "FjUDYLcS07zg",
        "--uKwvMpCC44",
        "B7hNqrTzfv66"
      ]
    },
    "kernelspec": {
      "display_name": "Python 3",
      "language": "python",
      "name": "python3"
    },
    "language_info": {
      "codemirror_mode": {
        "name": "ipython",
        "version": 3
      },
      "file_extension": ".py",
      "mimetype": "text/x-python",
      "name": "python",
      "nbconvert_exporter": "python",
      "pygments_lexer": "ipython3",
      "version": "3.7.4"
    }
  },
  "cells": [
    {
      "cell_type": "code",
      "metadata": {
        "id": "4TGYWzUj5z4-"
      },
      "source": [
        "#pip install tslearn"
      ],
      "execution_count": null,
      "outputs": []
    },
    {
      "cell_type": "code",
      "metadata": {
        "id": "e9e_c7wcaiId"
      },
      "source": [
        "pip install trjtrypy"
      ],
      "execution_count": null,
      "outputs": []
    },
    {
      "cell_type": "code",
      "metadata": {
        "id": "b5BXAvdNQw5t",
        "scrolled": true
      },
      "source": [
        "import glob\n",
        "import numpy as np \n",
        "import time\n",
        "import math\n",
        "import random\n",
        "from scipy import linalg as LA\n",
        "import pandas as pd\n",
        "from sklearn.pipeline import make_pipeline\n",
        "from sklearn.preprocessing import StandardScaler\n",
        "from sklearn import svm\n",
        "from sklearn.svm import NuSVC\n",
        "from sklearn.model_selection import train_test_split\n",
        "from sklearn import metrics\n",
        "from sklearn.ensemble import AdaBoostClassifier\n",
        "from sklearn.svm import SVC\n",
        "from sklearn.ensemble import RandomForestClassifier\n",
        "from sklearn.tree import DecisionTreeClassifier\n",
        "from sklearn.linear_model import LogisticRegression\n",
        "from sklearn.neighbors import KNeighborsClassifier\n",
        "from sklearn.linear_model import Perceptron\n",
        "import statsmodels.api as sm\n",
        "from mpl_toolkits import mplot3d\n",
        "import matplotlib.pyplot as plt\n",
        "from termcolor import colored\n",
        "import matplotlib as mpl\n",
        "from scipy import optimize\n",
        "from sklearn.svm import LinearSVC\n",
        "from termcolor import colored\n",
        "from scipy.stats import entropy\n",
        "import os\n",
        "import ast\n",
        "import csv\n",
        "import json \n",
        "import scipy.io\n",
        "import trjtrypy as tt\n",
        "from trjtrypy.featureMappings import curve2vec\n",
        "from trjtrypy.distances import d_Q_pi\n",
        "#import similaritymeasures\n",
        "#import tslearn\n",
        "#from tslearn.metrics import dtw\n",
        "#from scipy.spatial.distance import directed_hausdorff"
      ],
      "execution_count": null,
      "outputs": []
    },
    {
      "cell_type": "code",
      "metadata": {
        "colab": {
          "base_uri": "https://localhost:8080/"
        },
        "id": "21g9nlO8Q_T2",
        "outputId": "3395831d-e879-49b7-b24e-83ee06da36bd"
      },
      "source": [
        "from google.colab import drive\n",
        "drive.mount(\"/content/gdrive\")"
      ],
      "execution_count": null,
      "outputs": [
        {
          "output_type": "stream",
          "name": "stdout",
          "text": [
            "Drive already mounted at /content/gdrive; to attempt to forcibly remount, call drive.mount(\"/content/gdrive\", force_remount=True).\n"
          ]
        }
      ]
    },
    {
      "cell_type": "markdown",
      "metadata": {
        "id": "ubAIAs89PJw8"
      },
      "source": [
        "# Read data"
      ]
    },
    {
      "cell_type": "code",
      "metadata": {
        "colab": {
          "base_uri": "https://localhost:8080/"
        },
        "id": "CrORjFNjQw5w",
        "outputId": "bbac81de-93d9-4c75-c6aa-eab266ffac72"
      },
      "source": [
        "def read_file(file_name):\n",
        "    data = []\n",
        "    with open(file_name, \"r\") as f:\n",
        "        for line in f:\n",
        "            item = line.strip().split(\",\")\n",
        "            data.append(np.array(item))\n",
        "    return np.array(data)\n",
        "\n",
        "data1 = read_file('/content/gdrive/My Drive/Colab Notebooks/go_track_tracks.csv')[1:,:-1]\n",
        "data2 = read_file('/content/gdrive/My Drive/Colab Notebooks/go_track_trackspoints.csv')[1:,1:4]\n",
        "\n",
        "float1 = np.vectorize(float)\n",
        "int1 = np.vectorize(int)\n",
        "track_id = int1(data1[:,0])\n",
        "labels = np.where(int1(data1[:,-1]) < 1.5, int1(data1[:,-1]), -1) \n",
        "traj = float1(data2)\n",
        "\n",
        "sum(labels==1), sum(labels==-1)"
      ],
      "execution_count": null,
      "outputs": [
        {
          "output_type": "execute_result",
          "data": {
            "text/plain": [
              "(87, 76)"
            ]
          },
          "metadata": {},
          "execution_count": 22
        }
      ]
    },
    {
      "cell_type": "code",
      "metadata": {
        "colab": {
          "base_uri": "https://localhost:8080/"
        },
        "id": "o9PYd0r3Qw55",
        "outputId": "862c61b1-26c9-4be2-ee30-af36601804a1"
      },
      "source": [
        "trajec = [0] * 163\n",
        "\n",
        "for i in range(163):\n",
        "    trajec[i] = []\n",
        "    I = np.where(traj[:,2] == track_id[i])\n",
        "    trajec[i] = np.array([labels[i], traj[I]], dtype = 'object')\n",
        "\n",
        "trajec = np.array(trajec)\n",
        "\n",
        "trajectory = [0] * 163\n",
        "trajectory_label_id = [0] * 163\n",
        "\n",
        "for i in range(163):\n",
        "    trajectory[i] = trajec[i][1][:,:2]\n",
        "    trajectory_label_id[i] = np.array([trajec[i][1][:,:2], trajec[i][0], trajec[i][1][:,2][0]], dtype = 'object')\n",
        "    \n",
        "trajectory_label_id = np.array(trajectory_label_id, dtype = 'object')\n",
        "trajectory = np.array(trajectory, dtype = 'object')\n",
        "\n",
        "min_length = 10\n",
        "max_length = 1000 #160 for balance data\n",
        "l = 0\n",
        "index = [] \n",
        "for i in range(163):\n",
        "    if len(trajectory[i]) < min_length or len(trajectory[i]) > max_length:\n",
        "        l = l + 1\n",
        "    else:\n",
        "        index.append(i)\n",
        "        \n",
        "l, 163-l"
      ],
      "execution_count": null,
      "outputs": [
        {
          "output_type": "execute_result",
          "data": {
            "text/plain": [
              "(40, 123)"
            ]
          },
          "metadata": {},
          "execution_count": 23
        }
      ]
    },
    {
      "cell_type": "code",
      "metadata": {
        "colab": {
          "base_uri": "https://localhost:8080/"
        },
        "id": "skYHE61eQw6A",
        "outputId": "dc1593e9-771f-473f-9d56-e3731588f075"
      },
      "source": [
        "trajectories = [0] * (163-l)\n",
        "trajectories_label_id = [0] * (163-l)\n",
        "\n",
        "j = 0\n",
        "for i in range(163):\n",
        "    if len(trajectory[i]) >= min_length and len(trajectory[i]) <= max_length:\n",
        "        trajectories[j] = np.array(trajectory[i])\n",
        "        trajectories_label_id[j] = trajectory_label_id[i]\n",
        "        j = j + 1\n",
        "\n",
        "trajectories_label_id = np.array(trajectories_label_id, dtype = 'object')\n",
        "trajectories = np.array(trajectories, dtype = 'object')\n",
        "\n",
        "cars = trajectories_label_id[np.where(trajectories_label_id[:,1] == 1)][:,:2][:,0]\n",
        "buses = trajectories_label_id[np.where(trajectories_label_id[:,1] == -1)][:,:2][:,0]\n",
        "\n",
        "cars_copy = cars.copy()\n",
        "buses_copy = buses.copy()\n",
        "len(cars), len(buses)"
      ],
      "execution_count": null,
      "outputs": [
        {
          "output_type": "execute_result",
          "data": {
            "text/plain": [
              "(78, 45)"
            ]
          },
          "metadata": {},
          "execution_count": 24
        }
      ]
    },
    {
      "cell_type": "code",
      "metadata": {
        "id": "Y3YZGn33zSoe"
      },
      "source": [
        "def remove_segments(traj): # removes stationary points\n",
        "    p2 = traj[1:]\n",
        "    p1 = traj[:-1]\n",
        "    L = ((p2-p1)*(p2-p1)).sum(axis =1)\n",
        "    I = np.where(L>1e-16)[0]\n",
        "    return traj[I]"
      ],
      "execution_count": null,
      "outputs": []
    },
    {
      "cell_type": "code",
      "metadata": {
        "colab": {
          "base_uri": "https://localhost:8080/"
        },
        "id": "xgcbpzeJnvyO",
        "outputId": "07ec924a-c0a3-4721-fed6-1cf295dbb7d0"
      },
      "source": [
        "cars = np.array(list(map(remove_segments, cars)), dtype='object')\n",
        "buses = np.array(list(map(remove_segments, buses)), dtype='object')\n",
        "\n",
        "I = np.where(np.array([len(cars[i]) for i in range(len(cars))]) > 1)\n",
        "J = np.where(np.array([len(buses[i]) for i in range(len(buses))]) > 1)\n",
        "\n",
        "cars = cars[I]\n",
        "buses = buses[J]\n",
        "\n",
        "cars_copy = cars.copy()\n",
        "buses_copy = buses.copy()\n",
        "print(\"len(cars), len(buses)=\", len(cars), len(buses))"
      ],
      "execution_count": null,
      "outputs": [
        {
          "output_type": "stream",
          "name": "stdout",
          "text": [
            "len(cars), len(buses)= 78 45\n"
          ]
        }
      ]
    },
    {
      "cell_type": "markdown",
      "metadata": {
        "id": "AfbIPquYs0B0"
      },
      "source": [
        "# Removing 2 outliers"
      ]
    },
    {
      "cell_type": "code",
      "metadata": {
        "colab": {
          "base_uri": "https://localhost:8080/"
        },
        "id": "GF8AopDps0B0",
        "outputId": "a2574ee2-1c31-47db-f03b-3635a9e41dbb"
      },
      "source": [
        "a = np.arange(len(cars))\n",
        "I = np.where((a != 28) & (a != 29))\n",
        "cars = cars[I]\n",
        "buses = buses[:-1]\n",
        "len(cars), len(buses)"
      ],
      "execution_count": null,
      "outputs": [
        {
          "output_type": "execute_result",
          "data": {
            "text/plain": [
              "(76, 44)"
            ]
          },
          "metadata": {},
          "execution_count": 27
        }
      ]
    },
    {
      "cell_type": "code",
      "metadata": {
        "colab": {
          "base_uri": "https://localhost:8080/"
        },
        "id": "0YkJBVZhs0B1",
        "outputId": "33c9f75e-1335-4732-b195-7fb979874540"
      },
      "source": [
        "a, c = np.min((np.min([np.min(cars[i], axis=0) for i in range(len(cars))], axis=0), \n",
        "       np.min([np.min(buses[i], axis=0) for i in range(len(buses))], axis=0)), axis=0)\n",
        "  \n",
        "b, d = np.max((np.max([np.max(cars[i], axis=0) for i in range(len(cars))], axis=0), \n",
        "               np.max([np.max(buses[i], axis=0) for i in range(len(buses))], axis=0)), axis=0)\n",
        "\n",
        "m = 20\n",
        "Q = np.ones((m,2))\n",
        "\n",
        "Q[:,0] = 0.2 * (b - a ) * np.random.random_sample(m) + a - 0.01\n",
        "Q[:,1] = 0.2 *(d - c ) * np.random.random_sample(m) + c - 0.02\n",
        "\n",
        "for i in range(len(cars)):\n",
        "    plt.plot(cars[i][:,0], cars[i][:,1], color = \"steelblue\");\n",
        "for i in range(len(buses)):\n",
        "    plt.plot(buses[i][:,0], buses[i][:,1], color = \"r\");\n",
        "plt.scatter(Q[:,0], Q[:,1], color = \"black\")\n",
        "print(colored(f'Original car-bus', 'yellow'))\n",
        "plt.show()"
      ],
      "execution_count": null,
      "outputs": [
        {
          "output_type": "stream",
          "name": "stdout",
          "text": [
            "\u001b[33mOriginal car-bus\u001b[0m\n"
          ]
        },
        {
          "output_type": "display_data",
          "data": {
            "image/png": "[encoded data removed]",
            "text/plain": [
              "<Figure size 432x288 with 1 Axes>"
            ]
          },
          "metadata": {
            "needs_background": "light"
          }
        }
      ]
    },
    {
      "cell_type": "markdown",
      "metadata": {
        "id": "6QcTXPtAN2p7"
      },
      "source": [
        "# Classifiers and get_mu function"
      ]
    },
    {
      "cell_type": "code",
      "metadata": {
        "id": "8vCI_kci2l_o"
      },
      "source": [
        "CC = [100, 100, 10]\n",
        "number_estimators = [50, 50]\n",
        "\n",
        "\n",
        "clf0 = [make_pipeline(LinearSVC(dual=False, C=CC[0], tol=1e-5, \n",
        "                               class_weight ='balanced', max_iter=1000)), \n",
        "        \"SVM, LinearSVC, C = \"+str(CC[0])]\n",
        "clf1 = [make_pipeline(StandardScaler(), svm.SVC(C=CC[1], kernel='rbf', gamma='auto', max_iter=200000)),\n",
        "        \"Gaussian SVM, C=\"+str(CC[1])+\", gamma=auto\"]\n",
        "clf2 = [make_pipeline(StandardScaler(), svm.SVC(C=CC[2], kernel='poly', degree=3, max_iter=400000)),\n",
        "        \"Poly kernel SVM, C=\"+str(CC[2])+\", deg=auto\"]\n",
        "clf3 = [DecisionTreeClassifier(), \"Decision Tree\"]\n",
        "clf4 = [RandomForestClassifier(n_estimators=number_estimators[0]), \n",
        "         \"RandomForestClassifier, n=\"+str(number_estimators[0])]\n",
        "clf5 = [KNeighborsClassifier(n_neighbors=5), \"KNN\"]\n",
        "clf6 = [LogisticRegression(solver='newton-cg'), \"Logistic Regression\"]\n",
        "\n",
        "clf = [clf0, clf1, clf2, clf3, clf4, clf5, clf6]\n",
        "classifs = [item[0] for item in clf]\n",
        "keys = [item[1] for item in clf]"
      ],
      "execution_count": null,
      "outputs": []
    },
    {
      "cell_type": "code",
      "metadata": {
        "id": "wRYtdUasOA_0"
      },
      "source": [
        "def get_mu(data_1, data_2):\n",
        "    a = np.mean([np.mean(data_1[i], 0) for i in range(len(data_1))], 0)\n",
        "    b = np.mean([np.mean(data_2[i], 0) for i in range(len(data_2))], 0)\n",
        "    c = abs(a-b)\n",
        "    return max(c)"
      ],
      "execution_count": null,
      "outputs": []
    },
    {
      "cell_type": "markdown",
      "metadata": {
        "id": "E5yZZdXaie3y"
      },
      "source": [
        "# Run time Analysis"
      ]
    },
    {
      "cell_type": "markdown",
      "metadata": {
        "id": "Z7UIOHAIkQ-K"
      },
      "source": [
        "## $v_Q$, $v_Q^{\\varsigma}$, $v_Q^{\\exp}$, endpoints"
      ]
    },
    {
      "cell_type": "code",
      "metadata": {
        "colab": {
          "resources": {
            "http://localhost:8080/nbextensions/google.colab/files.js": {
              "data": "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",
              "ok": true,
              "headers": [
                [
                  "content-type",
                  "application/javascript"
                ]
              ],
              "status": 200,
              "status_text": ""
            }
          },
          "base_uri": "https://localhost:8080/",
          "height": 73
        },
        "id": "Os5m5FX6kgVM",
        "outputId": "51e5f1e2-84f0-431b-ee0f-04615dcbd3e2"
      },
      "source": [
        "from google.colab import files\n",
        "files.upload()\n",
        "\n",
        "import v_Q_mu_endpoints_classification_runtime\n",
        "from v_Q_mu_endpoints_classification_runtime import runTime"
      ],
      "execution_count": null,
      "outputs": [
        {
          "output_type": "display_data",
          "data": {
            "text/html": [
              "\n",
              "     <input type=\"file\" id=\"files-7e5ee1c1-bd3a-4860-b9fe-0ed62055170d\" name=\"files[]\" multiple disabled\n",
              "        style=\"border:none\" />\n",
              "     <output id=\"result-7e5ee1c1-bd3a-4860-b9fe-0ed62055170d\">\n",
              "      Upload widget is only available when the cell has been executed in the\n",
              "      current browser session. Please rerun this cell to enable.\n",
              "      </output>\n",
              "      <script src=\"/nbextensions/google.colab/files.js\"></script> "
            ],
            "text/plain": [
              "<IPython.core.display.HTML object>"
            ]
          },
          "metadata": {}
        },
        {
          "output_type": "stream",
          "name": "stdout",
          "text": [
            "Saving v_Q_mu_endpoints_classification_runtime.py to v_Q_mu_endpoints_classification_runtime.py\n"
          ]
        }
      ]
    },
    {
      "cell_type": "markdown",
      "metadata": {
        "id": "aW-pMmG9XZnW"
      },
      "source": [
        "## Class"
      ]
    },
    {
      "cell_type": "code",
      "metadata": {
        "id": "V5atncV_r_d-"
      },
      "source": [
        "import numpy as np \n",
        "import pandas as pd\n",
        "from sklearn.pipeline import make_pipeline\n",
        "from sklearn.preprocessing import StandardScaler\n",
        "from sklearn import svm\n",
        "from sklearn.svm import NuSVC\n",
        "from sklearn.model_selection import train_test_split\n",
        "from sklearn import metrics\n",
        "from sklearn.ensemble import AdaBoostClassifier\n",
        "from sklearn.svm import SVC\n",
        "from sklearn.ensemble import RandomForestClassifier\n",
        "from sklearn.tree import DecisionTreeClassifier\n",
        "from sklearn.linear_model import LogisticRegression\n",
        "from sklearn.neighbors import KNeighborsClassifier\n",
        "from sklearn.linear_model import Perceptron\n",
        "from termcolor import colored\n",
        "from sklearn.svm import LinearSVC\n",
        "import trjtrypy as tt\n",
        "from trjtrypy.distances import d_Q\n",
        "from trjtrypy.distances import d_Q_pi\n",
        "from trjtrypy.featureMappings import curve2vec\n",
        "from scipy.spatial import distance\n",
        "from collections import Counter\n",
        "import time\n",
        "import timeit\n",
        "\n",
        "\n",
        "\n",
        "def ExpCurve2Vec(points, curves, mu):\n",
        "    D = tt.distsbase.DistsBase()\n",
        "    a = np.array([np.exp(-1*np.power(D.APntSetDistACrv(points,curve),2)/(mu)**2) for curve in curves])\n",
        "    return a\n",
        "\n",
        "\n",
        "'''The following class includes 3 functions:\n",
        "        1. According to v_Q classification (classification_v_Q() function)\n",
        "            a) Average\n",
        "            b) Average-Majority\n",
        "        2. According to v_Q^mu classification (classification_v_Q_mu() function)\n",
        "            a) Average\n",
        "            b) Average-Majority\n",
        "        3. Endpoint classification (endpoint_classification() function)\n",
        "            a) Only average'''\n",
        "\n",
        "class runTime():\n",
        "    def __init__(self, data_1, data_2, Q_size, classifiers, std_coeff=1, version='unsigned', sigma=1):\n",
        "        self.data_1 = data_1\n",
        "        self.data_2 = data_2\n",
        "        self.Q_size = Q_size\n",
        "        self.classifiers = classifiers\n",
        "        self.version = version\n",
        "        self.sigma = sigma\n",
        "        self.std_coeff = std_coeff\n",
        "\n",
        "    \n",
        "        \n",
        "    '''mu calculator function'''\n",
        "        \n",
        "    def get_mu(self, data_1, data_2):\n",
        "        a = np.mean([np.mean(data_1[i], 0) for i in range(len(data_1))], 0)\n",
        "        b = np.mean([np.mean(data_2[i], 0) for i in range(len(data_2))], 0)\n",
        "        return max(abs(a-b)) * self.std_coeff\n",
        "\n",
        "\n",
        "    def generate_Q_runtime(self):\n",
        "\n",
        "        start_time = time.time()\n",
        "        data = np.concatenate((self.data_1, self.data_2), 0)\n",
        "\n",
        "        Mean = np.mean([np.mean(data[i], 0) for i in range(len(data))], 0)\n",
        "        Std = np.std([np.std(data[i], 0) for i in range(len(data))], 0)\n",
        "\n",
        "        Q = np.ones((self.Q_size, 2))\n",
        "        Q[:,0] = np.random.normal(Mean[0], 4 * Std[0], self.Q_size)\n",
        "        Q[:,1] = np.random.normal(Mean[1], 4 * Std[1], self.Q_size)\n",
        "\n",
        "        stop_time = time.time()\n",
        "        total_time = stop_time - start_time\n",
        "\n",
        "        return total_time\n",
        "\n",
        "\n",
        "    def train_classifier_v_Q_runtime(self):\n",
        "\n",
        "        start_time = time.time()\n",
        "        models = [item[0] for item in self.classifiers]\n",
        "        keys = [item[1] for item in self.classifiers]\n",
        "\n",
        "        r = len(self.classifiers)\n",
        "        train_runtime = np.zeros(r)\n",
        "\n",
        "        for k in range(r): \n",
        "\n",
        "            time_temp = time.time() #timeit.default_timer()\n",
        "\n",
        "            n_1 = len(self.data_1)\n",
        "            n_2 = len(self.data_2) \n",
        "\n",
        "            data = np.concatenate((self.data_1, self.data_2), 0)\n",
        "            labels = np.array([1]*n_1 + [-1]*n_2)\n",
        "\n",
        "            Mean = np.mean([np.mean(data[i], 0) for i in range(len(data))], 0)\n",
        "            Std = np.std([np.std(data[i], 0) for i in range(len(data))], 0)\n",
        "            \n",
        "            Q = np.ones((self.Q_size, 2))\n",
        "            Q[:,0] = np.random.normal(Mean[0], 4 * Std[0], self.Q_size)\n",
        "            Q[:,1] = np.random.normal(Mean[1], 4 * Std[1], self.Q_size)\n",
        "\n",
        "            Data = curve2vec(Q, data, version=self.version, sigma=self.sigma)\n",
        "\n",
        "            model = models[k]\n",
        "            model.fit(Data, labels)\n",
        "            stop_time = time.time() #timeit.default_timer()\n",
        "\n",
        "            train_runtime[k] = stop_time - time_temp\n",
        "                    \n",
        "        print(colored(f\"run time: {time.time() - start_time}\", \"red\"))\n",
        "        \n",
        "        Dict = {}\n",
        "        for k in range(len(keys)): \n",
        "            Dict[k+1] = [keys[k], train_runtime[k]]\n",
        "\n",
        "        pdf = pd.DataFrame.from_dict(Dict, orient='index', columns=['Classifier','Runtime'])\n",
        "\n",
        "        return pdf, train_runtime\n",
        "\n",
        "\n",
        "    def train_classifier_v_Q_exp_runtime(self):\n",
        "\n",
        "        start_time = time.time()\n",
        "        models = [item[0] for item in self.classifiers]\n",
        "        keys = [item[1] for item in self.classifiers]\n",
        "\n",
        "        r = len(self.classifiers)\n",
        "        train_runtime = np.zeros(r)\n",
        "\n",
        "        for k in range(r): \n",
        "\n",
        "            time_temp = time.time() #timeit.default_timer()\n",
        "\n",
        "            n_1 = len(self.data_1)\n",
        "            n_2 = len(self.data_2) \n",
        "\n",
        "            data = np.concatenate((self.data_1, self.data_2), 0)\n",
        "            labels = np.array([1]*n_1 + [-1]*n_2)\n",
        "\n",
        "            mu = self.get_mu(self.data_1, self.data_2)\n",
        "\n",
        "            Mean = np.mean([np.mean(data[i], 0) for i in range(len(data))], 0)\n",
        "            Std = np.std([np.std(data[i], 0) for i in range(len(data))], 0)\n",
        "            \n",
        "            Q = np.ones((self.Q_size, 2))\n",
        "            Q[:,0] = np.random.normal(Mean[0], 4 * Std[0], self.Q_size)\n",
        "            Q[:,1] = np.random.normal(Mean[1], 4 * Std[1], self.Q_size)\n",
        "\n",
        "            Data = ExpCurve2Vec(Q, data, mu)\n",
        "\n",
        "            model = models[k]\n",
        "            model.fit(Data, labels)\n",
        "            stop_time = time.time() #timeit.default_timer()\n",
        "\n",
        "            train_runtime[k] = stop_time - time_temp\n",
        "                    \n",
        "        print(colored(f\"run time: {time.time() - start_time}\", \"red\"))\n",
        "        \n",
        "        Dict = {}\n",
        "        for k in range(len(keys)): \n",
        "            Dict[k+1] = [keys[k], train_runtime[k]]\n",
        "\n",
        "        pdf = pd.DataFrame.from_dict(Dict, orient='index', columns=['Classifier','Runtime'])\n",
        "\n",
        "        return pdf, train_runtime\n",
        "\n",
        "    '''Get the endpoints of all trajectories in data_1 and data_2'''\n",
        "    def get_endpoints(self):\n",
        "        n_1 = len(self.data_1)\n",
        "        n_2 = len(self.data_2)\n",
        "        data_1_endpoints = np.zeros((n_1, 4))\n",
        "        data_2_endpoints = np.zeros((n_2, 4))\n",
        "        for i in range(n_1):\n",
        "            data_1_endpoints[i] = np.concatenate((self.data_1[i][0], self.data_1[i][-1]), 0)\n",
        "        for i in range(n_2):\n",
        "            data_2_endpoints[i] = np.concatenate((self.data_2[i][0], self.data_2[i][-1]), 0)\n",
        "        return data_1_endpoints, data_2_endpoints\n",
        "        \n",
        "\n",
        "    '''Get the endpoint classification error\n",
        "       parameters: \n",
        "            1. data_1, data_2\n",
        "            2. epoch\n",
        "            3. classifiers'''\n",
        "    def train_classifier_endpoint_runtime(self):\n",
        "\n",
        "        start_time = time.time()\n",
        "        models = [item[0] for item in self.classifiers]\n",
        "        keys = [item[1] for item in self.classifiers]\n",
        "        r = len(self.classifiers)\n",
        "        train_runtime = np.zeros(r)\n",
        "        n_1 = len(self.data_1)\n",
        "        n_2 = len(self.data_2) \n",
        "\n",
        "        data_1_endpoints, data_2_endpoints = self.get_endpoints()\n",
        "        Data = np.concatenate((data_1_endpoints, data_2_endpoints), 0)\n",
        "        labels = np.array([1]*n_1 + [-1]*n_2)\n",
        "\n",
        "        for k in range(r):\n",
        "            time_temp = time.time()\n",
        "            model = models[k]\n",
        "            model.fit(Data, labels)\n",
        "            stop_time = time.time()\n",
        "            train_runtime[k] = stop_time - time_temp\n",
        "                    \n",
        "        print(colored(f\"run time: {time.time() - start_time}\", \"red\"))\n",
        "        \n",
        "        Dict = {}\n",
        "        for k in range(len(keys)): \n",
        "            Dict[k+1] = [keys[k], train_runtime[k]]\n",
        "\n",
        "        pdf = pd.DataFrame.from_dict(Dict, orient='index', columns=['Classifier','Runtime'])\n",
        "\n",
        "        return pdf, train_runtime"
      ],
      "execution_count": null,
      "outputs": []
    },
    {
      "cell_type": "markdown",
      "metadata": {
        "id": "csEuSvBmXJi8"
      },
      "source": [
        "## Runtime of initializing random landmarks with different classifiers"
      ]
    },
    {
      "cell_type": "code",
      "metadata": {
        "colab": {
          "base_uri": "https://localhost:8080/"
        },
        "id": "O9S__Bxx-Rbc",
        "outputId": "42f4c83c-40e0-4106-f156-78a232eefb88"
      },
      "source": [
        "%timeit runTime(cars, buses, Q_size=20, classifiers=clf, version='unsigned')\n",
        "Runtime = runTime(cars, buses, Q_size=20, classifiers=clf, version='unsigned')\n",
        "A = Runtime.generate_Q_runtime()\n",
        "print(A)\n",
        "print(colored(f'runtimes for generating random Q: {A}', 'yellow'))"
      ],
      "execution_count": null,
      "outputs": [
        {
          "output_type": "stream",
          "name": "stdout",
          "text": [
            "The slowest run took 7.65 times longer than the fastest. This could mean that an intermediate result is being cached.\n",
            "1000000 loops, best of 5: 865 ns per loop\n",
            "0.005908012390136719\n",
            "\u001b[33mruntimes for generating random Q: 0.005908012390136719\u001b[0m\n"
          ]
        }
      ]
    },
    {
      "cell_type": "markdown",
      "metadata": {
        "id": "GjaS3YxyXWHh"
      },
      "source": [
        "## Runtime of training classifiers"
      ]
    },
    {
      "cell_type": "code",
      "metadata": {
        "colab": {
          "base_uri": "https://localhost:8080/"
        },
        "id": "Lg8lBchFvoTX",
        "outputId": "9fdbd91b-4962-4a22-bc80-e2a4ce4facff"
      },
      "source": [
        "%timeit runTime(cars, buses, Q_size=20, classifiers=clf, version='unsigned')\n",
        "Runtime = runTime(cars, buses, Q_size=20, classifiers=clf, version='unsigned')\n",
        "A = Runtime.train_classifier_v_Q_runtime()\n",
        "print(A[0])\n",
        "print(colored(f'runtimes for v_Q: {list(A[1])}', 'yellow'))"
      ],
      "execution_count": null,
      "outputs": [
        {
          "output_type": "stream",
          "name": "stdout",
          "text": [
            "The slowest run took 8.33 times longer than the fastest. This could mean that an intermediate result is being cached.\n",
            "1000000 loops, best of 5: 931 ns per loop\n",
            "\u001b[31mrun time: 0.5645260810852051\u001b[0m\n",
            "                        Classifier   Runtime\n",
            "1          SVM, LinearSVC, C = 100  0.075171\n",
            "2  Gaussian SVM, C=100, gamma=auto  0.071362\n",
            "3  Poly kernel SVM, C=10, deg=auto  0.072181\n",
            "4                    Decision Tree  0.067894\n",
            "5     RandomForestClassifier, n=50  0.138942\n",
            "6                              KNN  0.066300\n",
            "7              Logistic Regression  0.072640\n",
            "\u001b[33mruntimes for v_Q: [0.07517051696777344, 0.07136178016662598, 0.07218146324157715, 0.06789374351501465, 0.13894176483154297, 0.0662999153137207, 0.07264018058776855]\u001b[0m\n"
          ]
        }
      ]
    },
    {
      "cell_type": "code",
      "metadata": {
        "colab": {
          "base_uri": "https://localhost:8080/"
        },
        "id": "S_91hyuvieD9",
        "outputId": "615b55f4-2c0b-45ed-b3d9-573e86c26711"
      },
      "source": [
        "%timeit runTime(cars, buses, Q_size=20, classifiers=clf, version='signed', sigma=1)\n",
        "Runtime = runTime(cars, buses, Q_size=20, classifiers=clf, version='signed', sigma=1)\n",
        "A = Runtime.train_classifier_v_Q_runtime()\n",
        "print(A[0])\n",
        "print(colored(f'runtimes for v_Q^varsigma: {list(A[1])}', 'yellow'))"
      ],
      "execution_count": null,
      "outputs": [
        {
          "output_type": "stream",
          "name": "stdout",
          "text": [
            "The slowest run took 7.24 times longer than the fastest. This could mean that an intermediate result is being cached.\n",
            "1000000 loops, best of 5: 972 ns per loop\n",
            "\u001b[31mrun time: 1.1357877254486084\u001b[0m\n",
            "                        Classifier   Runtime\n",
            "1          SVM, LinearSVC, C = 100  0.156448\n",
            "2  Gaussian SVM, C=100, gamma=auto  0.154710\n",
            "3  Poly kernel SVM, C=10, deg=auto  0.155463\n",
            "4                    Decision Tree  0.155574\n",
            "5     RandomForestClassifier, n=50  0.217628\n",
            "6                              KNN  0.146808\n",
            "7              Logistic Regression  0.149124\n",
            "\u001b[33mruntimes for v_Q^varsigma: [0.1564476490020752, 0.1547098159790039, 0.15546274185180664, 0.15557384490966797, 0.21762800216674805, 0.14680790901184082, 0.1491241455078125]\u001b[0m\n"
          ]
        }
      ]
    },
    {
      "cell_type": "code",
      "metadata": {
        "colab": {
          "base_uri": "https://localhost:8080/"
        },
        "id": "v2KL_7gu1Lvq",
        "outputId": "fd4be681-14fc-40a1-d73f-94e05093dc72"
      },
      "source": [
        "%timeit runTime(cars, buses, Q_size=20, classifiers=clf, version='unsigned')\n",
        "Runtime = runTime(cars, buses, Q_size=20, classifiers=clf, version='unsigned')\n",
        "A = Runtime.train_classifier_v_Q_exp_runtime()\n",
        "print(A[0])\n",
        "print(colored(f'runtimes for v_Q^exp: {list(A[1])}', 'yellow'))"
      ],
      "execution_count": null,
      "outputs": [
        {
          "output_type": "stream",
          "name": "stdout",
          "text": [
            "The slowest run took 8.10 times longer than the fastest. This could mean that an intermediate result is being cached.\n",
            "1000000 loops, best of 5: 926 ns per loop\n",
            "\u001b[31mrun time: 0.5967295169830322\u001b[0m\n",
            "                        Classifier   Runtime\n",
            "1          SVM, LinearSVC, C = 100  0.076997\n",
            "2  Gaussian SVM, C=100, gamma=auto  0.078820\n",
            "3  Poly kernel SVM, C=10, deg=auto  0.076455\n",
            "4                    Decision Tree  0.076720\n",
            "5     RandomForestClassifier, n=50  0.143053\n",
            "6                              KNN  0.071472\n",
            "7              Logistic Regression  0.073178\n",
            "\u001b[33mruntimes for v_Q^exp: [0.07699728012084961, 0.07881975173950195, 0.07645487785339355, 0.07671999931335449, 0.1430530548095703, 0.07147216796875, 0.07317781448364258]\u001b[0m\n"
          ]
        }
      ]
    },
    {
      "cell_type": "code",
      "metadata": {
        "colab": {
          "base_uri": "https://localhost:8080/"
        },
        "id": "7mahmqT7GNHx",
        "outputId": "45f66df7-2e16-440c-c9f0-2a9b2b4fe136"
      },
      "source": [
        "%timeit runTime(cars, buses, Q_size=20, classifiers=clf)\n",
        "Runtime = runTime(cars, buses, Q_size=20, classifiers=clf)\n",
        "A = Runtime.train_classifier_endpoint_runtime()\n",
        "print(A[0])\n",
        "print(colored(f'runtimes for v_Q: {list(A[1])}', 'yellow'))"
      ],
      "execution_count": null,
      "outputs": [
        {
          "output_type": "stream",
          "name": "stdout",
          "text": [
            "The slowest run took 10.66 times longer than the fastest. This could mean that an intermediate result is being cached.\n",
            "1000000 loops, best of 5: 881 ns per loop\n",
            "\u001b[31mrun time: 0.08534502983093262\u001b[0m\n",
            "                        Classifier   Runtime\n",
            "1          SVM, LinearSVC, C = 100  0.001128\n",
            "2  Gaussian SVM, C=100, gamma=auto  0.001843\n",
            "3  Poly kernel SVM, C=10, deg=auto  0.001349\n",
            "4                    Decision Tree  0.000556\n",
            "5     RandomForestClassifier, n=50  0.069502\n",
            "6                              KNN  0.000421\n",
            "7              Logistic Regression  0.009215\n",
            "\u001b[33mruntimes for v_Q: [0.0011284351348876953, 0.0018427371978759766, 0.0013494491577148438, 0.0005559921264648438, 0.06950187683105469, 0.0004210472106933594, 0.009215354919433594]\u001b[0m\n"
          ]
        }
      ]
    },
    {
      "cell_type": "markdown",
      "metadata": {
        "id": "1CJWEjULkc0s"
      },
      "source": [
        "## Mistake-driven"
      ]
    },
    {
      "cell_type": "code",
      "metadata": {
        "colab": {
          "resources": {
            "http://localhost:8080/nbextensions/google.colab/files.js": {
              "data": "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",
              "ok": true,
              "headers": [
                [
                  "content-type",
                  "application/javascript"
                ]
              ],
              "status": 200,
              "status_text": ""
            }
          },
          "base_uri": "https://localhost:8080/",
          "height": 73
        },
        "id": "Y1QAnceOkjRG",
        "outputId": "7ff0b948-d001-40fd-9ebf-9230584d64b3"
      },
      "source": [
        "from google.colab import files\n",
        "files.upload()\n",
        "\n",
        "import Perceptron_Like_Algo_Runtime\n",
        "from Perceptron_Like_Algo_Runtime import runTimeMD"
      ],
      "execution_count": null,
      "outputs": [
        {
          "output_type": "display_data",
          "data": {
            "text/html": [
              "\n",
              "     <input type=\"file\" id=\"files-8b9ddb58-c17f-4d9e-a5a0-7ca49c6e8862\" name=\"files[]\" multiple disabled\n",
              "        style=\"border:none\" />\n",
              "     <output id=\"result-8b9ddb58-c17f-4d9e-a5a0-7ca49c6e8862\">\n",
              "      Upload widget is only available when the cell has been executed in the\n",
              "      current browser session. Please rerun this cell to enable.\n",
              "      </output>\n",
              "      <script src=\"/nbextensions/google.colab/files.js\"></script> "
            ],
            "text/plain": [
              "<IPython.core.display.HTML object>"
            ]
          },
          "metadata": {}
        },
        {
          "output_type": "stream",
          "name": "stdout",
          "text": [
            "Saving Perceptron_Like_Algo_Runtime.py to Perceptron_Like_Algo_Runtime.py\n"
          ]
        }
      ]
    },
    {
      "cell_type": "markdown",
      "metadata": {
        "id": "X7JpgW0ngKS7"
      },
      "source": [
        "## Class"
      ]
    },
    {
      "cell_type": "code",
      "metadata": {
        "id": "qzuHY-hSH4pb"
      },
      "source": [
        "import numpy as np \n",
        "import pandas as pd\n",
        "from sklearn.pipeline import make_pipeline\n",
        "from sklearn.preprocessing import StandardScaler\n",
        "from sklearn import svm\n",
        "from sklearn.svm import NuSVC\n",
        "from sklearn.model_selection import train_test_split\n",
        "from sklearn import metrics\n",
        "from sklearn.ensemble import AdaBoostClassifier\n",
        "from sklearn.svm import SVC\n",
        "from sklearn.ensemble import RandomForestClassifier\n",
        "from sklearn.tree import DecisionTreeClassifier\n",
        "from sklearn.linear_model import LogisticRegression\n",
        "from sklearn.neighbors import KNeighborsClassifier\n",
        "from sklearn.linear_model import Perceptron\n",
        "from termcolor import colored\n",
        "from sklearn.svm import LinearSVC\n",
        "import trjtrypy as tt\n",
        "from trjtrypy.distances import d_Q\n",
        "from trjtrypy.distances import d_Q_pi\n",
        "from trjtrypy.featureMappings import curve2vec\n",
        "from scipy.spatial import distance\n",
        "from collections import Counter\n",
        "import time\n",
        "from scipy.stats import entropy\n",
        "\n",
        "\n",
        "\n",
        "\n",
        "def ExpCurve2Vec(points, curves, mu):\n",
        "    D = tt.distsbase.DistsBase()\n",
        "    a = np.array([np.exp(-1*np.power(D.APntSetDistACrv(points,curve),2)/(mu)**2) for curve in curves])\n",
        "    return a\n",
        "\n",
        "\n",
        "# models = ['LSVM', 'GSVM', 'PSVM', 'LR', 'PERN', 'DT', 'RF', 'KNN']\n",
        "\n",
        "class runTimeMD:\n",
        "    def __init__(self, data_1, data_2, Q_size, model, C, gamma, std_coeff, \n",
        "                 n_neighbors, n_estimators):\n",
        "        \n",
        "        self.data_1 = data_1\n",
        "        self.data_2 = data_2\n",
        "        self.Q_size = Q_size\n",
        "        self.model = model\n",
        "        self.C = C\n",
        "        self.gamma = gamma\n",
        "        self.std_coeff = std_coeff\n",
        "        self.n_neighbors = n_neighbors\n",
        "        self.n_estimators = n_estimators\n",
        "        \n",
        "        \n",
        "    \n",
        "        \n",
        "    '''mu calculator function'''\n",
        "        \n",
        "    def get_mu(self):\n",
        "        a = np.mean([np.mean(self.data_1[i], 0) for i in range(len(self.data_1))], 0)\n",
        "        b = np.mean([np.mean(self.data_2[i], 0) for i in range(len(self.data_2))], 0)\n",
        "        return max(abs(a-b)) * self.std_coeff\n",
        "       \n",
        "        \n",
        "    '''Perceptron-Like Algorithm'''\n",
        "        \n",
        "    def initialize_Q(self): \n",
        "        \n",
        "        Q = []        \n",
        "\n",
        "        mu = self.get_mu()\n",
        "        std = mu * self.std_coeff\n",
        "\n",
        "        trajectory_train_data = np.concatenate((self.data_1, self.data_2), axis = 0)\n",
        "        train_labels = np.concatenate(([1] * len(self.data_1), [-1] * len(self.data_2)), 0)\n",
        "        index = np.random.randint(0, high=len(trajectory_train_data)) \n",
        "        k = np.random.randint(0, high=len(trajectory_train_data[index]))\n",
        "        q = trajectory_train_data[index][k] + np.random.normal(0, std, 2)\n",
        "        Q.append(q)\n",
        "        \n",
        "        if self.model == \"LSVM\":\n",
        "            clf = make_pipeline(LinearSVC(dual=False, C=self.C, tol=1e-5, \n",
        "                                        class_weight='balanced', max_iter=1000))\n",
        "        elif self.model == \"GSVM\":\n",
        "            clf = make_pipeline(StandardScaler(), svm.SVC(C=self.C, kernel='rbf', \n",
        "                                                gamma=self.gamma, max_iter=200000))\n",
        "        elif self.model == 'PSVM':\n",
        "            clf = make_pipeline(StandardScaler(), svm.SVC(C=self.C, kernel='poly', \n",
        "                                                    degree=3, max_iter = 400000))\n",
        "        elif self.model == \"LR\":\n",
        "            clf = LogisticRegression(solver='lbfgs')\n",
        "        elif self.model == \"Prn\":\n",
        "            clf = Perceptron(tol=1e-5, validation_fraction=0.01, class_weight=\"balanced\")\n",
        "        elif self.model == \"DT\":\n",
        "            clf = DecisionTreeClassifier()\n",
        "        elif self.model == \"RF\":\n",
        "            clf = RandomForestClassifier(n_estimators=self.n_estimators)\n",
        "        elif self.model == \"KNN\":\n",
        "            clf = KNeighborsClassifier(n_neighbors=self.n_neighbors)\n",
        "        else:\n",
        "            print(\"error: model is not supported\")\n",
        "        \n",
        "        for i in range(self.Q_size):\n",
        "            train_data = ExpCurve2Vec(np.array(Q), trajectory_train_data, mu)\n",
        "            clf.fit(train_data, train_labels)\n",
        "\n",
        "            train_pred = clf.predict(train_data)\n",
        "            error = sum(train_labels != train_pred)/len(train_labels)\n",
        "            \n",
        "            if self.model in ['LSVM', 'GSVM', 'PSVM', 'LR', 'Prn']:\n",
        "                temp = train_labels * clf.decision_function(train_data)\n",
        "                index = np.argmin(temp)\n",
        "            elif self.model in ['DT', 'RF', 'KNN']:\n",
        "                probs = clf.predict_proba(train_data)\n",
        "                index = np.argmax(entropy(probs, axis=1))\n",
        "            \n",
        "            k = np.random.randint(0, high=len(trajectory_train_data[index]))\n",
        "            q = trajectory_train_data[index][k] + np.random.normal(0, std, 2)\n",
        "            Q.append(q)\n",
        "        \n",
        "        return np.array(Q), mu\n",
        "\n",
        "\n",
        "\n",
        "    \n",
        "    def train_classifier_runtime_Q(self):\n",
        "\n",
        "        if self.model == 'LSVM':\n",
        "            clf_L = [make_pipeline(LinearSVC(dual=False, C=self.C, tol=1e-5, \n",
        "                                       class_weight ='balanced', max_iter=1000)), \n",
        "                    \"SVM, Linear SVC, C=\"+str(self.C)]\n",
        "            clf = clf_L[0] \n",
        "        elif self.model == 'GSVM':\n",
        "            clf_rbf = [make_pipeline(StandardScaler(), svm.SVC(C=self.C, kernel='rbf', \n",
        "                                                    gamma=self.gamma, max_iter=200000)), \n",
        "                       \"GSVM, C=\"+str(self.C)+\", gamma=\"+str(self.gamma)]\n",
        "            clf = clf_rbf[0]\n",
        "        elif self.model == 'PSVM':\n",
        "            clf_PSVM = [make_pipeline(StandardScaler(), svm.SVC(C=self.C, kernel='poly', \n",
        "                                                        degree=3, max_iter = 400000)),\n",
        "                        \"Poly kernel SVM, C=\"+str(self.C)+\", deg=auto\"]\n",
        "            clf = clf_PSVM[0]\n",
        "        elif self.model == \"LR\":\n",
        "            clf_LR = [LogisticRegression(solver='lbfgs'), \"Logistic Regression\"]\n",
        "            clf = clf_LR[0]\n",
        "        elif self.model == \"Prn\":\n",
        "            clf_Prn = [Perceptron(tol=1e-5, validation_fraction=0.01, \n",
        "                               class_weight=\"balanced\"), \"Perceptron\"]\n",
        "            clf = clf_Prn [0]\n",
        "        elif self.model == \"DT\":\n",
        "            clf_DT = [DecisionTreeClassifier(), \"Decision Tree\"]\n",
        "            clf = clf_DT[0]\n",
        "        elif self.model == \"RF\":\n",
        "            clf_RF = [RandomForestClassifier(n_estimators=self.n_estimators), \n",
        "                             \"RandomForestClassifier, n=\"+str(self.n_estimators)]\n",
        "            clf = clf_RF[0]\n",
        "        elif self.model == \"KNN\":\n",
        "            clf_KNN = [KNeighborsClassifier(n_neighbors=self.n_neighbors), \"KNN\"]\n",
        "            clf = clf_KNN[0]\n",
        "        else:\n",
        "            print('model is not supported')\n",
        "\n",
        "        start_time = time.time()\n",
        "\n",
        "        n_1 = len(self.data_1)\n",
        "        n_2 = len(self.data_2) \n",
        "        data = np.concatenate((self.data_1, self.data_2), axis = 0)\n",
        "        labels = np.array([1]*n_1 + [-1]*n_2)\n",
        "        \n",
        "        I = np.arange(len(data))\n",
        "        np.random.shuffle(I)\n",
        "        data = data[I]\n",
        "        labels = labels[I]\n",
        "\n",
        "        init_Q_strat_time = time.time()\n",
        "        B = self.initialize_Q()\n",
        "        init_Q_end_time = time.time()\n",
        "        init_total_time = init_Q_end_time - init_Q_strat_time\n",
        "        \n",
        "        Q = B[0]\n",
        "        mu = B[1]\n",
        "        Data = ExpCurve2Vec(Q, data, mu)\n",
        "        clf.fit(Data, labels)\n",
        "\n",
        "        train_runtime = time.time() - start_time\n",
        "\n",
        "        return train_runtime, init_total_time\n"
      ],
      "execution_count": null,
      "outputs": []
    },
    {
      "cell_type": "markdown",
      "metadata": {
        "id": "AZa7rr8gR9Qa"
      },
      "source": [
        "## Runtime of training classifiers"
      ]
    },
    {
      "cell_type": "code",
      "metadata": {
        "colab": {
          "base_uri": "https://localhost:8080/"
        },
        "id": "of9fuOSdmXRQ",
        "outputId": "e4253332-fb27-4af7-f12e-076d304991b5"
      },
      "source": [
        "model = 'LSVM'\n",
        "%timeit runTimeMD(cars, buses, Q_size=20, model=model, C=100, gamma='auto', \\\n",
        "                  std_coeff=1, n_neighbors=5, n_estimators=50)\n",
        "Runtime = runTimeMD(cars, buses, Q_size=20, model=model, C=100, gamma='auto', \n",
        "                    std_coeff=1, n_neighbors=5, n_estimators=50)\n",
        "A = Runtime.train_classifier_runtime_Q()\n",
        "\n",
        "print(colored(f'runtimes for initializing 20 landmarks with {model}: {np.round(A[1], decimals=4)}', 'magenta'))\n",
        "print(colored(f'runtimes for {model}: {np.round(A[0], decimals=4)}', 'yellow'))"
      ],
      "execution_count": null,
      "outputs": [
        {
          "output_type": "stream",
          "name": "stdout",
          "text": [
            "The slowest run took 6.80 times longer than the fastest. This could mean that an intermediate result is being cached.\n",
            "1000000 loops, best of 5: 1.21 µs per loop\n",
            "\u001b[35mruntimes for initializing 20 landmarks with LSVM: 1.2072\u001b[0m\n",
            "\u001b[33mruntimes for LSVM: 1.2842\u001b[0m\n"
          ]
        }
      ]
    },
    {
      "cell_type": "code",
      "metadata": {
        "colab": {
          "base_uri": "https://localhost:8080/"
        },
        "id": "8PoWGSakOEZ2",
        "outputId": "ff4bdf35-910e-475d-f091-87fbcc816f3b"
      },
      "source": [
        "model = 'GSVM'\n",
        "%timeit runTimeMD(cars, buses, Q_size=20, model=model, C=100, gamma='auto', \\\n",
        "                  std_coeff=1, n_neighbors=5, n_estimators=50)\n",
        "Runtime = runTimeMD(cars, buses, Q_size=20, model=model, C=100, gamma='auto', \n",
        "                    std_coeff=1, n_neighbors=5, n_estimators=50)\n",
        "A = Runtime.train_classifier_runtime_Q()\n",
        "\n",
        "print(colored(f'runtimes for initializing 20 landmarks with {model}: {np.round(A[1], decimals=4)}', 'magenta'))\n",
        "print(colored(f'runtimes for {model}: {np.round(A[0], decimals=4)}', 'yellow'))"
      ],
      "execution_count": null,
      "outputs": [
        {
          "output_type": "stream",
          "name": "stdout",
          "text": [
            "The slowest run took 6.76 times longer than the fastest. This could mean that an intermediate result is being cached.\n",
            "1000000 loops, best of 5: 1.22 µs per loop\n",
            "\u001b[35mruntimes for initializing 20 landmarks with GSVM: 1.2567\u001b[0m\n",
            "\u001b[33mruntimes for GSVM: 1.3335\u001b[0m\n"
          ]
        }
      ]
    },
    {
      "cell_type": "code",
      "metadata": {
        "colab": {
          "base_uri": "https://localhost:8080/"
        },
        "id": "SXnjYyl_Se0f",
        "outputId": "b562a12a-048a-4068-ca72-49912721c11c"
      },
      "source": [
        "model = 'PSVM'\n",
        "%timeit runTimeMD(cars, buses, Q_size=20, model=model, C=100, gamma='auto', \\\n",
        "                  std_coeff=1, n_neighbors=5, n_estimators=50)\n",
        "Runtime = runTimeMD(cars, buses, Q_size=20, model=model, C=100, gamma='auto', \n",
        "                    std_coeff=1, n_neighbors=5, n_estimators=50)\n",
        "A = Runtime.train_classifier_runtime_Q()\n",
        "\n",
        "print(colored(f'runtimes for initializing 20 landmarks with {model}: {np.round(A[1], decimals=4)}', 'magenta'))\n",
        "print(colored(f'runtimes for {model}: {np.round(A[0], decimals=4)}', 'yellow'))"
      ],
      "execution_count": null,
      "outputs": [
        {
          "output_type": "stream",
          "name": "stdout",
          "text": [
            "The slowest run took 5.93 times longer than the fastest. This could mean that an intermediate result is being cached.\n",
            "1000000 loops, best of 5: 1.22 µs per loop\n"
          ]
        },
        {
          "output_type": "stream",
          "name": "stderr",
          "text": [
            "/usr/local/lib/python3.7/dist-packages/sklearn/svm/_base.py:231: ConvergenceWarning: Solver terminated early (max_iter=400000).  Consider pre-processing your data with StandardScaler or MinMaxScaler.\n",
            "  % self.max_iter, ConvergenceWarning)\n"
          ]
        },
        {
          "output_type": "stream",
          "name": "stdout",
          "text": [
            "\u001b[35mruntimes for initializing 20 landmarks with PSVM: 1.5273\u001b[0m\n",
            "\u001b[33mruntimes for PSVM: 1.6011\u001b[0m\n"
          ]
        }
      ]
    },
    {
      "cell_type": "code",
      "metadata": {
        "colab": {
          "base_uri": "https://localhost:8080/"
        },
        "id": "ATMZ6vwRhJnK",
        "outputId": "743a65ec-6ea9-47a9-cec2-43445fdb0564"
      },
      "source": [
        "model = 'DT'\n",
        "%timeit runTimeMD(cars, buses, Q_size=20, model=model, C=100, gamma='auto', \\\n",
        "                  std_coeff=1, n_neighbors=5, n_estimators=50)\n",
        "Runtime = runTimeMD(cars, buses, Q_size=20, model=model, C=100, gamma='auto', \n",
        "                    std_coeff=1, n_neighbors=5, n_estimators=50)\n",
        "A = Runtime.train_classifier_runtime_Q()\n",
        "\n",
        "print(colored(f'runtimes for initializing 20 landmarks with {model}: {np.round(A[1], decimals=4)}', 'magenta'))\n",
        "print(colored(f'runtimes for {model}: {np.round(A[0], decimals=4)}', 'yellow'))"
      ],
      "execution_count": null,
      "outputs": [
        {
          "output_type": "stream",
          "name": "stdout",
          "text": [
            "The slowest run took 8.05 times longer than the fastest. This could mean that an intermediate result is being cached.\n",
            "1000000 loops, best of 5: 1.22 µs per loop\n",
            "\u001b[35mruntimes for initializing 20 landmarks with DT: 1.2087\u001b[0m\n",
            "\u001b[33mruntimes for DT: 1.2819\u001b[0m\n"
          ]
        }
      ]
    },
    {
      "cell_type": "code",
      "metadata": {
        "colab": {
          "base_uri": "https://localhost:8080/"
        },
        "id": "a2GHxDWqhLSN",
        "outputId": "087eb6e9-f449-418d-d6b0-8168792076f7"
      },
      "source": [
        "model = 'RF'\n",
        "%timeit runTimeMD(cars, buses, Q_size=20, model=model, C=100, gamma='auto', \\\n",
        "                  std_coeff=1, n_neighbors=5, n_estimators=50)\n",
        "Runtime = runTimeMD(cars, buses, Q_size=20, model=model, C=100, gamma='auto', \n",
        "                    std_coeff=1, n_neighbors=5, n_estimators=50)\n",
        "A = Runtime.train_classifier_runtime_Q()\n",
        "\n",
        "print(colored(f'runtimes for initializing 20 landmarks with {model}: {np.round(A[1], decimals=4)}', 'magenta'))\n",
        "print(colored(f'runtimes for {model}: {np.round(A[0], decimals=4)}', 'yellow'))"
      ],
      "execution_count": null,
      "outputs": [
        {
          "output_type": "stream",
          "name": "stdout",
          "text": [
            "The slowest run took 9.05 times longer than the fastest. This could mean that an intermediate result is being cached.\n",
            "1000000 loops, best of 5: 1.22 µs per loop\n",
            "\u001b[35mruntimes for initializing 20 landmarks with RF: 2.9791\u001b[0m\n",
            "\u001b[33mruntimes for RF: 3.1383\u001b[0m\n"
          ]
        }
      ]
    },
    {
      "cell_type": "code",
      "metadata": {
        "colab": {
          "base_uri": "https://localhost:8080/"
        },
        "id": "9eLeVsNjhMsU",
        "outputId": "671d5591-9fa5-4384-b4cb-4cdf66d0a4a3"
      },
      "source": [
        "model = 'KNN'\n",
        "%timeit runTimeMD(cars, buses, Q_size=20, model=model, C=100, gamma='auto', \\\n",
        "                  std_coeff=1, n_neighbors=5, n_estimators=50)\n",
        "Runtime = runTimeMD(cars, buses, Q_size=20, model=model, C=100, gamma='auto', \n",
        "                    std_coeff=1, n_neighbors=5, n_estimators=50)\n",
        "A = Runtime.train_classifier_runtime_Q()\n",
        "\n",
        "print(colored(f'runtimes for initializing 20 landmarks with {model}: {np.round(A[1], decimals=4)}', 'magenta'))\n",
        "print(colored(f'runtimes for {model}: {np.round(A[0], decimals=4)}', 'yellow'))"
      ],
      "execution_count": null,
      "outputs": [
        {
          "output_type": "stream",
          "name": "stdout",
          "text": [
            "The slowest run took 6.35 times longer than the fastest. This could mean that an intermediate result is being cached.\n",
            "1000000 loops, best of 5: 1.22 µs per loop\n",
            "\u001b[35mruntimes for initializing 20 landmarks with KNN: 1.317\u001b[0m\n",
            "\u001b[33mruntimes for KNN: 1.3901\u001b[0m\n"
          ]
        }
      ]
    },
    {
      "cell_type": "code",
      "metadata": {
        "colab": {
          "base_uri": "https://localhost:8080/"
        },
        "id": "UrF73nslhOYk",
        "outputId": "921dff93-4066-435a-bc4a-d5667cd2fb3c"
      },
      "source": [
        "model = 'LR'\n",
        "%timeit runTimeMD(cars, buses, Q_size=20, model=model, C=100, gamma='auto', \\\n",
        "                  std_coeff=1, n_neighbors=5, n_estimators=50)\n",
        "Runtime = runTimeMD(cars, buses, Q_size=20, model=model, C=100, gamma='auto', \n",
        "                    std_coeff=1, n_neighbors=5, n_estimators=50)\n",
        "A = Runtime.train_classifier_runtime_Q()\n",
        "\n",
        "print(colored(f'runtimes for initializing 20 landmarks with {model}: {np.round(A[1], decimals=4)}', 'magenta'))\n",
        "print(colored(f'runtimes for {model}: {np.round(A[0], decimals=4)}', 'yellow'))"
      ],
      "execution_count": null,
      "outputs": [
        {
          "output_type": "stream",
          "name": "stdout",
          "text": [
            "The slowest run took 5.77 times longer than the fastest. This could mean that an intermediate result is being cached.\n",
            "1000000 loops, best of 5: 1.21 µs per loop\n",
            "\u001b[35mruntimes for initializing 20 landmarks with LR: 1.2923\u001b[0m\n",
            "\u001b[33mruntimes for LR: 1.3729\u001b[0m\n"
          ]
        }
      ]
    },
    {
      "cell_type": "markdown",
      "metadata": {
        "id": "oy_vop-f-8yh"
      },
      "source": [
        "## KNN runtime"
      ]
    },
    {
      "cell_type": "markdown",
      "metadata": {
        "id": "FjUDYLcS07zg"
      },
      "source": [
        "### install package"
      ]
    },
    {
      "cell_type": "code",
      "metadata": {
        "id": "D3lvO_zYcKQT",
        "colab": {
          "base_uri": "https://localhost:8080/"
        },
        "outputId": "8ae45dc1-4ace-4402-cce8-deab6637c04d"
      },
      "source": [
        "# to make a directory\n",
        "%cd 'gdrive/My Drive/traj-dist'"
      ],
      "execution_count": null,
      "outputs": [
        {
          "output_type": "stream",
          "name": "stdout",
          "text": [
            "/content/gdrive/My Drive/traj-dist\n"
          ]
        }
      ]
    },
    {
      "cell_type": "code",
      "metadata": {
        "id": "r64WIR-DUEY8"
      },
      "source": [
        "# to see in what directory we are in"
      ],
      "execution_count": null,
      "outputs": []
    },
    {
      "cell_type": "code",
      "metadata": {
        "id": "uizep1yEchxQ",
        "colab": {
          "base_uri": "https://localhost:8080/",
          "height": 35
        },
        "outputId": "ca8ca7e9-629f-4d35-e4f1-f6f3d9e09ca3"
      },
      "source": [
        "pwd"
      ],
      "execution_count": null,
      "outputs": [
        {
          "output_type": "execute_result",
          "data": {
            "application/vnd.google.colaboratory.intrinsic+json": {
              "type": "string"
            },
            "text/plain": [
              "'/content/gdrive/My Drive/traj-dist'"
            ]
          },
          "metadata": {},
          "execution_count": 101
        }
      ]
    },
    {
      "cell_type": "code",
      "metadata": {
        "id": "tbFXlofdMaQQ"
      },
      "source": [
        "# to install setup.py from the current directory\n",
        "!python setup.py install"
      ],
      "execution_count": null,
      "outputs": []
    },
    {
      "cell_type": "code",
      "metadata": {
        "id": "dFyNWPPnc2UN",
        "colab": {
          "base_uri": "https://localhost:8080/"
        },
        "outputId": "e9140b88-581f-446d-d414-3a102abc92cb"
      },
      "source": [
        "!pip install geohash2"
      ],
      "execution_count": null,
      "outputs": [
        {
          "output_type": "stream",
          "name": "stdout",
          "text": [
            "Requirement already satisfied: geohash2 in /usr/local/lib/python3.7/dist-packages/geohash2-1.1-py3.7.egg (1.1)\n",
            "Requirement already satisfied: docutils>=0.3 in /usr/local/lib/python3.7/dist-packages (from geohash2) (0.17.1)\n"
          ]
        }
      ]
    },
    {
      "cell_type": "code",
      "metadata": {
        "colab": {
          "base_uri": "https://localhost:8080/"
        },
        "id": "tZ5jFhtNCa_T",
        "outputId": "1aee21bf-afb7-46a5-a26c-415e4e767431"
      },
      "source": [
        "pip install fastdtw"
      ],
      "execution_count": null,
      "outputs": [
        {
          "output_type": "stream",
          "name": "stdout",
          "text": [
            "Requirement already satisfied: fastdtw in /usr/local/lib/python3.7/dist-packages (0.3.4)\n",
            "Requirement already satisfied: numpy in /usr/local/lib/python3.7/dist-packages (from fastdtw) (1.19.5)\n"
          ]
        }
      ]
    },
    {
      "cell_type": "code",
      "metadata": {
        "id": "OLkQo51ICl6e"
      },
      "source": [
        "pip install tslearn"
      ],
      "execution_count": null,
      "outputs": []
    },
    {
      "cell_type": "markdown",
      "metadata": {
        "id": "--uKwvMpCC44"
      },
      "source": [
        "### KNN runtimes"
      ]
    },
    {
      "cell_type": "code",
      "metadata": {
        "colab": {
          "resources": {
            "http://localhost:8080/nbextensions/google.colab/files.js": {
              "data": "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",
              "ok": true,
              "headers": [
                [
                  "content-type",
                  "application/javascript"
                ]
              ],
              "status": 200,
              "status_text": ""
            }
          },
          "base_uri": "https://localhost:8080/",
          "height": 73
        },
        "id": "R4IRvLtVkWGk",
        "outputId": "155113c5-0069-4ed5-def5-126df716067c"
      },
      "source": [
        "from google.colab import files\n",
        "files.upload()\n",
        "\n",
        "import KNN_Class_Colab_runtime\n",
        "from KNN_Class_Colab_runtime import KNN_runTime"
      ],
      "execution_count": null,
      "outputs": [
        {
          "output_type": "display_data",
          "data": {
            "text/html": [
              "\n",
              "     <input type=\"file\" id=\"files-c4d6cf03-84e8-4901-b2a7-f019babfc923\" name=\"files[]\" multiple disabled\n",
              "        style=\"border:none\" />\n",
              "     <output id=\"result-c4d6cf03-84e8-4901-b2a7-f019babfc923\">\n",
              "      Upload widget is only available when the cell has been executed in the\n",
              "      current browser session. Please rerun this cell to enable.\n",
              "      </output>\n",
              "      <script src=\"/nbextensions/google.colab/files.js\"></script> "
            ],
            "text/plain": [
              "<IPython.core.display.HTML object>"
            ]
          },
          "metadata": {}
        },
        {
          "output_type": "stream",
          "name": "stdout",
          "text": [
            "Saving KNN_Class_Colab_runtime.py to KNN_Class_Colab_runtime (1).py\n"
          ]
        }
      ]
    },
    {
      "cell_type": "code",
      "metadata": {
        "id": "RtHARuFkhQ_D"
      },
      "source": [
        "'''This class handles all the metrics in \"metrics array bellow\" and is appropriate for using in Anaconda \n",
        "   for example, but not on Google Colab.'''\n",
        "\n",
        "'''Requirements: (These are already installed in my computer)\n",
        "        1. We need \"pip install trjtrypy\" in order to be able to use d_Q_pi\n",
        "        2. We need \"pip install tslearn\" in order to be able to use dtw\n",
        "        3. We need \"pip install fastdtw\" in order to be able to use fastdtw\n",
        "        4. We need \"pip install traj_dist\" in order to be able to use the rest of metrics'''\n",
        "\n",
        "\n",
        "import numpy as np\n",
        "import time\n",
        "import pandas as pd\n",
        "import random\n",
        "from scipy.spatial.distance import euclidean\n",
        "from fastdtw import fastdtw\n",
        "import traj_dist.distance as tdist\n",
        "import pickle\n",
        "import tslearn\n",
        "from tslearn.metrics import dtw as dtw_tslearn\n",
        "from sklearn.model_selection import train_test_split\n",
        "from sklearn.neighbors import KNeighborsClassifier\n",
        "from trjtrypy.distances import d_Q_pi\n",
        "from termcolor import colored\n",
        "\n",
        "#metrics = ['discret_frechet', 'hausdorff', 'dtw', 'sspd', 'erp', 'edr', 'lcss',  \n",
        "#           fastdtw, dtw, d_Q_pi]\n",
        "\n",
        "# path example: \n",
        "#'Calculated Distance Matrices for KNN/Beijing-Pairs['+str(pairs_final[i])+']-d_Q_pi.csv'\n",
        "\n",
        "\n",
        "class KNN_runTime:\n",
        "    \n",
        "    def __init__(self, data1, data2, metric, gamma=None, eps_edr=None, eps_lcss=None, \n",
        "                 Q_size=None, Q=None, p=2, n_neighbors=5, pair=None):\n",
        "        '''data1 = data[pair[0]]\n",
        "           data2 = data[pair[1]]'''\n",
        "        self.data1 = data1\n",
        "        self.data2 = data2\n",
        "        self.metric = metric\n",
        "        self.gamma = gamma\n",
        "        self.eps_edr = eps_edr\n",
        "        self.eps_lcss = eps_lcss\n",
        "        self.Q_size = Q_size\n",
        "        self.Q = Q\n",
        "        self.p = p\n",
        "        self.n_neighbors = n_neighbors\n",
        "        self.pair = pair\n",
        "    \n",
        "\n",
        "\n",
        "\n",
        "    def calculate_dists_matrix(self):\n",
        "\n",
        "        data = np.concatenate((self.data1, self.data2), 0)\n",
        "        n = len(data)\n",
        "\n",
        "        if self.metric == 'lcss':\n",
        "            A = tdist.pdist(data, self.metric, type_d=\"euclidean\", eps=self.eps_lcss)\n",
        "        if self.metric == 'edr':\n",
        "            A = tdist.pdist(data, self.metric, type_d=\"euclidean\", eps=self.eps_edr)\n",
        "        if self.metric in ['discret_frechet', 'hausdorff', 'dtw', 'sspd', 'erp']: \n",
        "            A = tdist.pdist(data, str(self.metric))\n",
        "        if self.metric == fastdtw: \n",
        "            A = []\n",
        "            for i in range(n-1):\n",
        "                for j in range(i+1, n):\n",
        "                    A.append(self.metric(data[i], data[j])[0])\n",
        "        if self.metric == dtw_tslearn: \n",
        "            A = []\n",
        "            for i in range(n-1):\n",
        "                for j in range(i+1, n):\n",
        "                    A.append(self.metric(data[i], data[j]))\n",
        "        if self.metric == 'd_Q_pi':\n",
        "            A = []\n",
        "            if self.Q_size:\n",
        "                Q = self.generate_random_Q()\n",
        "                for i in range(n-1):\n",
        "                    for j in range(i+1, n):\n",
        "                        A.append(d_Q_pi(Q, data[i], data[j], p=self.p))\n",
        "            elif len(self.Q):\n",
        "                for i in range(n-1):\n",
        "                    for j in range(i+1, n):\n",
        "                        A.append(d_Q_pi(self.Q, data[i], data[j], p=self.p))\n",
        "\n",
        "        tri = np.zeros((n, n))\n",
        "        tri[np.triu_indices(n, 1)] = np.array(A)\n",
        "        for i in range(1, n):\n",
        "            for j in range(i):\n",
        "                tri[i][j] = tri[j][i]\n",
        "                \n",
        "        return tri\n",
        "\n",
        "\n",
        "\n",
        "\n",
        "\n",
        "    '''The following function is only used for d_Q_pi distance in order to \n",
        "       generate random landmarks\n",
        "       Notice: in this pattern of coding we cannot use train1 and train2 to \n",
        "       get Q in the following function.'''\n",
        "    def generate_random_Q(self):\n",
        "        Q = np.zeros((self.Q_size, 2))\n",
        "        data = np.concatenate((self.data1, self.data2), 0)\n",
        "        Mean = np.mean([np.mean(data[i], 0) for i in range(len(data))], 0)\n",
        "        Std = np.std([np.std(data[i], 0) for i in range(len(data))], 0)\n",
        "        Q[:,0] = np.random.normal(Mean[0], 4 * Std[0], self.Q_size)\n",
        "        Q[:,1] = np.random.normal(Mean[1], 4 * Std[1], self.Q_size)\n",
        "        return Q\n",
        "\n",
        "\n",
        "\n",
        "\n",
        "    def KNN_runtime(self):\n",
        "        \n",
        "        start_time = time.time()\n",
        "        n_1 = len(self.data1)\n",
        "        n_2 = len(self.data2) \n",
        "        \n",
        "        labels = np.array([1] * n_1 + [-1] * n_2)\n",
        "        data = np.concatenate((self.data1, self.data2), 0)\n",
        "        dist_matrix = self.calculate_dists_matrix()\n",
        "\n",
        "        clf = KNeighborsClassifier(n_neighbors=self.n_neighbors, metric='precomputed')\n",
        "        clf.fit(dist_matrix, list(labels))\n",
        "        stop_time = time.time()\n",
        "        runtime = stop_time - start_time\n",
        "\n",
        "        return runtime\n",
        "    "
      ],
      "execution_count": null,
      "outputs": []
    },
    {
      "cell_type": "code",
      "metadata": {
        "colab": {
          "base_uri": "https://localhost:8080/"
        },
        "id": "xvVivhRLDYo6",
        "outputId": "577b34da-7799-4ba9-ef0a-7e1eba503031"
      },
      "source": [
        "metrics = ['discret_frechet', 'hausdorff', dtw_tslearn, fastdtw, 'lcss', 'sspd',\n",
        "           'edr', 'erp', 'd_Q_pi']\n",
        "runtimes = []\n",
        "for metric in metrics:\n",
        "    %timeit KNN_runTime(cars, buses, metric=metric, gamma=None, eps_edr=0.02, \\\n",
        "                        eps_lcss=0.02, Q_size=20, Q=None, p=2, n_neighbors=5, pair=[0,1])\n",
        "\n",
        "    Runtime = KNN_runTime(cars, buses, metric=metric, gamma=None, eps_edr=0.02, \n",
        "                      eps_lcss=0.02, Q_size=20, Q=None, p=2, n_neighbors=5, pair=[0,1])\n",
        "    a = Runtime.KNN_runtime()\n",
        "    runtimes.append(a)\n",
        "    print(colored(f'runtimes for {metric}: {a}', 'yellow'))\n",
        "    print(colored(\"===============================================================\", 'red'))\n",
        "\n",
        "print(colored(runtimes, 'blue'))"
      ],
      "execution_count": null,
      "outputs": [
        {
          "output_type": "stream",
          "name": "stdout",
          "text": [
            "The slowest run took 10.41 times longer than the fastest. This could mean that an intermediate result is being cached.\n",
            "1000000 loops, best of 5: 1.46 µs per loop\n",
            "\u001b[33mruntimes for discret_frechet: 13.888860702514648\u001b[0m\n",
            "\u001b[31m===============================================================\u001b[0m\n",
            "The slowest run took 5.12 times longer than the fastest. This could mean that an intermediate result is being cached.\n",
            "1000000 loops, best of 5: 1.46 µs per loop\n",
            "\u001b[33mruntimes for hausdorff: 7.758051633834839\u001b[0m\n",
            "\u001b[31m===============================================================\u001b[0m\n",
            "The slowest run took 5.30 times longer than the fastest. This could mean that an intermediate result is being cached.\n",
            "1000000 loops, best of 5: 1.48 µs per loop\n",
            "\u001b[33mruntimes for <function dtw at 0x7f115f76b5f0>: 6.160368919372559\u001b[0m\n",
            "\u001b[31m===============================================================\u001b[0m\n",
            "The slowest run took 5.82 times longer than the fastest. This could mean that an intermediate result is being cached.\n",
            "1000000 loops, best of 5: 1.49 µs per loop\n",
            "\u001b[33mruntimes for <built-in function fastdtw>: 1.5054645538330078\u001b[0m\n",
            "\u001b[31m===============================================================\u001b[0m\n",
            "The slowest run took 5.27 times longer than the fastest. This could mean that an intermediate result is being cached.\n",
            "1000000 loops, best of 5: 1.47 µs per loop\n",
            "\u001b[33mruntimes for lcss: 14.494276523590088\u001b[0m\n",
            "\u001b[31m===============================================================\u001b[0m\n",
            "The slowest run took 5.27 times longer than the fastest. This could mean that an intermediate result is being cached.\n",
            "1000000 loops, best of 5: 1.47 µs per loop\n",
            "\u001b[33mruntimes for sspd: 7.809615850448608\u001b[0m\n",
            "\u001b[31m===============================================================\u001b[0m\n",
            "The slowest run took 5.26 times longer than the fastest. This could mean that an intermediate result is being cached.\n",
            "1000000 loops, best of 5: 1.46 µs per loop\n",
            "\u001b[33mruntimes for edr: 15.586239337921143\u001b[0m\n",
            "\u001b[31m===============================================================\u001b[0m\n",
            "The slowest run took 5.14 times longer than the fastest. This could mean that an intermediate result is being cached.\n",
            "1000000 loops, best of 5: 1.46 µs per loop\n"
          ]
        },
        {
          "output_type": "stream",
          "name": "stderr",
          "text": [
            "/usr/local/lib/python3.7/dist-packages/traj_dist-1.1-py3.7-linux-x86_64.egg/traj_dist/distance.py:552: UserWarning: g parameter should be specified for metric erp. Default is \n",
            "  warnings.warn(\"g parameter should be specified for metric erp. Default is \")\n"
          ]
        },
        {
          "output_type": "stream",
          "name": "stdout",
          "text": [
            "\u001b[33mruntimes for erp: 45.32779359817505\u001b[0m\n",
            "\u001b[31m===============================================================\u001b[0m\n",
            "The slowest run took 5.30 times longer than the fastest. This could mean that an intermediate result is being cached.\n",
            "1000000 loops, best of 5: 1.45 µs per loop\n",
            "\u001b[33mruntimes for d_Q_pi: 10.646199941635132\u001b[0m\n",
            "\u001b[31m===============================================================\u001b[0m\n",
            "\u001b[34m[13.888860702514648, 7.758051633834839, 6.160368919372559, 1.5054645538330078, 14.494276523590088, 7.809615850448608, 15.586239337921143, 45.32779359817505, 10.646199941635132]\u001b[0m\n"
          ]
        }
      ]
    },
    {
      "cell_type": "markdown",
      "metadata": {
        "id": "B7hNqrTzfv66"
      },
      "source": [
        "### KNN_LSH"
      ]
    },
    {
      "cell_type": "code",
      "metadata": {
        "colab": {
          "resources": {
            "http://localhost:8080/nbextensions/google.colab/files.js": {
              "data": "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",
              "ok": true,
              "headers": [
                [
                  "content-type",
                  "application/javascript"
                ]
              ],
              "status": 200,
              "status_text": ""
            }
          },
          "base_uri": "https://localhost:8080/",
          "height": 73
        },
        "id": "AwmRiXkXlHaf",
        "outputId": "3df618d4-e322-4242-b86c-d7407f953004"
      },
      "source": [
        "from google.colab import files\n",
        "files.upload()\n",
        "\n",
        "import KNN_with_LSH_runtime\n",
        "from KNN_with_LSH_runtime import KNN_LSH_runTime"
      ],
      "execution_count": null,
      "outputs": [
        {
          "output_type": "display_data",
          "data": {
            "text/html": [
              "\n",
              "     <input type=\"file\" id=\"files-7ef1d8b6-54a0-4ff9-93ba-5b6d51284d31\" name=\"files[]\" multiple disabled\n",
              "        style=\"border:none\" />\n",
              "     <output id=\"result-7ef1d8b6-54a0-4ff9-93ba-5b6d51284d31\">\n",
              "      Upload widget is only available when the cell has been executed in the\n",
              "      current browser session. Please rerun this cell to enable.\n",
              "      </output>\n",
              "      <script src=\"/nbextensions/google.colab/files.js\"></script> "
            ],
            "text/plain": [
              "<IPython.core.display.HTML object>"
            ]
          },
          "metadata": {}
        },
        {
          "output_type": "stream",
          "name": "stdout",
          "text": [
            "Saving KNN_with_LSH_runtime.py to KNN_with_LSH_runtime (1).py\n"
          ]
        }
      ]
    },
    {
      "cell_type": "code",
      "metadata": {
        "id": "YzzkfAP4MOkY"
      },
      "source": [
        "# pip install trjtrypy\n",
        "\n",
        "'''A clss for KNN with LSH distance with random circles in each iteration'''\n",
        "\n",
        "import numpy as np \n",
        "import time\n",
        "import random\n",
        "import pandas as pd\n",
        "from sklearn.model_selection import train_test_split\n",
        "from sklearn.neighbors import KNeighborsClassifier\n",
        "from trjtrypy.basedists import distance\n",
        "from termcolor import colored\n",
        "\n",
        "\n",
        "\n",
        "\n",
        "class KNN_LSH_runTime:\n",
        "    def __init__(self, data1, data2, number_circles):\n",
        "        self.data1 = data1\n",
        "        self.data2 = data2\n",
        "        self.number_circles = number_circles\n",
        "\n",
        "\n",
        "\n",
        "    def get_circles(self):\n",
        "\n",
        "        data = np.concatenate((self.data1, self.data2,), 0)\n",
        "        n = len(data)\n",
        "        Mean = np.mean([np.mean(data[i], 0) for i in range(n)], 0)\n",
        "        Std = np.std([np.std(data[i], 0) for i in range(n)], 0)\n",
        "        circles_centers = np.ones((self.number_circles,2))\n",
        "        circles_centers[:,0] = np.random.normal(Mean[0], 4 * Std[0], self.number_circles)\n",
        "        circles_centers[:,1] = np.random.normal(Mean[1], 4 * Std[1], self.number_circles)\n",
        "\n",
        "        return circles_centers\n",
        "\n",
        "\n",
        "\n",
        "    def get_radius(self):\n",
        "\n",
        "        a = np.mean([np.mean(self.data1[i], 0) for i in range(len(self.data1))], 0)\n",
        "        b = np.mean([np.mean(self.data2[i], 0) for i in range(len(self.data2))], 0)\n",
        "\n",
        "        return max(abs(a-b))\n",
        "\n",
        "\n",
        "\n",
        "    def LSH_sketch(self):\n",
        "\n",
        "        radius = self.get_radius()\n",
        "        #print(\"radius =\", radius)\n",
        "        data = np.concatenate((self.data1, self.data2), 0)\n",
        "        circles_centers = self.get_circles()\n",
        "        dists = distance(circles_centers, data) # shape = len(data) x number_circles\n",
        "        LSH_array = np.zeros((len(data), self.number_circles))\n",
        "        circules_cut_idx = np.where(dists < radius)\n",
        "        LSH_array[circules_cut_idx] = 1\n",
        "\n",
        "        return LSH_array\n",
        "\n",
        "\n",
        "    def calculate_LSH_dists(self):\n",
        "\n",
        "        LSH_array = self.LSH_sketch()\n",
        "        data = np.concatenate((self.data1, self.data2), 0)\n",
        "        dists = np.zeros((len(data), len(data)))\n",
        "        for i in range(len(data)-1):\n",
        "            dists[i, i+1:] = np.sum(abs(LSH_array[i+1:] - LSH_array[i]), 1)\n",
        "        for i in range(len(data)-1):\n",
        "            for j in range(i+1, len(data)):\n",
        "                dists[j][i] = dists[i][j]\n",
        "        \n",
        "        return dists\n",
        "\n",
        "\n",
        "\n",
        "    def KNN_LSH_runtime(self):\n",
        "\n",
        "        start_time = time.time()\n",
        "        n_1 = len(self.data1)\n",
        "        n_2 = len(self.data2)\n",
        "\n",
        "        radius = self.get_radius()\n",
        "        dist_matrix = self.calculate_LSH_dists()\n",
        "\n",
        "        labels = np.array([1]*n_1 + [-1] * n_2)\n",
        "\n",
        "        clf = KNeighborsClassifier(n_neighbors=5, metric='precomputed')\n",
        "        clf.fit(dist_matrix, list(labels))\n",
        "\n",
        "        stop_time = time.time()\n",
        "        runtime = stop_time - start_time\n",
        "        \n",
        "        return runtime\n"
      ],
      "execution_count": null,
      "outputs": []
    },
    {
      "cell_type": "code",
      "metadata": {
        "colab": {
          "base_uri": "https://localhost:8080/"
        },
        "id": "M3_SIFuThww7",
        "outputId": "5fc3f1c0-1deb-4b8b-e63f-76bec75656f4"
      },
      "source": [
        "%timeit KNN_LSH = KNN_LSH_runTime(cars, buses, number_circles=20)\n",
        "\n",
        "KNN_LSH = KNN_LSH_runTime(cars, buses, number_circles=20)\n",
        "t = KNN_LSH.KNN_LSH_runtime()\n",
        "print(colored(f'runtime for KNN with LSH is: {t}', 'yellow'))"
      ],
      "execution_count": null,
      "outputs": [
        {
          "output_type": "stream",
          "name": "stdout",
          "text": [
            "The slowest run took 12.38 times longer than the fastest. This could mean that an intermediate result is being cached.\n",
            "1000000 loops, best of 5: 573 ns per loop\n",
            "\u001b[33mruntime for KNN with LSH is: 0.08276605606079102\u001b[0m\n"
          ]
        }
      ]
    },
    {
      "cell_type": "code",
      "metadata": {
        "id": "cjPwQZL2iiY3"
      },
      "source": [
        ""
      ],
      "execution_count": null,
      "outputs": []
    }
  ]
}