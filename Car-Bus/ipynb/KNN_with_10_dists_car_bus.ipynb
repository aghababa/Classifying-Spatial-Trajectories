{
  "nbformat": 4,
  "nbformat_minor": 0,
  "metadata": {
    "kernelspec": {
      "display_name": "Python 3",
      "language": "python",
      "name": "python3"
    },
    "language_info": {
      "codemirror_mode": {
        "name": "ipython",
        "version": 3
      },
      "file_extension": ".py",
      "mimetype": "text/x-python",
      "name": "python",
      "nbconvert_exporter": "python",
      "pygments_lexer": "ipython3",
      "version": "3.7.4"
    },
    "colab": {
      "name": "KNN_with_10_dists_car_bus_September_6.ipynb",
      "provenance": [],
      "collapsed_sections": [
        "FjUDYLcS07zg",
        "2tCLYXpw0_8S",
        "OabIhgf40zmB",
        "UGsb_EraIPMt",
        "Xvutar3bjlIB",
        "yXkqPI8rjs5v",
        "oXa4_9Ck0sTi",
        "bKd_aTMCQdU4",
        "O-wPKtP8wf-F"
      ]
    }
  },
  "cells": [
    {
      "cell_type": "code",
      "metadata": {
        "id": "1fiBCl5sNz7Y"
      },
      "source": [
        "#pip install fastdtw\n",
        "#pip install trjtrypy"
      ],
      "execution_count": null,
      "outputs": []
    },
    {
      "cell_type": "code",
      "metadata": {
        "id": "-3c3PClxvzy_"
      },
      "source": [
        "pip install trjtrypy"
      ],
      "execution_count": null,
      "outputs": []
    },
    {
      "cell_type": "code",
      "metadata": {
        "id": "yU9CQsLa4sor",
        "colab": {
          "base_uri": "https://localhost:8080/"
        },
        "outputId": "ad22fdb4-7380-439d-f941-fa121aa98a6d"
      },
      "source": [
        "import glob\n",
        "import numpy as np \n",
        "import time\n",
        "import math\n",
        "import random\n",
        "from scipy import linalg as LA\n",
        "import pandas as pd\n",
        "from sklearn.model_selection import train_test_split\n",
        "from sklearn.neighbors import KNeighborsClassifier\n",
        "from sklearn import metrics\n",
        "import statsmodels.api as sm\n",
        "from termcolor import colored"
      ],
      "execution_count": null,
      "outputs": [
        {
          "output_type": "stream",
          "name": "stderr",
          "text": [
            "/usr/local/lib/python3.7/dist-packages/statsmodels/tools/_testing.py:19: FutureWarning: pandas.util.testing is deprecated. Use the functions in the public API at pandas.testing instead.\n",
            "  import pandas.util.testing as tm\n"
          ]
        }
      ]
    },
    {
      "cell_type": "code",
      "metadata": {
        "id": "GqzA4d7N6O3N",
        "colab": {
          "base_uri": "https://localhost:8080/"
        },
        "outputId": "b9fb11d5-6456-4d2e-9aa6-98e2353a4faf"
      },
      "source": [
        "from google.colab import drive\n",
        "drive.mount(\"/content/gdrive\")"
      ],
      "execution_count": null,
      "outputs": [
        {
          "output_type": "stream",
          "name": "stdout",
          "text": [
            "Drive already mounted at /content/gdrive; to attempt to forcibly remount, call drive.mount(\"/content/gdrive\", force_remount=True).\n"
          ]
        }
      ]
    },
    {
      "cell_type": "markdown",
      "metadata": {
        "id": "FjUDYLcS07zg"
      },
      "source": [
        "# install package"
      ]
    },
    {
      "cell_type": "code",
      "metadata": {
        "id": "D3lvO_zYcKQT",
        "colab": {
          "base_uri": "https://localhost:8080/"
        },
        "outputId": "9643a160-81a0-45f9-80f2-d9358132a7df"
      },
      "source": [
        "# to make a directory\n",
        "%cd 'gdrive/My Drive/traj-dist'"
      ],
      "execution_count": null,
      "outputs": [
        {
          "output_type": "stream",
          "name": "stdout",
          "text": [
            "/content/gdrive/My Drive/traj-dist\n"
          ]
        }
      ]
    },
    {
      "cell_type": "code",
      "metadata": {
        "id": "r64WIR-DUEY8"
      },
      "source": [
        "# to see in what directory we are in"
      ],
      "execution_count": null,
      "outputs": []
    },
    {
      "cell_type": "code",
      "metadata": {
        "id": "uizep1yEchxQ",
        "colab": {
          "base_uri": "https://localhost:8080/",
          "height": 35
        },
        "outputId": "6d0783a1-e551-41f5-c39c-f2e80fdd4c66"
      },
      "source": [
        "pwd"
      ],
      "execution_count": null,
      "outputs": [
        {
          "output_type": "execute_result",
          "data": {
            "application/vnd.google.colaboratory.intrinsic+json": {
              "type": "string"
            },
            "text/plain": [
              "'/content/gdrive/My Drive/traj-dist'"
            ]
          },
          "metadata": {},
          "execution_count": 5
        }
      ]
    },
    {
      "cell_type": "code",
      "metadata": {
        "id": "tbFXlofdMaQQ",
        "colab": {
          "base_uri": "https://localhost:8080/"
        },
        "outputId": "a75fb6ec-c100-4e1a-cb03-081cd2907741"
      },
      "source": [
        "# to install setup.py from the current directory\n",
        "!python setup.py install"
      ],
      "execution_count": null,
      "outputs": [
        {
          "output_type": "stream",
          "name": "stdout",
          "text": [
            "/usr/local/lib/python3.7/dist-packages/setuptools/dist.py:700: UserWarning: Usage of dash-separated 'description-file' will not be supported in future versions. Please use the underscore name 'description_file' instead\n",
            "  % (opt, underscore_opt))\n",
            "/usr/lib/python3.7/distutils/dist.py:274: UserWarning: Unknown distribution option: 'download_urt'\n",
            "  warnings.warn(msg)\n",
            "running install\n",
            "running bdist_egg\n",
            "running egg_info\n",
            "writing traj_dist.egg-info/PKG-INFO\n",
            "writing dependency_links to traj_dist.egg-info/dependency_links.txt\n",
            "writing requirements to traj_dist.egg-info/requires.txt\n",
            "writing top-level names to traj_dist.egg-info/top_level.txt\n",
            "adding license file 'LICENSE.txt'\n",
            "writing manifest file 'traj_dist.egg-info/SOURCES.txt'\n",
            "installing library code to build/bdist.linux-x86_64/egg\n",
            "running install_lib\n",
            "running build_py\n",
            "running build_ext\n",
            "skipping 'traj_dist/cydist/basic_geographical.c' Cython extension (up-to-date)\n",
            "skipping 'traj_dist/cydist/basic_euclidean.c' Cython extension (up-to-date)\n",
            "skipping 'traj_dist/cydist/sspd.c' Cython extension (up-to-date)\n",
            "skipping 'traj_dist/cydist/dtw.c' Cython extension (up-to-date)\n",
            "skipping 'traj_dist/cydist/lcss.c' Cython extension (up-to-date)\n",
            "skipping 'traj_dist/cydist/hausdorff.c' Cython extension (up-to-date)\n",
            "skipping 'traj_dist/cydist/discret_frechet.c' Cython extension (up-to-date)\n",
            "skipping 'traj_dist/cydist/frechet.c' Cython extension (up-to-date)\n",
            "skipping 'traj_dist/cydist/segment_distance.c' Cython extension (up-to-date)\n",
            "skipping 'traj_dist/cydist/sowd.c' Cython extension (up-to-date)\n",
            "skipping 'traj_dist/cydist/erp.c' Cython extension (up-to-date)\n",
            "skipping 'traj_dist/cydist/edr.c' Cython extension (up-to-date)\n",
            "creating build/bdist.linux-x86_64/egg\n",
            "creating build/bdist.linux-x86_64/egg/traj_dist\n",
            "copying build/lib.linux-x86_64-3.7/traj_dist/example.py -> build/bdist.linux-x86_64/egg/traj_dist\n",
            "copying build/lib.linux-x86_64-3.7/traj_dist/build_benchmark_data.py -> build/bdist.linux-x86_64/egg/traj_dist\n",
            "copying build/lib.linux-x86_64-3.7/traj_dist/distance.py -> build/bdist.linux-x86_64/egg/traj_dist\n",
            "copying build/lib.linux-x86_64-3.7/traj_dist/__init__.py -> build/bdist.linux-x86_64/egg/traj_dist\n",
            "copying build/lib.linux-x86_64-3.7/traj_dist/benchmark.py -> build/bdist.linux-x86_64/egg/traj_dist\n",
            "creating build/bdist.linux-x86_64/egg/traj_dist/cydist\n",
            "copying build/lib.linux-x86_64-3.7/traj_dist/cydist/__init__.py -> build/bdist.linux-x86_64/egg/traj_dist/cydist\n",
            "copying build/lib.linux-x86_64-3.7/traj_dist/cydist/basic_geographical.cpython-37m-x86_64-linux-gnu.so -> build/bdist.linux-x86_64/egg/traj_dist/cydist\n",
            "copying build/lib.linux-x86_64-3.7/traj_dist/cydist/basic_euclidean.cpython-37m-x86_64-linux-gnu.so -> build/bdist.linux-x86_64/egg/traj_dist/cydist\n",
            "copying build/lib.linux-x86_64-3.7/traj_dist/cydist/sspd.cpython-37m-x86_64-linux-gnu.so -> build/bdist.linux-x86_64/egg/traj_dist/cydist\n",
            "copying build/lib.linux-x86_64-3.7/traj_dist/cydist/dtw.cpython-37m-x86_64-linux-gnu.so -> build/bdist.linux-x86_64/egg/traj_dist/cydist\n",
            "copying build/lib.linux-x86_64-3.7/traj_dist/cydist/lcss.cpython-37m-x86_64-linux-gnu.so -> build/bdist.linux-x86_64/egg/traj_dist/cydist\n",
            "copying build/lib.linux-x86_64-3.7/traj_dist/cydist/hausdorff.cpython-37m-x86_64-linux-gnu.so -> build/bdist.linux-x86_64/egg/traj_dist/cydist\n",
            "copying build/lib.linux-x86_64-3.7/traj_dist/cydist/discret_frechet.cpython-37m-x86_64-linux-gnu.so -> build/bdist.linux-x86_64/egg/traj_dist/cydist\n",
            "copying build/lib.linux-x86_64-3.7/traj_dist/cydist/frechet.cpython-37m-x86_64-linux-gnu.so -> build/bdist.linux-x86_64/egg/traj_dist/cydist\n",
            "copying build/lib.linux-x86_64-3.7/traj_dist/cydist/segment_distance.cpython-37m-x86_64-linux-gnu.so -> build/bdist.linux-x86_64/egg/traj_dist/cydist\n",
            "copying build/lib.linux-x86_64-3.7/traj_dist/cydist/sowd.cpython-37m-x86_64-linux-gnu.so -> build/bdist.linux-x86_64/egg/traj_dist/cydist\n",
            "copying build/lib.linux-x86_64-3.7/traj_dist/cydist/erp.cpython-37m-x86_64-linux-gnu.so -> build/bdist.linux-x86_64/egg/traj_dist/cydist\n",
            "copying build/lib.linux-x86_64-3.7/traj_dist/cydist/edr.cpython-37m-x86_64-linux-gnu.so -> build/bdist.linux-x86_64/egg/traj_dist/cydist\n",
            "creating build/bdist.linux-x86_64/egg/traj_dist/pydist\n",
            "copying build/lib.linux-x86_64-3.7/traj_dist/pydist/segment_distance.py -> build/bdist.linux-x86_64/egg/traj_dist/pydist\n",
            "copying build/lib.linux-x86_64-3.7/traj_dist/pydist/sowd.py -> build/bdist.linux-x86_64/egg/traj_dist/pydist\n",
            "copying build/lib.linux-x86_64-3.7/traj_dist/pydist/lcss.py -> build/bdist.linux-x86_64/egg/traj_dist/pydist\n",
            "copying build/lib.linux-x86_64-3.7/traj_dist/pydist/basic_euclidean.py -> build/bdist.linux-x86_64/egg/traj_dist/pydist\n",
            "copying build/lib.linux-x86_64-3.7/traj_dist/pydist/sspd.py -> build/bdist.linux-x86_64/egg/traj_dist/pydist\n",
            "copying build/lib.linux-x86_64-3.7/traj_dist/pydist/hausdorff.py -> build/bdist.linux-x86_64/egg/traj_dist/pydist\n",
            "copying build/lib.linux-x86_64-3.7/traj_dist/pydist/frechet.py -> build/bdist.linux-x86_64/egg/traj_dist/pydist\n",
            "copying build/lib.linux-x86_64-3.7/traj_dist/pydist/__init__.py -> build/bdist.linux-x86_64/egg/traj_dist/pydist\n",
            "copying build/lib.linux-x86_64-3.7/traj_dist/pydist/edr.py -> build/bdist.linux-x86_64/egg/traj_dist/pydist\n",
            "copying build/lib.linux-x86_64-3.7/traj_dist/pydist/discret_frechet.py -> build/bdist.linux-x86_64/egg/traj_dist/pydist\n",
            "copying build/lib.linux-x86_64-3.7/traj_dist/pydist/erp.py -> build/bdist.linux-x86_64/egg/traj_dist/pydist\n",
            "copying build/lib.linux-x86_64-3.7/traj_dist/pydist/basic_spherical.py -> build/bdist.linux-x86_64/egg/traj_dist/pydist\n",
            "copying build/lib.linux-x86_64-3.7/traj_dist/pydist/linecell.py -> build/bdist.linux-x86_64/egg/traj_dist/pydist\n",
            "copying build/lib.linux-x86_64-3.7/traj_dist/pydist/dtw.py -> build/bdist.linux-x86_64/egg/traj_dist/pydist\n",
            "byte-compiling build/bdist.linux-x86_64/egg/traj_dist/example.py to example.cpython-37.pyc\n",
            "byte-compiling build/bdist.linux-x86_64/egg/traj_dist/build_benchmark_data.py to build_benchmark_data.cpython-37.pyc\n",
            "byte-compiling build/bdist.linux-x86_64/egg/traj_dist/distance.py to distance.cpython-37.pyc\n",
            "byte-compiling build/bdist.linux-x86_64/egg/traj_dist/__init__.py to __init__.cpython-37.pyc\n",
            "byte-compiling build/bdist.linux-x86_64/egg/traj_dist/benchmark.py to benchmark.cpython-37.pyc\n",
            "byte-compiling build/bdist.linux-x86_64/egg/traj_dist/cydist/__init__.py to __init__.cpython-37.pyc\n",
            "byte-compiling build/bdist.linux-x86_64/egg/traj_dist/pydist/segment_distance.py to segment_distance.cpython-37.pyc\n",
            "byte-compiling build/bdist.linux-x86_64/egg/traj_dist/pydist/sowd.py to sowd.cpython-37.pyc\n",
            "byte-compiling build/bdist.linux-x86_64/egg/traj_dist/pydist/lcss.py to lcss.cpython-37.pyc\n",
            "byte-compiling build/bdist.linux-x86_64/egg/traj_dist/pydist/basic_euclidean.py to basic_euclidean.cpython-37.pyc\n",
            "byte-compiling build/bdist.linux-x86_64/egg/traj_dist/pydist/sspd.py to sspd.cpython-37.pyc\n",
            "byte-compiling build/bdist.linux-x86_64/egg/traj_dist/pydist/hausdorff.py to hausdorff.cpython-37.pyc\n",
            "byte-compiling build/bdist.linux-x86_64/egg/traj_dist/pydist/frechet.py to frechet.cpython-37.pyc\n",
            "byte-compiling build/bdist.linux-x86_64/egg/traj_dist/pydist/__init__.py to __init__.cpython-37.pyc\n",
            "byte-compiling build/bdist.linux-x86_64/egg/traj_dist/pydist/edr.py to edr.cpython-37.pyc\n",
            "byte-compiling build/bdist.linux-x86_64/egg/traj_dist/pydist/discret_frechet.py to discret_frechet.cpython-37.pyc\n",
            "byte-compiling build/bdist.linux-x86_64/egg/traj_dist/pydist/erp.py to erp.cpython-37.pyc\n",
            "byte-compiling build/bdist.linux-x86_64/egg/traj_dist/pydist/basic_spherical.py to basic_spherical.cpython-37.pyc\n",
            "byte-compiling build/bdist.linux-x86_64/egg/traj_dist/pydist/linecell.py to linecell.cpython-37.pyc\n",
            "byte-compiling build/bdist.linux-x86_64/egg/traj_dist/pydist/dtw.py to dtw.cpython-37.pyc\n",
            "creating stub loader for traj_dist/cydist/basic_geographical.cpython-37m-x86_64-linux-gnu.so\n",
            "creating stub loader for traj_dist/cydist/basic_euclidean.cpython-37m-x86_64-linux-gnu.so\n",
            "creating stub loader for traj_dist/cydist/sspd.cpython-37m-x86_64-linux-gnu.so\n",
            "creating stub loader for traj_dist/cydist/dtw.cpython-37m-x86_64-linux-gnu.so\n",
            "creating stub loader for traj_dist/cydist/lcss.cpython-37m-x86_64-linux-gnu.so\n",
            "creating stub loader for traj_dist/cydist/hausdorff.cpython-37m-x86_64-linux-gnu.so\n",
            "creating stub loader for traj_dist/cydist/discret_frechet.cpython-37m-x86_64-linux-gnu.so\n",
            "creating stub loader for traj_dist/cydist/frechet.cpython-37m-x86_64-linux-gnu.so\n",
            "creating stub loader for traj_dist/cydist/segment_distance.cpython-37m-x86_64-linux-gnu.so\n",
            "creating stub loader for traj_dist/cydist/sowd.cpython-37m-x86_64-linux-gnu.so\n",
            "creating stub loader for traj_dist/cydist/erp.cpython-37m-x86_64-linux-gnu.so\n",
            "creating stub loader for traj_dist/cydist/edr.cpython-37m-x86_64-linux-gnu.so\n",
            "byte-compiling build/bdist.linux-x86_64/egg/traj_dist/cydist/basic_geographical.py to basic_geographical.cpython-37.pyc\n",
            "byte-compiling build/bdist.linux-x86_64/egg/traj_dist/cydist/basic_euclidean.py to basic_euclidean.cpython-37.pyc\n",
            "byte-compiling build/bdist.linux-x86_64/egg/traj_dist/cydist/sspd.py to sspd.cpython-37.pyc\n",
            "byte-compiling build/bdist.linux-x86_64/egg/traj_dist/cydist/dtw.py to dtw.cpython-37.pyc\n",
            "byte-compiling build/bdist.linux-x86_64/egg/traj_dist/cydist/lcss.py to lcss.cpython-37.pyc\n",
            "byte-compiling build/bdist.linux-x86_64/egg/traj_dist/cydist/hausdorff.py to hausdorff.cpython-37.pyc\n",
            "byte-compiling build/bdist.linux-x86_64/egg/traj_dist/cydist/discret_frechet.py to discret_frechet.cpython-37.pyc\n",
            "byte-compiling build/bdist.linux-x86_64/egg/traj_dist/cydist/frechet.py to frechet.cpython-37.pyc\n",
            "byte-compiling build/bdist.linux-x86_64/egg/traj_dist/cydist/segment_distance.py to segment_distance.cpython-37.pyc\n",
            "byte-compiling build/bdist.linux-x86_64/egg/traj_dist/cydist/sowd.py to sowd.cpython-37.pyc\n",
            "byte-compiling build/bdist.linux-x86_64/egg/traj_dist/cydist/erp.py to erp.cpython-37.pyc\n",
            "byte-compiling build/bdist.linux-x86_64/egg/traj_dist/cydist/edr.py to edr.cpython-37.pyc\n",
            "creating build/bdist.linux-x86_64/egg/EGG-INFO\n",
            "copying traj_dist.egg-info/PKG-INFO -> build/bdist.linux-x86_64/egg/EGG-INFO\n",
            "copying traj_dist.egg-info/SOURCES.txt -> build/bdist.linux-x86_64/egg/EGG-INFO\n",
            "copying traj_dist.egg-info/dependency_links.txt -> build/bdist.linux-x86_64/egg/EGG-INFO\n",
            "copying traj_dist.egg-info/requires.txt -> build/bdist.linux-x86_64/egg/EGG-INFO\n",
            "copying traj_dist.egg-info/top_level.txt -> build/bdist.linux-x86_64/egg/EGG-INFO\n",
            "writing build/bdist.linux-x86_64/egg/EGG-INFO/native_libs.txt\n",
            "zip_safe flag not set; analyzing archive contents...\n",
            "traj_dist.cydist.__pycache__.basic_euclidean.cpython-37: module references __file__\n",
            "traj_dist.cydist.__pycache__.basic_geographical.cpython-37: module references __file__\n",
            "traj_dist.cydist.__pycache__.discret_frechet.cpython-37: module references __file__\n",
            "traj_dist.cydist.__pycache__.dtw.cpython-37: module references __file__\n",
            "traj_dist.cydist.__pycache__.edr.cpython-37: module references __file__\n",
            "traj_dist.cydist.__pycache__.erp.cpython-37: module references __file__\n",
            "traj_dist.cydist.__pycache__.frechet.cpython-37: module references __file__\n",
            "traj_dist.cydist.__pycache__.hausdorff.cpython-37: module references __file__\n",
            "traj_dist.cydist.__pycache__.lcss.cpython-37: module references __file__\n",
            "traj_dist.cydist.__pycache__.segment_distance.cpython-37: module references __file__\n",
            "traj_dist.cydist.__pycache__.sowd.cpython-37: module references __file__\n",
            "traj_dist.cydist.__pycache__.sspd.cpython-37: module references __file__\n",
            "creating 'dist/traj_dist-1.1-py3.7-linux-x86_64.egg' and adding 'build/bdist.linux-x86_64/egg' to it\n",
            "removing 'build/bdist.linux-x86_64/egg' (and everything under it)\n",
            "Processing traj_dist-1.1-py3.7-linux-x86_64.egg\n",
            "creating /usr/local/lib/python3.7/dist-packages/traj_dist-1.1-py3.7-linux-x86_64.egg\n",
            "Extracting traj_dist-1.1-py3.7-linux-x86_64.egg to /usr/local/lib/python3.7/dist-packages\n",
            "Adding traj-dist 1.1 to easy-install.pth file\n",
            "\n",
            "Installed /usr/local/lib/python3.7/dist-packages/traj_dist-1.1-py3.7-linux-x86_64.egg\n",
            "Processing dependencies for traj-dist==1.1\n",
            "Searching for geohash2==1.1\n",
            "Reading https://pypi.org/simple/geohash2/\n",
            "Downloading https://files.pythonhosted.org/packages/3e/0d/c40ea785cc5fa33c2f1e796ee02e763207140542d7aae2c6ea413358c092/geohash2-1.1.tar.gz#sha256=0ed0583b1f4fc329f96d807c9a4cd895c7eed2c35479ac7b4a50725249997bda\n",
            "Best match: geohash2 1.1\n",
            "Processing geohash2-1.1.tar.gz\n",
            "Writing /tmp/easy_install-s4qne0vb/geohash2-1.1/setup.cfg\n",
            "Running geohash2-1.1/setup.py -q bdist_egg --dist-dir /tmp/easy_install-s4qne0vb/geohash2-1.1/egg-dist-tmp-4vz8n62s\n",
            "zip_safe flag not set; analyzing archive contents...\n",
            "Moving geohash2-1.1-py3.7.egg to /usr/local/lib/python3.7/dist-packages\n",
            "Adding geohash2 1.1 to easy-install.pth file\n",
            "\n",
            "Installed /usr/local/lib/python3.7/dist-packages/geohash2-1.1-py3.7.egg\n",
            "Searching for scipy==1.4.1\n",
            "Best match: scipy 1.4.1\n",
            "Adding scipy 1.4.1 to easy-install.pth file\n",
            "\n",
            "Using /usr/local/lib/python3.7/dist-packages\n",
            "Searching for pandas==1.1.5\n",
            "Best match: pandas 1.1.5\n",
            "Adding pandas 1.1.5 to easy-install.pth file\n",
            "\n",
            "Using /usr/local/lib/python3.7/dist-packages\n",
            "Searching for Shapely==1.7.1\n",
            "Best match: Shapely 1.7.1\n",
            "Adding Shapely 1.7.1 to easy-install.pth file\n",
            "\n",
            "Using /usr/local/lib/python3.7/dist-packages\n",
            "Searching for Cython==0.29.24\n",
            "Best match: Cython 0.29.24\n",
            "Adding Cython 0.29.24 to easy-install.pth file\n",
            "Installing cygdb script to /usr/local/bin\n",
            "Installing cython script to /usr/local/bin\n",
            "Installing cythonize script to /usr/local/bin\n",
            "\n",
            "Using /usr/local/lib/python3.7/dist-packages\n",
            "Searching for numpy==1.19.5\n",
            "Best match: numpy 1.19.5\n",
            "Adding numpy 1.19.5 to easy-install.pth file\n",
            "Installing f2py script to /usr/local/bin\n",
            "Installing f2py3 script to /usr/local/bin\n",
            "Installing f2py3.7 script to /usr/local/bin\n",
            "\n",
            "Using /usr/local/lib/python3.7/dist-packages\n",
            "Searching for pytz==2018.9\n",
            "Best match: pytz 2018.9\n",
            "Adding pytz 2018.9 to easy-install.pth file\n",
            "\n",
            "Using /usr/local/lib/python3.7/dist-packages\n",
            "Searching for python-dateutil==2.8.2\n",
            "Best match: python-dateutil 2.8.2\n",
            "Adding python-dateutil 2.8.2 to easy-install.pth file\n",
            "\n",
            "Using /usr/local/lib/python3.7/dist-packages\n",
            "Searching for docutils==0.17.1\n",
            "Best match: docutils 0.17.1\n",
            "Adding docutils 0.17.1 to easy-install.pth file\n",
            "\n",
            "Using /usr/local/lib/python3.7/dist-packages\n",
            "Searching for six==1.15.0\n",
            "Best match: six 1.15.0\n",
            "Adding six 1.15.0 to easy-install.pth file\n",
            "\n",
            "Using /usr/local/lib/python3.7/dist-packages\n",
            "Finished processing dependencies for traj-dist==1.1\n"
          ]
        }
      ]
    },
    {
      "cell_type": "code",
      "metadata": {
        "id": "dFyNWPPnc2UN",
        "colab": {
          "base_uri": "https://localhost:8080/"
        },
        "outputId": "8b8e7a48-ac42-466d-946e-6fb3697610ea"
      },
      "source": [
        "!pip install geohash2"
      ],
      "execution_count": null,
      "outputs": [
        {
          "output_type": "stream",
          "name": "stdout",
          "text": [
            "Requirement already satisfied: geohash2 in /usr/local/lib/python3.7/dist-packages/geohash2-1.1-py3.7.egg (1.1)\n",
            "Requirement already satisfied: docutils>=0.3 in /usr/local/lib/python3.7/dist-packages (from geohash2) (0.17.1)\n"
          ]
        }
      ]
    },
    {
      "cell_type": "markdown",
      "metadata": {
        "id": "2tCLYXpw0_8S"
      },
      "source": [
        "# \"######################\" Now restart runtime \"######################\"\n",
        "\n",
        "But don't run the above block"
      ]
    },
    {
      "cell_type": "code",
      "metadata": {
        "id": "9f4j8AQHt9-a"
      },
      "source": [
        "import traj_dist.distance as tdist\n",
        "import pickle"
      ],
      "execution_count": null,
      "outputs": []
    },
    {
      "cell_type": "markdown",
      "metadata": {
        "id": "OabIhgf40zmB"
      },
      "source": [
        "# Preprocessing data"
      ]
    },
    {
      "cell_type": "code",
      "metadata": {
        "id": "s-3l39rx4sov",
        "colab": {
          "base_uri": "https://localhost:8080/"
        },
        "outputId": "b5cf2309-5157-400c-f3d0-2371cb023c6b"
      },
      "source": [
        "def read_file(file_name):\n",
        "    data = []\n",
        "    with open(file_name, \"r\") as f:\n",
        "        for line in f:\n",
        "            item = line.strip().split(\",\")\n",
        "            data.append(np.array(item))\n",
        "    return np.array(data)\n",
        "\n",
        "data1 = read_file('/content/gdrive/My Drive/Colab Notebooks/go_track_tracks.csv')[1:,:-1]\n",
        "data2 = read_file('/content/gdrive/My Drive/Colab Notebooks/go_track_trackspoints.csv')[1:,1:4]\n",
        "\n",
        "float1 = np.vectorize(float)\n",
        "int1 = np.vectorize(int)\n",
        "track_id = int1(data1[:,0])\n",
        "labels = np.where(int1(data1[:,-1]) < 1.5, int1(data1[:,-1]), -1) \n",
        "traj = float1(data2)\n",
        "\n",
        "trajec = [0] * 163\n",
        "\n",
        "for i in range(163):\n",
        "    trajec[i] = []\n",
        "    I = np.where(traj[:,2] == track_id[i])\n",
        "    trajec[i] = np.array([labels[i], traj[I]], dtype = 'object')\n",
        "\n",
        "trajec = np.array(trajec)\n",
        "\n",
        "trajectory = [0] * 163\n",
        "trajectory_label_id = [0] * 163\n",
        "\n",
        "for i in range(163):\n",
        "    trajectory[i] = trajec[i][1][:,:2]\n",
        "    trajectory_label_id[i] = np.array([trajec[i][1][:,:2], trajec[i][0], trajec[i][1][:,2][0]], dtype = 'object')\n",
        "    \n",
        "trajectory_label_id = np.array(trajectory_label_id, dtype = 'object')\n",
        "trajectory = np.array(trajectory, dtype = 'object')\n",
        "\n",
        "\n",
        "min_length = 10\n",
        "max_length = 1000 #160 for balance data\n",
        "l = 0\n",
        "index = [] \n",
        "for i in range(163):\n",
        "    if len(trajectory[i]) < min_length or len(trajectory[i]) > max_length:\n",
        "        l = l + 1\n",
        "    else:\n",
        "        index.append(i)\n",
        "        \n",
        "print(\"l, 163-l=\", l, 163-l)\n",
        "\n",
        "trajectories = [0] * (163-l)\n",
        "trajectories_label_id = [0] * (163-l)\n",
        "\n",
        "j = 0\n",
        "for i in range(163):\n",
        "    if len(trajectory[i]) >= min_length and len(trajectory[i]) <= max_length:\n",
        "        trajectories[j] = np.array(trajectory[i])\n",
        "        trajectories_label_id[j] = trajectory_label_id[i]\n",
        "        j = j + 1\n",
        "\n",
        "trajectories_label_id = np.array(trajectories_label_id, dtype = 'object')\n",
        "trajectories = np.array(trajectories, dtype = 'object')\n",
        "\n",
        "cars = trajectories_label_id[np.where(trajectories_label_id[:,1] == 1)][:,:2][:,0]\n",
        "buses = trajectories_label_id[np.where(trajectories_label_id[:,1] == -1)][:,:2][:,0]"
      ],
      "execution_count": null,
      "outputs": [
        {
          "output_type": "stream",
          "name": "stdout",
          "text": [
            "l, 163-l= 40 123\n"
          ]
        }
      ]
    },
    {
      "cell_type": "code",
      "metadata": {
        "id": "EIgE67MnHuNe"
      },
      "source": [
        "def remove_segments(traj): # removes stationary points\n",
        "    p2 = traj[1:]\n",
        "    p1 = traj[:-1]\n",
        "    L = ((p2-p1)*(p2-p1)).sum(axis =1)\n",
        "    I = np.where(L>1e-16)[0]\n",
        "    return traj[I]"
      ],
      "execution_count": null,
      "outputs": []
    },
    {
      "cell_type": "code",
      "metadata": {
        "colab": {
          "base_uri": "https://localhost:8080/"
        },
        "id": "GMcfVdUhuR81",
        "outputId": "3edfb108-75e0-420a-e161-7b26355cd741"
      },
      "source": [
        "cars = np.array(list(map(remove_segments, cars)), dtype='object')\n",
        "buses = np.array(list(map(remove_segments, buses)), dtype='object')\n",
        "\n",
        "cars_copy = cars.copy()\n",
        "buses_copy = buses.copy()\n",
        "print(\"len(cars), len(buses)=\", len(cars), len(buses))"
      ],
      "execution_count": null,
      "outputs": [
        {
          "output_type": "stream",
          "name": "stdout",
          "text": [
            "len(cars), len(buses)= 78 45\n"
          ]
        }
      ]
    },
    {
      "cell_type": "code",
      "metadata": {
        "id": "AgFRyLTz0uM_"
      },
      "source": [
        "cars_11 = cars[11].copy()\n",
        "cars_12 = cars[12].copy()"
      ],
      "execution_count": null,
      "outputs": []
    },
    {
      "cell_type": "code",
      "metadata": {
        "id": "nujOBsCI4sow",
        "colab": {
          "base_uri": "https://localhost:8080/"
        },
        "outputId": "573623d5-f911-431c-fb43-9c50cf1dd146"
      },
      "source": [
        "a = np.arange(len(cars))\n",
        "I = np.where((a != 11) & (a != 12) & (a != 28) & (a != 29))\n",
        "cars = cars[I]\n",
        "buses = buses[:-1]\n",
        "len(cars), len(buses)"
      ],
      "execution_count": null,
      "outputs": [
        {
          "output_type": "execute_result",
          "data": {
            "text/plain": [
              "(74, 44)"
            ]
          },
          "metadata": {},
          "execution_count": 16
        }
      ]
    },
    {
      "cell_type": "code",
      "metadata": {
        "colab": {
          "base_uri": "https://localhost:8080/"
        },
        "id": "v1CzvrW-08Tq",
        "outputId": "5c823a19-43f0-4e06-df95-d6aa4cbd9afe"
      },
      "source": [
        "cars = np.array([cars_11, cars_12] + list(cars), dtype='object')\n",
        "cars.shape"
      ],
      "execution_count": null,
      "outputs": [
        {
          "output_type": "execute_result",
          "data": {
            "text/plain": [
              "(76,)"
            ]
          },
          "metadata": {},
          "execution_count": 17
        }
      ]
    },
    {
      "cell_type": "code",
      "metadata": {
        "id": "22ZVukLH4sox"
      },
      "source": [
        "a, c = np.min((np.min([np.min(cars[i], axis=0) for i in range(len(cars))], axis=0), \n",
        "       np.min([np.min(buses[i], axis=0) for i in range(len(buses))], axis=0)), axis=0)\n",
        "  \n",
        "b, d = np.max((np.max([np.max(cars[i], axis=0) for i in range(len(cars))], axis=0), \n",
        "               np.max([np.max(buses[i], axis=0) for i in range(len(buses))], axis=0)), axis=0)\n",
        "\n",
        "m = 20\n",
        "Q = np.ones((m,2))\n",
        "\n",
        "Q[:,0] = (b - a + 0.001) * np.random.random_sample(m) + a - 0.02\n",
        "Q[:,1] = (d - c + 0.001) * np.random.random_sample(m) + c - 0.01"
      ],
      "execution_count": null,
      "outputs": []
    },
    {
      "cell_type": "code",
      "metadata": {
        "id": "9D4hlCkj4sox"
      },
      "source": [
        "def get_mu(data_1, data_2):\n",
        "    a = np.mean([np.mean(data_1[i], 0) for i in range(len(data_1))], 0)\n",
        "    b = np.mean([np.mean(data_2[i], 0) for i in range(len(data_2))], 0)\n",
        "    c = abs(a-b)\n",
        "    return max(c)"
      ],
      "execution_count": null,
      "outputs": []
    },
    {
      "cell_type": "code",
      "metadata": {
        "id": "eYTKw58l6wh_"
      },
      "source": [
        "def error(A,B):\n",
        "    return abs(A - B) / (abs(A) + abs(B))"
      ],
      "execution_count": null,
      "outputs": []
    },
    {
      "cell_type": "markdown",
      "metadata": {
        "id": "UGsb_EraIPMt"
      },
      "source": [
        "# From github page: https://github.com/bguillouet/traj-dist\n",
        "\n",
        "It includes 9 distances for trajectories including: Continuous Frechet, Discrete Frechet, Hausdorff, DTW, SSPD, LCSS, EDR, ERP.\n",
        "\n",
        "## All but the continuous Frechet distance are really fast."
      ]
    },
    {
      "cell_type": "markdown",
      "metadata": {
        "id": "Xvutar3bjlIB"
      },
      "source": [
        "#### Calculate distances all together"
      ]
    },
    {
      "cell_type": "code",
      "metadata": {
        "id": "9fKWP_Og974z"
      },
      "source": [
        "def calculate_dists(data1, data2, metrics, eps_lcss=0.02, eps_edr=0.02): \n",
        "    ''' eps_lcss: if metric = 'lcss', then eps_lcss is effective.\n",
        "        eps_edr: if metric = 'edr', then eps_edr is effective.\n",
        "        id: 1 if car-bus dataset is used and 2 if the generated data_1 and data_2 are used'''\n",
        "    start_time = time.time() \n",
        "    data = np.concatenate((data1, data2), 0)\n",
        "    n = len(data)\n",
        "    for metric in metrics:\n",
        "        if metric == 'lcss':\n",
        "            A = tdist.pdist(data, metric, type_d=\"euclidean\", eps=eps_lcss)\n",
        "        elif metric == 'edr':\n",
        "            A = tdist.pdist(data, metric, type_d=\"euclidean\", eps=eps_edr)\n",
        "        else: \n",
        "            A = tdist.pdist(data, metric)\n",
        "        tri = np.zeros((n, n))\n",
        "        tri[np.triu_indices(n, 1)] = A\n",
        "        for i in range(1, n):\n",
        "            for j in range(i):\n",
        "                tri[i][j] = tri[j][i]\n",
        "        np.savetxt('/content/gdrive/My Drive/traj-dist/Calculated Distance Matrices (car-bus)/'+metric+'-76-44.csv', \n",
        "                    tri, delimiter=',')\n",
        "\n",
        "    total_time = time.time() - start_time\n",
        "    return total_time"
      ],
      "execution_count": null,
      "outputs": []
    },
    {
      "cell_type": "code",
      "metadata": {
        "colab": {
          "base_uri": "https://localhost:8080/"
        },
        "id": "57T28D7zKWJd",
        "outputId": "07d1f82c-b621-441b-dc16-b67b35082980"
      },
      "source": [
        "Metrics = ['discret_frechet', 'hausdorff', 'dtw', 'sspd', 'lcss', 'edr', 'erp']\n",
        "\n",
        "calculate_dists(cars, buses, metrics=Metrics, eps_lcss=0.02, eps_edr=0.02)"
      ],
      "execution_count": null,
      "outputs": [
        {
          "output_type": "stream",
          "name": "stderr",
          "text": [
            "/usr/local/lib/python3.7/dist-packages/traj_dist-1.1-py3.7-linux-x86_64.egg/traj_dist/distance.py:552: UserWarning: g parameter should be specified for metric erp. Default is \n",
            "  warnings.warn(\"g parameter should be specified for metric erp. Default is \")\n"
          ]
        },
        {
          "output_type": "execute_result",
          "data": {
            "text/plain": [
              "125.63468956947327"
            ]
          },
          "metadata": {},
          "execution_count": 13
        }
      ]
    },
    {
      "cell_type": "code",
      "metadata": {
        "colab": {
          "base_uri": "https://localhost:8080/"
        },
        "id": "RgmrICe-wyTA",
        "outputId": "ed884d63-9a74-4e3a-823a-677e0e7b407d"
      },
      "source": [
        "#Metrics = ['frechet']\n",
        "\n",
        "#calculate_dists(cars, buses, metrics=Metrics)"
      ],
      "execution_count": null,
      "outputs": [
        {
          "output_type": "execute_result",
          "data": {
            "text/plain": [
              "33787.003963947296"
            ]
          },
          "metadata": {
            "tags": []
          },
          "execution_count": 17
        }
      ]
    },
    {
      "cell_type": "markdown",
      "metadata": {
        "id": "yXkqPI8rjs5v"
      },
      "source": [
        "#### Calculate distances for continuous Frechet line by line by the following function. Then at the end concatenate them together."
      ]
    },
    {
      "cell_type": "code",
      "metadata": {
        "id": "w10uB_C2z7vG"
      },
      "source": [
        "# data = np.concatenate((data1, data2), 0)\n",
        "def calculate_dists_line_by_line_frechet(data, path, start_idx, end_idx): \n",
        "    n = len(data)\n",
        "    for i in range(start_idx, end_idx):\n",
        "        start_time = time.time()\n",
        "        def f(traj):\n",
        "            return tdist.frechet(data[i], traj)\n",
        "        A = list(map(f, data[i+1:]))\n",
        "        np.savetxt(path+str(i)+'.csv', A, delimiter=',') \n",
        "        total_time = time.time() - start_time\n",
        "        print(f\"time for step {i}: {total_time}\")\n",
        "    return total_time"
      ],
      "execution_count": null,
      "outputs": []
    },
    {
      "cell_type": "code",
      "metadata": {
        "id": "5DSwnlCTMtBn"
      },
      "source": [
        "path = '/content/gdrive/My Drive/traj-dist/Calculated Distance Matrices (car-bus)/frechet lines/'\n",
        "data = np.concatenate((cars, buses), 0) \n",
        "calculate_dists_line_by_line_frechet(data, path, start_idx=0, end_idx=len(data)-1)"
      ],
      "execution_count": null,
      "outputs": []
    },
    {
      "cell_type": "markdown",
      "metadata": {
        "id": "-6y3HBZIwbd5"
      },
      "source": [
        "### To stack the 1d generated vectors together to get the distance matrix of continuous Frechet distance we will use the following get_matrix function."
      ]
    },
    {
      "cell_type": "code",
      "metadata": {
        "id": "B6WoHcv6wRtR"
      },
      "source": [
        "def get_matrix(data1, data2, path):\n",
        "    '''\n",
        "    path is: \n",
        "    '/content/gdrive/My Drive/traj-dist/Calculated Distance Matrices (car-bus)/frechet lines/'\n",
        "    or\n",
        "    '/content/gdrive/My Drive/traj-dist/Calculated Distance Matrices (car-bus-generated)/frechet lines/'\n",
        "    '''\n",
        "    n = len(data1) + len(data2)\n",
        "    matrix = np.zeros((n,n))\n",
        "    for i in range(n-1):\n",
        "        #matrix[i][i+1:] = np.array(pd.read_csv(path+str(i)+'.csv', header=None)).reshape(n-i-1,)\n",
        "        matrix[i][i+1:] = np.loadtxt(path+str(i)+'.csv')\n",
        "    for i in range(1, n):\n",
        "        for j in range(i):\n",
        "            matrix[i][j] = matrix[j][i]\n",
        "    np.savetxt(path[:-14]+'frechet.csv', matrix, delimiter=',')\n",
        "    return matrix"
      ],
      "execution_count": null,
      "outputs": []
    },
    {
      "cell_type": "code",
      "metadata": {
        "id": "U7c1dC204Lgh",
        "colab": {
          "base_uri": "https://localhost:8080/"
        },
        "outputId": "9b10267c-68ad-45e8-b1f5-632f73ba12ab"
      },
      "source": [
        "path = '/content/gdrive/My Drive/traj-dist/Calculated Distance Matrices (car-bus)/frechet lines/'\n",
        "A = get_matrix(cars, buses, path)\n",
        "A.shape"
      ],
      "execution_count": null,
      "outputs": [
        {
          "output_type": "execute_result",
          "data": {
            "text/plain": [
              "(118, 118)"
            ]
          },
          "metadata": {},
          "execution_count": 14
        }
      ]
    },
    {
      "cell_type": "markdown",
      "metadata": {
        "id": "oXa4_9Ck0sTi"
      },
      "source": [
        "# KNN with 8 distances: \n",
        "\n",
        "### Continuous Frechet, Discrete Frechet, Hausdorff, DTW, LCSS, SSPD, EDR, ERP"
      ]
    },
    {
      "cell_type": "code",
      "metadata": {
        "id": "NOkPgAbQcUX5"
      },
      "source": [
        "def KNN_with_dists(n_1, n_2, dists_names, paths_to_dists):\n",
        "    '''path example: '/content/gdrive/My Drive/traj-dist/Calculated Distance Matrices (car-bus)/sspd.csv'\n",
        "       dists_names: a list of distance names\n",
        "       paths_to_dists: the paths list to the corresponding distancas (each path \n",
        "                       points out to the corresponding distance matrix)\n",
        "       n_1: len(data_1)\n",
        "       n_2: len(data_2)\n",
        "       dist_name: the name of distance used to calculate sitance matrix \n",
        "       (the name is taken from a list above called metrics)'''\n",
        "\n",
        "    train_errors = np.zeros(len(dists_names))\n",
        "    test_errors = np.zeros(len(dists_names))\n",
        "\n",
        "    I_1, J_1, y_train_1, y_test_1 = train_test_split(np.arange(n_1), \n",
        "                                                np.ones(n_1), test_size=0.3)\n",
        "    I_2, J_2, y_train_2, y_test_2 = train_test_split(np.arange(n_1, n_1+n_2), \n",
        "                                                np.ones(n_2), test_size=0.3)\n",
        "    labels = np.array([1]*n_1 + [0] * n_2)\n",
        "    I = np.concatenate((I_1, I_2), 0)\n",
        "    np.random.shuffle(I)\n",
        "    J = np.concatenate((J_1, J_2), 0)\n",
        "    np.random.shuffle(J)\n",
        "\n",
        "    for i in range(len(dists_names)):\n",
        "\n",
        "        dist_matrix = np.array(pd.read_csv(paths_to_dists[i],  header=None))\n",
        "\n",
        "        D_train = dist_matrix[I][:, I]\n",
        "        D_test = dist_matrix[J][:,I]\n",
        "        train_labels = labels[I]\n",
        "        test_labels = labels[J]\n",
        "\n",
        "        clf = KNeighborsClassifier(n_neighbors=5, metric='precomputed')\n",
        "        \n",
        "        #Train the model using the training sets\n",
        "        clf.fit(D_train, list(train_labels))\n",
        "\n",
        "        #Predict labels for train dataset\n",
        "        train_pred = clf.predict(D_train)\n",
        "        train_errors[i] = sum(train_labels != train_pred)/len(I)\n",
        "        \n",
        "        #Predict labels for test dataset\n",
        "        test_pred = clf.predict(D_test)\n",
        "        test_errors[i] = sum((test_labels != test_pred))/len(J)\n",
        "        \n",
        "    return train_errors, test_errors"
      ],
      "execution_count": null,
      "outputs": []
    },
    {
      "cell_type": "code",
      "metadata": {
        "id": "zyyv66EdA_um"
      },
      "source": [
        "def KNN_average_error(data1, data2, num_trials, dists_names, paths_to_dists):\n",
        "\n",
        "    '''dists_names: a list of distance names\n",
        "       paths_to_dists: the paths list to the corresponding distancas (each path \n",
        "                       points out to the corresponding distance matrix)'''\n",
        "\n",
        "    Start_time = time.time()\n",
        "\n",
        "    train_errors = np.zeros((num_trials, len(dists_names)))\n",
        "    test_errors = np.zeros((num_trials, len(dists_names)))\n",
        "\n",
        "    for i in range(num_trials):\n",
        "        tr_errors, ts_errors = KNN_with_dists(len(data1), len(data2), dists_names, paths_to_dists)\n",
        "        train_errors[i] = tr_errors\n",
        "        test_errors[i] = ts_errors\n",
        "\n",
        "    train_error = np.mean(train_errors, axis=0)\n",
        "    test_error = np.mean(test_errors, axis=0)\n",
        "    std_test_error = np.std(test_errors, axis=0)\n",
        "\n",
        "    Dict = {}\n",
        "    for i in range(len(dists_names)):\n",
        "        Dict[i+1] = [f\"KNN with {dists_names[i]}\", \n",
        "                     np.round(train_error[i], decimals = 4), \n",
        "                     np.round(test_error[i], decimals = 4), \n",
        "                     np.round(std_test_error[i], decimals = 4)]\n",
        "\n",
        "    df = pd.DataFrame.from_dict(Dict, orient='index', columns=['Classifier',\n",
        "                                'Train Error', 'Test Error', 'std'])\n",
        "    print(colored(f\"num_trials = {num_trials}\", \"blue\"))\n",
        "    print(colored(f'total time = {time.time() - Start_time}', 'green'))\n",
        "\n",
        "    return (df, train_errors, test_errors, train_error, test_error)"
      ],
      "execution_count": null,
      "outputs": []
    },
    {
      "cell_type": "code",
      "metadata": {
        "id": "Mph4JPr_AkcW"
      },
      "source": [
        "Metrics = ['frechet', 'discret_frechet', 'hausdorff', 'dtw', 'lcss', 'sspd', 'edr', 'erp']"
      ],
      "execution_count": null,
      "outputs": []
    },
    {
      "cell_type": "code",
      "metadata": {
        "colab": {
          "base_uri": "https://localhost:8080/",
          "height": 329
        },
        "id": "8qPxOVPCQFsa",
        "outputId": "c6509842-6c23-4f3b-9cd4-975d2e4c89b0"
      },
      "source": [
        "paths = []\n",
        "eps = 0.02\n",
        "for i in range(len(Metrics)):\n",
        "    paths.append('/content/gdrive/My Drive/traj-dist/Calculated Distance Matrices (car-bus)/'+Metrics[i]+'-76-44.csv')\n",
        "\n",
        "F = KNN_average_error(cars, buses, num_trials=50, dists_names=Metrics, paths_to_dists=paths)\n",
        "F[0]"
      ],
      "execution_count": null,
      "outputs": [
        {
          "output_type": "stream",
          "name": "stdout",
          "text": [
            "\u001b[34mnum_trials = 50\u001b[0m\n",
            "\u001b[32mtotal time = 8.637168407440186\u001b[0m\n"
          ]
        },
        {
          "output_type": "execute_result",
          "data": {
            "text/html": [
              "<div>\n",
              "<style scoped>\n",
              "    .dataframe tbody tr th:only-of-type {\n",
              "        vertical-align: middle;\n",
              "    }\n",
              "\n",
              "    .dataframe tbody tr th {\n",
              "        vertical-align: top;\n",
              "    }\n",
              "\n",
              "    .dataframe thead th {\n",
              "        text-align: right;\n",
              "    }\n",
              "</style>\n",
              "<table border=\"1\" class=\"dataframe\">\n",
              "  <thead>\n",
              "    <tr style=\"text-align: right;\">\n",
              "      <th></th>\n",
              "      <th>Classifier</th>\n",
              "      <th>Train Error</th>\n",
              "      <th>Test Error</th>\n",
              "      <th>std</th>\n",
              "    </tr>\n",
              "  </thead>\n",
              "  <tbody>\n",
              "    <tr>\n",
              "      <th>1</th>\n",
              "      <td>KNN with frechet</td>\n",
              "      <td>0.1733</td>\n",
              "      <td>0.2573</td>\n",
              "      <td>0.0633</td>\n",
              "    </tr>\n",
              "    <tr>\n",
              "      <th>2</th>\n",
              "      <td>KNN with discret_frechet</td>\n",
              "      <td>0.1720</td>\n",
              "      <td>0.2557</td>\n",
              "      <td>0.0642</td>\n",
              "    </tr>\n",
              "    <tr>\n",
              "      <th>3</th>\n",
              "      <td>KNN with hausdorff</td>\n",
              "      <td>0.1513</td>\n",
              "      <td>0.2405</td>\n",
              "      <td>0.0663</td>\n",
              "    </tr>\n",
              "    <tr>\n",
              "      <th>4</th>\n",
              "      <td>KNN with dtw</td>\n",
              "      <td>0.1583</td>\n",
              "      <td>0.2368</td>\n",
              "      <td>0.0566</td>\n",
              "    </tr>\n",
              "    <tr>\n",
              "      <th>5</th>\n",
              "      <td>KNN with lcss</td>\n",
              "      <td>0.2588</td>\n",
              "      <td>0.3022</td>\n",
              "      <td>0.0677</td>\n",
              "    </tr>\n",
              "    <tr>\n",
              "      <th>6</th>\n",
              "      <td>KNN with sspd</td>\n",
              "      <td>0.1398</td>\n",
              "      <td>0.2200</td>\n",
              "      <td>0.0465</td>\n",
              "    </tr>\n",
              "    <tr>\n",
              "      <th>7</th>\n",
              "      <td>KNN with edr</td>\n",
              "      <td>0.2140</td>\n",
              "      <td>0.3124</td>\n",
              "      <td>0.0774</td>\n",
              "    </tr>\n",
              "    <tr>\n",
              "      <th>8</th>\n",
              "      <td>KNN with erp</td>\n",
              "      <td>0.2224</td>\n",
              "      <td>0.3335</td>\n",
              "      <td>0.0555</td>\n",
              "    </tr>\n",
              "  </tbody>\n",
              "</table>\n",
              "</div>"
            ],
            "text/plain": [
              "                 Classifier  Train Error  Test Error     std\n",
              "1          KNN with frechet       0.1733      0.2573  0.0633\n",
              "2  KNN with discret_frechet       0.1720      0.2557  0.0642\n",
              "3        KNN with hausdorff       0.1513      0.2405  0.0663\n",
              "4              KNN with dtw       0.1583      0.2368  0.0566\n",
              "5             KNN with lcss       0.2588      0.3022  0.0677\n",
              "6             KNN with sspd       0.1398      0.2200  0.0465\n",
              "7              KNN with edr       0.2140      0.3124  0.0774\n",
              "8              KNN with erp       0.2224      0.3335  0.0555"
            ]
          },
          "metadata": {},
          "execution_count": 50
        }
      ]
    },
    {
      "cell_type": "markdown",
      "metadata": {
        "id": "bKd_aTMCQdU4"
      },
      "source": [
        "# KNN with fastdtw which is an approximate dtw"
      ]
    },
    {
      "cell_type": "code",
      "metadata": {
        "id": "2CEHWopgQrVY",
        "colab": {
          "base_uri": "https://localhost:8080/"
        },
        "outputId": "864267ae-5d6a-4f58-d36e-89d37054ce30"
      },
      "source": [
        "pip install fastdtw"
      ],
      "execution_count": null,
      "outputs": [
        {
          "output_type": "stream",
          "name": "stdout",
          "text": [
            "Requirement already satisfied: fastdtw in /usr/local/lib/python3.7/dist-packages (0.3.4)\n",
            "Requirement already satisfied: numpy in /usr/local/lib/python3.7/dist-packages (from fastdtw) (1.19.5)\n"
          ]
        }
      ]
    },
    {
      "cell_type": "code",
      "metadata": {
        "id": "jfiDRe-7D0TK"
      },
      "source": [
        "from scipy.spatial.distance import euclidean\n",
        "from fastdtw import fastdtw"
      ],
      "execution_count": null,
      "outputs": []
    },
    {
      "cell_type": "code",
      "metadata": {
        "colab": {
          "base_uri": "https://localhost:8080/"
        },
        "id": "erbi2TUXSlPS",
        "outputId": "05c71cd3-09ab-422f-ebb7-522497aa1841"
      },
      "source": [
        "dataa = np.concatenate((cars, buses), 0)\n",
        "fastdtw_matrix = np.array([np.array([fastdtw(dataa[i], dataa[j])[0] for j in range(len(dataa))]) for i in range(len(dataa))])\n",
        "fastdtw_matrix.shape"
      ],
      "execution_count": null,
      "outputs": [
        {
          "output_type": "execute_result",
          "data": {
            "text/plain": [
              "(120, 120)"
            ]
          },
          "metadata": {},
          "execution_count": 53
        }
      ]
    },
    {
      "cell_type": "code",
      "metadata": {
        "id": "sbcQrAbOToDD"
      },
      "source": [
        "def KNN_with_fastdtw(n_1, n_2, dist_matrix):\n",
        "    '''n_1: len(data_1)\n",
        "       n_2: len(data_2)\n",
        "       dist_name: the name of distance used to calculate sitance matrix \n",
        "       (the name is taken from a list above called metrics)'''\n",
        "\n",
        "    I_1, J_1, y_train_1, y_test_1 = train_test_split(np.arange(n_1), \n",
        "                                                np.ones(n_1), test_size=0.3)\n",
        "    I_2, J_2, y_train_2, y_test_2 = train_test_split(np.arange(n_1, n_1+n_2), \n",
        "                                                np.ones(n_2), test_size=0.3)\n",
        "    labels = np.array([1]*n_1 + [0] * n_2)\n",
        "    I = np.concatenate((I_1, I_2), 0)\n",
        "    np.random.shuffle(I)\n",
        "    J = np.concatenate((J_1, J_2), 0)\n",
        "    np.random.shuffle(J)\n",
        "\n",
        "    D_train = dist_matrix[I][:, I]\n",
        "    D_test = dist_matrix[J][:,I]\n",
        "    train_labels = labels[I]\n",
        "    test_labels = labels[J]\n",
        "\n",
        "    clf = KNeighborsClassifier(n_neighbors=5, metric='precomputed')\n",
        "    \n",
        "    #Train the model using the training sets\n",
        "    clf.fit(D_train, list(train_labels))\n",
        "\n",
        "    #Predict labels for train dataset\n",
        "    train_pred = clf.predict(D_train)\n",
        "    train_errors = sum(train_labels != train_pred)/len(I)\n",
        "    \n",
        "    #Predict labels for test dataset\n",
        "    test_pred = clf.predict(D_test)\n",
        "    test_errors = sum((test_labels != test_pred))/len(J)\n",
        "        \n",
        "    return train_errors, test_errors"
      ],
      "execution_count": null,
      "outputs": []
    },
    {
      "cell_type": "code",
      "metadata": {
        "id": "GiP9VqFiToDQ"
      },
      "source": [
        "def KNN_fastdtw_average_error(data1, data2, dist_matrix, num_trials):\n",
        "\n",
        "    '''dists_names: a list of distance names\n",
        "       paths_to_dists: the paths list to the corresponding distancas (each path \n",
        "                       points out to the corresponding distance matrix)'''\n",
        "\n",
        "    Start_time = time.time()\n",
        "\n",
        "    train_errors = np.zeros(num_trials)\n",
        "    test_errors = np.zeros(num_trials)\n",
        "\n",
        "    for i in range(num_trials):\n",
        "        tr_errors, ts_errors = KNN_with_fastdtw(len(data1), len(data2), dist_matrix)\n",
        "        train_errors[i] = tr_errors\n",
        "        test_errors[i] = ts_errors\n",
        "\n",
        "    train_error = np.mean(train_errors)\n",
        "    test_error = np.mean(test_errors)\n",
        "    std_test_error = np.std(test_errors)\n",
        "\n",
        "    Dict = {}\n",
        "    Dict[1] = [f\"KNN with fastdtw\", np.round(train_error, decimals = 4), \n",
        "               np.round(test_error, decimals = 4), \n",
        "               np.round(std_test_error, decimals = 4)]\n",
        "\n",
        "    df = pd.DataFrame.from_dict(Dict, orient='index', columns=['Classifier',\n",
        "                                'Train Error', 'Test Error', 'std'])\n",
        "    print(colored(f\"num_trials = {num_trials}\", \"blue\"))\n",
        "    print(colored(f'total time = {time.time() - Start_time}', 'green'))\n",
        "\n",
        "    return (df, train_errors, test_errors, train_error, test_error)"
      ],
      "execution_count": null,
      "outputs": []
    },
    {
      "cell_type": "code",
      "metadata": {
        "colab": {
          "base_uri": "https://localhost:8080/",
          "height": 114
        },
        "id": "5L8ZWob1moyw",
        "outputId": "2fa8e506-c89c-43ea-9ed9-9ed9a4e1596e"
      },
      "source": [
        "E = KNN_fastdtw_average_error(cars, buses, dist_matrix=fastdtw_matrix, num_trials=50)\n",
        "E[0]"
      ],
      "execution_count": null,
      "outputs": [
        {
          "output_type": "stream",
          "name": "stdout",
          "text": [
            "\u001b[34mnum_trials = 50\u001b[0m\n",
            "\u001b[32mtotal time = 0.2895853519439697\u001b[0m\n"
          ]
        },
        {
          "output_type": "execute_result",
          "data": {
            "text/html": [
              "<div>\n",
              "<style scoped>\n",
              "    .dataframe tbody tr th:only-of-type {\n",
              "        vertical-align: middle;\n",
              "    }\n",
              "\n",
              "    .dataframe tbody tr th {\n",
              "        vertical-align: top;\n",
              "    }\n",
              "\n",
              "    .dataframe thead th {\n",
              "        text-align: right;\n",
              "    }\n",
              "</style>\n",
              "<table border=\"1\" class=\"dataframe\">\n",
              "  <thead>\n",
              "    <tr style=\"text-align: right;\">\n",
              "      <th></th>\n",
              "      <th>Classifier</th>\n",
              "      <th>Train Error</th>\n",
              "      <th>Test Error</th>\n",
              "      <th>std</th>\n",
              "    </tr>\n",
              "  </thead>\n",
              "  <tbody>\n",
              "    <tr>\n",
              "      <th>1</th>\n",
              "      <td>KNN with fastdtw</td>\n",
              "      <td>0.1571</td>\n",
              "      <td>0.2438</td>\n",
              "      <td>0.0702</td>\n",
              "    </tr>\n",
              "  </tbody>\n",
              "</table>\n",
              "</div>"
            ],
            "text/plain": [
              "         Classifier  Train Error  Test Error     std\n",
              "1  KNN with fastdtw       0.1571      0.2438  0.0702"
            ]
          },
          "metadata": {},
          "execution_count": 56
        }
      ]
    },
    {
      "cell_type": "markdown",
      "metadata": {
        "id": "O-wPKtP8wf-F"
      },
      "source": [
        "# KNN with LSH"
      ]
    },
    {
      "cell_type": "code",
      "metadata": {
        "id": "4JwW8TGVJIiy"
      },
      "source": [
        "pip install trjtrypy"
      ],
      "execution_count": null,
      "outputs": []
    },
    {
      "cell_type": "code",
      "metadata": {
        "colab": {
          "resources": {
            "http://localhost:8080/nbextensions/google.colab/files.js": {
              "data": "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",
              "ok": true,
              "headers": [
                [
                  "content-type",
                  "application/javascript"
                ]
              ],
              "status": 200,
              "status_text": ""
            }
          },
          "base_uri": "https://localhost:8080/",
          "height": 73
        },
        "id": "dDQCjAWbwN4E",
        "outputId": "1d618905-31d0-4897-a34f-a2545be3cfe9"
      },
      "source": [
        "from google.colab import files\n",
        "files.upload()\n",
        "\n",
        "#import KNN_with_LSH_class\n",
        "from KNN_with_LSH_class import KNN_with_LSH"
      ],
      "execution_count": null,
      "outputs": [
        {
          "output_type": "display_data",
          "data": {
            "text/html": [
              "\n",
              "     <input type=\"file\" id=\"files-0c01f274-e4c5-4f80-9e82-380a6c498af3\" name=\"files[]\" multiple disabled\n",
              "        style=\"border:none\" />\n",
              "     <output id=\"result-0c01f274-e4c5-4f80-9e82-380a6c498af3\">\n",
              "      Upload widget is only available when the cell has been executed in the\n",
              "      current browser session. Please rerun this cell to enable.\n",
              "      </output>\n",
              "      <script src=\"/nbextensions/google.colab/files.js\"></script> "
            ],
            "text/plain": [
              "<IPython.core.display.HTML object>"
            ]
          },
          "metadata": {}
        },
        {
          "output_type": "stream",
          "name": "stdout",
          "text": [
            "Saving KNN_with_LSH_class.py to KNN_with_LSH_class.py\n"
          ]
        }
      ]
    },
    {
      "cell_type": "code",
      "metadata": {
        "colab": {
          "base_uri": "https://localhost:8080/",
          "height": 114
        },
        "id": "4zSncs0Em9Kg",
        "outputId": "0a184deb-f3e1-40d2-aca3-5b5d322f28f6"
      },
      "source": [
        "KNN_with_LSH_class = KNN_with_LSH(cars, buses, number_circles=20, num_trials=50)\n",
        "KNN_with_LSH_class.KNN_LSH_average_error()[0]"
      ],
      "execution_count": null,
      "outputs": [
        {
          "output_type": "stream",
          "name": "stdout",
          "text": [
            "\u001b[34mnum_trials = 50\u001b[0m\n",
            "\u001b[32mtotal time = 4.229677677154541\u001b[0m\n"
          ]
        },
        {
          "output_type": "execute_result",
          "data": {
            "text/html": [
              "<div>\n",
              "<style scoped>\n",
              "    .dataframe tbody tr th:only-of-type {\n",
              "        vertical-align: middle;\n",
              "    }\n",
              "\n",
              "    .dataframe tbody tr th {\n",
              "        vertical-align: top;\n",
              "    }\n",
              "\n",
              "    .dataframe thead th {\n",
              "        text-align: right;\n",
              "    }\n",
              "</style>\n",
              "<table border=\"1\" class=\"dataframe\">\n",
              "  <thead>\n",
              "    <tr style=\"text-align: right;\">\n",
              "      <th></th>\n",
              "      <th>Classifier</th>\n",
              "      <th>Train Error</th>\n",
              "      <th>Test Error</th>\n",
              "      <th>std</th>\n",
              "    </tr>\n",
              "  </thead>\n",
              "  <tbody>\n",
              "    <tr>\n",
              "      <th>1</th>\n",
              "      <td>KNN with LSH</td>\n",
              "      <td>0.2434</td>\n",
              "      <td>0.2968</td>\n",
              "      <td>0.0931</td>\n",
              "    </tr>\n",
              "  </tbody>\n",
              "</table>\n",
              "</div>"
            ],
            "text/plain": [
              "     Classifier  Train Error  Test Error     std\n",
              "1  KNN with LSH       0.2434      0.2968  0.0931"
            ]
          },
          "metadata": {},
          "execution_count": 58
        }
      ]
    },
    {
      "cell_type": "markdown",
      "metadata": {
        "id": "ZuZAA_MNOZwK"
      },
      "source": [
        "# KNN with soft-dtw is implemented in Anaconda as the package couldn't be installed on Google Colab."
      ]
    },
    {
      "cell_type": "code",
      "metadata": {
        "id": "a342Ws7TmopQ"
      },
      "source": [
        ""
      ],
      "execution_count": null,
      "outputs": []
    }
  ]
}