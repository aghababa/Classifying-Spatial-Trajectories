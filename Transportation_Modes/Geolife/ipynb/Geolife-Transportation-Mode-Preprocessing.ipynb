{
 "cells": [
  {
   "cell_type": "code",
   "execution_count": 1,
   "metadata": {
    "scrolled": true,
    "slideshow": {
     "slide_type": "-"
    }
   },
   "outputs": [],
   "source": [
    "import glob\n",
    "import numpy as np \n",
    "import time\n",
    "import math\n",
    "import random\n",
    "from scipy import linalg as LA\n",
    "import pandas as pd\n",
    "from sklearn.pipeline import make_pipeline\n",
    "from sklearn.preprocessing import StandardScaler\n",
    "from sklearn import svm\n",
    "from sklearn.svm import NuSVC\n",
    "from sklearn.model_selection import train_test_split\n",
    "from sklearn import metrics\n",
    "import seaborn as sns\n",
    "from sklearn.ensemble import AdaBoostClassifier\n",
    "from sklearn.naive_bayes import GaussianNB\n",
    "from sklearn.svm import SVC\n",
    "from sklearn.ensemble import RandomForestClassifier\n",
    "from sklearn.tree import DecisionTreeClassifier\n",
    "from sklearn.linear_model import LogisticRegression\n",
    "from sklearn.neighbors import KNeighborsClassifier\n",
    "import statsmodels.api as sm\n",
    "import matplotlib.pyplot as plt\n",
    "from termcolor import colored\n",
    "from matplotlib import colors\n",
    "import pickle\n",
    "from datetime import datetime\n",
    "import os\n",
    "from sklearn.svm import LinearSVC\n",
    "from hmmlearn import hmm\n",
    "from pprint import pprint \n",
    "import sklearn_crfsuite\n",
    "from sklearn_crfsuite import scorers\n",
    "from sklearn_crfsuite import metrics"
   ]
  },
  {
   "cell_type": "markdown",
   "metadata": {},
   "source": [
    "## Do not run the following blocks until it is mentioned at very bottom"
   ]
  },
  {
   "cell_type": "code",
   "execution_count": 2,
   "metadata": {
    "slideshow": {
     "slide_type": "-"
    }
   },
   "outputs": [],
   "source": [
    "N = 182 # number of users\n",
    "J = glob.glob('Geolife Trajectories 1.3/**/', recursive=True)[2:]\n",
    "K = [J[2*i] for i in range(N)]\n",
    "F = [K[i][30:33] for i in range(N)]\n",
    "int1 = np.vectorize(int)\n",
    "folder_numbers = int1(F)\n",
    "I = glob.glob('Geolife Trajectories 1.3/**/*.plt', recursive=True)\n",
    "#np.sort(folder_numbers), len(folder_numbers)"
   ]
  },
  {
   "cell_type": "code",
   "execution_count": 3,
   "metadata": {},
   "outputs": [],
   "source": [
    "def read_file(file_name):\n",
    "    data = []\n",
    "    c = 0\n",
    "    with open(file_name, \"r\") as f:\n",
    "        for line in f:\n",
    "            c = c + 1\n",
    "            if c > 6:\n",
    "                item = line.strip().split(\",\")\n",
    "                if len(item) == 7:\n",
    "                    data.append([float(item[0]), float(item[1]), float(item[4]), None])\n",
    "    return np.array(data)"
   ]
  },
  {
   "cell_type": "code",
   "execution_count": 4,
   "metadata": {},
   "outputs": [
    {
     "name": "stdout",
     "output_type": "stream",
     "text": [
      "161\n",
      "[[44.589055 129.603843 39299.2951736111 None]\n",
      " [44.589057 129.603843 39299.2951851852 None]\n",
      " [44.588792 129.60388 39299.2958217593 None]\n",
      " ...\n",
      " [44.196218 125.503752 39299.7169675926 None]\n",
      " [44.193637 125.501802 39299.717037037 None]\n",
      " [44.180203 125.49309 39299.7174768519 None]]\n"
     ]
    }
   ],
   "source": [
    "# Test\n",
    "path = glob.glob('Geolife Trajectories 1.3/Data/010/Trajectory/*.plt', recursive=True)\n",
    "print(len(path)) \n",
    "print(read_file(path[5]))"
   ]
  },
  {
   "cell_type": "markdown",
   "metadata": {},
   "source": [
    "# Reading Labels"
   ]
  },
  {
   "cell_type": "code",
   "execution_count": 5,
   "metadata": {},
   "outputs": [
    {
     "data": {
      "text/plain": [
       "69"
      ]
     },
     "execution_count": 5,
     "metadata": {},
     "output_type": "execute_result"
    }
   ],
   "source": [
    "I_text = glob.glob('Geolife Trajectories 1.3/**/*.txt', recursive=True)\n",
    "len(I_text)"
   ]
  },
  {
   "cell_type": "code",
   "execution_count": 6,
   "metadata": {},
   "outputs": [
    {
     "name": "stdout",
     "output_type": "stream",
     "text": [
      "['104', '161', '102', '105', '167', '084', '085', '082', '076', '078', '065', '091', '096', '062', '053', '098', '052', '097', '064', '174', '129', '116', '111', '118', '144', '175', '126', '110', '128', '117', '153', '154', '136', '100', '107', '138', '163', '106', '139', '101', '108', '089', '087', '073', '080', '020', '081', '075', '086', '088', '010', '021', '092', '059', '068', '056', '069', '067', '058', '060', '112', '115', '124', '170', '141', '179', '125', '114', '147']\n",
      "69\n"
     ]
    }
   ],
   "source": [
    "labeled_users = [I_text[i][30:33] for i in range(len(I_text))]\n",
    "print(labeled_users) \n",
    "print(len(labeled_users))"
   ]
  },
  {
   "cell_type": "code",
   "execution_count": 7,
   "metadata": {},
   "outputs": [],
   "source": [
    "# create 'daysDate' function to convert start and end time to a number of days\n",
    "\n",
    "def days_date(time_str):\n",
    "    date_format = \"%Y/%m/%d %H:%M:%S\"\n",
    "    current = datetime.strptime(time_str, date_format)\n",
    "    date_format = \"%Y/%m/%d\"\n",
    "    bench = datetime.strptime('1899/12/30', date_format)\n",
    "    no_days = current - bench\n",
    "    delta_time_days = no_days.days + current.hour / 24.0 + current.minute / (24. * 60.) + current.second / (24. * 3600.)\n",
    "    return delta_time_days"
   ]
  },
  {
   "cell_type": "code",
   "execution_count": 8,
   "metadata": {},
   "outputs": [],
   "source": [
    "# Change Mode Name to Mode index\n",
    "Mode_Index = {\"walk\": 0, \"bike\": 1, \"bus\": 2, \"car\": 3, \"taxi\": 3, \"subway\": 4, \n",
    "              \"railway\": 4, \"train\": 4, \"motorcycle\": 5, \"run\": 5, \"boat\": 5, \n",
    "              \"airplane\": 5, \"other\": 5}\n",
    "\n",
    "# Modes are the modes that we use here\n",
    "Modes = ['walk', 'bike', 'bus', 'driving', 'train', 'others']\n",
    "\n",
    "# We will remove 'others'"
   ]
  },
  {
   "cell_type": "code",
   "execution_count": 9,
   "metadata": {},
   "outputs": [],
   "source": [
    "def get_labels(path):\n",
    "    \n",
    "    labels_data = []\n",
    "    c = 0\n",
    "    with open(path, \"r\") as f:\n",
    "        for line in f:\n",
    "            if c > 0:\n",
    "                item = line.strip().split(\"\\t\")\n",
    "                if len(item) == 3:\n",
    "                    labels_data.append([float(days_date(item[0])), \n",
    "                                        float(days_date(item[1])), Mode_Index[item[2]]])\n",
    "            else:\n",
    "                c += 1\n",
    "    labels_data = np.array(labels_data)\n",
    "\n",
    "    return set(labels_data[:,-1]), labels_data"
   ]
  },
  {
   "cell_type": "code",
   "execution_count": 10,
   "metadata": {},
   "outputs": [
    {
     "data": {
      "text/plain": [
       "({0.0, 2.0, 3.0, 4.0, 5.0},\n",
       " array([[3.92594809e+04, 3.92594864e+04, 2.00000000e+00],\n",
       "        [3.95356201e+04, 3.95356667e+04, 4.00000000e+00],\n",
       "        [3.95356667e+04, 3.95359181e+04, 4.00000000e+00],\n",
       "        ...,\n",
       "        [3.97894883e+04, 3.97895163e+04, 2.00000000e+00],\n",
       "        [3.97895164e+04, 3.97895174e+04, 0.00000000e+00],\n",
       "        [3.97895178e+04, 3.97895260e+04, 3.00000000e+00]]))"
      ]
     },
     "execution_count": 10,
     "metadata": {},
     "output_type": "execute_result"
    }
   ],
   "source": [
    "# Test\n",
    "p = glob.glob('Geolife Trajectories 1.3/Data/010/labels.txt')\n",
    "get_labels(p[0])"
   ]
  },
  {
   "cell_type": "markdown",
   "metadata": {},
   "source": [
    "### Correcting date and time of label dataset according to those of trajectories"
   ]
  },
  {
   "cell_type": "code",
   "execution_count": 11,
   "metadata": {
    "scrolled": true
   },
   "outputs": [],
   "source": [
    "n = len(I_text)\n",
    "users_labels = [0] * n\n",
    "E = []\n",
    "for i in range(n):\n",
    "    users_labels[i] = get_labels(I_text[i])[1]\n",
    "    E.append(I_text[i][30:33])\n",
    "users_labels = np.array(users_labels)\n",
    "#users_labels[0]"
   ]
  },
  {
   "cell_type": "markdown",
   "metadata": {},
   "source": [
    "### Determining all transportation modes in data"
   ]
  },
  {
   "cell_type": "code",
   "execution_count": 12,
   "metadata": {},
   "outputs": [
    {
     "name": "stdout",
     "output_type": "stream",
     "text": [
      "{0.0, 1.0, 2.0, 3.0, 4.0, 5.0}\n"
     ]
    }
   ],
   "source": [
    "S = set()\n",
    "for path in I_text:\n",
    "    S = S.union(get_labels(path)[0])\n",
    "print(S)"
   ]
  },
  {
   "cell_type": "code",
   "execution_count": 13,
   "metadata": {},
   "outputs": [
    {
     "data": {
      "text/plain": [
       "7"
      ]
     },
     "execution_count": 13,
     "metadata": {},
     "output_type": "execute_result"
    }
   ],
   "source": [
    "Labels = [0,1,2,3,4,5, None]\n",
    "len(Labels)"
   ]
  },
  {
   "cell_type": "markdown",
   "metadata": {},
   "source": [
    "# Adding transportation mode to trajectories"
   ]
  },
  {
   "cell_type": "code",
   "execution_count": 14,
   "metadata": {},
   "outputs": [],
   "source": [
    "# Test\n",
    "V = glob.glob('Geolife Trajectories 1.3/Data/010/Trajectory/*.plt', recursive = True)\n",
    "pp = 'Geolife Trajectories 1.3/Data/010/labels.txt'\n",
    "#np.where(get_labels(pp)[1][:,2] != None)[0]"
   ]
  },
  {
   "cell_type": "code",
   "execution_count": 15,
   "metadata": {},
   "outputs": [
    {
     "name": "stdout",
     "output_type": "stream",
     "text": [
      "one line from labels data: [3.92594809e+04 3.92594864e+04 2.00000000e+00]\n",
      "one line from a trajectory: [39.138159 117.217108 39805.9617476852 None]\n"
     ]
    }
   ],
   "source": [
    "print(\"one line from labels data:\", get_labels(pp)[1][0])\n",
    "print(\"one line from a trajectory:\", read_file(V[0])[0])"
   ]
  },
  {
   "cell_type": "code",
   "execution_count": 16,
   "metadata": {},
   "outputs": [],
   "source": [
    "def add_labels(trajectory, labels):\n",
    "    count = 0\n",
    "    epn = 2/(24 * 3600)\n",
    "    for i in range(len(labels)):\n",
    "        a1 = np.where((trajectory[:,2] >= labels[i][0] - epn))[0]\n",
    "        b1 = np.where((trajectory[:,2] <= labels[i][0] + epn))[0]\n",
    "        c1 = list(set(a1).intersection(b1))\n",
    "        \n",
    "        a2 = np.where((trajectory[:,2] >= labels[i][1] - epn))[0]\n",
    "        b2 = np.where((trajectory[:,2] <= labels[i][1] + epn))[0]\n",
    "        c2 = list(set(a2).intersection(b2))\n",
    "        \n",
    "        if len(c1) > 0 and len(c2) > 0:\n",
    "            trajectory[:,3][c1[0]:c2[-1]+1] = labels[i][-1]\n",
    "            count += 1\n",
    "    return trajectory, count"
   ]
  },
  {
   "cell_type": "code",
   "execution_count": 17,
   "metadata": {},
   "outputs": [
    {
     "data": {
      "text/plain": [
       "array([0.0, 0.0, 0.0, 0.0, 0.0, 0.0, 0.0, 0.0, 0.0, 0.0, 0.0, 2.0, 2.0,\n",
       "       2.0, None, None, None, None, None, None], dtype=object)"
      ]
     },
     "execution_count": 17,
     "metadata": {},
     "output_type": "execute_result"
    }
   ],
   "source": [
    "# Test\n",
    "V = glob.glob('053/Trajectory/*.plt', recursive = True)\n",
    "pp = '053/labels.txt'\n",
    "add_labels(read_file(V[0]), get_labels(pp)[1])[0][:,-1]"
   ]
  },
  {
   "cell_type": "code",
   "execution_count": 18,
   "metadata": {},
   "outputs": [],
   "source": [
    "def add_label_to_user(user_path, labels):\n",
    "    c = 0\n",
    "    user = []\n",
    "    for i in range(len(user_path)):\n",
    "        A = add_labels(read_file(user_path[i]), labels)\n",
    "        user.append(A[0])\n",
    "        c += A[1]\n",
    "        \n",
    "    return np.array(user), c"
   ]
  },
  {
   "cell_type": "code",
   "execution_count": 23,
   "metadata": {
    "scrolled": true
   },
   "outputs": [
    {
     "name": "stdout",
     "output_type": "stream",
     "text": [
      "0\n",
      "a[1], users_labels[i] = 0 88\n",
      "1\n",
      "a[1], users_labels[i] = 20 38\n",
      "2\n",
      "a[1], users_labels[i] = 50 57\n",
      "3\n",
      "a[1], users_labels[i] = 25 32\n",
      "4\n",
      "a[1], users_labels[i] = 648 944\n",
      "5\n",
      "a[1], users_labels[i] = 277 422\n",
      "6\n",
      "a[1], users_labels[i] = 788 1298\n",
      "7\n",
      "a[1], users_labels[i] = 98 119\n",
      "8\n",
      "a[1], users_labels[i] = 3 11\n",
      "9\n",
      "a[1], users_labels[i] = 58 94\n",
      "10\n",
      "a[1], users_labels[i] = 63 206\n",
      "11\n",
      "a[1], users_labels[i] = 56 170\n",
      "12\n",
      "a[1], users_labels[i] = 82 119\n",
      "13\n",
      "a[1], users_labels[i] = 431 782\n",
      "14\n",
      "a[1], users_labels[i] = 16 20\n",
      "15\n",
      "a[1], users_labels[i] = 23 28\n",
      "16\n",
      "a[1], users_labels[i] = 220 425\n",
      "17\n",
      "a[1], users_labels[i] = 17 28\n",
      "18\n",
      "a[1], users_labels[i] = 42 68\n",
      "19\n",
      "a[1], users_labels[i] = 0 7\n",
      "20\n",
      "a[1], users_labels[i] = 15 16\n",
      "21\n",
      "a[1], users_labels[i] = 0 3\n",
      "22\n",
      "a[1], users_labels[i] = 13 36\n",
      "23\n",
      "a[1], users_labels[i] = 0 5\n",
      "24\n",
      "a[1], users_labels[i] = 4 9\n",
      "25\n",
      "a[1], users_labels[i] = 11 12\n",
      "26\n",
      "a[1], users_labels[i] = 353 468\n",
      "27\n",
      "a[1], users_labels[i] = 0 20\n",
      "28\n",
      "a[1], users_labels[i] = 700 937\n",
      "29\n",
      "a[1], users_labels[i] = 9 15\n",
      "30\n",
      "a[1], users_labels[i] = 646 1123\n",
      "31\n",
      "a[1], users_labels[i] = 0 54\n",
      "32\n",
      "a[1], users_labels[i] = 7 7\n",
      "33\n",
      "a[1], users_labels[i] = 0 18\n",
      "34\n",
      "a[1], users_labels[i] = 5 5\n",
      "35\n",
      "a[1], users_labels[i] = 29 37\n",
      "36\n",
      "a[1], users_labels[i] = 213 3182\n",
      "37\n",
      "a[1], users_labels[i] = 0 3\n",
      "38\n",
      "a[1], users_labels[i] = 31 38\n",
      "39\n",
      "a[1], users_labels[i] = 5 6\n",
      "40\n",
      "a[1], users_labels[i] = 8 10\n",
      "41\n",
      "a[1], users_labels[i] = 14 34\n",
      "42\n",
      "a[1], users_labels[i] = 5 6\n",
      "43\n",
      "a[1], users_labels[i] = 53 54\n",
      "44\n",
      "a[1], users_labels[i] = 10 14\n",
      "45\n",
      "a[1], users_labels[i] = 147 223\n",
      "46\n",
      "a[1], users_labels[i] = 35 75\n",
      "47\n",
      "a[1], users_labels[i] = 9 509\n",
      "48\n",
      "a[1], users_labels[i] = 5 8\n",
      "49\n",
      "a[1], users_labels[i] = 0 1\n",
      "50\n",
      "a[1], users_labels[i] = 277 434\n",
      "51\n",
      "a[1], users_labels[i] = 11 18\n",
      "52\n",
      "a[1], users_labels[i] = 12 43\n",
      "53\n",
      "a[1], users_labels[i] = 0 1\n",
      "54\n",
      "a[1], users_labels[i] = 681 969\n",
      "55\n",
      "a[1], users_labels[i] = 25 33\n",
      "56\n",
      "a[1], users_labels[i] = 19 21\n",
      "57\n",
      "a[1], users_labels[i] = 65 116\n",
      "58\n",
      "a[1], users_labels[i] = 31 33\n",
      "59\n",
      "a[1], users_labels[i] = 1 2\n",
      "60\n",
      "a[1], users_labels[i] = 130 220\n",
      "61\n",
      "a[1], users_labels[i] = 105 139\n",
      "62\n",
      "a[1], users_labels[i] = 0 1\n",
      "63\n",
      "a[1], users_labels[i] = 12 15\n",
      "64\n",
      "a[1], users_labels[i] = 29 103\n",
      "65\n",
      "a[1], users_labels[i] = 190 319\n",
      "66\n",
      "a[1], users_labels[i] = 86 153\n",
      "67\n",
      "a[1], users_labels[i] = 2 7\n",
      "68\n",
      "a[1], users_labels[i] = 0 207\n",
      "c1, c2 = 6920 14718\n",
      "2406.4777171611786\n"
     ]
    }
   ],
   "source": [
    "start_time = time.time()\n",
    "c1 = 0 \n",
    "c2 = 0\n",
    "data = [0] * n\n",
    "for i in range(n):\n",
    "    print(i)\n",
    "    user_path = glob.glob('Geolife Trajectories 1.3/Data/'+E[i]+'/trajectory/*.plt', \n",
    "                          recursive=True)\n",
    "    a = add_label_to_user(user_path, users_labels[i])\n",
    "    data[i] = np.array([a[1], len(users_labels[i]), a[0]])\n",
    "    print('a[1], users_labels[i] =', a[1], len(users_labels[i]))\n",
    "    c1 += a[1]\n",
    "    c2 += len(users_labels[i])\n",
    "    \n",
    "data = np.array(data)\n",
    "print(\"c1, c2 =\", c1, c2)\n",
    "print(time.time() - start_time)"
   ]
  },
  {
   "cell_type": "code",
   "execution_count": 29,
   "metadata": {},
   "outputs": [
    {
     "data": {
      "text/plain": [
       "array([ 0, 19, 21, 23, 27, 31, 33, 37, 49, 53, 62, 68])"
      ]
     },
     "execution_count": 29,
     "metadata": {},
     "output_type": "execute_result"
    }
   ],
   "source": [
    "np.where(data[:,0] == 0)[0]"
   ]
  },
  {
   "cell_type": "code",
   "execution_count": 34,
   "metadata": {},
   "outputs": [
    {
     "data": {
      "text/plain": [
       "57"
      ]
     },
     "execution_count": 34,
     "metadata": {},
     "output_type": "execute_result"
    }
   ],
   "source": [
    "idx = np.where(data[:,0] != 0)[0]\n",
    "data = data[idx]\n",
    "len(data)"
   ]
  },
  {
   "cell_type": "markdown",
   "metadata": {},
   "source": [
    "# Removing unlabeled data"
   ]
  },
  {
   "cell_type": "code",
   "execution_count": 92,
   "metadata": {},
   "outputs": [],
   "source": [
    "Data = [0] * len(data)\n",
    "for i in range(len(data)):\n",
    "    Data[i] = []\n",
    "    for j in range(len(data[i][2])):\n",
    "        I = np.where((data[i][2][j][:,3] != None) & (data[i][2][j][:,3] != 5) )[0]\n",
    "        if len(I) > 0:\n",
    "            Data[i].append(data[i][2][j][I])\n",
    "    Data[i] = np.array(Data[i])\n",
    "Data = np.array(Data)"
   ]
  },
  {
   "cell_type": "code",
   "execution_count": 128,
   "metadata": {},
   "outputs": [
    {
     "name": "stdout",
     "output_type": "stream",
     "text": [
      "Total number of trajectories in the cleaned data: 3572\n"
     ]
    }
   ],
   "source": [
    "print(\"Total number of trajectories in the cleaned data:\", \n",
    "      sum([len(Data[i]) for i in range(len(Data))]))"
   ]
  },
  {
   "cell_type": "markdown",
   "metadata": {},
   "source": [
    "# Checking labels of cleaned data"
   ]
  },
  {
   "cell_type": "code",
   "execution_count": 129,
   "metadata": {},
   "outputs": [
    {
     "data": {
      "text/plain": [
       "{0.0, 1.0, 2.0, 3.0, 4.0}"
      ]
     },
     "execution_count": 129,
     "metadata": {},
     "output_type": "execute_result"
    }
   ],
   "source": [
    "Labels_final1 = []\n",
    "Labels_final = set([])\n",
    "for i in range(len(Data)):\n",
    "    Labels_final1.append([set(Data[i][j][:,3]) for j in range(len(Data[i]))])\n",
    "    for j in range(len(Data[i])):\n",
    "        Labels_final = Labels_final.union(Labels_final1[i][j])\n",
    "Labels_final"
   ]
  },
  {
   "cell_type": "markdown",
   "metadata": {},
   "source": [
    "# Creating csv files"
   ]
  },
  {
   "cell_type": "code",
   "execution_count": 208,
   "metadata": {},
   "outputs": [],
   "source": [
    "def createFolder(directory):\n",
    "    try:\n",
    "        if not os.path.exists(directory):\n",
    "            os.makedirs(directory)\n",
    "    except OSError:\n",
    "        print ('Error: Creating directory. ' +  directory)"
   ]
  },
  {
   "cell_type": "code",
   "execution_count": 199,
   "metadata": {},
   "outputs": [],
   "source": [
    "DF1 = pd.DataFrame(Data[0][0]) \n",
    "DF1.to_csv(r'labeled csv Geolife/data['+str(1)+'].csv', index=False)"
   ]
  },
  {
   "cell_type": "code",
   "execution_count": 218,
   "metadata": {},
   "outputs": [],
   "source": [
    "for i in range(len(Data)):\n",
    "    createFolder('labeled csv Geolife/'+str(i))\n",
    "    for j in range(len(Data[i])):\n",
    "        DF = pd.DataFrame(Data[i][j]) \n",
    "        DF.to_csv(r'labeled csv Geolife/'+str(i)+'/'+str(i)+'_'+str(j)+'.csv', index=False)"
   ]
  }
 ],
 "metadata": {
  "celltoolbar": "Raw Cell Format",
  "kernelspec": {
   "display_name": "Python 3",
   "language": "python",
   "name": "python3"
  },
  "language_info": {
   "codemirror_mode": {
    "name": "ipython",
    "version": 3
   },
   "file_extension": ".py",
   "mimetype": "text/x-python",
   "name": "python",
   "nbconvert_exporter": "python",
   "pygments_lexer": "ipython3",
   "version": "3.7.4"
  }
 },
 "nbformat": 4,
 "nbformat_minor": 2
}
