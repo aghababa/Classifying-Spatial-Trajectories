{
  "nbformat": 4,
  "nbformat_minor": 0,
  "metadata": {
    "colab": {
      "name": "T-Drive_Frechet_and_LSH_August_28.ipynb",
      "provenance": [],
      "collapsed_sections": [
        "FjUDYLcS07zg",
        "2tCLYXpw0_8S",
        "OtvNA2bUW6yV",
        "BeyyAKRqXLVD",
        "aoR6BdpLyOgX",
        "Ja4PgbBhVajL",
        "XpYUX-bvoqGA",
        "-6y3HBZIwbd5",
        "oXa4_9Ck0sTi",
        "O-wPKtP8wf-F"
      ]
    },
    "kernelspec": {
      "display_name": "Python 3",
      "language": "python",
      "name": "python3"
    },
    "language_info": {
      "codemirror_mode": {
        "name": "ipython",
        "version": 3
      },
      "file_extension": ".py",
      "mimetype": "text/x-python",
      "name": "python",
      "nbconvert_exporter": "python",
      "pygments_lexer": "ipython3",
      "version": "3.7.4"
    }
  },
  "cells": [
    {
      "cell_type": "code",
      "metadata": {
        "id": "XXLgevM-1pa_"
      },
      "source": [
        "import glob\n",
        "import numpy as np \n",
        "import time\n",
        "import math\n",
        "import random\n",
        "from scipy import linalg as LA\n",
        "import pandas as pd\n",
        "from sklearn.neighbors import KNeighborsClassifier\n",
        "from termcolor import colored\n",
        "import os\n",
        "import pickle\n",
        "from datetime import datetime\n",
        "from sklearn.model_selection import train_test_split"
      ],
      "execution_count": null,
      "outputs": []
    },
    {
      "cell_type": "code",
      "metadata": {
        "colab": {
          "base_uri": "https://localhost:8080/"
        },
        "id": "IHUirZ4Q2y8P",
        "outputId": "9a020fb8-7629-4f61-d867-78c0d42d53a4"
      },
      "source": [
        "from google.colab import drive\n",
        "drive.mount(\"/content/gdrive\")"
      ],
      "execution_count": null,
      "outputs": [
        {
          "output_type": "stream",
          "text": [
            "Drive already mounted at /content/gdrive; to attempt to forcibly remount, call drive.mount(\"/content/gdrive\", force_remount=True).\n"
          ],
          "name": "stdout"
        }
      ]
    },
    {
      "cell_type": "markdown",
      "metadata": {
        "id": "FjUDYLcS07zg"
      },
      "source": [
        "# install package"
      ]
    },
    {
      "cell_type": "code",
      "metadata": {
        "id": "5a_8SLt-KUDz"
      },
      "source": [
        "pip install trjtrypy"
      ],
      "execution_count": null,
      "outputs": []
    },
    {
      "cell_type": "code",
      "metadata": {
        "id": "D3lvO_zYcKQT",
        "colab": {
          "base_uri": "https://localhost:8080/"
        },
        "outputId": "2d6ba353-cb02-4e64-fcfa-f1b2975b1cbb"
      },
      "source": [
        "# to make a directory\n",
        "%cd 'gdrive/My Drive/traj-dist'"
      ],
      "execution_count": null,
      "outputs": [
        {
          "output_type": "stream",
          "text": [
            "/content/gdrive/My Drive/traj-dist\n"
          ],
          "name": "stdout"
        }
      ]
    },
    {
      "cell_type": "code",
      "metadata": {
        "id": "r64WIR-DUEY8"
      },
      "source": [
        "# to see in what directory we are in"
      ],
      "execution_count": null,
      "outputs": []
    },
    {
      "cell_type": "code",
      "metadata": {
        "id": "uizep1yEchxQ",
        "colab": {
          "base_uri": "https://localhost:8080/"
        },
        "outputId": "24800a37-96a4-49ec-d21b-a19ac078c2ab"
      },
      "source": [
        "pwd"
      ],
      "execution_count": null,
      "outputs": [
        {
          "output_type": "execute_result",
          "data": {
            "application/vnd.google.colaboratory.intrinsic+json": {
              "type": "string"
            },
            "text/plain": [
              "'/content/gdrive/My Drive/traj-dist'"
            ]
          },
          "metadata": {
            "tags": []
          },
          "execution_count": 5
        }
      ]
    },
    {
      "cell_type": "code",
      "metadata": {
        "id": "tbFXlofdMaQQ"
      },
      "source": [
        "# to install setup.py from the current directory\n",
        "!python setup.py install"
      ],
      "execution_count": null,
      "outputs": []
    },
    {
      "cell_type": "code",
      "metadata": {
        "id": "dFyNWPPnc2UN",
        "colab": {
          "base_uri": "https://localhost:8080/"
        },
        "outputId": "07facd5d-9e3e-43f8-fe59-7074992b2ea7"
      },
      "source": [
        "!pip install geohash2"
      ],
      "execution_count": null,
      "outputs": [
        {
          "output_type": "stream",
          "text": [
            "Requirement already satisfied: geohash2 in /usr/local/lib/python3.7/dist-packages/geohash2-1.1-py3.7.egg (1.1)\n",
            "Requirement already satisfied: docutils>=0.3 in /usr/local/lib/python3.7/dist-packages (from geohash2) (0.17.1)\n"
          ],
          "name": "stdout"
        }
      ]
    },
    {
      "cell_type": "markdown",
      "metadata": {
        "id": "2tCLYXpw0_8S"
      },
      "source": [
        "# \"######################\" Now restart runtime \"######################\"\n",
        "\n",
        "But don't run the above block"
      ]
    },
    {
      "cell_type": "code",
      "metadata": {
        "id": "9f4j8AQHt9-a"
      },
      "source": [
        "import traj_dist.distance as tdist\n",
        "import pickle"
      ],
      "execution_count": null,
      "outputs": []
    },
    {
      "cell_type": "markdown",
      "metadata": {
        "id": "OtvNA2bUW6yV"
      },
      "source": [
        "# Import data"
      ]
    },
    {
      "cell_type": "markdown",
      "metadata": {
        "id": "BeyyAKRqXLVD"
      },
      "source": [
        "## Preprocessing"
      ]
    },
    {
      "cell_type": "code",
      "metadata": {
        "id": "ecwYvg601pbC"
      },
      "source": [
        "I = glob.glob('/content/gdrive/My Drive/Research/T-drive for 2ed paper/Chosen users for 5 pairs/*.txt',\n",
        "              recursive=True)"
      ],
      "execution_count": null,
      "outputs": []
    },
    {
      "cell_type": "code",
      "metadata": {
        "colab": {
          "base_uri": "https://localhost:8080/"
        },
        "id": "C9h8IFV_f_QY",
        "outputId": "cb5f4cc1-3c63-432a-c573-296365619522"
      },
      "source": [
        "I1 = [0] * len(I)\n",
        "for j in range(len(I)):\n",
        "    I1[j] = int(I[j][81:85])\n",
        "I1.sort()\n",
        "I1"
      ],
      "execution_count": null,
      "outputs": [
        {
          "output_type": "execute_result",
          "data": {
            "text/plain": [
              "[1350, 1950, 2876, 3142, 3260, 5896, 5970, 6168, 6834, 9513]"
            ]
          },
          "metadata": {},
          "execution_count": 4
        }
      ]
    },
    {
      "cell_type": "code",
      "metadata": {
        "colab": {
          "base_uri": "https://localhost:8080/"
        },
        "id": "CV1hll1wl-fo",
        "outputId": "b88c2c59-4c07-4c35-c11f-0ff055e8e19f"
      },
      "source": [
        "pairs_from_data = [[3142, 6834], [6168, 9513], [1950, 5896], [2876, 3260], [1350, 5970]]\n",
        "pairs_from_data"
      ],
      "execution_count": null,
      "outputs": [
        {
          "output_type": "execute_result",
          "data": {
            "text/plain": [
              "[[3142, 6834], [6168, 9513], [1950, 5896], [2876, 3260], [1350, 5970]]"
            ]
          },
          "metadata": {},
          "execution_count": 5
        }
      ]
    },
    {
      "cell_type": "code",
      "metadata": {
        "colab": {
          "base_uri": "https://localhost:8080/"
        },
        "id": "hjQRE6SNnIz3",
        "outputId": "f98a292b-ec29-4238-e048-ce74f69905d9"
      },
      "source": [
        "Dict = {1350:0, 1950:1, 2876:2, 3142:3, 3260:4, 5896:5, 5970:6, 6168:7, 6834:8, 9513:9}\n",
        "Dict"
      ],
      "execution_count": null,
      "outputs": [
        {
          "output_type": "execute_result",
          "data": {
            "text/plain": [
              "{1350: 0,\n",
              " 1950: 1,\n",
              " 2876: 2,\n",
              " 3142: 3,\n",
              " 3260: 4,\n",
              " 5896: 5,\n",
              " 5970: 6,\n",
              " 6168: 7,\n",
              " 6834: 8,\n",
              " 9513: 9}"
            ]
          },
          "metadata": {},
          "execution_count": 6
        }
      ]
    },
    {
      "cell_type": "code",
      "metadata": {
        "colab": {
          "base_uri": "https://localhost:8080/"
        },
        "id": "zhN8nuGSnaeE",
        "outputId": "cb969a12-556d-43b0-c519-0f29ef5450a8"
      },
      "source": [
        "pairs = np.array([[Dict[pairs_from_data[i][0]], Dict[pairs_from_data[i][1]]] \\\n",
        "                  for i in range(len(pairs_from_data))])\n",
        "pairs"
      ],
      "execution_count": null,
      "outputs": [
        {
          "output_type": "execute_result",
          "data": {
            "text/plain": [
              "array([[3, 8],\n",
              "       [7, 9],\n",
              "       [1, 5],\n",
              "       [2, 4],\n",
              "       [0, 6]])"
            ]
          },
          "metadata": {},
          "execution_count": 7
        }
      ]
    },
    {
      "cell_type": "code",
      "metadata": {
        "colab": {
          "base_uri": "https://localhost:8080/"
        },
        "id": "CUNhSPF_g3uN",
        "outputId": "8aea02bd-111e-4ea1-e608-e6e0f9be29da"
      },
      "source": [
        "J = [0] * len(I)\n",
        "K = [0] * len(I)\n",
        "for i in range(len(I)):\n",
        "    for j in range(len(I)):\n",
        "        if int(I[j][81:85]) == I1[i]:\n",
        "            J[i] = I[j][:81]+str(i)+'.txt'\n",
        "            K[i] = I[j]\n",
        "J"
      ],
      "execution_count": null,
      "outputs": [
        {
          "output_type": "execute_result",
          "data": {
            "text/plain": [
              "['/content/gdrive/My Drive/Research/T-drive for 2ed paper/Chosen users for 5 pairs/0.txt',\n",
              " '/content/gdrive/My Drive/Research/T-drive for 2ed paper/Chosen users for 5 pairs/1.txt',\n",
              " '/content/gdrive/My Drive/Research/T-drive for 2ed paper/Chosen users for 5 pairs/2.txt',\n",
              " '/content/gdrive/My Drive/Research/T-drive for 2ed paper/Chosen users for 5 pairs/3.txt',\n",
              " '/content/gdrive/My Drive/Research/T-drive for 2ed paper/Chosen users for 5 pairs/4.txt',\n",
              " '/content/gdrive/My Drive/Research/T-drive for 2ed paper/Chosen users for 5 pairs/5.txt',\n",
              " '/content/gdrive/My Drive/Research/T-drive for 2ed paper/Chosen users for 5 pairs/6.txt',\n",
              " '/content/gdrive/My Drive/Research/T-drive for 2ed paper/Chosen users for 5 pairs/7.txt',\n",
              " '/content/gdrive/My Drive/Research/T-drive for 2ed paper/Chosen users for 5 pairs/8.txt',\n",
              " '/content/gdrive/My Drive/Research/T-drive for 2ed paper/Chosen users for 5 pairs/9.txt']"
            ]
          },
          "metadata": {},
          "execution_count": 8
        }
      ]
    },
    {
      "cell_type": "code",
      "metadata": {
        "colab": {
          "base_uri": "https://localhost:8080/"
        },
        "id": "DirD_ATJiVBC",
        "outputId": "cc088efb-9ad0-4929-9e93-12b7b37de7f7"
      },
      "source": [
        "K"
      ],
      "execution_count": null,
      "outputs": [
        {
          "output_type": "execute_result",
          "data": {
            "text/plain": [
              "['/content/gdrive/My Drive/Research/T-drive for 2ed paper/Chosen users for 5 pairs/1350.txt',\n",
              " '/content/gdrive/My Drive/Research/T-drive for 2ed paper/Chosen users for 5 pairs/1950.txt',\n",
              " '/content/gdrive/My Drive/Research/T-drive for 2ed paper/Chosen users for 5 pairs/2876.txt',\n",
              " '/content/gdrive/My Drive/Research/T-drive for 2ed paper/Chosen users for 5 pairs/3142.txt',\n",
              " '/content/gdrive/My Drive/Research/T-drive for 2ed paper/Chosen users for 5 pairs/3260.txt',\n",
              " '/content/gdrive/My Drive/Research/T-drive for 2ed paper/Chosen users for 5 pairs/5896.txt',\n",
              " '/content/gdrive/My Drive/Research/T-drive for 2ed paper/Chosen users for 5 pairs/5970.txt',\n",
              " '/content/gdrive/My Drive/Research/T-drive for 2ed paper/Chosen users for 5 pairs/6168.txt',\n",
              " '/content/gdrive/My Drive/Research/T-drive for 2ed paper/Chosen users for 5 pairs/6834.txt',\n",
              " '/content/gdrive/My Drive/Research/T-drive for 2ed paper/Chosen users for 5 pairs/9513.txt']"
            ]
          },
          "metadata": {},
          "execution_count": 9
        }
      ]
    },
    {
      "cell_type": "code",
      "metadata": {
        "colab": {
          "base_uri": "https://localhost:8080/"
        },
        "id": "UKWmw1zAyOgV",
        "outputId": "9ba5d50f-6d48-40cc-e1f2-6e7bb23d25c6"
      },
      "source": [
        "taxi_id = np.array([J[i][81:-4] for i in range(len(J))])\n",
        "I0 = np.sort(list(map(int, taxi_id)))\n",
        "True in I0 == list(map(int, taxi_id)) # so the taxi ids are nn.arange(len(J))"
      ],
      "execution_count": null,
      "outputs": [
        {
          "output_type": "execute_result",
          "data": {
            "text/plain": [
              "array([ True,  True,  True,  True,  True,  True,  True,  True,  True,\n",
              "        True])"
            ]
          },
          "metadata": {},
          "execution_count": 10
        }
      ]
    },
    {
      "cell_type": "code",
      "metadata": {
        "id": "bvmJRVptyOgW"
      },
      "source": [
        "# create 'daysDate' function to convert start and end time to a float number of days\n",
        "\n",
        "def days_date(time_str):\n",
        "    date_format = \"%Y-%m-%d %H:%M:%S\"\n",
        "    current = datetime.strptime(time_str, date_format)\n",
        "    date_format = \"%Y-%m-%d\"\n",
        "    bench = datetime.strptime('2006-12-30', date_format)\n",
        "    no_days = current - bench\n",
        "    delta_time_days = no_days.days + current.hour / 24.0 + current.minute / (24. * 60.) + current.second / (24. * 3600.)\n",
        "    return delta_time_days\n",
        "\n",
        "days_date = np.vectorize(days_date)\n",
        "float1 = np.vectorize(float)"
      ],
      "execution_count": null,
      "outputs": []
    },
    {
      "cell_type": "code",
      "metadata": {
        "id": "oi1CpuWAyOgW"
      },
      "source": [
        "def read_file(file_name):\n",
        "    data = []\n",
        "    f = open(file_name, \"r\")\n",
        "    for line in f:\n",
        "        item = line.strip().split(\",\")\n",
        "        if len(item) == 4:\n",
        "            data.append(np.asarray(item[1:]))\n",
        "    data = np.array(data)\n",
        "    return data"
      ],
      "execution_count": null,
      "outputs": []
    },
    {
      "cell_type": "markdown",
      "metadata": {
        "id": "aoR6BdpLyOgX"
      },
      "source": [
        "## Remove stationary points"
      ]
    },
    {
      "cell_type": "code",
      "metadata": {
        "id": "OGgYobE1yOgX"
      },
      "source": [
        "def remove_segments(traj): # removes stationary points\n",
        "    p2 = traj[:,1:][1:]\n",
        "    p1 = traj[:,1:][:-1]\n",
        "    L = ((p2-p1)*(p2-p1)).sum(axis =1)\n",
        "    I = np.where(L>1e-16)[0]\n",
        "    return traj[I]"
      ],
      "execution_count": null,
      "outputs": []
    },
    {
      "cell_type": "markdown",
      "metadata": {
        "id": "L78emYOByOgY"
      },
      "source": [
        "### In data1 below:\n",
        "        (1) there is no stationary points\n",
        "        (2) there is no trajectories with less than 1 or more than 200 waypoints"
      ]
    },
    {
      "cell_type": "code",
      "metadata": {
        "colab": {
          "base_uri": "https://localhost:8080/"
        },
        "id": "LXhFe9jiyOgY",
        "outputId": "ff1d6e8c-b203-44d6-bc14-71199a3ea55a"
      },
      "source": [
        "T = len(K)\n",
        "data1 = [] \n",
        "taxi_ids = []\n",
        "for i in range(T):\n",
        "    a = read_file(K[i])\n",
        "    if len(a) > 1000:  \n",
        "        a[:,0] = days_date(a[:,0])\n",
        "        a = float1(a)\n",
        "        data1.append(remove_segments(a)) \n",
        "        taxi_ids.append(i)\n",
        "\n",
        "data1 = np.array(data1, dtype='object')\n",
        "I = np.where(np.array([len(data1[i]) for i in range(len(data1))]) > 0)[0]\n",
        "data1 = data1[I]\n",
        "taxi_ids = np.array(taxi_ids, dtype='object')\n",
        "print(\"len(data1) =\", len(data1))\n",
        "print(\"selected taxi_ids: \\n\", taxi_ids[I])\n",
        "print([len(data1[i]) for i in range(len(data1))])"
      ],
      "execution_count": null,
      "outputs": [
        {
          "output_type": "stream",
          "text": [
            "len(data1) = 10\n",
            "selected taxi_ids: \n",
            " [0 1 2 3 4 5 6 7 8 9]\n",
            "[3127, 4870, 2129, 3145, 2697, 4410, 4741, 3391, 2534, 2593]\n"
          ],
          "name": "stdout"
        }
      ]
    },
    {
      "cell_type": "code",
      "metadata": {
        "id": "B_RAh9r4yOgZ"
      },
      "source": [
        "def partition(trajectory, threshold=20):\n",
        "    trajectories = []\n",
        "    a = 24 * 60 * (trajectory[-1][0] - trajectory[0][0])\n",
        "    if a <= threshold:\n",
        "        return np.array(trajectory.reshape(1, len(trajectory), 3))\n",
        "    else: \n",
        "        i = 0\n",
        "        while a > threshold:\n",
        "            j = i + 0\n",
        "            val = 0\n",
        "            while val < threshold: \n",
        "                if i < len(trajectory) - 1:\n",
        "                    temp = val + 0\n",
        "                    val += 24 * 60 * (trajectory[:,0][1:][i] - trajectory[:,0][:-1][i])\n",
        "                    i += 1\n",
        "                else: \n",
        "                    break\n",
        "            if len(trajectory[j:i-1]) > 0:\n",
        "                trajectories.append(trajectory[j:i-1])\n",
        "            a = a - val\n",
        "        if len(trajectory[i:]) > 0:\n",
        "            trajectories.append(trajectory[i:])\n",
        "    trajectories = np.array(trajectories, dtype='object')\n",
        "    return trajectories"
      ],
      "execution_count": null,
      "outputs": []
    },
    {
      "cell_type": "markdown",
      "metadata": {
        "id": "Ja4PgbBhVajL"
      },
      "source": [
        "## Get length of each taxi trajectories before filtering between 100 and 200"
      ]
    },
    {
      "cell_type": "code",
      "metadata": {
        "colab": {
          "base_uri": "https://localhost:8080/"
        },
        "id": "wHhqooQUVZaM",
        "outputId": "cbcdc323-9d5f-43b9-98fb-2c52a45ca06d"
      },
      "source": [
        "data1_len = [0] * len(data1)\n",
        "for i in range(len(data1)):\n",
        "    count = 0\n",
        "    A = partition(data1[i], threshold=20)\n",
        "    for j in range(len(A)):\n",
        "        if len(A[j]) >= 1:\n",
        "            count += 1\n",
        "    data1_len[i] = count\n",
        "\n",
        "print(data1_len)"
      ],
      "execution_count": null,
      "outputs": [
        {
          "output_type": "stream",
          "text": [
            "[153, 167, 124, 256, 222, 146, 150, 170, 249, 172]\n"
          ],
          "name": "stdout"
        }
      ]
    },
    {
      "cell_type": "markdown",
      "metadata": {
        "id": "P1_4jcmpyOga"
      },
      "source": [
        "### In data3 below \n",
        "    1) any taxi has between 100 and 200 trajectories\n",
        "    2) in each taxi dataset any trajectory has less than 60 minutes time"
      ]
    },
    {
      "cell_type": "code",
      "metadata": {
        "scrolled": true,
        "colab": {
          "base_uri": "https://localhost:8080/"
        },
        "id": "zWKBm3AtyOga",
        "outputId": "9fb75ec0-052a-44fe-b3a0-f189c413f860"
      },
      "source": [
        "data3 = [[0]] * len(data1)\n",
        "for i in range(len(data1)):\n",
        "    data3[i] = []\n",
        "    A = partition(data1[i], threshold=20)\n",
        "    for j in range(len(A)):\n",
        "        if ((len(A[j]) >= 10) and (len(A[j]) <= 200)):\n",
        "            data3[i].append(A[j])\n",
        "    data3[i] = np.array(data3[i], dtype='object')\n",
        "    \n",
        "data3 = np.array(data3, dtype='object')\n",
        "I = np.where(np.array([len(data3[i]) for i in range(len(data3))]))[0]\n",
        "data3 = data3[I]\n",
        "print(\"len(data3) =\", len(data3))\n",
        "\n",
        "Lenn = np.array([len(data3[i]) for i in range(len(data3))])\n",
        "J2 = np.where((Lenn >= 100) & (Lenn <= 200))[0]\n",
        "A = np.array([len(data3[J2][i]) for i in range(len(data3[J2]))])\n",
        "print(colored(f\"min and max length of selected users: {min(A), max(A)}\", \"green\"))\n",
        "\n",
        "data = data3[J2]\n",
        "taxi_idxs = taxi_ids[J2]\n",
        "print(\"number of selected users:\", len(data))\n",
        "print(colored(f\"selected taxi ids: \\n {taxi_idxs}\", \"blue\"))\n",
        "print([len(data[i]) for i in range(len(data))])"
      ],
      "execution_count": null,
      "outputs": [
        {
          "output_type": "stream",
          "text": [
            "len(data3) = 10\n",
            "\u001b[32mmin and max length of selected users: (100, 143)\u001b[0m\n",
            "number of selected users: 10\n",
            "\u001b[34mselected taxi ids: \n",
            " [0 1 2 3 4 5 6 7 8 9]\u001b[0m\n",
            "[132, 140, 100, 143, 132, 123, 127, 143, 116, 119]\n"
          ],
          "name": "stdout"
        }
      ]
    },
    {
      "cell_type": "code",
      "metadata": {
        "colab": {
          "base_uri": "https://localhost:8080/"
        },
        "id": "ip_m_Ac3XQIv",
        "outputId": "376c499d-bf10-4587-b39a-c634313fae7b"
      },
      "source": [
        "for i in range(len(pairs)):\n",
        "    print(\"pairs =\", pairs[i])\n",
        "    print(colored(f'pair from data: {pairs_from_data[i]}', 'red'))\n",
        "    print(colored(f\"Lengths before preprocessing: {data1_len[pairs[i][0]], data1_len[pairs[i][1]]}\", 'yellow'))\n",
        "    print(colored(f\"Lengths after preprocessing: {len(data[pairs[i][0]]), len(data[pairs[i][1]])}\", 'blue'))\n",
        "    print()"
      ],
      "execution_count": null,
      "outputs": [
        {
          "output_type": "stream",
          "text": [
            "pairs = [3 8]\n",
            "\u001b[31mpair from data: [3142, 6834]\u001b[0m\n",
            "\u001b[33mLengths before preprocessing: (256, 249)\u001b[0m\n",
            "\u001b[34mLengths after preprocessing: (143, 116)\u001b[0m\n",
            "\n",
            "pairs = [7 9]\n",
            "\u001b[31mpair from data: [6168, 9513]\u001b[0m\n",
            "\u001b[33mLengths before preprocessing: (170, 172)\u001b[0m\n",
            "\u001b[34mLengths after preprocessing: (143, 119)\u001b[0m\n",
            "\n",
            "pairs = [1 5]\n",
            "\u001b[31mpair from data: [1950, 5896]\u001b[0m\n",
            "\u001b[33mLengths before preprocessing: (167, 146)\u001b[0m\n",
            "\u001b[34mLengths after preprocessing: (140, 123)\u001b[0m\n",
            "\n",
            "pairs = [2 4]\n",
            "\u001b[31mpair from data: [2876, 3260]\u001b[0m\n",
            "\u001b[33mLengths before preprocessing: (124, 222)\u001b[0m\n",
            "\u001b[34mLengths after preprocessing: (100, 132)\u001b[0m\n",
            "\n",
            "pairs = [0 6]\n",
            "\u001b[31mpair from data: [1350, 5970]\u001b[0m\n",
            "\u001b[33mLengths before preprocessing: (153, 150)\u001b[0m\n",
            "\u001b[34mLengths after preprocessing: (132, 127)\u001b[0m\n",
            "\n"
          ],
          "name": "stdout"
        }
      ]
    },
    {
      "cell_type": "code",
      "metadata": {
        "id": "JVhCrCn_yOgc"
      },
      "source": [
        "data_with_time = data + 0"
      ],
      "execution_count": null,
      "outputs": []
    },
    {
      "cell_type": "code",
      "metadata": {
        "id": "9JqYcw7dyOgc"
      },
      "source": [
        "for i in range(len(data)):\n",
        "    for j in range(len(data[i])):\n",
        "        data[i][j] = data[i][j][:,1:]"
      ],
      "execution_count": null,
      "outputs": []
    },
    {
      "cell_type": "code",
      "metadata": {
        "colab": {
          "base_uri": "https://localhost:8080/"
        },
        "id": "Lj4EMO7myOgc",
        "outputId": "5eff368e-d3d8-41e0-cb2b-de79922010cc"
      },
      "source": [
        "Min = np.min([np.min([np.min(data[i][j], 0) for j in range(len(data[i]))], 0) for i in range(len(data))], 0)\n",
        "Max = np.max([np.max([np.max(data[i][j], 0) for j in range(len(data[i]))], 0) for i in range(len(data))], 0)\n",
        "Mean = np.mean([np.mean([np.mean(data[i][j], 0) for j in range(len(data[i]))], 0) for i in range(len(data))], 0)\n",
        "Std = np.std([np.std([np.std(data[i][j], 0) for j in range(len(data[i]))], 0) for i in range(len(data))], 0)\n",
        "Min, Mean, Max, Std, LA.norm(Max - Mean)"
      ],
      "execution_count": null,
      "outputs": [
        {
          "output_type": "execute_result",
          "data": {
            "text/plain": [
              "(array([101.6124 ,  23.44004]),\n",
              " array([116.4305318,  39.9366455]),\n",
              " array([117.376  ,  41.09412]),\n",
              " array([0.08017081, 0.10837572]),\n",
              " 1.4945425171273097)"
            ]
          },
          "metadata": {},
          "execution_count": 28
        }
      ]
    },
    {
      "cell_type": "markdown",
      "metadata": {
        "id": "aDP7vLniyOgj"
      },
      "source": [
        "# From github page: https://github.com/bguillouet/traj-dist"
      ]
    },
    {
      "cell_type": "markdown",
      "metadata": {
        "id": "XpYUX-bvoqGA"
      },
      "source": [
        "## Generating distance matrices (Continuous Frechet)"
      ]
    },
    {
      "cell_type": "code",
      "metadata": {
        "colab": {
          "base_uri": "https://localhost:8080/"
        },
        "id": "u68PSun4Worb",
        "outputId": "0e240a45-288d-4f91-9c8f-970403c80095"
      },
      "source": [
        "pairs"
      ],
      "execution_count": null,
      "outputs": [
        {
          "output_type": "execute_result",
          "data": {
            "text/plain": [
              "array([[3, 8],\n",
              "       [7, 9],\n",
              "       [1, 5],\n",
              "       [2, 4],\n",
              "       [0, 6]])"
            ]
          },
          "metadata": {
            "tags": []
          },
          "execution_count": 21
        }
      ]
    },
    {
      "cell_type": "code",
      "metadata": {
        "id": "nMSr25bkXSOh"
      },
      "source": [
        "# data = np.concatenate((data1, data2), 0)\n",
        "def calculate_dists_line_by_line_frechet(data, pair_idx, start_idx, end_idx): \n",
        "    n = len(data)\n",
        "    for i in range(start_idx, end_idx):\n",
        "        start_time = time.time()\n",
        "        def f(traj):\n",
        "            return tdist.frechet(data[i], traj)\n",
        "        A = list(map(f, data[i+1:]))\n",
        "        np.savetxt('/content/gdrive/My Drive/traj-dist/Calculated Distance Matrices (T-drive)/frechet lines '+str(pair_idx)+'/'+str(i)+'.csv', \n",
        "                   A, delimiter=',')\n",
        "        total_time = time.time() - start_time\n",
        "        print(f\"time for step {i}: {total_time}\")\n",
        "    return total_time"
      ],
      "execution_count": null,
      "outputs": []
    },
    {
      "cell_type": "code",
      "metadata": {
        "colab": {
          "base_uri": "https://localhost:8080/"
        },
        "id": "w7J9i_j2pCF5",
        "outputId": "6f094a10-f0e1-4b2e-d17f-22b3e03d959a"
      },
      "source": [
        "for j in range(5):\n",
        "    print(len(data[pairs[j][0]]) + len(data[pairs[j][1]]))"
      ],
      "execution_count": null,
      "outputs": [
        {
          "output_type": "stream",
          "text": [
            "259\n",
            "262\n",
            "263\n",
            "232\n",
            "259\n"
          ],
          "name": "stdout"
        }
      ]
    },
    {
      "cell_type": "code",
      "metadata": {
        "id": "BNmzqdPLYunC"
      },
      "source": [
        "#j = 0,1,2,3,4\n",
        "Data = np.concatenate((data[pairs[j][0]], data[pairs[j][1]]), 0)\n",
        "calculate_dists_line_by_line_frechet(Data, pair_idx=j, start_idx=0, end_idx=len(Data))"
      ],
      "execution_count": null,
      "outputs": []
    },
    {
      "cell_type": "code",
      "metadata": {
        "id": "Az0ABZn3z1UY"
      },
      "source": [
        "j = 2\n",
        "Data = np.concatenate((data[pairs[j][0]], data[pairs[j][1]]), 0)\n",
        "calculate_dists_line_by_line_frechet(Data, pair_idx=j, start_idx=0, end_idx=len(Data))"
      ],
      "execution_count": null,
      "outputs": []
    },
    {
      "cell_type": "code",
      "metadata": {
        "id": "UQHztqVFz3Fy"
      },
      "source": [
        "j = 3\n",
        "Data = np.concatenate((data[pairs[j][0]], data[pairs[j][1]]), 0)\n",
        "calculate_dists_line_by_line_frechet(Data, pair_idx=j, start_idx=0, end_idx=len(Data))"
      ],
      "execution_count": null,
      "outputs": []
    },
    {
      "cell_type": "code",
      "metadata": {
        "id": "Mn3TaGS3z4tL"
      },
      "source": [
        "j = 4\n",
        "Data = np.concatenate((data[pairs[j][0]], data[pairs[j][1]]), 0)\n",
        "calculate_dists_line_by_line_frechet(Data, pair_idx=j, start_idx=0, end_idx=len(Data))"
      ],
      "execution_count": null,
      "outputs": []
    },
    {
      "cell_type": "markdown",
      "metadata": {
        "id": "-6y3HBZIwbd5"
      },
      "source": [
        "## To stack the 1d generated vectors together to get the distance matrix of continuous Frechet distance we will use the following get_matrix function."
      ]
    },
    {
      "cell_type": "code",
      "metadata": {
        "id": "B6WoHcv6wRtR"
      },
      "source": [
        "def get_matrix(data1, data2, pair_idx, path):\n",
        "    '''\n",
        "    path is: \n",
        "    '/content/gdrive/My Drive/traj-dist/Calculated Distance Matrices (T-drive)/frechet lines '\n",
        "    '''\n",
        "    n = len(data1) + len(data2)\n",
        "    matrix = np.zeros((n,n))\n",
        "    for i in range(n-1):\n",
        "        #matrix[i][i+1:] = np.array(pd.read_csv(path+str(i)+'.csv', header=None)).reshape(n-i-1,)\n",
        "        matrix[i][i+1:] = np.loadtxt(path+str(pair_idx)+'/'+str(i)+'.csv')\n",
        "    for i in range(1, n):\n",
        "        for j in range(i):\n",
        "            matrix[i][j] = matrix[j][i]\n",
        "    np.savetxt(path[:-14]+'frechet '+str(pair_idx)+'.csv', matrix, delimiter=',')\n",
        "    return matrix"
      ],
      "execution_count": null,
      "outputs": []
    },
    {
      "cell_type": "markdown",
      "metadata": {
        "id": "oXa4_9Ck0sTi"
      },
      "source": [
        "# KNN with Continuous Frechet"
      ]
    },
    {
      "cell_type": "code",
      "metadata": {
        "id": "NOkPgAbQcUX5"
      },
      "source": [
        "def KNN_with_dists(n_1, n_2, dists_names, paths_to_dists):\n",
        "    '''path example: '/content/gdrive/My Drive/traj-dist/Calculated Distance Matrices (car-bus)/sspd.csv'\n",
        "       dists_names: a list of distance names\n",
        "       paths_to_dists: the paths list to the corresponding distancas (each path \n",
        "                       points out to the corresponding distance matrix)\n",
        "       n_1: len(data_1)\n",
        "       n_2: len(data_2)\n",
        "       dist_name: the name of distance used to calculate sitance matrix \n",
        "       (the name is taken from a list above called metrics)'''\n",
        "\n",
        "    train_errors = np.zeros(len(dists_names))\n",
        "    test_errors = np.zeros(len(dists_names))\n",
        "\n",
        "    I_1, J_1, y_train_1, y_test_1 = train_test_split(np.arange(n_1), \n",
        "                                                np.ones(n_1), test_size=0.3)\n",
        "    I_2, J_2, y_train_2, y_test_2 = train_test_split(np.arange(n_1, n_1+n_2), \n",
        "                                                np.ones(n_2), test_size=0.3)\n",
        "    labels = np.array([1]*n_1 + [0] * n_2)\n",
        "    I = np.concatenate((I_1, I_2), 0)\n",
        "    np.random.shuffle(I)\n",
        "    J = np.concatenate((J_1, J_2), 0)\n",
        "    np.random.shuffle(J)\n",
        "\n",
        "    for i in range(len(dists_names)):\n",
        "\n",
        "        dist_matrix = np.array(pd.read_csv(paths_to_dists[i], header=None))\n",
        "\n",
        "        D_train = dist_matrix[I][:, I]\n",
        "        D_test = dist_matrix[J][:,I]\n",
        "        train_labels = labels[I]\n",
        "        test_labels = labels[J]\n",
        "\n",
        "        clf = KNeighborsClassifier(n_neighbors=5, metric='precomputed')\n",
        "        \n",
        "        #Train the model using the training sets\n",
        "        clf.fit(D_train, list(train_labels))\n",
        "\n",
        "        #Predict labels for train dataset\n",
        "        train_pred = clf.predict(D_train)\n",
        "        train_errors[i] = sum(train_labels != train_pred)/len(I)\n",
        "        \n",
        "        #Predict labels for test dataset\n",
        "        test_pred = clf.predict(D_test)\n",
        "        test_errors[i] = sum((test_labels != test_pred))/len(J)\n",
        "        \n",
        "    return train_errors, test_errors"
      ],
      "execution_count": null,
      "outputs": []
    },
    {
      "cell_type": "code",
      "metadata": {
        "id": "zyyv66EdA_um"
      },
      "source": [
        "def KNN_average_error(data1, data2, num_trials, dists_names, paths_to_dists):\n",
        "\n",
        "    '''dists_names: a list of distance names\n",
        "       paths_to_dists: the paths list to the corresponding distancas (each path \n",
        "                       points out to the corresponding distance matrix)'''\n",
        "\n",
        "    Start_time = time.time()\n",
        "\n",
        "    train_errors = np.zeros((num_trials, len(dists_names)))\n",
        "    test_errors = np.zeros((num_trials, len(dists_names)))\n",
        "\n",
        "    for i in range(num_trials):\n",
        "        tr_errors, ts_errors = KNN_with_dists(len(data1), len(data2), dists_names, paths_to_dists)\n",
        "        train_errors[i] = tr_errors\n",
        "        test_errors[i] = ts_errors\n",
        "\n",
        "    train_error = np.mean(train_errors, axis=0)\n",
        "    test_error = np.mean(test_errors, axis=0)\n",
        "    std_test_error = np.std(test_errors, axis=0)\n",
        "\n",
        "    Dict = {}\n",
        "    for i in range(len(dists_names)):\n",
        "        Dict[i+1] = [f\"KNN with {dists_names[i]}\", \n",
        "                     np.round(train_error[i], decimals = 4), \n",
        "                     np.round(test_error[i], decimals = 4), \n",
        "                     np.round(std_test_error[i], decimals = 4)]\n",
        "\n",
        "    df = pd.DataFrame.from_dict(Dict, orient='index', columns=['Classifier',\n",
        "                                'Train Error', 'Test Error', 'std'])\n",
        "    print(colored(f\"num_trials = {num_trials}\", \"blue\"))\n",
        "    print(colored(f'total time = {time.time() - Start_time}', 'green'))\n",
        "\n",
        "    return (df, train_errors, test_errors, train_error, test_error)"
      ],
      "execution_count": null,
      "outputs": []
    },
    {
      "cell_type": "code",
      "metadata": {
        "id": "yrYaNASePsdA"
      },
      "source": [
        "path = '/content/gdrive/My Drive/traj-dist/Calculated Distance Matrices (T-drive)/frechet lines '"
      ],
      "execution_count": null,
      "outputs": []
    },
    {
      "cell_type": "code",
      "metadata": {
        "id": "xACdLtFRQl95"
      },
      "source": [
        "for j in range(len(pairs)):\n",
        "    A = get_matrix(data[pairs[j][0]], data[pairs[j][1]], pair_idx=j, path=path)\n",
        "    #print(A.shape, len(data[pairs[j][0]])+len(data[pairs[j][1]]))"
      ],
      "execution_count": null,
      "outputs": []
    },
    {
      "cell_type": "code",
      "metadata": {
        "colab": {
          "base_uri": "https://localhost:8080/"
        },
        "id": "m3T6lOLLO0cA",
        "outputId": "f98efd3d-ef38-46b8-e814-499c3e39a8d2"
      },
      "source": [
        "test_error = []\n",
        "test_std = []\n",
        "for j in range(len(pairs)):\n",
        "    F = KNN_average_error(data[pairs[j][0]], data[pairs[j][1]], num_trials=50, \n",
        "                        dists_names=['frechet'], \n",
        "                        paths_to_dists=[path[:-14]+'frechet '+str(j)+'.csv'])\n",
        "    print(colored(pairs[j], 'yellow'))\n",
        "    print('pair:', F[0])\n",
        "    print(colored('==========================================================', 'red'))\n",
        "    test_error.append(np.array(F[0])[0][2])\n",
        "    test_std.append(np.array(F[0])[0][3])\n",
        "print(colored(f'mean test error: {np.mean(test_error)}', 'magenta'))\n",
        "print(colored(f'mean std of error: {np.mean(test_std)}', 'blue'))"
      ],
      "execution_count": null,
      "outputs": [
        {
          "output_type": "stream",
          "text": [
            "\u001b[34mnum_trials = 50\u001b[0m\n",
            "\u001b[32mtotal time = 2.4297242164611816\u001b[0m\n",
            "\u001b[33m[3 8]\u001b[0m\n",
            "pair:          Classifier  Train Error  Test Error     std\n",
            "1  KNN with frechet       0.2523      0.3787  0.0366\n",
            "\u001b[31m==========================================================\u001b[0m\n",
            "\u001b[34mnum_trials = 50\u001b[0m\n",
            "\u001b[32mtotal time = 2.5147180557250977\u001b[0m\n",
            "\u001b[33m[7 9]\u001b[0m\n",
            "pair:          Classifier  Train Error  Test Error     std\n",
            "1  KNN with frechet       0.2552      0.3838  0.0461\n",
            "\u001b[31m==========================================================\u001b[0m\n",
            "\u001b[34mnum_trials = 50\u001b[0m\n",
            "\u001b[32mtotal time = 2.5965423583984375\u001b[0m\n",
            "\u001b[33m[1 5]\u001b[0m\n",
            "pair:          Classifier  Train Error  Test Error     std\n",
            "1  KNN with frechet       0.2435      0.3711  0.0477\n",
            "\u001b[31m==========================================================\u001b[0m\n",
            "\u001b[34mnum_trials = 50\u001b[0m\n",
            "\u001b[32mtotal time = 2.259402275085449\u001b[0m\n",
            "\u001b[33m[2 4]\u001b[0m\n",
            "pair:          Classifier  Train Error  Test Error     std\n",
            "1  KNN with frechet       0.1274      0.1683  0.0295\n",
            "\u001b[31m==========================================================\u001b[0m\n",
            "\u001b[34mnum_trials = 50\u001b[0m\n",
            "\u001b[32mtotal time = 2.540379762649536\u001b[0m\n",
            "\u001b[33m[0 6]\u001b[0m\n",
            "pair:          Classifier  Train Error  Test Error     std\n",
            "1  KNN with frechet       0.1541      0.1818  0.0314\n",
            "\u001b[31m==========================================================\u001b[0m\n",
            "\u001b[35mmean test error: 0.29673999999999995\u001b[0m\n",
            "\u001b[34mmean std of error: 0.038259999999999995\u001b[0m\n"
          ],
          "name": "stdout"
        }
      ]
    },
    {
      "cell_type": "markdown",
      "metadata": {
        "id": "O-wPKtP8wf-F"
      },
      "source": [
        "# KNN with LSH"
      ]
    },
    {
      "cell_type": "code",
      "metadata": {
        "id": "5_bXXhx_zbKH"
      },
      "source": [
        "pip install trjtrypy"
      ],
      "execution_count": null,
      "outputs": []
    },
    {
      "cell_type": "code",
      "metadata": {
        "colab": {
          "resources": {
            "http://localhost:8080/nbextensions/google.colab/files.js": {
              "data": "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",
              "ok": true,
              "headers": [
                [
                  "content-type",
                  "application/javascript"
                ]
              ],
              "status": 200,
              "status_text": ""
            }
          },
          "base_uri": "https://localhost:8080/",
          "height": 73
        },
        "id": "dDQCjAWbwN4E",
        "outputId": "4ce9b081-a343-4411-98ff-cc1f47934b43"
      },
      "source": [
        "from google.colab import files\n",
        "files.upload()\n",
        "\n",
        "#import KNN_with_LSH_class\n",
        "from KNN_with_LSH_class import KNN_with_LSH"
      ],
      "execution_count": null,
      "outputs": [
        {
          "output_type": "display_data",
          "data": {
            "text/html": [
              "\n",
              "     <input type=\"file\" id=\"files-49450b5a-e5c5-4f45-b573-7244dc9117fc\" name=\"files[]\" multiple disabled\n",
              "        style=\"border:none\" />\n",
              "     <output id=\"result-49450b5a-e5c5-4f45-b573-7244dc9117fc\">\n",
              "      Upload widget is only available when the cell has been executed in the\n",
              "      current browser session. Please rerun this cell to enable.\n",
              "      </output>\n",
              "      <script src=\"/nbextensions/google.colab/files.js\"></script> "
            ],
            "text/plain": [
              "<IPython.core.display.HTML object>"
            ]
          },
          "metadata": {}
        },
        {
          "output_type": "stream",
          "text": [
            "Saving KNN_with_LSH_class.py to KNN_with_LSH_class (1).py\n"
          ],
          "name": "stdout"
        }
      ]
    },
    {
      "cell_type": "code",
      "metadata": {
        "colab": {
          "base_uri": "https://localhost:8080/"
        },
        "id": "iG3kA8DlROxU",
        "outputId": "5aa4822a-0772-41de-deb1-02c8134d02e6"
      },
      "source": [
        "test_error_LSH = []\n",
        "test_std_LSH = []\n",
        "for j in range(len(pairs)):\n",
        "    m, n = pairs[j]\n",
        "    print(len(data[m])+len(data[n]))\n",
        "    KNN_with_LSH_class = KNN_with_LSH(data[m], data[n], number_circles=20, num_trials=50)\n",
        "    F = KNN_with_LSH_class.KNN_LSH_average_error()\n",
        "    print(colored(pairs[j], 'yellow'))\n",
        "    print('pair:', F[0])\n",
        "    print(colored('==========================================================', 'red'))\n",
        "    test_error_LSH.append(np.array(F[0])[0][2])\n",
        "    test_std_LSH.append(np.array(F[0])[0][3])\n",
        "print(colored(f'mean test error: {np.mean(test_error_LSH)}', 'magenta'))\n",
        "print(colored(f'mean std of error: {np.mean(test_std_LSH)}', 'blue'))"
      ],
      "execution_count": null,
      "outputs": [
        {
          "output_type": "stream",
          "text": [
            "259\n",
            "\u001b[34mnum_trials = 50\u001b[0m\n",
            "\u001b[32mtotal time = 4.845942497253418\u001b[0m\n",
            "\u001b[33m[3 8]\u001b[0m\n",
            "pair:      Classifier  Train Error  Test Error     std\n",
            "1  KNN with LSH       0.4564      0.4736  0.0634\n",
            "\u001b[31m==========================================================\u001b[0m\n",
            "262\n",
            "\u001b[34mnum_trials = 50\u001b[0m\n",
            "\u001b[32mtotal time = 5.11359429359436\u001b[0m\n",
            "\u001b[33m[7 9]\u001b[0m\n",
            "pair:      Classifier  Train Error  Test Error    std\n",
            "1  KNN with LSH       0.3048      0.4035  0.066\n",
            "\u001b[31m==========================================================\u001b[0m\n",
            "263\n",
            "\u001b[34mnum_trials = 50\u001b[0m\n",
            "\u001b[32mtotal time = 5.626368284225464\u001b[0m\n",
            "\u001b[33m[1 5]\u001b[0m\n",
            "pair:      Classifier  Train Error  Test Error     std\n",
            "1  KNN with LSH       0.3902      0.4395  0.0416\n",
            "\u001b[31m==========================================================\u001b[0m\n",
            "232\n",
            "\u001b[34mnum_trials = 50\u001b[0m\n",
            "\u001b[32mtotal time = 4.252983570098877\u001b[0m\n",
            "\u001b[33m[2 4]\u001b[0m\n",
            "pair:      Classifier  Train Error  Test Error     std\n",
            "1  KNN with LSH       0.2147      0.2606  0.0612\n",
            "\u001b[31m==========================================================\u001b[0m\n",
            "259\n",
            "\u001b[34mnum_trials = 50\u001b[0m\n",
            "\u001b[32mtotal time = 5.393928289413452\u001b[0m\n",
            "\u001b[33m[0 6]\u001b[0m\n",
            "pair:      Classifier  Train Error  Test Error     std\n",
            "1  KNN with LSH        0.178      0.2261  0.0496\n",
            "\u001b[31m==========================================================\u001b[0m\n",
            "\u001b[35mmean test error: 0.36066\u001b[0m\n",
            "\u001b[34mmean std of error: 0.05636\u001b[0m\n"
          ],
          "name": "stdout"
        }
      ]
    },
    {
      "cell_type": "code",
      "metadata": {
        "id": "HV29_hrutzO3"
      },
      "source": [
        ""
      ],
      "execution_count": null,
      "outputs": []
    }
  ]
}